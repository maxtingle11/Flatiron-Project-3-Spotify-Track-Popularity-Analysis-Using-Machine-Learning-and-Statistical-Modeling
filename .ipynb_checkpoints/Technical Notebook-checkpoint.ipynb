{
 "cells": [
  {
   "cell_type": "markdown",
   "metadata": {},
   "source": [
    "# Technical Notebook"
   ]
  },
  {
   "cell_type": "markdown",
   "metadata": {},
   "source": [
    "## I. Import Libraries & Data"
   ]
  },
  {
   "cell_type": "code",
   "execution_count": 544,
   "metadata": {},
   "outputs": [],
   "source": [
    "import pandas as pd\n",
    "import numpy as np\n",
    "import sklearn\n",
    "from sklearn import preprocessing\n",
    "from sklearn import metrics\n",
    "from sklearn.preprocessing import LabelEncoder, OneHotEncoder, StandardScaler\n",
    "from sklearn.utils import resample\n",
    "import matplotlib.pyplot as plt\n",
    "import seaborn as sns\n",
    "\n",
    "import statsmodels.api as sm\n",
    "import statsmodels.formula.api as smf\n",
    "from statsmodels.stats.outliers_influence import variance_inflation_factor\n",
    "\n",
    "import sklearn.model_selection\n",
    "from sklearn.linear_model import LinearRegression, Lasso, Ridge, LogisticRegression\n",
    "from sklearn.model_selection import train_test_split, GridSearchCV, cross_validate, StratifiedKFold\n",
    "from sklearn.metrics import r2_score, mean_squared_error, confusion_matrix, classification_report, precision_score, recall_score, accuracy_score, f1_score, roc_curve, auc\n",
    "from sklearn.ensemble import RandomForestClassifier\n",
    "\n",
    "from imblearn.over_sampling import SMOTE\n",
    "\n",
    "from scipy import stats\n",
    "from yellowbrick.regressor import ResidualsPlot, PredictionError\n",
    "\n",
    "import warnings\n",
    "warnings.filterwarnings('ignore')\n",
    "\n",
    "%matplotlib inline\n",
    "\n",
    "pd.set_option('display.max_rows', 50)\n",
    "pd.set_option('display.max_columns', 300)\n",
    "pd.set_option('display.width', 1000)"
   ]
  },
  {
   "cell_type": "code",
   "execution_count": 3,
   "metadata": {},
   "outputs": [
    {
     "name": "stdout",
     "output_type": "stream",
     "text": [
      "<class 'pandas.core.frame.DataFrame'>\n",
      "Int64Index: 637265 entries, 0 to 682192\n",
      "Data columns (total 16 columns):\n",
      "track_id              637265 non-null object\n",
      "track_popularity      637265 non-null int64\n",
      "track_duration_ms     637265 non-null int64\n",
      "track_album_single    637265 non-null int64\n",
      "danceability          637265 non-null float64\n",
      "energy                637265 non-null float64\n",
      "key                   637265 non-null float64\n",
      "loudness              637265 non-null float64\n",
      "mode                  637265 non-null float64\n",
      "speechiness           637265 non-null float64\n",
      "acousticness          637265 non-null float64\n",
      "instrumentalness      637265 non-null float64\n",
      "liveness              637265 non-null float64\n",
      "valence               637265 non-null float64\n",
      "tempo                 637265 non-null float64\n",
      "time_signature        637265 non-null float64\n",
      "dtypes: float64(12), int64(3), object(1)\n",
      "memory usage: 82.7+ MB\n",
      "None\n"
     ]
    },
    {
     "data": {
      "text/html": [
       "<div>\n",
       "<style scoped>\n",
       "    .dataframe tbody tr th:only-of-type {\n",
       "        vertical-align: middle;\n",
       "    }\n",
       "\n",
       "    .dataframe tbody tr th {\n",
       "        vertical-align: top;\n",
       "    }\n",
       "\n",
       "    .dataframe thead th {\n",
       "        text-align: right;\n",
       "    }\n",
       "</style>\n",
       "<table border=\"1\" class=\"dataframe\">\n",
       "  <thead>\n",
       "    <tr style=\"text-align: right;\">\n",
       "      <th></th>\n",
       "      <th>track_id</th>\n",
       "      <th>track_popularity</th>\n",
       "      <th>track_duration_ms</th>\n",
       "      <th>track_album_single</th>\n",
       "      <th>danceability</th>\n",
       "      <th>energy</th>\n",
       "      <th>key</th>\n",
       "      <th>loudness</th>\n",
       "      <th>mode</th>\n",
       "      <th>speechiness</th>\n",
       "      <th>acousticness</th>\n",
       "      <th>instrumentalness</th>\n",
       "      <th>liveness</th>\n",
       "      <th>valence</th>\n",
       "      <th>tempo</th>\n",
       "      <th>time_signature</th>\n",
       "    </tr>\n",
       "  </thead>\n",
       "  <tbody>\n",
       "    <tr>\n",
       "      <th>0</th>\n",
       "      <td>0003Z98F6hUq7XxqSRM87H</td>\n",
       "      <td>26</td>\n",
       "      <td>241666</td>\n",
       "      <td>0</td>\n",
       "      <td>0.733</td>\n",
       "      <td>0.711</td>\n",
       "      <td>1.0</td>\n",
       "      <td>-5.408</td>\n",
       "      <td>1.0</td>\n",
       "      <td>0.1580</td>\n",
       "      <td>0.08600</td>\n",
       "      <td>0.0000</td>\n",
       "      <td>0.4510</td>\n",
       "      <td>0.346</td>\n",
       "      <td>138.076</td>\n",
       "      <td>4.0</td>\n",
       "    </tr>\n",
       "    <tr>\n",
       "      <th>1</th>\n",
       "      <td>0008brbqMd6r3WdmXEPbUq</td>\n",
       "      <td>1</td>\n",
       "      <td>189794</td>\n",
       "      <td>0</td>\n",
       "      <td>0.263</td>\n",
       "      <td>0.203</td>\n",
       "      <td>2.0</td>\n",
       "      <td>-20.025</td>\n",
       "      <td>1.0</td>\n",
       "      <td>0.0325</td>\n",
       "      <td>0.88900</td>\n",
       "      <td>0.1130</td>\n",
       "      <td>0.3170</td>\n",
       "      <td>0.142</td>\n",
       "      <td>62.553</td>\n",
       "      <td>5.0</td>\n",
       "    </tr>\n",
       "    <tr>\n",
       "      <th>2</th>\n",
       "      <td>0008ihzWSit1NmuXq2VBpE</td>\n",
       "      <td>11</td>\n",
       "      <td>344866</td>\n",
       "      <td>0</td>\n",
       "      <td>0.510</td>\n",
       "      <td>0.228</td>\n",
       "      <td>10.0</td>\n",
       "      <td>-17.138</td>\n",
       "      <td>1.0</td>\n",
       "      <td>0.0299</td>\n",
       "      <td>0.91400</td>\n",
       "      <td>0.6960</td>\n",
       "      <td>0.0847</td>\n",
       "      <td>0.322</td>\n",
       "      <td>128.759</td>\n",
       "      <td>4.0</td>\n",
       "    </tr>\n",
       "    <tr>\n",
       "      <th>3</th>\n",
       "      <td>000BARWwSRfyAAYOxPMD83</td>\n",
       "      <td>12</td>\n",
       "      <td>128219</td>\n",
       "      <td>1</td>\n",
       "      <td>0.531</td>\n",
       "      <td>0.837</td>\n",
       "      <td>0.0</td>\n",
       "      <td>-4.391</td>\n",
       "      <td>1.0</td>\n",
       "      <td>0.2740</td>\n",
       "      <td>0.00683</td>\n",
       "      <td>0.0000</td>\n",
       "      <td>0.2250</td>\n",
       "      <td>0.067</td>\n",
       "      <td>145.878</td>\n",
       "      <td>4.0</td>\n",
       "    </tr>\n",
       "    <tr>\n",
       "      <th>4</th>\n",
       "      <td>000CfxgH11DeiTY9oCvZLJ</td>\n",
       "      <td>30</td>\n",
       "      <td>213693</td>\n",
       "      <td>0</td>\n",
       "      <td>0.648</td>\n",
       "      <td>0.273</td>\n",
       "      <td>11.0</td>\n",
       "      <td>-4.897</td>\n",
       "      <td>1.0</td>\n",
       "      <td>0.0472</td>\n",
       "      <td>0.09410</td>\n",
       "      <td>0.0924</td>\n",
       "      <td>0.0853</td>\n",
       "      <td>0.904</td>\n",
       "      <td>145.844</td>\n",
       "      <td>4.0</td>\n",
       "    </tr>\n",
       "  </tbody>\n",
       "</table>\n",
       "</div>"
      ],
      "text/plain": [
       "                 track_id  track_popularity  track_duration_ms  track_album_single  danceability  energy   key  loudness  mode  speechiness  acousticness  instrumentalness  liveness  valence    tempo  time_signature\n",
       "0  0003Z98F6hUq7XxqSRM87H                26             241666                   0         0.733   0.711   1.0    -5.408   1.0       0.1580       0.08600            0.0000    0.4510    0.346  138.076             4.0\n",
       "1  0008brbqMd6r3WdmXEPbUq                 1             189794                   0         0.263   0.203   2.0   -20.025   1.0       0.0325       0.88900            0.1130    0.3170    0.142   62.553             5.0\n",
       "2  0008ihzWSit1NmuXq2VBpE                11             344866                   0         0.510   0.228  10.0   -17.138   1.0       0.0299       0.91400            0.6960    0.0847    0.322  128.759             4.0\n",
       "3  000BARWwSRfyAAYOxPMD83                12             128219                   1         0.531   0.837   0.0    -4.391   1.0       0.2740       0.00683            0.0000    0.2250    0.067  145.878             4.0\n",
       "4  000CfxgH11DeiTY9oCvZLJ                30             213693                   0         0.648   0.273  11.0    -4.897   1.0       0.0472       0.09410            0.0924    0.0853    0.904  145.844             4.0"
      ]
     },
     "execution_count": 3,
     "metadata": {},
     "output_type": "execute_result"
    }
   ],
   "source": [
    "# Import data to Pandas DataFrame\n",
    "data = pd.read_csv('spotify_tracks.csv')\n",
    "\n",
    "# Drop columns\n",
    "songs = data.drop(columns=['artist_id', \n",
    "                            'track_name',  \n",
    "                            'track_track_number', \n",
    "                            'track_explicit',\n",
    "                            'track_album_release_date', \n",
    "                            'track_album_total_tracks',\n",
    "                            'track_album_available_markets', \n",
    "                            'track_album_name', \n",
    "                            'track_album_id',\n",
    "                            'track_album_available_markets_count', \n",
    "                            'duration_ms'\n",
    "                            ])\n",
    "# Drop duplicate rows\n",
    "songs.drop_duplicates('track_id', keep='first', inplace=True)\n",
    "\n",
    "# Preivew data\n",
    "print(songs.info())\n",
    "songs.head()"
   ]
  },
  {
   "cell_type": "markdown",
   "metadata": {},
   "source": [
    "## II. Linear Regression"
   ]
  },
  {
   "cell_type": "markdown",
   "metadata": {},
   "source": [
    "### 1. Baseline Linear Regression"
   ]
  },
  {
   "cell_type": "markdown",
   "metadata": {
    "heading_collapsed": true
   },
   "source": [
    "#### a) Check for Linear Relationship with Pearson's R-Value"
   ]
  },
  {
   "cell_type": "markdown",
   "metadata": {
    "hidden": true
   },
   "source": [
    "Pearson's R represents a correlation coefficient. So a Pearson's R > .5 means there is a positive correlation between the feature. None of the features below show a positive correlation."
   ]
  },
  {
   "cell_type": "code",
   "execution_count": 32,
   "metadata": {
    "hidden": true
   },
   "outputs": [
    {
     "data": {
      "text/plain": [
       "track_popularity      1.000000\n",
       "loudness              0.167253\n",
       "track_album_single    0.135094\n",
       "energy                0.106122\n",
       "danceability          0.091792\n",
       "valence               0.050353\n",
       "time_signature        0.038292\n",
       "tempo                 0.019250\n",
       "key                   0.002758\n",
       "mode                 -0.003596\n",
       "liveness             -0.008387\n",
       "speechiness          -0.043375\n",
       "track_duration_ms    -0.064754\n",
       "acousticness         -0.095788\n",
       "instrumentalness     -0.147148\n",
       "Name: track_popularity, dtype: float64"
      ]
     },
     "execution_count": 32,
     "metadata": {},
     "output_type": "execute_result"
    }
   ],
   "source": [
    "# Calculate Pearson's R-Value to check for linear relationship\n",
    "songs1.corr()['track_popularity'].sort_values(ascending=False)"
   ]
  },
  {
   "cell_type": "markdown",
   "metadata": {},
   "source": [
    "#### b) Check for Multicollinearity with VIF"
   ]
  },
  {
   "cell_type": "markdown",
   "metadata": {},
   "source": [
    "The variance inflation factor is the quotient of the variance in a model with multiple terms by the variance of a model with one term alone. It quantifies the severity of multicollinearity in an ordinary least squares regression analysis. It provides an index that measures how much the variance (the square of the estimate's standard deviation) of an estimated regression coefficient is increased because of collinearity."
   ]
  },
  {
   "cell_type": "code",
   "execution_count": 33,
   "metadata": {},
   "outputs": [
    {
     "data": {
      "text/html": [
       "<div>\n",
       "<style scoped>\n",
       "    .dataframe tbody tr th:only-of-type {\n",
       "        vertical-align: middle;\n",
       "    }\n",
       "\n",
       "    .dataframe tbody tr th {\n",
       "        vertical-align: top;\n",
       "    }\n",
       "\n",
       "    .dataframe thead th {\n",
       "        text-align: right;\n",
       "    }\n",
       "</style>\n",
       "<table border=\"1\" class=\"dataframe\">\n",
       "  <thead>\n",
       "    <tr style=\"text-align: right;\">\n",
       "      <th></th>\n",
       "      <th>VIF Score</th>\n",
       "      <th>features</th>\n",
       "    </tr>\n",
       "  </thead>\n",
       "  <tbody>\n",
       "    <tr>\n",
       "      <th>0</th>\n",
       "      <td>2.9</td>\n",
       "      <td>track_popularity</td>\n",
       "    </tr>\n",
       "    <tr>\n",
       "      <th>1</th>\n",
       "      <td>4.1</td>\n",
       "      <td>track_duration_ms</td>\n",
       "    </tr>\n",
       "    <tr>\n",
       "      <th>2</th>\n",
       "      <td>1.3</td>\n",
       "      <td>track_album_single</td>\n",
       "    </tr>\n",
       "    <tr>\n",
       "      <th>3</th>\n",
       "      <td>15.9</td>\n",
       "      <td>danceability</td>\n",
       "    </tr>\n",
       "    <tr>\n",
       "      <th>4</th>\n",
       "      <td>19.2</td>\n",
       "      <td>energy</td>\n",
       "    </tr>\n",
       "    <tr>\n",
       "      <th>5</th>\n",
       "      <td>3.2</td>\n",
       "      <td>key</td>\n",
       "    </tr>\n",
       "    <tr>\n",
       "      <th>6</th>\n",
       "      <td>9.5</td>\n",
       "      <td>loudness</td>\n",
       "    </tr>\n",
       "    <tr>\n",
       "      <th>7</th>\n",
       "      <td>2.7</td>\n",
       "      <td>mode</td>\n",
       "    </tr>\n",
       "    <tr>\n",
       "      <th>8</th>\n",
       "      <td>1.9</td>\n",
       "      <td>speechiness</td>\n",
       "    </tr>\n",
       "    <tr>\n",
       "      <th>9</th>\n",
       "      <td>4.2</td>\n",
       "      <td>acousticness</td>\n",
       "    </tr>\n",
       "    <tr>\n",
       "      <th>10</th>\n",
       "      <td>1.9</td>\n",
       "      <td>instrumentalness</td>\n",
       "    </tr>\n",
       "    <tr>\n",
       "      <th>11</th>\n",
       "      <td>2.6</td>\n",
       "      <td>liveness</td>\n",
       "    </tr>\n",
       "    <tr>\n",
       "      <th>12</th>\n",
       "      <td>6.6</td>\n",
       "      <td>valence</td>\n",
       "    </tr>\n",
       "    <tr>\n",
       "      <th>13</th>\n",
       "      <td>16.2</td>\n",
       "      <td>tempo</td>\n",
       "    </tr>\n",
       "    <tr>\n",
       "      <th>14</th>\n",
       "      <td>46.9</td>\n",
       "      <td>time_signature</td>\n",
       "    </tr>\n",
       "  </tbody>\n",
       "</table>\n",
       "</div>"
      ],
      "text/plain": [
       "    VIF Score            features\n",
       "0         2.9    track_popularity\n",
       "1         4.1   track_duration_ms\n",
       "2         1.3  track_album_single\n",
       "3        15.9        danceability\n",
       "4        19.2              energy\n",
       "5         3.2                 key\n",
       "6         9.5            loudness\n",
       "7         2.7                mode\n",
       "8         1.9         speechiness\n",
       "9         4.2        acousticness\n",
       "10        1.9    instrumentalness\n",
       "11        2.6            liveness\n",
       "12        6.6             valence\n",
       "13       16.2               tempo\n",
       "14       46.9      time_signature"
      ]
     },
     "execution_count": 33,
     "metadata": {},
     "output_type": "execute_result"
    }
   ],
   "source": [
    "# Calculate VIF to check for Multicollinearity\n",
    "# select only columns with datatype int64 or float 64\n",
    "songs_cleaned = songs.drop(columns=['track_id'])\n",
    "#cleaned_KC.select_dtypes(include=['int64','float64']).drop(axis=1, columns=['id'])\n",
    "\n",
    "vif = pd.DataFrame()\n",
    "\n",
    "# For each column,run a variance_inflaction_factor against all other columns to get a VIF Factor score\n",
    "vif[\"VIF Score\"] = [variance_inflation_factor(songs_cleaned.values, i) for i in range(songs_cleaned.shape[1])]\n",
    "\n",
    "# label the scores with their related columns\n",
    "vif[\"features\"] = songs_cleaned.columns\n",
    "\n",
    "vif.round(1)"
   ]
  },
  {
   "cell_type": "markdown",
   "metadata": {},
   "source": [
    "If VIF > 5 there is an indication that multicollinearity may be present; with VIF > 10 there is certainly multicollinearity among the variables.\n",
    "\n",
    "Based on first run of VIF scores, danceability, energy, tempo, and time signature clearly have multi-collinearity, thus we drop them to reduce noise."
   ]
  },
  {
   "cell_type": "code",
   "execution_count": 34,
   "metadata": {
    "scrolled": true
   },
   "outputs": [
    {
     "data": {
      "text/html": [
       "<div>\n",
       "<style scoped>\n",
       "    .dataframe tbody tr th:only-of-type {\n",
       "        vertical-align: middle;\n",
       "    }\n",
       "\n",
       "    .dataframe tbody tr th {\n",
       "        vertical-align: top;\n",
       "    }\n",
       "\n",
       "    .dataframe thead th {\n",
       "        text-align: right;\n",
       "    }\n",
       "</style>\n",
       "<table border=\"1\" class=\"dataframe\">\n",
       "  <thead>\n",
       "    <tr style=\"text-align: right;\">\n",
       "      <th></th>\n",
       "      <th>VIF Score</th>\n",
       "      <th>features</th>\n",
       "    </tr>\n",
       "  </thead>\n",
       "  <tbody>\n",
       "    <tr>\n",
       "      <th>0</th>\n",
       "      <td>2.6</td>\n",
       "      <td>track_popularity</td>\n",
       "    </tr>\n",
       "    <tr>\n",
       "      <th>1</th>\n",
       "      <td>3.3</td>\n",
       "      <td>track_duration_ms</td>\n",
       "    </tr>\n",
       "    <tr>\n",
       "      <th>2</th>\n",
       "      <td>1.2</td>\n",
       "      <td>track_album_single</td>\n",
       "    </tr>\n",
       "    <tr>\n",
       "      <th>3</th>\n",
       "      <td>2.8</td>\n",
       "      <td>key</td>\n",
       "    </tr>\n",
       "    <tr>\n",
       "      <th>4</th>\n",
       "      <td>2.5</td>\n",
       "      <td>mode</td>\n",
       "    </tr>\n",
       "    <tr>\n",
       "      <th>5</th>\n",
       "      <td>1.7</td>\n",
       "      <td>speechiness</td>\n",
       "    </tr>\n",
       "    <tr>\n",
       "      <th>6</th>\n",
       "      <td>2.0</td>\n",
       "      <td>acousticness</td>\n",
       "    </tr>\n",
       "    <tr>\n",
       "      <th>7</th>\n",
       "      <td>1.5</td>\n",
       "      <td>instrumentalness</td>\n",
       "    </tr>\n",
       "    <tr>\n",
       "      <th>8</th>\n",
       "      <td>2.3</td>\n",
       "      <td>liveness</td>\n",
       "    </tr>\n",
       "    <tr>\n",
       "      <th>9</th>\n",
       "      <td>3.3</td>\n",
       "      <td>valence</td>\n",
       "    </tr>\n",
       "  </tbody>\n",
       "</table>\n",
       "</div>"
      ],
      "text/plain": [
       "   VIF Score            features\n",
       "0        2.6    track_popularity\n",
       "1        3.3   track_duration_ms\n",
       "2        1.2  track_album_single\n",
       "3        2.8                 key\n",
       "4        2.5                mode\n",
       "5        1.7         speechiness\n",
       "6        2.0        acousticness\n",
       "7        1.5    instrumentalness\n",
       "8        2.3            liveness\n",
       "9        3.3             valence"
      ]
     },
     "execution_count": 34,
     "metadata": {},
     "output_type": "execute_result"
    }
   ],
   "source": [
    "# Calculate VIF to check for Multicollinearity\n",
    "# select only columns with datatype int64 or float 64\n",
    "songs_cleaned = songs.drop(columns=['track_id',\n",
    "                                    'time_signature', \n",
    "                                    'tempo', \n",
    "                                    'danceability', \n",
    "                                    'energy', \n",
    "                                    'loudness'\n",
    "                                        ])\n",
    "#cleaned_KC.select_dtypes(include=['int64','float64']).drop(axis=1, columns=['id'])\n",
    "\n",
    "vif = pd.DataFrame()\n",
    "\n",
    "# For each column,run a variance_inflaction_factor against all other columns to get a VIF Factor score\n",
    "vif[\"VIF Score\"] = [variance_inflation_factor(songs_cleaned.values, i) for i in range(songs_cleaned.shape[1])]\n",
    "\n",
    "# label the scores with their related columns\n",
    "vif[\"features\"] = songs_cleaned.columns\n",
    "\n",
    "vif.round(1)"
   ]
  },
  {
   "cell_type": "markdown",
   "metadata": {},
   "source": [
    "The remaining features all have a VIF < 5."
   ]
  },
  {
   "cell_type": "markdown",
   "metadata": {
    "heading_collapsed": true
   },
   "source": [
    "#### c) Clean Data for Linear Regression"
   ]
  },
  {
   "cell_type": "code",
   "execution_count": 63,
   "metadata": {
    "hidden": true
   },
   "outputs": [],
   "source": [
    "#Drop collinear columns\n",
    "songs1 = songs.drop(columns=['track_id',\n",
    "                                    'time_signature', \n",
    "                                    'tempo', \n",
    "                                    'danceability', \n",
    "                                    'energy', \n",
    "                                    'loudness'])"
   ]
  },
  {
   "cell_type": "markdown",
   "metadata": {
    "heading_collapsed": true
   },
   "source": [
    "#### d) Define X & Y"
   ]
  },
  {
   "cell_type": "code",
   "execution_count": 240,
   "metadata": {
    "hidden": true
   },
   "outputs": [],
   "source": [
    "#Define appropriate X and y\n",
    "X1 = songs1[songs1.columns[1:]]\n",
    "y1 = songs1.track_popularity"
   ]
  },
  {
   "cell_type": "markdown",
   "metadata": {
    "heading_collapsed": true
   },
   "source": [
    "#### e) Train-Test Split"
   ]
  },
  {
   "cell_type": "code",
   "execution_count": 242,
   "metadata": {
    "hidden": true
   },
   "outputs": [],
   "source": [
    "# Train-Test Split\n",
    "X1_train, X1_test, y1_train, y1_test = train_test_split(X1, y1, test_size = .2)"
   ]
  },
  {
   "cell_type": "code",
   "execution_count": 489,
   "metadata": {
    "hidden": true
   },
   "outputs": [
    {
     "data": {
      "image/png": "[encoded data removed]",
      "text/plain": [
       "<Figure size 1440x720 with 1 Axes>"
      ]
     },
     "metadata": {
      "needs_background": "light"
     },
     "output_type": "display_data"
    }
   ],
   "source": [
    "fig = plt.figure(figsize=(20,10))\n",
    "sns.distplot(y1_train)\n",
    "plt.show()"
   ]
  },
  {
   "cell_type": "markdown",
   "metadata": {
    "heading_collapsed": true
   },
   "source": [
    "#### f) Normalize X Train & Test"
   ]
  },
  {
   "cell_type": "code",
   "execution_count": 243,
   "metadata": {
    "hidden": true
   },
   "outputs": [],
   "source": [
    "# Normalize X_train & X_test\n",
    "scaler = StandardScaler()\n",
    "\n",
    "X1_train_norm = scaler.fit_transform(X1_train)\n",
    "X1_test_norm = scaler.transform(X1_test)"
   ]
  },
  {
   "cell_type": "markdown",
   "metadata": {
    "heading_collapsed": true
   },
   "source": [
    "#### g) Run Linear Regression"
   ]
  },
  {
   "cell_type": "code",
   "execution_count": 244,
   "metadata": {
    "hidden": true
   },
   "outputs": [
    {
     "data": {
      "text/html": [
       "<table class=\"simpletable\">\n",
       "<caption>OLS Regression Results</caption>\n",
       "<tr>\n",
       "  <th>Dep. Variable:</th>    <td>track_popularity</td> <th>  R-squared (uncentered):</th>       <td>   0.016</td>  \n",
       "</tr>\n",
       "<tr>\n",
       "  <th>Model:</th>                   <td>OLS</td>       <th>  Adj. R-squared (uncentered):</th>  <td>   0.016</td>  \n",
       "</tr>\n",
       "<tr>\n",
       "  <th>Method:</th>             <td>Least Squares</td>  <th>  F-statistic:       </th>           <td>   937.2</td>  \n",
       "</tr>\n",
       "<tr>\n",
       "  <th>Date:</th>             <td>Mon, 21 Oct 2019</td> <th>  Prob (F-statistic):</th>            <td>  0.00</td>   \n",
       "</tr>\n",
       "<tr>\n",
       "  <th>Time:</th>                 <td>13:17:01</td>     <th>  Log-Likelihood:    </th>          <td>-2.4300e+06</td>\n",
       "</tr>\n",
       "<tr>\n",
       "  <th>No. Observations:</th>      <td>509812</td>      <th>  AIC:               </th>           <td>4.860e+06</td> \n",
       "</tr>\n",
       "<tr>\n",
       "  <th>Df Residuals:</th>          <td>509803</td>      <th>  BIC:               </th>           <td>4.860e+06</td> \n",
       "</tr>\n",
       "<tr>\n",
       "  <th>Df Model:</th>              <td>     9</td>      <th>                     </th>               <td> </td>     \n",
       "</tr>\n",
       "<tr>\n",
       "  <th>Covariance Type:</th>      <td>nonrobust</td>    <th>                     </th>               <td> </td>     \n",
       "</tr>\n",
       "</table>\n",
       "<table class=\"simpletable\">\n",
       "<tr>\n",
       "   <td></td>     <th>coef</th>     <th>std err</th>      <th>t</th>      <th>P>|t|</th>  <th>[0.025</th>    <th>0.975]</th>  \n",
       "</tr>\n",
       "<tr>\n",
       "  <th>x1</th> <td>   -0.6770</td> <td>    0.041</td> <td>  -16.655</td> <td> 0.000</td> <td>   -0.757</td> <td>   -0.597</td>\n",
       "</tr>\n",
       "<tr>\n",
       "  <th>x2</th> <td>    1.9468</td> <td>    0.041</td> <td>   47.891</td> <td> 0.000</td> <td>    1.867</td> <td>    2.027</td>\n",
       "</tr>\n",
       "<tr>\n",
       "  <th>x3</th> <td>   -0.0148</td> <td>    0.040</td> <td>   -0.366</td> <td> 0.714</td> <td>   -0.094</td> <td>    0.064</td>\n",
       "</tr>\n",
       "<tr>\n",
       "  <th>x4</th> <td>    0.0035</td> <td>    0.041</td> <td>    0.086</td> <td> 0.931</td> <td>   -0.076</td> <td>    0.083</td>\n",
       "</tr>\n",
       "<tr>\n",
       "  <th>x5</th> <td>   -1.3154</td> <td>    0.041</td> <td>  -31.859</td> <td> 0.000</td> <td>   -1.396</td> <td>   -1.234</td>\n",
       "</tr>\n",
       "<tr>\n",
       "  <th>x6</th> <td>   -0.9206</td> <td>    0.042</td> <td>  -21.809</td> <td> 0.000</td> <td>   -1.003</td> <td>   -0.838</td>\n",
       "</tr>\n",
       "<tr>\n",
       "  <th>x7</th> <td>   -2.2077</td> <td>    0.043</td> <td>  -50.780</td> <td> 0.000</td> <td>   -2.293</td> <td>   -2.122</td>\n",
       "</tr>\n",
       "<tr>\n",
       "  <th>x8</th> <td>   -0.0356</td> <td>    0.041</td> <td>   -0.873</td> <td> 0.383</td> <td>   -0.116</td> <td>    0.044</td>\n",
       "</tr>\n",
       "<tr>\n",
       "  <th>x9</th> <td>    0.0166</td> <td>    0.043</td> <td>    0.388</td> <td> 0.698</td> <td>   -0.067</td> <td>    0.101</td>\n",
       "</tr>\n",
       "</table>\n",
       "<table class=\"simpletable\">\n",
       "<tr>\n",
       "  <th>Omnibus:</th>       <td>22804.296</td> <th>  Durbin-Watson:     </th> <td>   0.697</td> \n",
       "</tr>\n",
       "<tr>\n",
       "  <th>Prob(Omnibus):</th>  <td> 0.000</td>   <th>  Jarque-Bera (JB):  </th> <td>23441.965</td>\n",
       "</tr>\n",
       "<tr>\n",
       "  <th>Skew:</th>           <td> 0.493</td>   <th>  Prob(JB):          </th> <td>    0.00</td> \n",
       "</tr>\n",
       "<tr>\n",
       "  <th>Kurtosis:</th>       <td> 2.635</td>   <th>  Cond. No.          </th> <td>    1.62</td> \n",
       "</tr>\n",
       "</table><br/><br/>Warnings:<br/>[1] Standard Errors assume that the covariance matrix of the errors is correctly specified."
      ],
      "text/plain": [
       "<class 'statsmodels.iolib.summary.Summary'>\n",
       "\"\"\"\n",
       "                                 OLS Regression Results                                \n",
       "=======================================================================================\n",
       "Dep. Variable:       track_popularity   R-squared (uncentered):                   0.016\n",
       "Model:                            OLS   Adj. R-squared (uncentered):              0.016\n",
       "Method:                 Least Squares   F-statistic:                              937.2\n",
       "Date:                Mon, 21 Oct 2019   Prob (F-statistic):                        0.00\n",
       "Time:                        13:17:01   Log-Likelihood:                     -2.4300e+06\n",
       "No. Observations:              509812   AIC:                                  4.860e+06\n",
       "Df Residuals:                  509803   BIC:                                  4.860e+06\n",
       "Df Model:                           9                                                  \n",
       "Covariance Type:            nonrobust                                                  \n",
       "==============================================================================\n",
       "                 coef    std err          t      P>|t|      [0.025      0.975]\n",
       "------------------------------------------------------------------------------\n",
       "x1            -0.6770      0.041    -16.655      0.000      -0.757      -0.597\n",
       "x2             1.9468      0.041     47.891      0.000       1.867       2.027\n",
       "x3            -0.0148      0.040     -0.366      0.714      -0.094       0.064\n",
       "x4             0.0035      0.041      0.086      0.931      -0.076       0.083\n",
       "x5            -1.3154      0.041    -31.859      0.000      -1.396      -1.234\n",
       "x6            -0.9206      0.042    -21.809      0.000      -1.003      -0.838\n",
       "x7            -2.2077      0.043    -50.780      0.000      -2.293      -2.122\n",
       "x8            -0.0356      0.041     -0.873      0.383      -0.116       0.044\n",
       "x9             0.0166      0.043      0.388      0.698      -0.067       0.101\n",
       "==============================================================================\n",
       "Omnibus:                    22804.296   Durbin-Watson:                   0.697\n",
       "Prob(Omnibus):                  0.000   Jarque-Bera (JB):            23441.965\n",
       "Skew:                           0.493   Prob(JB):                         0.00\n",
       "Kurtosis:                       2.635   Cond. No.                         1.62\n",
       "==============================================================================\n",
       "\n",
       "Warnings:\n",
       "[1] Standard Errors assume that the covariance matrix of the errors is correctly specified.\n",
       "\"\"\""
      ]
     },
     "execution_count": 244,
     "metadata": {},
     "output_type": "execute_result"
    }
   ],
   "source": [
    "reg1 = sm.OLS(y1_train, X1_train_norm).fit()\n",
    "reg1.summary()"
   ]
  },
  {
   "cell_type": "markdown",
   "metadata": {
    "heading_collapsed": true
   },
   "source": [
    "#### h) QQ Plot"
   ]
  },
  {
   "cell_type": "code",
   "execution_count": 245,
   "metadata": {
    "hidden": true,
    "scrolled": true
   },
   "outputs": [
    {
     "data": {
      "image/png": "[encoded data removed]",
      "text/plain": [
       "<Figure size 432x288 with 1 Axes>"
      ]
     },
     "metadata": {
      "needs_background": "light"
     },
     "output_type": "display_data"
    }
   ],
   "source": [
    "residuals = reg1.resid\n",
    "fig = sm.graphics.qqplot(residuals, dist=stats.norm, line='45', fit=True)"
   ]
  },
  {
   "cell_type": "markdown",
   "metadata": {},
   "source": [
    "### 2. Linear Regression w/ Binned Dependent Variable"
   ]
  },
  {
   "cell_type": "markdown",
   "metadata": {
    "heading_collapsed": true
   },
   "source": [
    "#### i) Binning Independent Variable & Creating New DataFrame"
   ]
  },
  {
   "cell_type": "code",
   "execution_count": 142,
   "metadata": {
    "hidden": true
   },
   "outputs": [],
   "source": [
    "# Create new dataframe\n",
    "songs2 = songs1.copy()"
   ]
  },
  {
   "cell_type": "code",
   "execution_count": 143,
   "metadata": {
    "hidden": true
   },
   "outputs": [],
   "source": [
    "# Bin independent variable\n",
    "bins = [0, 10, 20, 30, 40, 50, 60, 70, 80, 90, 100]\n",
    "labels = [10, 20, 30, 40, 50, 60, 70, 80, 90, 100]\n",
    "#bins = [0, 9, 19, 29, 39, 49, 59, 69, 79, 89, 100]\n",
    "#labels = ['0-9', '10-19', '20-29', '30-39', '40-49', '50-59', '60-69', '70-79', '80-89', '90-100']\n",
    "songs2['track_popularity_bins'] = pd.cut(songs1['track_popularity'], bins=bins, labels=labels)"
   ]
  },
  {
   "cell_type": "code",
   "execution_count": 144,
   "metadata": {
    "hidden": true
   },
   "outputs": [],
   "source": [
    "# Drop 0 popularity\n",
    "songs2.dropna(inplace=True)"
   ]
  },
  {
   "cell_type": "code",
   "execution_count": 145,
   "metadata": {
    "hidden": true
   },
   "outputs": [],
   "source": [
    "# Encoding categorical data\n",
    "le = LabelEncoder()\n",
    "songs2['track_popularity'] = le.fit_transform(songs2['track_popularity'])"
   ]
  },
  {
   "cell_type": "code",
   "execution_count": 146,
   "metadata": {
    "hidden": true
   },
   "outputs": [
    {
     "data": {
      "text/plain": [
       "10     131599\n",
       "20     124880\n",
       "30     115033\n",
       "40     104735\n",
       "50      61421\n",
       "60      30220\n",
       "70      11257\n",
       "80       2947\n",
       "90        413\n",
       "100        31\n",
       "Name: track_popularity_bins, dtype: int64"
      ]
     },
     "execution_count": 146,
     "metadata": {},
     "output_type": "execute_result"
    }
   ],
   "source": [
    "# Independent variable value counts\n",
    "songs2.track_popularity_bins.value_counts()"
   ]
  },
  {
   "cell_type": "markdown",
   "metadata": {
    "heading_collapsed": true
   },
   "source": [
    "#### j) Re-define X & Y"
   ]
  },
  {
   "cell_type": "code",
   "execution_count": 246,
   "metadata": {
    "hidden": true
   },
   "outputs": [],
   "source": [
    "#Define appropriate X and y\n",
    "X2 = songs2[songs2.columns[1:-1]]\n",
    "y2 = songs2.track_popularity_bins"
   ]
  },
  {
   "cell_type": "markdown",
   "metadata": {
    "heading_collapsed": true
   },
   "source": [
    "#### k) Train-Test Split"
   ]
  },
  {
   "cell_type": "code",
   "execution_count": 249,
   "metadata": {
    "hidden": true
   },
   "outputs": [],
   "source": [
    "# Train-Test Split\n",
    "X2_train, X2_test, y2_train, y2_test = train_test_split(X2, y2, test_size = .2)"
   ]
  },
  {
   "cell_type": "code",
   "execution_count": 490,
   "metadata": {
    "hidden": true
   },
   "outputs": [
    {
     "data": {
      "image/png": "[encoded data removed]",
      "text/plain": [
       "<Figure size 1440x720 with 1 Axes>"
      ]
     },
     "metadata": {
      "needs_background": "light"
     },
     "output_type": "display_data"
    }
   ],
   "source": [
    "fig = plt.figure(figsize=(20,10))\n",
    "sns.distplot(y2_train)\n",
    "plt.show()"
   ]
  },
  {
   "cell_type": "markdown",
   "metadata": {
    "heading_collapsed": true
   },
   "source": [
    "#### l) Normalize X Train & Test"
   ]
  },
  {
   "cell_type": "code",
   "execution_count": 250,
   "metadata": {
    "hidden": true
   },
   "outputs": [],
   "source": [
    "# Normalize X_train & X_test\n",
    "scaler = StandardScaler()\n",
    "\n",
    "X2_train_norm = scaler.fit_transform(X2_train)\n",
    "X2_test_norm = scaler.transform(X2_test)"
   ]
  },
  {
   "cell_type": "markdown",
   "metadata": {
    "heading_collapsed": true
   },
   "source": [
    "#### m) Run Linear Regression"
   ]
  },
  {
   "cell_type": "code",
   "execution_count": 251,
   "metadata": {
    "hidden": true
   },
   "outputs": [
    {
     "data": {
      "text/html": [
       "<table class=\"simpletable\">\n",
       "<caption>OLS Regression Results</caption>\n",
       "<tr>\n",
       "  <th>Dep. Variable:</th>    <td>track_popularity_bins</td> <th>  R-squared (uncentered):</th>       <td>   0.009</td>  \n",
       "</tr>\n",
       "<tr>\n",
       "  <th>Model:</th>                     <td>OLS</td>          <th>  Adj. R-squared (uncentered):</th>  <td>   0.009</td>  \n",
       "</tr>\n",
       "<tr>\n",
       "  <th>Method:</th>               <td>Least Squares</td>     <th>  F-statistic:       </th>           <td>   462.6</td>  \n",
       "</tr>\n",
       "<tr>\n",
       "  <th>Date:</th>               <td>Mon, 21 Oct 2019</td>    <th>  Prob (F-statistic):</th>            <td>  0.00</td>   \n",
       "</tr>\n",
       "<tr>\n",
       "  <th>Time:</th>                   <td>13:18:10</td>        <th>  Log-Likelihood:    </th>          <td>-2.3030e+06</td>\n",
       "</tr>\n",
       "<tr>\n",
       "  <th>No. Observations:</th>        <td>466028</td>         <th>  AIC:               </th>           <td>4.606e+06</td> \n",
       "</tr>\n",
       "<tr>\n",
       "  <th>Df Residuals:</th>            <td>466019</td>         <th>  BIC:               </th>           <td>4.606e+06</td> \n",
       "</tr>\n",
       "<tr>\n",
       "  <th>Df Model:</th>                <td>     9</td>         <th>                     </th>               <td> </td>     \n",
       "</tr>\n",
       "<tr>\n",
       "  <th>Covariance Type:</th>        <td>nonrobust</td>       <th>                     </th>               <td> </td>     \n",
       "</tr>\n",
       "</table>\n",
       "<table class=\"simpletable\">\n",
       "<tr>\n",
       "   <td></td>     <th>coef</th>     <th>std err</th>      <th>t</th>      <th>P>|t|</th>  <th>[0.025</th>    <th>0.975]</th>  \n",
       "</tr>\n",
       "<tr>\n",
       "  <th>x1</th> <td>   -0.4648</td> <td>    0.051</td> <td>   -9.181</td> <td> 0.000</td> <td>   -0.564</td> <td>   -0.366</td>\n",
       "</tr>\n",
       "<tr>\n",
       "  <th>x2</th> <td>    1.7579</td> <td>    0.051</td> <td>   34.693</td> <td> 0.000</td> <td>    1.659</td> <td>    1.857</td>\n",
       "</tr>\n",
       "<tr>\n",
       "  <th>x3</th> <td>   -0.0083</td> <td>    0.050</td> <td>   -0.166</td> <td> 0.868</td> <td>   -0.107</td> <td>    0.090</td>\n",
       "</tr>\n",
       "<tr>\n",
       "  <th>x4</th> <td>   -0.0706</td> <td>    0.051</td> <td>   -1.395</td> <td> 0.163</td> <td>   -0.170</td> <td>    0.029</td>\n",
       "</tr>\n",
       "<tr>\n",
       "  <th>x5</th> <td>   -1.0167</td> <td>    0.051</td> <td>  -19.751</td> <td> 0.000</td> <td>   -1.118</td> <td>   -0.916</td>\n",
       "</tr>\n",
       "<tr>\n",
       "  <th>x6</th> <td>   -0.9451</td> <td>    0.053</td> <td>  -17.920</td> <td> 0.000</td> <td>   -1.048</td> <td>   -0.842</td>\n",
       "</tr>\n",
       "<tr>\n",
       "  <th>x7</th> <td>   -1.8705</td> <td>    0.054</td> <td>  -34.448</td> <td> 0.000</td> <td>   -1.977</td> <td>   -1.764</td>\n",
       "</tr>\n",
       "<tr>\n",
       "  <th>x8</th> <td>   -0.1617</td> <td>    0.051</td> <td>   -3.175</td> <td> 0.001</td> <td>   -0.261</td> <td>   -0.062</td>\n",
       "</tr>\n",
       "<tr>\n",
       "  <th>x9</th> <td>   -0.0339</td> <td>    0.054</td> <td>   -0.633</td> <td> 0.527</td> <td>   -0.139</td> <td>    0.071</td>\n",
       "</tr>\n",
       "</table>\n",
       "<table class=\"simpletable\">\n",
       "<tr>\n",
       "  <th>Omnibus:</th>       <td>22636.206</td> <th>  Durbin-Watson:     </th> <td>   0.444</td> \n",
       "</tr>\n",
       "<tr>\n",
       "  <th>Prob(Omnibus):</th>  <td> 0.000</td>   <th>  Jarque-Bera (JB):  </th> <td>25288.786</td>\n",
       "</tr>\n",
       "<tr>\n",
       "  <th>Skew:</th>           <td> 0.557</td>   <th>  Prob(JB):          </th> <td>    0.00</td> \n",
       "</tr>\n",
       "<tr>\n",
       "  <th>Kurtosis:</th>       <td> 2.753</td>   <th>  Cond. No.          </th> <td>    1.62</td> \n",
       "</tr>\n",
       "</table><br/><br/>Warnings:<br/>[1] Standard Errors assume that the covariance matrix of the errors is correctly specified."
      ],
      "text/plain": [
       "<class 'statsmodels.iolib.summary.Summary'>\n",
       "\"\"\"\n",
       "                                  OLS Regression Results                                  \n",
       "==========================================================================================\n",
       "Dep. Variable:     track_popularity_bins   R-squared (uncentered):                   0.009\n",
       "Model:                               OLS   Adj. R-squared (uncentered):              0.009\n",
       "Method:                    Least Squares   F-statistic:                              462.6\n",
       "Date:                   Mon, 21 Oct 2019   Prob (F-statistic):                        0.00\n",
       "Time:                           13:18:10   Log-Likelihood:                     -2.3030e+06\n",
       "No. Observations:                 466028   AIC:                                  4.606e+06\n",
       "Df Residuals:                     466019   BIC:                                  4.606e+06\n",
       "Df Model:                              9                                                  \n",
       "Covariance Type:               nonrobust                                                  \n",
       "==============================================================================\n",
       "                 coef    std err          t      P>|t|      [0.025      0.975]\n",
       "------------------------------------------------------------------------------\n",
       "x1            -0.4648      0.051     -9.181      0.000      -0.564      -0.366\n",
       "x2             1.7579      0.051     34.693      0.000       1.659       1.857\n",
       "x3            -0.0083      0.050     -0.166      0.868      -0.107       0.090\n",
       "x4            -0.0706      0.051     -1.395      0.163      -0.170       0.029\n",
       "x5            -1.0167      0.051    -19.751      0.000      -1.118      -0.916\n",
       "x6            -0.9451      0.053    -17.920      0.000      -1.048      -0.842\n",
       "x7            -1.8705      0.054    -34.448      0.000      -1.977      -1.764\n",
       "x8            -0.1617      0.051     -3.175      0.001      -0.261      -0.062\n",
       "x9            -0.0339      0.054     -0.633      0.527      -0.139       0.071\n",
       "==============================================================================\n",
       "Omnibus:                    22636.206   Durbin-Watson:                   0.444\n",
       "Prob(Omnibus):                  0.000   Jarque-Bera (JB):            25288.786\n",
       "Skew:                           0.557   Prob(JB):                         0.00\n",
       "Kurtosis:                       2.753   Cond. No.                         1.62\n",
       "==============================================================================\n",
       "\n",
       "Warnings:\n",
       "[1] Standard Errors assume that the covariance matrix of the errors is correctly specified.\n",
       "\"\"\""
      ]
     },
     "execution_count": 251,
     "metadata": {},
     "output_type": "execute_result"
    }
   ],
   "source": [
    "reg2 = sm.OLS(y2_train, X2_train_norm).fit()\n",
    "reg2.summary()"
   ]
  },
  {
   "cell_type": "markdown",
   "metadata": {
    "heading_collapsed": true
   },
   "source": [
    "#### n) QQ Plot"
   ]
  },
  {
   "cell_type": "code",
   "execution_count": 252,
   "metadata": {
    "hidden": true,
    "scrolled": true
   },
   "outputs": [
    {
     "data": {
      "image/png": "[encoded data removed]",
      "text/plain": [
       "<Figure size 432x288 with 1 Axes>"
      ]
     },
     "metadata": {
      "needs_background": "light"
     },
     "output_type": "display_data"
    }
   ],
   "source": [
    "residuals = reg2.resid\n",
    "fig = sm.graphics.qqplot(residuals, dist=stats.norm, line='45', fit=True)"
   ]
  },
  {
   "cell_type": "markdown",
   "metadata": {
    "heading_collapsed": true
   },
   "source": [
    "#### o) ASK MURAT"
   ]
  },
  {
   "cell_type": "code",
   "execution_count": 191,
   "metadata": {
    "hidden": true
   },
   "outputs": [
    {
     "data": {
      "text/plain": [
       "Text(0.5, 1.0, 'Linear Relationship Exists')"
      ]
     },
     "execution_count": 191,
     "metadata": {},
     "output_type": "execute_result"
    },
    {
     "data": {
      "image/png": "[encoded data removed]",
      "text/plain": [
       "<Figure size 432x288 with 1 Axes>"
      ]
     },
     "metadata": {
      "needs_background": "light"
     },
     "output_type": "display_data"
    }
   ],
   "source": [
    "from sklearn.datasets.samples_generator import make_regression\n",
    "X1, y1 = make_regression(n_samples=1000, n_features=5, noise=10)\n",
    "\n",
    "plt.plot(X1, y1, 'o', color='black');\n",
    "plt.title(\"Linear Relationship Exists\")"
   ]
  },
  {
   "cell_type": "code",
   "execution_count": 192,
   "metadata": {
    "hidden": true
   },
   "outputs": [
    {
     "data": {
      "image/png": "[encoded data removed]",
      "text/plain": [
       "<Figure size 432x288 with 1 Axes>"
      ]
     },
     "metadata": {
      "needs_background": "light"
     },
     "output_type": "display_data"
    }
   ],
   "source": [
    "import scipy.stats as stats\n",
    "\n",
    "stats.probplot(X1[:,0], dist=\"norm\", plot=plt)\n",
    "plt.show()"
   ]
  },
  {
   "cell_type": "code",
   "execution_count": null,
   "metadata": {
    "hidden": true
   },
   "outputs": [],
   "source": [
    "# Ridge Regression\n",
    "from sklearn.model_selection import GridSearchCV\n",
    "from sklearn.linear_model import Ridge\n",
    "\n",
    "ridge = Ridge()\n",
    "\n",
    "parameters = {'alpha': [1e-15, 1e-10, 1e-8, 1e-4, 1e-3, 1e-2, 1, 5, 10, 20]}\n",
    "\n",
    "ridge_regressor = GridSearchCV(ridge, parameters, scoring='neg_mean_squared_error', cv=5)\n",
    "\n",
    "ridge_regressor.fit(X_train, y_train)\n",
    "\n",
    "print(ridge_regressor.best_params_)\n",
    "print(ridge_regressor.best_score_)"
   ]
  },
  {
   "cell_type": "code",
   "execution_count": null,
   "metadata": {
    "hidden": true
   },
   "outputs": [],
   "source": [
    "# Lasso Regression\n",
    "from sklearn.linear_model import Lasso\n",
    "\n",
    "lasso = Lasso()\n",
    "\n",
    "parameters = {'alpha': [1e-15, 1e-10, 1e-8, 1e-4, 1e-3, 1e-2, 1, 5, 10, 20, 100, 1000]}\n",
    "\n",
    "lasso_regressor = GridSearchCV(lasso, parameters, scoring='neg_mean_squared_error', cv=5)\n",
    "\n",
    "lasso_regressor.fit(X_train, y_train)\n",
    "\n",
    "print(lasso_regressor.best_params_)\n",
    "print(lasso_regressor.best_score_)"
   ]
  },
  {
   "cell_type": "markdown",
   "metadata": {},
   "source": [
    "## III. Logistic Regression"
   ]
  },
  {
   "cell_type": "markdown",
   "metadata": {},
   "source": [
    "### 1. Create New DataFrame w/ Binary Dependent Variable  "
   ]
  },
  {
   "cell_type": "markdown",
   "metadata": {
    "heading_collapsed": true
   },
   "source": [
    "#### a) Copy DataFrame"
   ]
  },
  {
   "cell_type": "code",
   "execution_count": 449,
   "metadata": {
    "hidden": true
   },
   "outputs": [],
   "source": [
    "# Create new dataframe\n",
    "songs3 = songs1.copy()"
   ]
  },
  {
   "cell_type": "markdown",
   "metadata": {
    "heading_collapsed": true
   },
   "source": [
    "#### b) Create Binary Dependent Variable Column"
   ]
  },
  {
   "cell_type": "code",
   "execution_count": 450,
   "metadata": {
    "hidden": true
   },
   "outputs": [],
   "source": [
    "# Create binary column for track_popularity over/under 50\n",
    "songs3['track_popularity_50'] = np.where(songs3['track_popularity']>50, 1, 0)"
   ]
  },
  {
   "cell_type": "markdown",
   "metadata": {
    "heading_collapsed": true
   },
   "source": [
    "#### d) Define X & Y"
   ]
  },
  {
   "cell_type": "code",
   "execution_count": 451,
   "metadata": {
    "hidden": true
   },
   "outputs": [],
   "source": [
    "#Define appropriate X and y\n",
    "X3 = songs3[songs3.columns[1:-1]]\n",
    "y3 = songs3.track_popularity_50"
   ]
  },
  {
   "cell_type": "markdown",
   "metadata": {
    "heading_collapsed": true
   },
   "source": [
    "#### c) Train-Test Split"
   ]
  },
  {
   "cell_type": "code",
   "execution_count": 452,
   "metadata": {
    "hidden": true
   },
   "outputs": [],
   "source": [
    "# Train-Test Split\n",
    "X3_train, X3_test, y3_train, y3_test = train_test_split(X3, y3, \n",
    "                                                        stratify = y3,\n",
    "                                                        test_size = .2)"
   ]
  },
  {
   "cell_type": "code",
   "execution_count": 491,
   "metadata": {
    "hidden": true
   },
   "outputs": [
    {
     "data": {
      "image/png": "[encoded data removed]",
      "text/plain": [
       "<Figure size 1440x720 with 1 Axes>"
      ]
     },
     "metadata": {
      "needs_background": "light"
     },
     "output_type": "display_data"
    }
   ],
   "source": [
    "fig = plt.figure(figsize=(20,10))\n",
    "sns.distplot(y3_train)\n",
    "plt.show()"
   ]
  },
  {
   "cell_type": "markdown",
   "metadata": {
    "heading_collapsed": true
   },
   "source": [
    "#### d) Normalize X_train & X_test"
   ]
  },
  {
   "cell_type": "code",
   "execution_count": 453,
   "metadata": {
    "hidden": true
   },
   "outputs": [],
   "source": [
    "# Normalize X_train & X_test\n",
    "scaler = StandardScaler()\n",
    "X3_train_norm = scaler.fit_transform(X3_train)\n",
    "X3_test_norm = scaler.transform(X3_test)"
   ]
  },
  {
   "cell_type": "markdown",
   "metadata": {
    "heading_collapsed": true
   },
   "source": [
    "#### e) Identify Data Imbalance"
   ]
  },
  {
   "cell_type": "code",
   "execution_count": 454,
   "metadata": {
    "hidden": true
   },
   "outputs": [
    {
     "data": {
      "text/plain": [
       "0    473918\n",
       "1     35894\n",
       "Name: track_popularity_50, dtype: int64"
      ]
     },
     "execution_count": 454,
     "metadata": {},
     "output_type": "execute_result"
    }
   ],
   "source": [
    "# Identify data imbalance\n",
    "y3_train.value_counts()"
   ]
  },
  {
   "cell_type": "code",
   "execution_count": 488,
   "metadata": {
    "hidden": true
   },
   "outputs": [
    {
     "data": {
      "image/png": "[encoded data removed]",
      "text/plain": [
       "<Figure size 1440x720 with 1 Axes>"
      ]
     },
     "metadata": {
      "needs_background": "light"
     },
     "output_type": "display_data"
    }
   ],
   "source": [
    "#Plot distributions of each genre \n",
    "fig = plt.figure(figsize=(20,10))\n",
    "sns.distplot(y1_train)\n",
    "plt.show()"
   ]
  },
  {
   "cell_type": "code",
   "execution_count": null,
   "metadata": {
    "hidden": true
   },
   "outputs": [],
   "source": []
  },
  {
   "cell_type": "markdown",
   "metadata": {},
   "source": [
    "### 2. Run Baseline Logistic Regression"
   ]
  },
  {
   "cell_type": "code",
   "execution_count": 470,
   "metadata": {},
   "outputs": [],
   "source": [
    "lr1 = LogisticRegression(solver='liblinear').fit(X3_train_norm, y3_train)\n",
    "lr1_pred = lr1.predict(X3_test_norm)"
   ]
  },
  {
   "cell_type": "code",
   "execution_count": 471,
   "metadata": {},
   "outputs": [
    {
     "name": "stdout",
     "output_type": "stream",
     "text": [
      "Accuracy: 0.9295897311165685\n",
      "Precision: 0.0\n",
      "F1: 0.0\n",
      "Recall: 0.0\n"
     ]
    }
   ],
   "source": [
    "# Checking Accuracy\n",
    "print('Accuracy:', accuracy_score(y3_test, lr1_pred))\n",
    "\n",
    "# Checking Precision\n",
    "print('Precision:', precision_score(y3_test, lr1_pred))\n",
    "    \n",
    "# F1 Score\n",
    "print('F1:', f1_score(y3_test, lr1_pred))\n",
    "\n",
    "# Checking Recall\n",
    "print('Recall:', recall_score(y3_test, lr1_pred))"
   ]
  },
  {
   "cell_type": "code",
   "execution_count": 472,
   "metadata": {},
   "outputs": [
    {
     "data": {
      "image/png": "[encoded data removed]",
      "text/plain": [
       "<Figure size 432x288 with 1 Axes>"
      ]
     },
     "metadata": {
      "needs_background": "light"
     },
     "output_type": "display_data"
    }
   ],
   "source": [
    "\n",
    "y_hat_test = lr1.predict(X3_test_norm)\n",
    "y_score = lr1.decision_function(X3_test_norm)\n",
    "\n",
    "fpr, tpr, threshold = roc_curve(y3_test, y_score)\n",
    "roc_auc = auc(fpr, tpr)\n",
    "\n",
    "# method I: plt\n",
    "import matplotlib.pyplot as plt\n",
    "plt.title('Receiver Operating Characteristic')\n",
    "plt.plot(fpr, tpr, 'b', label = 'AUC = %0.2f' % roc_auc)\n",
    "plt.legend(loc = 'lower right')\n",
    "plt.plot([0, 1], [0, 1],'r--')\n",
    "plt.xlim([0, 1])\n",
    "plt.ylim([0, 1])\n",
    "plt.ylabel('True Positive Rate')\n",
    "plt.xlabel('False Positive Rate')\n",
    "plt.show()"
   ]
  },
  {
   "cell_type": "markdown",
   "metadata": {},
   "source": [
    "### 3. Balancing Imbalanced Data"
   ]
  },
  {
   "cell_type": "markdown",
   "metadata": {
    "heading_collapsed": true
   },
   "source": [
    "#### a) Method 1: Oversample Minority Class"
   ]
  },
  {
   "cell_type": "code",
   "execution_count": 415,
   "metadata": {
    "hidden": true
   },
   "outputs": [],
   "source": [
    "# Convert Numpy array to DataFrame\n",
    "X3_train_norm_df = pd.DataFrame(X3_train_norm)"
   ]
  },
  {
   "cell_type": "code",
   "execution_count": 416,
   "metadata": {
    "hidden": true
   },
   "outputs": [],
   "source": [
    "# concatenate our training data back together\n",
    "X3_train_norm_df = X3_train_norm_df.reset_index()\n",
    "y3_train = y3_train.reset_index()\n",
    "X4 = pd.concat([X3_train_norm_df, y3_train], axis=1, ignore_index=True)"
   ]
  },
  {
   "cell_type": "code",
   "execution_count": 418,
   "metadata": {
    "hidden": true
   },
   "outputs": [
    {
     "data": {
      "text/plain": [
       "1    473918\n",
       "0    473918\n",
       "Name: 11, dtype: int64"
      ]
     },
     "execution_count": 418,
     "metadata": {},
     "output_type": "execute_result"
    }
   ],
   "source": [
    "# separate minority and majority classes\n",
    "not_popular = X4[X4[11]==0]\n",
    "popular = X4[X4[11]==1]\n",
    "\n",
    "# upsample minority\n",
    "popular_upsampled = resample(popular,\n",
    "                          replace=True, # sample with replacement\n",
    "                          n_samples=len(not_popular), # match number in majority class\n",
    "                          random_state=27) # reproducible results\n",
    "\n",
    "# combine majority and upsampled minority\n",
    "upsampled = pd.concat([not_popular, popular_upsampled])\n",
    "\n",
    "# check new class counts\n",
    "upsampled[11].value_counts()"
   ]
  },
  {
   "cell_type": "code",
   "execution_count": 419,
   "metadata": {
    "hidden": true
   },
   "outputs": [],
   "source": [
    "y4_train = upsampled[upsampled.columns[-1:]]\n",
    "X4_train = upsampled[upsampled.columns[1:-2]]"
   ]
  },
  {
   "cell_type": "code",
   "execution_count": 494,
   "metadata": {
    "hidden": true
   },
   "outputs": [
    {
     "data": {
      "image/png": "[encoded data removed]",
      "text/plain": [
       "<Figure size 1440x720 with 1 Axes>"
      ]
     },
     "metadata": {
      "needs_background": "light"
     },
     "output_type": "display_data"
    }
   ],
   "source": [
    "fig = plt.figure(figsize=(20,10))\n",
    "sns.distplot(y4_train)\n",
    "plt.show()"
   ]
  },
  {
   "cell_type": "code",
   "execution_count": 442,
   "metadata": {
    "hidden": true,
    "scrolled": true
   },
   "outputs": [],
   "source": [
    "upsampled_lr = LogisticRegression(solver='liblinear').fit(X4_train, y4_train)\n",
    "upsampled_pred = upsampled_lr.predict(X3_test_norm)"
   ]
  },
  {
   "cell_type": "code",
   "execution_count": 443,
   "metadata": {
    "hidden": true
   },
   "outputs": [
    {
     "name": "stdout",
     "output_type": "stream",
     "text": [
      "Accuracy: 0.47304496559516057\n",
      "Precision: 0.09359110465441135\n",
      "F1: 0.16633152106452173\n",
      "Recall: 0.7466012926231335\n"
     ]
    }
   ],
   "source": [
    "# Checking Accuracy\n",
    "print('Accuracy:', accuracy_score(y3_test, upsampled_pred))\n",
    "\n",
    "# Checking Precision\n",
    "print('Precision:', precision_score(y3_test, upsampled_pred))\n",
    "    \n",
    "# F1 Score\n",
    "print('F1:', f1_score(y3_test, upsampled_pred))\n",
    "\n",
    "# Checking Recall\n",
    "print('Recall:', recall_score(y3_test, upsampled_pred))"
   ]
  },
  {
   "cell_type": "markdown",
   "metadata": {
    "heading_collapsed": true
   },
   "source": [
    "#### b) Method 2: Undersample Majority Class"
   ]
  },
  {
   "cell_type": "code",
   "execution_count": 423,
   "metadata": {
    "hidden": true
   },
   "outputs": [
    {
     "data": {
      "text/plain": [
       "1    35894\n",
       "0    35894\n",
       "Name: 11, dtype: int64"
      ]
     },
     "execution_count": 423,
     "metadata": {},
     "output_type": "execute_result"
    }
   ],
   "source": [
    "# still using our separated classes popular and not_popular from above\n",
    "\n",
    "# downsample majority\n",
    "not_popular_downsampled = resample(not_popular,\n",
    "                                replace = False, # sample without replacement\n",
    "                                n_samples = len(popular), # match minority n\n",
    "                                random_state = 27) # reproducible results\n",
    "\n",
    "# combine minority and downsampled majority\n",
    "downsampled = pd.concat([not_popular_downsampled, popular])\n",
    "\n",
    "# checking counts\n",
    "downsampled[11].value_counts()"
   ]
  },
  {
   "cell_type": "code",
   "execution_count": 426,
   "metadata": {
    "hidden": true
   },
   "outputs": [],
   "source": [
    "y5_train = downsampled[downsampled.columns[-1:]]\n",
    "X5_train = downsampled[downsampled.columns[1:-2]]"
   ]
  },
  {
   "cell_type": "code",
   "execution_count": 493,
   "metadata": {
    "hidden": true
   },
   "outputs": [
    {
     "data": {
      "image/png": "[encoded data removed]",
      "text/plain": [
       "<Figure size 1440x720 with 1 Axes>"
      ]
     },
     "metadata": {
      "needs_background": "light"
     },
     "output_type": "display_data"
    }
   ],
   "source": [
    "fig = plt.figure(figsize=(20,10))\n",
    "sns.distplot(y5_train)\n",
    "plt.show()"
   ]
  },
  {
   "cell_type": "code",
   "execution_count": 444,
   "metadata": {
    "hidden": true,
    "scrolled": true
   },
   "outputs": [],
   "source": [
    "downsampled_lr = LogisticRegression(solver='liblinear').fit(X5_train, y5_train)\n",
    "downsampled_pred = downsampled_lr.predict(X3_test_norm)"
   ]
  },
  {
   "cell_type": "code",
   "execution_count": 445,
   "metadata": {
    "hidden": true
   },
   "outputs": [
    {
     "name": "stdout",
     "output_type": "stream",
     "text": [
      "Accuracy: 0.475877382250712\n",
      "Precision: 0.09348330404217926\n",
      "F1: 0.1660195508058777\n",
      "Recall: 0.7409182081568977\n"
     ]
    }
   ],
   "source": [
    "# Checking Accuracy\n",
    "print('Accuracy:', accuracy_score(y3_test, downsampled_pred))\n",
    "\n",
    "# Checking Precision\n",
    "print('Precision:', precision_score(y3_test, downsampled_pred))\n",
    "    \n",
    "# F1 Score\n",
    "print('F1:', f1_score(y3_test, downsampled_pred))\n",
    "\n",
    "# Checking Recall\n",
    "print('Recall:', recall_score(y3_test, downsampled_pred))"
   ]
  },
  {
   "cell_type": "markdown",
   "metadata": {},
   "source": [
    "#### c) Method 3: Generate Synthetic Samples with SMOTE"
   ]
  },
  {
   "cell_type": "code",
   "execution_count": 456,
   "metadata": {},
   "outputs": [
    {
     "name": "stdout",
     "output_type": "stream",
     "text": [
      "0    473918\n",
      "1     35894\n",
      "Name: track_popularity_50, dtype: int64\n",
      "1    473918\n",
      "0    473918\n",
      "dtype: int64\n"
     ]
    }
   ],
   "source": [
    "print(y3_train.value_counts())\n",
    "smote = SMOTE()\n",
    "X3_train_norm_resampled, y3_train_resampled = smote.fit_sample(X3_train_norm, y3_train) \n",
    "print(pd.Series(y3_train_resampled).value_counts())"
   ]
  },
  {
   "cell_type": "code",
   "execution_count": 492,
   "metadata": {},
   "outputs": [
    {
     "data": {
      "image/png": "[encoded data removed]",
      "text/plain": [
       "<Figure size 1440x720 with 1 Axes>"
      ]
     },
     "metadata": {
      "needs_background": "light"
     },
     "output_type": "display_data"
    }
   ],
   "source": [
    "fig = plt.figure(figsize=(20,10))\n",
    "sns.distplot(y3_train_resampled)\n",
    "plt.show()"
   ]
  },
  {
   "cell_type": "code",
   "execution_count": 457,
   "metadata": {},
   "outputs": [],
   "source": [
    "smote = LogisticRegression(solver='liblinear').fit(X3_train_norm_resampled, y3_train_resampled)\n",
    "smote_pred = smote.predict(X3_test_norm)"
   ]
  },
  {
   "cell_type": "code",
   "execution_count": 458,
   "metadata": {},
   "outputs": [
    {
     "name": "stdout",
     "output_type": "stream",
     "text": [
      "Accuracy: 0.4851200050214589\n",
      "Precision: 0.09455919611800576\n",
      "F1: 0.1675905371979451\n",
      "Recall: 0.7361265879206597\n"
     ]
    }
   ],
   "source": [
    "# Checking Accuracy\n",
    "print('Accuracy:', accuracy_score(y3_test, smote_pred))\n",
    "\n",
    "# Checking Precision\n",
    "print('Precision:', precision_score(y3_test, smote_pred))\n",
    "    \n",
    "# F1 Score\n",
    "print('F1:', f1_score(y3_test, smote_pred))\n",
    "\n",
    "# Checking Recall\n",
    "print('Recall:', recall_score(y3_test, smote_pred))"
   ]
  },
  {
   "cell_type": "markdown",
   "metadata": {
    "heading_collapsed": true
   },
   "source": [
    "##### ROC CURVE"
   ]
  },
  {
   "cell_type": "code",
   "execution_count": 461,
   "metadata": {
    "hidden": true
   },
   "outputs": [
    {
     "name": "stdout",
     "output_type": "stream",
     "text": [
      "LogisticRegression(C=1000000000000.0, class_weight=None, dual=False,\n",
      "                   fit_intercept=False, intercept_scaling=1, l1_ratio=None,\n",
      "                   max_iter=100, multi_class='warn', n_jobs=None, penalty='l2',\n",
      "                   random_state=None, solver='lbfgs', tol=0.0001, verbose=0,\n",
      "                   warm_start=False)\n",
      "AUC for 0.1: 0.6369250954533805\n",
      "LogisticRegression(C=1000000000000.0, class_weight=None, dual=False,\n",
      "                   fit_intercept=False, intercept_scaling=1, l1_ratio=None,\n",
      "                   max_iter=100, multi_class='warn', n_jobs=None, penalty='l2',\n",
      "                   random_state=None, solver='lbfgs', tol=0.0001, verbose=0,\n",
      "                   warm_start=False)\n",
      "AUC for 0.25: 0.6368616350869964\n",
      "LogisticRegression(C=1000000000000.0, class_weight=None, dual=False,\n",
      "                   fit_intercept=False, intercept_scaling=1, l1_ratio=None,\n",
      "                   max_iter=100, multi_class='warn', n_jobs=None, penalty='l2',\n",
      "                   random_state=None, solver='lbfgs', tol=0.0001, verbose=0,\n",
      "                   warm_start=False)\n",
      "AUC for 0.33: 0.636712876193081\n",
      "LogisticRegression(C=1000000000000.0, class_weight=None, dual=False,\n",
      "                   fit_intercept=False, intercept_scaling=1, l1_ratio=None,\n",
      "                   max_iter=100, multi_class='warn', n_jobs=None, penalty='l2',\n",
      "                   random_state=None, solver='lbfgs', tol=0.0001, verbose=0,\n",
      "                   warm_start=False)\n",
      "AUC for 0.5: 0.6363694464436502\n",
      "LogisticRegression(C=1000000000000.0, class_weight=None, dual=False,\n",
      "                   fit_intercept=False, intercept_scaling=1, l1_ratio=None,\n",
      "                   max_iter=100, multi_class='warn', n_jobs=None, penalty='l2',\n",
      "                   random_state=None, solver='lbfgs', tol=0.0001, verbose=0,\n",
      "                   warm_start=False)\n",
      "AUC for 0.7: 0.6358299453898496\n",
      "LogisticRegression(C=1000000000000.0, class_weight=None, dual=False,\n",
      "                   fit_intercept=False, intercept_scaling=1, l1_ratio=None,\n",
      "                   max_iter=100, multi_class='warn', n_jobs=None, penalty='l2',\n",
      "                   random_state=None, solver='lbfgs', tol=0.0001, verbose=0,\n",
      "                   warm_start=False)\n",
      "AUC for even: 0.634700405795151\n"
     ]
    },
    {
     "data": {
      "image/png": "[encoded data removed]",
      "text/plain": [
       "<Figure size 720x576 with 1 Axes>"
      ]
     },
     "metadata": {
      "needs_background": "light"
     },
     "output_type": "display_data"
    }
   ],
   "source": [
    "# Compare a few different ratios of minority class to majority class\n",
    "ratios = [0.1,0.25, 0.33, 0.5,0.7,1]\n",
    "names = ['0.1', '0.25', '0.33','0.5','0.7','even']\n",
    "colors = sns.color_palette(\"Set2\")\n",
    "\n",
    "plt.figure(figsize=(10,8))\n",
    "\n",
    "for n, ratio in enumerate(ratios):\n",
    "    #Fit a model\n",
    "    smote = SMOTE(sampling_strategy=ratio) # SMOTE\n",
    "    X3_train_norm_resampled, y3_train_resampled = smote.fit_sample(X3_train_norm, y3_train) \n",
    "    logreg = LogisticRegression(fit_intercept = False, C = 1e12,solver ='lbfgs') #Starter code\n",
    "    model_log = logreg.fit(X3_train_norm_resampled, y3_train_resampled)\n",
    "    print(model_log) #Preview model params\n",
    "\n",
    "    #Predict\n",
    "    y_hat_test = logreg.predict(X3_test_norm)\n",
    "\n",
    "    y_score = logreg.decision_function(X3_test_norm)\n",
    "\n",
    "    fpr, tpr, thresholds = roc_curve(y3_test, y_score)\n",
    "    \n",
    "    print('AUC for {}: {}'.format(names[n], auc(fpr, tpr)))\n",
    "    lw = 2\n",
    "    plt.plot(fpr, tpr, color=colors[n],\n",
    "             lw=lw, label='ROC curve {}'.format(names[n]))\n",
    "plt.plot([0, 1], [0, 1], color='navy', lw=lw, linestyle='--')\n",
    "plt.xlim([0.0, 1.0])\n",
    "plt.ylim([0.0, 1.05])\n",
    "\n",
    "plt.yticks([i/20.0 for i in range(21)])\n",
    "plt.xticks([i/20.0 for i in range(21)])\n",
    "plt.xlabel('False Positive Rate')\n",
    "plt.ylabel('True Positive Rate')\n",
    "plt.title('Receiver operating characteristic (ROC) Curve')\n",
    "plt.legend(loc=\"lower right\")\n",
    "plt.show()"
   ]
  },
  {
   "cell_type": "markdown",
   "metadata": {},
   "source": [
    "### 4. Cross Validation"
   ]
  },
  {
   "cell_type": "code",
   "execution_count": 505,
   "metadata": {},
   "outputs": [],
   "source": [
    "#split into 10 stratified\n",
    "cv = StratifiedKFold(n_splits= 10, random_state=1019, shuffle=True)\n",
    "\n",
    "#pick sections to compare\n",
    "lr_vanilla = LogisticRegression(C = 1e9, \n",
    "                                solver = 'newton-cg',\n",
    "                                max_iter=1000)\n",
    "\n",
    "l2_reg = LogisticRegression(C = 1, \n",
    "                            solver = 'newton-cg',\n",
    "                            max_iter=1000)\n",
    "\n",
    "l1_reg = LogisticRegression(C = 1, \n",
    "                           solver= 'saga', \n",
    "                           penalty = 'l1',\n",
    "                            max_iter=1000)\n",
    "\n",
    "#cross validations (each has different methods)\n",
    "cv_vanilla = cross_validate(estimator=lr_vanilla, \n",
    "                            X = X3_train_norm_resampled, y = y3_train_resampled,\n",
    "                            cv = cv, \n",
    "                            n_jobs=-1, \n",
    "                            return_estimator= True, \n",
    "                            return_train_score=True)\n",
    "\n",
    "cv_l2 = cross_validate(estimator=l2_reg, \n",
    "                    X = X3_train_norm_resampled, y = y3_train_resampled,\n",
    "                    cv = cv, \n",
    "                    n_jobs=-1, \n",
    "                    return_estimator= True, \n",
    "                    return_train_score=True)\n",
    "\n",
    "cv_l1 = cross_validate(estimator=l1_reg, \n",
    "                    X = X3_train_norm_resampled, y = y3_train_resampled,\n",
    "                    cv = cv, \n",
    "                    n_jobs=-1, \n",
    "                    return_estimator= True, \n",
    "                    return_train_score=True)\n"
   ]
  },
  {
   "cell_type": "code",
   "execution_count": 506,
   "metadata": {},
   "outputs": [],
   "source": [
    "vanilla_result = np.concatenate((cv_vanilla['train_score'].reshape(-1,1), \n",
    "                cv_vanilla['test_score'].reshape(-1,1)), axis=1)\n",
    "\n",
    "l2_result = np.concatenate((cv_l2['train_score'].reshape(-1,1), \n",
    "                cv_l2['test_score'].reshape(-1,1)), axis=1)\n",
    "\n",
    "l1_result = np.concatenate((cv_l1['train_score'].reshape(-1,1), \n",
    "                cv_l1['test_score'].reshape(-1,1)), axis=1)"
   ]
  },
  {
   "cell_type": "code",
   "execution_count": null,
   "metadata": {},
   "outputs": [],
   "source": []
  },
  {
   "cell_type": "code",
   "execution_count": 633,
   "metadata": {},
   "outputs": [
    {
     "name": "stdout",
     "output_type": "stream",
     "text": [
      "Vanilla Result:\n",
      "[[0.60414137 0.60645257]\n",
      " [0.60450125 0.6042159 ]\n",
      " [0.60431134 0.60569294]\n",
      " [0.60474977 0.60195814]\n",
      " [0.60424687 0.60483837]\n",
      " [0.60452704 0.604237  ]\n",
      " [0.6042539  0.60541864]\n",
      " [0.60462082 0.60301317]\n",
      " [0.60441074 0.60478783]\n",
      " [0.60453852 0.60337406]]\n",
      "L2 Result:\n",
      "[[0.60414137 0.60645257]\n",
      " [0.60450125 0.6042159 ]\n",
      " [0.60431134 0.60568239]\n",
      " [0.60474977 0.60195814]\n",
      " [0.60424687 0.60483837]\n",
      " [0.60452821 0.604237  ]\n",
      " [0.60425507 0.60541864]\n",
      " [0.60462082 0.60301317]\n",
      " [0.60441191 0.60478783]\n",
      " [0.60453852 0.60337406]]\n",
      "L1 Result:\n",
      "[[0.60414137 0.60645257]\n",
      " [0.60449773 0.60422645]\n",
      " [0.60431486 0.60569294]\n",
      " [0.60475094 0.60194759]\n",
      " [0.6042457  0.60483837]\n",
      " [0.60452821 0.604237  ]\n",
      " [0.60425156 0.60542919]\n",
      " [0.60462082 0.60301317]\n",
      " [0.60441074 0.60480893]\n",
      " [0.60454086 0.60337406]]\n"
     ]
    }
   ],
   "source": [
    "print('Vanilla Result:')\n",
    "print(vanilla_result)\n",
    "print('L2 Result:')\n",
    "print(l2_result)\n",
    "print('L1 Result:')\n",
    "print(l1_result)"
   ]
  },
  {
   "cell_type": "code",
   "execution_count": 582,
   "metadata": {},
   "outputs": [
    {
     "name": "stdout",
     "output_type": "stream",
     "text": [
      "[0.60443016 0.60439886] [0.60443028 0.60440203] [0.60443051 0.60439781]\n",
      "[0.0001809 0.0012753] [0.0001813  0.00127868] [0.00018083 0.00127423]\n"
     ]
    }
   ],
   "source": [
    "print(vanilla_result.mean(axis=0), l1_result.mean(axis=0), l2_result.mean(axis=0))\n",
    "\n",
    "print(vanilla_result.std(axis=0), l1_result.std(axis=0), l2_result.std(axis=0))"
   ]
  },
  {
   "cell_type": "code",
   "execution_count": 520,
   "metadata": {},
   "outputs": [
    {
     "data": {
      "text/plain": [
       "0.6043724863795003"
      ]
     },
     "execution_count": 520,
     "metadata": {},
     "output_type": "execute_result"
    }
   ],
   "source": [
    "lr = cv_l2['estimator'][0]\n",
    "lr.score(X3_train_norm_resampled, y3_train_resampled)"
   ]
  },
  {
   "cell_type": "markdown",
   "metadata": {},
   "source": [
    "### Confusion Matrix"
   ]
  },
  {
   "cell_type": "code",
   "execution_count": 587,
   "metadata": {},
   "outputs": [
    {
     "ename": "NameError",
     "evalue": "name 'y3_pred' is not defined",
     "output_type": "error",
     "traceback": [
      "\u001b[0;31m---------------------------------------------------------------------------\u001b[0m",
      "\u001b[0;31mNameError\u001b[0m                                 Traceback (most recent call last)",
      "\u001b[0;32m<ipython-input-587-c4d598985c31>\u001b[0m in \u001b[0;36m<module>\u001b[0;34m\u001b[0m\n\u001b[1;32m      1\u001b[0m \u001b[0;31m# Making the Confusion Matrix\u001b[0m\u001b[0;34m\u001b[0m\u001b[0;34m\u001b[0m\u001b[0;34m\u001b[0m\u001b[0m\n\u001b[1;32m      2\u001b[0m \u001b[0;32mfrom\u001b[0m \u001b[0msklearn\u001b[0m\u001b[0;34m.\u001b[0m\u001b[0mmetrics\u001b[0m \u001b[0;32mimport\u001b[0m \u001b[0mconfusion_matrix\u001b[0m\u001b[0;34m\u001b[0m\u001b[0;34m\u001b[0m\u001b[0m\n\u001b[0;32m----> 3\u001b[0;31m \u001b[0mcm\u001b[0m \u001b[0;34m=\u001b[0m \u001b[0mconfusion_matrix\u001b[0m\u001b[0;34m(\u001b[0m\u001b[0my3_test\u001b[0m\u001b[0;34m,\u001b[0m \u001b[0my3_pred\u001b[0m\u001b[0;34m)\u001b[0m\u001b[0;34m\u001b[0m\u001b[0;34m\u001b[0m\u001b[0m\n\u001b[0m",
      "\u001b[0;31mNameError\u001b[0m: name 'y3_pred' is not defined"
     ]
    }
   ],
   "source": []
  },
  {
   "cell_type": "code",
   "execution_count": null,
   "metadata": {},
   "outputs": [],
   "source": [
    "predictions = clf.predict(X3_train)\n",
    "actual = y3_test"
   ]
  },
  {
   "cell_type": "code",
   "execution_count": null,
   "metadata": {},
   "outputs": [],
   "source": [
    "confusion_matrix(actual, predictions)"
   ]
  },
  {
   "cell_type": "code",
   "execution_count": null,
   "metadata": {},
   "outputs": [],
   "source": [
    "pd.DataFrame(confusion_matrix(actual, predictions), \n",
    "             columns = ['predicted 0', 'predicted 1'], \n",
    "             index = ['actual 0', 'actual 1'])"
   ]
  },
  {
   "cell_type": "code",
   "execution_count": null,
   "metadata": {},
   "outputs": [],
   "source": []
  },
  {
   "cell_type": "code",
   "execution_count": null,
   "metadata": {},
   "outputs": [],
   "source": [
    "y_hat_test = logreg.predict(X_test)\n",
    "y_hat_train = logreg.predict(X_train)"
   ]
  },
  {
   "cell_type": "code",
   "execution_count": null,
   "metadata": {},
   "outputs": [],
   "source": [
    "#We could subtract the two columns. If values or equal, difference will be zero. Then count number of zeros.\n",
    "residuals = np.abs(y_train - y_hat_train)\n",
    "print(pd.Series(residuals).value_counts())\n",
    "print(pd.Series(residuals).value_counts(normalize=True))\n",
    "# classifier about 85% correct for training data\n",
    "residuals = np.abs(y_test - y_hat_test)\n",
    "print(pd.Series(residuals).value_counts())\n",
    "print(pd.Series(residuals).value_counts(normalize=True))\n",
    "# classifier about 80% accurate for test data"
   ]
  },
  {
   "cell_type": "markdown",
   "metadata": {},
   "source": [
    "## Random Forrest"
   ]
  },
  {
   "cell_type": "markdown",
   "metadata": {},
   "source": [
    "#### Random Forrest"
   ]
  },
  {
   "cell_type": "code",
   "execution_count": 577,
   "metadata": {},
   "outputs": [
    {
     "name": "stdout",
     "output_type": "stream",
     "text": [
      "[0 0 0 ... 0 0 0]\n"
     ]
    }
   ],
   "source": [
    "from sklearn.ensemble import RandomForestClassifier\n",
    "from sklearn.metrics import precision_score, recall_score, accuracy_score, f1_score\n",
    "\n",
    "# train model\n",
    "rfc = RandomForestClassifier(n_estimators=9).fit(X3_train, y3_train)\n",
    "\n",
    "#predict on test set\n",
    "rfc_pred = rfc.predict(X3_test)"
   ]
  },
  {
   "cell_type": "code",
   "execution_count": 578,
   "metadata": {},
   "outputs": [
    {
     "name": "stdout",
     "output_type": "stream",
     "text": [
      "Accuracy: 0.9272123841729892\n",
      "Precision: 0.12406947890818859\n",
      "F1: 0.010664391596459424\n",
      "Recall: 0.005571651437486071\n"
     ]
    }
   ],
   "source": [
    "# Checking Accuracy\n",
    "print('Accuracy:', metrics.accuracy_score(y3_test, rfc_pred))\n",
    "\n",
    "# Checking Precision\n",
    "print('Precision:', metrics.precision_score(y3_test, rfc_pred))\n",
    "    \n",
    "# F1 Score\n",
    "print('F1:', metrics.f1_score(y3_test, rfc_pred))\n",
    "\n",
    "# Checking Recall\n",
    "print('Recall:', metrics.recall_score(y3_test, rfc_pred))"
   ]
  },
  {
   "cell_type": "code",
   "execution_count": 589,
   "metadata": {
    "scrolled": true
   },
   "outputs": [
    {
     "data": {
      "text/plain": [
       "array([[118126,    353],\n",
       "       [  8924,     50]])"
      ]
     },
     "execution_count": 589,
     "metadata": {},
     "output_type": "execute_result"
    }
   ],
   "source": [
    "# Making the Confusion Matrix\n",
    "from sklearn.metrics import confusion_matrix\n",
    "cm = confusion_matrix(y3_test, rfc_pred)\n",
    "cm"
   ]
  },
  {
   "cell_type": "code",
   "execution_count": 590,
   "metadata": {},
   "outputs": [
    {
     "data": {
      "text/html": [
       "<div>\n",
       "<style scoped>\n",
       "    .dataframe tbody tr th:only-of-type {\n",
       "        vertical-align: middle;\n",
       "    }\n",
       "\n",
       "    .dataframe tbody tr th {\n",
       "        vertical-align: top;\n",
       "    }\n",
       "\n",
       "    .dataframe thead th {\n",
       "        text-align: right;\n",
       "    }\n",
       "</style>\n",
       "<table border=\"1\" class=\"dataframe\">\n",
       "  <thead>\n",
       "    <tr style=\"text-align: right;\">\n",
       "      <th></th>\n",
       "      <th>predicted 0</th>\n",
       "      <th>predicted 1</th>\n",
       "    </tr>\n",
       "  </thead>\n",
       "  <tbody>\n",
       "    <tr>\n",
       "      <th>actual 0</th>\n",
       "      <td>118126</td>\n",
       "      <td>353</td>\n",
       "    </tr>\n",
       "    <tr>\n",
       "      <th>actual 1</th>\n",
       "      <td>8924</td>\n",
       "      <td>50</td>\n",
       "    </tr>\n",
       "  </tbody>\n",
       "</table>\n",
       "</div>"
      ],
      "text/plain": [
       "          predicted 0  predicted 1\n",
       "actual 0       118126          353\n",
       "actual 1         8924           50"
      ]
     },
     "execution_count": 590,
     "metadata": {},
     "output_type": "execute_result"
    }
   ],
   "source": [
    "pd.DataFrame(confusion_matrix(y3_test, rfc_pred), \n",
    "             columns = ['predicted 0', 'predicted 1'], \n",
    "             index = ['actual 0', 'actual 1'])"
   ]
  },
  {
   "cell_type": "code",
   "execution_count": null,
   "metadata": {},
   "outputs": [],
   "source": []
  },
  {
   "cell_type": "markdown",
   "metadata": {},
   "source": [
    "#### Random Forrest w/ Cross Validation"
   ]
  },
  {
   "cell_type": "code",
   "execution_count": 557,
   "metadata": {},
   "outputs": [],
   "source": [
    "from sklearn.ensemble import RandomForestClassifier\n",
    "from sklearn.model_selection import cross_val_score\n",
    "import numpy as np\n",
    "\n",
    "clf = RandomForestClassifier() #Initialize with whatever parameters you want to\n",
    "\n",
    "# 10-Fold Cross validation\n",
    "clf_pred = np.mean(cross_val_score(clf, X3_train, \n",
    "                                   y3_train, cv=10))"
   ]
  },
  {
   "cell_type": "code",
   "execution_count": 558,
   "metadata": {},
   "outputs": [
    {
     "data": {
      "text/plain": [
       "0.9288914341510477"
      ]
     },
     "execution_count": 558,
     "metadata": {},
     "output_type": "execute_result"
    }
   ],
   "source": [
    "clf_pred"
   ]
  },
  {
   "cell_type": "code",
   "execution_count": 560,
   "metadata": {},
   "outputs": [],
   "source": [
    "cv_model = cross_validate(clf, \n",
    "                          X3_train, \n",
    "                          y3_train, \n",
    "                          cv=10, \n",
    "                          return_estimator=True)"
   ]
  },
  {
   "cell_type": "code",
   "execution_count": 611,
   "metadata": {},
   "outputs": [
    {
     "data": {
      "text/plain": [
       "array([0, 0, 0, ..., 0, 0, 0])"
      ]
     },
     "execution_count": 611,
     "metadata": {},
     "output_type": "execute_result"
    }
   ],
   "source": [
    "y_test_pred = cv_model['estimator'][i].predict(X3_test)\n",
    "y_test_pred"
   ]
  },
  {
   "cell_type": "code",
   "execution_count": 614,
   "metadata": {},
   "outputs": [],
   "source": [
    "y_test_pred = []\n",
    "for i in range(9):\n",
    "    y_test_pred.append(cv_model['estimator'][i].predict(X3_test))"
   ]
  },
  {
   "cell_type": "code",
   "execution_count": 629,
   "metadata": {},
   "outputs": [
    {
     "data": {
      "text/plain": [
       "0.0010783931680262092"
      ]
     },
     "execution_count": 629,
     "metadata": {},
     "output_type": "execute_result"
    }
   ],
   "source": [
    "np.mean(y_test_pred)"
   ]
  },
  {
   "cell_type": "code",
   "execution_count": 625,
   "metadata": {},
   "outputs": [
    {
     "name": "stdout",
     "output_type": "stream",
     "text": [
      "Accuracy: 0.9288617939336243\n",
      "Precision: 0.1611861002660065\n",
      "F1: 0.00490136554397878\n",
      "Recall: 0.0024886709754104452\n"
     ]
    }
   ],
   "source": [
    "# Checking Accuracy\n",
    "y_test_pred_accuracy = []\n",
    "for i in range(9):\n",
    "    y_test_pred_accuracy.append(metrics.accuracy_score(y3_test, y_test_pred[i]))\n",
    "print('Accuracy:', np.mean(y_test_pred_accuracy))\n",
    "\n",
    "# Checking Precision\n",
    "y_test_pred_precision= []\n",
    "for i in range(9):\n",
    "    y_test_pred_precision.append(metrics.precision_score(y3_test, y_test_pred[i]))\n",
    "print('Precision:', np.mean(y_test_pred_precision))\n",
    "    \n",
    "# F1 Score\n",
    "y_test_pred_f1 = []\n",
    "for i in range(9):\n",
    "    y_test_pred_f1.append(metrics.f1_score(y3_test, y_test_pred[i]))\n",
    "print('F1:', np.mean(y_test_pred_f1))\n",
    "\n",
    "# Checking Recall\n",
    "y_test_pred_recall = []\n",
    "for i in range(9):\n",
    "    y_test_pred_recall.append(metrics.recall_score(y3_test, y_test_pred[i]))\n",
    "print('Recall:', np.mean(y_test_pred_recall))"
   ]
  },
  {
   "cell_type": "code",
   "execution_count": 591,
   "metadata": {},
   "outputs": [
    {
     "data": {
      "text/plain": [
       "array([[118370,    109],\n",
       "       [  8954,     20]])"
      ]
     },
     "execution_count": 591,
     "metadata": {},
     "output_type": "execute_result"
    }
   ],
   "source": [
    "# Making the Confusion Matrix\n",
    "from sklearn.metrics import confusion_matrix\n",
    "cm = confusion_matrix(y3_test, y_test_pred)\n",
    "cm"
   ]
  },
  {
   "cell_type": "code",
   "execution_count": 592,
   "metadata": {},
   "outputs": [
    {
     "data": {
      "text/html": [
       "<div>\n",
       "<style scoped>\n",
       "    .dataframe tbody tr th:only-of-type {\n",
       "        vertical-align: middle;\n",
       "    }\n",
       "\n",
       "    .dataframe tbody tr th {\n",
       "        vertical-align: top;\n",
       "    }\n",
       "\n",
       "    .dataframe thead th {\n",
       "        text-align: right;\n",
       "    }\n",
       "</style>\n",
       "<table border=\"1\" class=\"dataframe\">\n",
       "  <thead>\n",
       "    <tr style=\"text-align: right;\">\n",
       "      <th></th>\n",
       "      <th>predicted 0</th>\n",
       "      <th>predicted 1</th>\n",
       "    </tr>\n",
       "  </thead>\n",
       "  <tbody>\n",
       "    <tr>\n",
       "      <th>actual 0</th>\n",
       "      <td>118370</td>\n",
       "      <td>109</td>\n",
       "    </tr>\n",
       "    <tr>\n",
       "      <th>actual 1</th>\n",
       "      <td>8954</td>\n",
       "      <td>20</td>\n",
       "    </tr>\n",
       "  </tbody>\n",
       "</table>\n",
       "</div>"
      ],
      "text/plain": [
       "          predicted 0  predicted 1\n",
       "actual 0       118370          109\n",
       "actual 1         8954           20"
      ]
     },
     "execution_count": 592,
     "metadata": {},
     "output_type": "execute_result"
    }
   ],
   "source": [
    "pd.DataFrame(confusion_matrix(y3_test, y_test_pred), \n",
    "             columns = ['predicted 0', 'predicted 1'], \n",
    "             index = ['actual 0', 'actual 1'])"
   ]
  },
  {
   "cell_type": "code",
   "execution_count": 598,
   "metadata": {},
   "outputs": [
    {
     "data": {
      "text/plain": [
       "RandomForestClassifier(bootstrap=True, class_weight=None, criterion='gini',\n",
       "                       max_depth=None, max_features='auto', max_leaf_nodes=None,\n",
       "                       min_impurity_decrease=0.0, min_impurity_split=None,\n",
       "                       min_samples_leaf=1, min_samples_split=2,\n",
       "                       min_weight_fraction_leaf=0.0, n_estimators=10,\n",
       "                       n_jobs=None, oob_score=False, random_state=None,\n",
       "                       verbose=0, warm_start=False)"
      ]
     },
     "execution_count": 598,
     "metadata": {},
     "output_type": "execute_result"
    }
   ],
   "source": []
  },
  {
   "cell_type": "code",
   "execution_count": null,
   "metadata": {},
   "outputs": [],
   "source": [
    "from sklearn import tree\n",
    "\n",
    "export_graphviz(tree_in_forest,\n",
    "                feature_names=X.columns,\n",
    "                filled=True,\n",
    "                rounded=True)\n"
   ]
  },
  {
   "cell_type": "code",
   "execution_count": 631,
   "metadata": {},
   "outputs": [
    {
     "ename": "TypeError",
     "evalue": "[0 0 0 ... 0 0 0] is not an estimator instance.",
     "output_type": "error",
     "traceback": [
      "\u001b[0;31m---------------------------------------------------------------------------\u001b[0m",
      "\u001b[0;31mTypeError\u001b[0m                                 Traceback (most recent call last)",
      "\u001b[0;32m<ipython-input-631-d32d32dfd29e>\u001b[0m in \u001b[0;36m<module>\u001b[0;34m\u001b[0m\n\u001b[1;32m      5\u001b[0m                 \u001b[0mclass_names\u001b[0m \u001b[0;34m=\u001b[0m \u001b[0;34m'track_popularity'\u001b[0m\u001b[0;34m,\u001b[0m\u001b[0;34m\u001b[0m\u001b[0;34m\u001b[0m\u001b[0m\n\u001b[1;32m      6\u001b[0m                 \u001b[0mrounded\u001b[0m \u001b[0;34m=\u001b[0m \u001b[0;32mTrue\u001b[0m\u001b[0;34m,\u001b[0m \u001b[0mproportion\u001b[0m \u001b[0;34m=\u001b[0m \u001b[0;32mFalse\u001b[0m\u001b[0;34m,\u001b[0m\u001b[0;34m\u001b[0m\u001b[0;34m\u001b[0m\u001b[0m\n\u001b[0;32m----> 7\u001b[0;31m                 precision = 2, filled = True)\n\u001b[0m\u001b[1;32m      8\u001b[0m \u001b[0;34m\u001b[0m\u001b[0m\n\u001b[1;32m      9\u001b[0m \u001b[0;31m# Convert to png using system command (requires Graphviz)\u001b[0m\u001b[0;34m\u001b[0m\u001b[0;34m\u001b[0m\u001b[0;34m\u001b[0m\u001b[0m\n",
      "\u001b[0;32m//anaconda3/lib/python3.7/site-packages/sklearn/tree/export.py\u001b[0m in \u001b[0;36mexport_graphviz\u001b[0;34m(decision_tree, out_file, max_depth, feature_names, class_names, label, filled, leaves_parallel, impurity, node_ids, proportion, rotate, rounded, special_characters, precision)\u001b[0m\n\u001b[1;32m    754\u001b[0m     'digraph Tree {...\n\u001b[1;32m    755\u001b[0m     \"\"\"\n\u001b[0;32m--> 756\u001b[0;31m \u001b[0;34m\u001b[0m\u001b[0m\n\u001b[0m\u001b[1;32m    757\u001b[0m     \u001b[0mcheck_is_fitted\u001b[0m\u001b[0;34m(\u001b[0m\u001b[0mdecision_tree\u001b[0m\u001b[0;34m,\u001b[0m \u001b[0;34m'tree_'\u001b[0m\u001b[0;34m)\u001b[0m\u001b[0;34m\u001b[0m\u001b[0;34m\u001b[0m\u001b[0m\n\u001b[1;32m    758\u001b[0m     \u001b[0mown_file\u001b[0m \u001b[0;34m=\u001b[0m \u001b[0;32mFalse\u001b[0m\u001b[0;34m\u001b[0m\u001b[0;34m\u001b[0m\u001b[0m\n",
      "\u001b[0;32m//anaconda3/lib/python3.7/site-packages/sklearn/utils/validation.py\u001b[0m in \u001b[0;36mcheck_is_fitted\u001b[0;34m(estimator, attributes, msg, all_or_any)\u001b[0m\n\u001b[1;32m    906\u001b[0m \u001b[0;34m\u001b[0m\u001b[0m\n\u001b[1;32m    907\u001b[0m     \u001b[0;32mif\u001b[0m \u001b[0;32mnot\u001b[0m \u001b[0mhasattr\u001b[0m\u001b[0;34m(\u001b[0m\u001b[0mestimator\u001b[0m\u001b[0;34m,\u001b[0m \u001b[0;34m'fit'\u001b[0m\u001b[0;34m)\u001b[0m\u001b[0;34m:\u001b[0m\u001b[0;34m\u001b[0m\u001b[0;34m\u001b[0m\u001b[0m\n\u001b[0;32m--> 908\u001b[0;31m         \u001b[0;32mraise\u001b[0m \u001b[0mTypeError\u001b[0m\u001b[0;34m(\u001b[0m\u001b[0;34m\"%s is not an estimator instance.\"\u001b[0m \u001b[0;34m%\u001b[0m \u001b[0;34m(\u001b[0m\u001b[0mestimator\u001b[0m\u001b[0;34m)\u001b[0m\u001b[0;34m)\u001b[0m\u001b[0;34m\u001b[0m\u001b[0;34m\u001b[0m\u001b[0m\n\u001b[0m\u001b[1;32m    909\u001b[0m \u001b[0;34m\u001b[0m\u001b[0m\n\u001b[1;32m    910\u001b[0m     \u001b[0;32mif\u001b[0m \u001b[0;32mnot\u001b[0m \u001b[0misinstance\u001b[0m\u001b[0;34m(\u001b[0m\u001b[0mattributes\u001b[0m\u001b[0;34m,\u001b[0m \u001b[0;34m(\u001b[0m\u001b[0mlist\u001b[0m\u001b[0;34m,\u001b[0m \u001b[0mtuple\u001b[0m\u001b[0;34m)\u001b[0m\u001b[0;34m)\u001b[0m\u001b[0;34m:\u001b[0m\u001b[0;34m\u001b[0m\u001b[0;34m\u001b[0m\u001b[0m\n",
      "\u001b[0;31mTypeError\u001b[0m: [0 0 0 ... 0 0 0] is not an estimator instance."
     ]
    }
   ],
   "source": [
    "from sklearn.tree import export_graphviz\n",
    "# Export as dot file\n",
    "export_graphviz(y_test_pred[0], out_file='tree.dot', \n",
    "                feature_names = X3_train.columns,\n",
    "                class_names = 'track_popularity',\n",
    "                rounded = True, proportion = False, \n",
    "                precision = 2, filled = True)\n",
    "\n",
    "# Convert to png using system command (requires Graphviz)\n",
    "from subprocess import call\n",
    "call(['dot', '-Tpng', 'tree.dot', '-o', 'tree.png', '-Gdpi=600'])\n",
    "\n",
    "# Display in jupyter notebook\n",
    "from IPython.display import Image\n",
    "Image(filename = 'tree.png')"
   ]
  },
  {
   "cell_type": "code",
   "execution_count": null,
   "metadata": {},
   "outputs": [],
   "source": []
  }
 ],
 "metadata": {
  "kernelspec": {
   "display_name": "Python 3",
   "language": "python",
   "name": "python3"
  },
  "language_info": {
   "codemirror_mode": {
    "name": "ipython",
    "version": 3
   },
   "file_extension": ".py",
   "mimetype": "text/x-python",
   "name": "python",
   "nbconvert_exporter": "python",
   "pygments_lexer": "ipython3",
   "version": "3.7.3"
  },
  "varInspector": {
   "cols": {
    "lenName": 16,
    "lenType": 16,
    "lenVar": 40
   },
   "kernels_config": {
    "python": {
     "delete_cmd_postfix": "",
     "delete_cmd_prefix": "del ",
     "library": "var_list.py",
     "varRefreshCmd": "print(var_dic_list())"
    },
    "r": {
     "delete_cmd_postfix": ") ",
     "delete_cmd_prefix": "rm(",
     "library": "var_list.r",
     "varRefreshCmd": "cat(var_dic_list()) "
    }
   },
   "types_to_exclude": [
    "module",
    "function",
    "builtin_function_or_method",
    "instance",
    "_Feature"
   ],
   "window_display": false
  }
 },
 "nbformat": 4,
 "nbformat_minor": 2
}
