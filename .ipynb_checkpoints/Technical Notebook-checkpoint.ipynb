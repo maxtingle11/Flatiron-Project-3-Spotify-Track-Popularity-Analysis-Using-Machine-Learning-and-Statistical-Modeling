{
 "cells": [
  {
   "cell_type": "markdown",
   "metadata": {},
   "source": [
    "# Technical Notebook"
   ]
  },
  {
   "cell_type": "markdown",
   "metadata": {},
   "source": [
    "Our analysis examines Spotify track popularity scores by track features. We collected data from Spotify's Web API that includes 637,265 tracks and their associated duration, single or album status, key, mode (major/minor), speechiness, acousticness, instrumentalness, liveness, valence.\n",
    "\n",
    "**Research Question:** Using the CRISP-DM framework, we asked the research question: \"Do the track features (independent variables) predict track popularity score (dependent variable)?\"\n",
    "\n",
    "**Finding:** Based on our analysis, we cannot say that the independent variables (duration, single or album status, key, mode (major/minor), speechiness, acousticness, instrumentalness, liveness, valence) predict track popularity."
   ]
  },
  {
   "cell_type": "markdown",
   "metadata": {
    "heading_collapsed": true
   },
   "source": [
    "## I. Import Libraries & Data"
   ]
  },
  {
   "cell_type": "code",
   "execution_count": 1,
   "metadata": {
    "ExecuteTime": {
     "end_time": "2019-10-24T13:35:06.557765Z",
     "start_time": "2019-10-24T13:35:04.631912Z"
    },
    "hidden": true
   },
   "outputs": [],
   "source": [
    "import pandas as pd\n",
    "import numpy as np\n",
    "import sklearn\n",
    "from sklearn import preprocessing\n",
    "from sklearn import metrics\n",
    "from sklearn.preprocessing import LabelEncoder, OneHotEncoder, StandardScaler\n",
    "from sklearn.utils import resample\n",
    "import matplotlib.pyplot as plt\n",
    "import seaborn as sns\n",
    "\n",
    "import statsmodels.api as sm\n",
    "import statsmodels.formula.api as smf\n",
    "from statsmodels.stats.outliers_influence import variance_inflation_factor\n",
    "\n",
    "import sklearn.model_selection\n",
    "from sklearn.linear_model import LinearRegression, Lasso, Ridge, LogisticRegression\n",
    "from sklearn.model_selection import train_test_split, GridSearchCV, cross_validate, StratifiedKFold\n",
    "from sklearn.metrics import r2_score, mean_squared_error, confusion_matrix, classification_report, precision_score, recall_score, accuracy_score, f1_score, precision_recall_curve, roc_curve, auc, roc_auc_score\n",
    "from sklearn.ensemble import RandomForestClassifier\n",
    "\n",
    "from imblearn.over_sampling import SMOTE\n",
    "\n",
    "from scipy import stats\n",
    "from yellowbrick.regressor import ResidualsPlot, PredictionError\n",
    "\n",
    "\n",
    "import warnings\n",
    "warnings.filterwarnings('ignore')\n",
    "\n",
    "%matplotlib inline\n",
    "\n",
    "pd.set_option('display.max_rows', 50)\n",
    "pd.set_option('display.max_columns', 300)\n",
    "pd.set_option('display.width', 1000)"
   ]
  },
  {
   "cell_type": "code",
   "execution_count": 2,
   "metadata": {
    "ExecuteTime": {
     "end_time": "2019-10-24T13:35:12.446865Z",
     "start_time": "2019-10-24T13:35:06.570333Z"
    },
    "hidden": true
   },
   "outputs": [
    {
     "name": "stdout",
     "output_type": "stream",
     "text": [
      "<class 'pandas.core.frame.DataFrame'>\n",
      "Int64Index: 637265 entries, 0 to 682192\n",
      "Data columns (total 16 columns):\n",
      "track_id              637265 non-null object\n",
      "track_popularity      637265 non-null int64\n",
      "track_duration_ms     637265 non-null int64\n",
      "track_album_single    637265 non-null int64\n",
      "danceability          637265 non-null float64\n",
      "energy                637265 non-null float64\n",
      "key                   637265 non-null float64\n",
      "loudness              637265 non-null float64\n",
      "mode                  637265 non-null float64\n",
      "speechiness           637265 non-null float64\n",
      "acousticness          637265 non-null float64\n",
      "instrumentalness      637265 non-null float64\n",
      "liveness              637265 non-null float64\n",
      "valence               637265 non-null float64\n",
      "tempo                 637265 non-null float64\n",
      "time_signature        637265 non-null float64\n",
      "dtypes: float64(12), int64(3), object(1)\n",
      "memory usage: 82.7+ MB\n",
      "None\n"
     ]
    },
    {
     "data": {
      "text/html": [
       "<div>\n",
       "<style scoped>\n",
       "    .dataframe tbody tr th:only-of-type {\n",
       "        vertical-align: middle;\n",
       "    }\n",
       "\n",
       "    .dataframe tbody tr th {\n",
       "        vertical-align: top;\n",
       "    }\n",
       "\n",
       "    .dataframe thead th {\n",
       "        text-align: right;\n",
       "    }\n",
       "</style>\n",
       "<table border=\"1\" class=\"dataframe\">\n",
       "  <thead>\n",
       "    <tr style=\"text-align: right;\">\n",
       "      <th></th>\n",
       "      <th>track_id</th>\n",
       "      <th>track_popularity</th>\n",
       "      <th>track_duration_ms</th>\n",
       "      <th>track_album_single</th>\n",
       "      <th>danceability</th>\n",
       "      <th>energy</th>\n",
       "      <th>key</th>\n",
       "      <th>loudness</th>\n",
       "      <th>mode</th>\n",
       "      <th>speechiness</th>\n",
       "      <th>acousticness</th>\n",
       "      <th>instrumentalness</th>\n",
       "      <th>liveness</th>\n",
       "      <th>valence</th>\n",
       "      <th>tempo</th>\n",
       "      <th>time_signature</th>\n",
       "    </tr>\n",
       "  </thead>\n",
       "  <tbody>\n",
       "    <tr>\n",
       "      <th>0</th>\n",
       "      <td>0003Z98F6hUq7XxqSRM87H</td>\n",
       "      <td>26</td>\n",
       "      <td>241666</td>\n",
       "      <td>0</td>\n",
       "      <td>0.733</td>\n",
       "      <td>0.711</td>\n",
       "      <td>1.0</td>\n",
       "      <td>-5.408</td>\n",
       "      <td>1.0</td>\n",
       "      <td>0.1580</td>\n",
       "      <td>0.08600</td>\n",
       "      <td>0.0000</td>\n",
       "      <td>0.4510</td>\n",
       "      <td>0.346</td>\n",
       "      <td>138.076</td>\n",
       "      <td>4.0</td>\n",
       "    </tr>\n",
       "    <tr>\n",
       "      <th>1</th>\n",
       "      <td>0008brbqMd6r3WdmXEPbUq</td>\n",
       "      <td>1</td>\n",
       "      <td>189794</td>\n",
       "      <td>0</td>\n",
       "      <td>0.263</td>\n",
       "      <td>0.203</td>\n",
       "      <td>2.0</td>\n",
       "      <td>-20.025</td>\n",
       "      <td>1.0</td>\n",
       "      <td>0.0325</td>\n",
       "      <td>0.88900</td>\n",
       "      <td>0.1130</td>\n",
       "      <td>0.3170</td>\n",
       "      <td>0.142</td>\n",
       "      <td>62.553</td>\n",
       "      <td>5.0</td>\n",
       "    </tr>\n",
       "    <tr>\n",
       "      <th>2</th>\n",
       "      <td>0008ihzWSit1NmuXq2VBpE</td>\n",
       "      <td>11</td>\n",
       "      <td>344866</td>\n",
       "      <td>0</td>\n",
       "      <td>0.510</td>\n",
       "      <td>0.228</td>\n",
       "      <td>10.0</td>\n",
       "      <td>-17.138</td>\n",
       "      <td>1.0</td>\n",
       "      <td>0.0299</td>\n",
       "      <td>0.91400</td>\n",
       "      <td>0.6960</td>\n",
       "      <td>0.0847</td>\n",
       "      <td>0.322</td>\n",
       "      <td>128.759</td>\n",
       "      <td>4.0</td>\n",
       "    </tr>\n",
       "    <tr>\n",
       "      <th>3</th>\n",
       "      <td>000BARWwSRfyAAYOxPMD83</td>\n",
       "      <td>12</td>\n",
       "      <td>128219</td>\n",
       "      <td>1</td>\n",
       "      <td>0.531</td>\n",
       "      <td>0.837</td>\n",
       "      <td>0.0</td>\n",
       "      <td>-4.391</td>\n",
       "      <td>1.0</td>\n",
       "      <td>0.2740</td>\n",
       "      <td>0.00683</td>\n",
       "      <td>0.0000</td>\n",
       "      <td>0.2250</td>\n",
       "      <td>0.067</td>\n",
       "      <td>145.878</td>\n",
       "      <td>4.0</td>\n",
       "    </tr>\n",
       "    <tr>\n",
       "      <th>4</th>\n",
       "      <td>000CfxgH11DeiTY9oCvZLJ</td>\n",
       "      <td>30</td>\n",
       "      <td>213693</td>\n",
       "      <td>0</td>\n",
       "      <td>0.648</td>\n",
       "      <td>0.273</td>\n",
       "      <td>11.0</td>\n",
       "      <td>-4.897</td>\n",
       "      <td>1.0</td>\n",
       "      <td>0.0472</td>\n",
       "      <td>0.09410</td>\n",
       "      <td>0.0924</td>\n",
       "      <td>0.0853</td>\n",
       "      <td>0.904</td>\n",
       "      <td>145.844</td>\n",
       "      <td>4.0</td>\n",
       "    </tr>\n",
       "  </tbody>\n",
       "</table>\n",
       "</div>"
      ],
      "text/plain": [
       "                 track_id  track_popularity  track_duration_ms  track_album_single  danceability  energy   key  loudness  mode  speechiness  acousticness  instrumentalness  liveness  valence    tempo  time_signature\n",
       "0  0003Z98F6hUq7XxqSRM87H                26             241666                   0         0.733   0.711   1.0    -5.408   1.0       0.1580       0.08600            0.0000    0.4510    0.346  138.076             4.0\n",
       "1  0008brbqMd6r3WdmXEPbUq                 1             189794                   0         0.263   0.203   2.0   -20.025   1.0       0.0325       0.88900            0.1130    0.3170    0.142   62.553             5.0\n",
       "2  0008ihzWSit1NmuXq2VBpE                11             344866                   0         0.510   0.228  10.0   -17.138   1.0       0.0299       0.91400            0.6960    0.0847    0.322  128.759             4.0\n",
       "3  000BARWwSRfyAAYOxPMD83                12             128219                   1         0.531   0.837   0.0    -4.391   1.0       0.2740       0.00683            0.0000    0.2250    0.067  145.878             4.0\n",
       "4  000CfxgH11DeiTY9oCvZLJ                30             213693                   0         0.648   0.273  11.0    -4.897   1.0       0.0472       0.09410            0.0924    0.0853    0.904  145.844             4.0"
      ]
     },
     "execution_count": 2,
     "metadata": {},
     "output_type": "execute_result"
    }
   ],
   "source": [
    "# Import data to Pandas DataFrame\n",
    "data = pd.read_csv('spotify_tracks.csv')\n",
    "\n",
    "# Drop columns\n",
    "songs = data.drop(columns=['artist_id', \n",
    "                            'track_name',  \n",
    "                            'track_track_number', \n",
    "                            'track_explicit',\n",
    "                            'track_album_release_date', \n",
    "                            'track_album_total_tracks',\n",
    "                            'track_album_available_markets', \n",
    "                            'track_album_name', \n",
    "                            'track_album_id',\n",
    "                            'track_album_available_markets_count', \n",
    "                            'duration_ms'\n",
    "                            ])\n",
    "# Drop duplicate rows\n",
    "songs.drop_duplicates('track_id', keep='first', inplace=True)\n",
    "\n",
    "# Preivew data\n",
    "print(songs.info())\n",
    "songs.head()"
   ]
  },
  {
   "cell_type": "markdown",
   "metadata": {},
   "source": [
    "## II. Linear Regression"
   ]
  },
  {
   "cell_type": "markdown",
   "metadata": {},
   "source": [
    "**Linear Regression:** We first built and tested a linear regression model. Our data failed to meet the assumption of normality, and we also observed imbalances in the data, specifically, 93% of the data were for not-popular tracks and only 7% were popular tracks."
   ]
  },
  {
   "cell_type": "markdown",
   "metadata": {},
   "source": [
    "### 1. Baseline Linear Regression"
   ]
  },
  {
   "cell_type": "markdown",
   "metadata": {},
   "source": [
    "#### a) Check for Linear Relationship with Pearson's R-Value"
   ]
  },
  {
   "cell_type": "markdown",
   "metadata": {},
   "source": [
    "Pearson's R represents a correlation coefficient. So a Pearson's R > .5 means there is a positive correlation between the feature. None of the features below show a positive correlation."
   ]
  },
  {
   "cell_type": "code",
   "execution_count": 3,
   "metadata": {
    "ExecuteTime": {
     "end_time": "2019-10-24T13:35:12.904631Z",
     "start_time": "2019-10-24T13:35:12.582874Z"
    }
   },
   "outputs": [
    {
     "data": {
      "text/plain": [
       "track_popularity      1.000000\n",
       "loudness              0.167253\n",
       "track_album_single    0.135094\n",
       "energy                0.106122\n",
       "danceability          0.091792\n",
       "valence               0.050353\n",
       "time_signature        0.038292\n",
       "tempo                 0.019250\n",
       "key                   0.002758\n",
       "mode                 -0.003596\n",
       "liveness             -0.008387\n",
       "speechiness          -0.043375\n",
       "track_duration_ms    -0.064754\n",
       "acousticness         -0.095788\n",
       "instrumentalness     -0.147148\n",
       "Name: track_popularity, dtype: float64"
      ]
     },
     "execution_count": 3,
     "metadata": {},
     "output_type": "execute_result"
    }
   ],
   "source": [
    "# Calculate Pearson's R-Value to check for linear relationship\n",
    "songs.corr()['track_popularity'].sort_values(ascending=False)"
   ]
  },
  {
   "cell_type": "markdown",
   "metadata": {},
   "source": [
    "#### b) Check for Multicollinearity with VIF"
   ]
  },
  {
   "cell_type": "markdown",
   "metadata": {},
   "source": [
    "The variance inflation factor is the quotient of the variance in a model with multiple terms by the variance of a model with one term alone. It quantifies the severity of multicollinearity in an ordinary least squares regression analysis. It provides an index that measures how much the variance (the square of the estimate's standard deviation) of an estimated regression coefficient is increased because of collinearity."
   ]
  },
  {
   "cell_type": "code",
   "execution_count": 4,
   "metadata": {
    "ExecuteTime": {
     "end_time": "2019-10-24T13:35:21.574154Z",
     "start_time": "2019-10-24T13:35:14.454960Z"
    }
   },
   "outputs": [
    {
     "data": {
      "text/html": [
       "<div>\n",
       "<style scoped>\n",
       "    .dataframe tbody tr th:only-of-type {\n",
       "        vertical-align: middle;\n",
       "    }\n",
       "\n",
       "    .dataframe tbody tr th {\n",
       "        vertical-align: top;\n",
       "    }\n",
       "\n",
       "    .dataframe thead th {\n",
       "        text-align: right;\n",
       "    }\n",
       "</style>\n",
       "<table border=\"1\" class=\"dataframe\">\n",
       "  <thead>\n",
       "    <tr style=\"text-align: right;\">\n",
       "      <th></th>\n",
       "      <th>VIF Score</th>\n",
       "      <th>features</th>\n",
       "    </tr>\n",
       "  </thead>\n",
       "  <tbody>\n",
       "    <tr>\n",
       "      <th>0</th>\n",
       "      <td>2.9</td>\n",
       "      <td>track_popularity</td>\n",
       "    </tr>\n",
       "    <tr>\n",
       "      <th>1</th>\n",
       "      <td>4.1</td>\n",
       "      <td>track_duration_ms</td>\n",
       "    </tr>\n",
       "    <tr>\n",
       "      <th>2</th>\n",
       "      <td>1.3</td>\n",
       "      <td>track_album_single</td>\n",
       "    </tr>\n",
       "    <tr>\n",
       "      <th>3</th>\n",
       "      <td>15.9</td>\n",
       "      <td>danceability</td>\n",
       "    </tr>\n",
       "    <tr>\n",
       "      <th>4</th>\n",
       "      <td>19.2</td>\n",
       "      <td>energy</td>\n",
       "    </tr>\n",
       "    <tr>\n",
       "      <th>5</th>\n",
       "      <td>3.2</td>\n",
       "      <td>key</td>\n",
       "    </tr>\n",
       "    <tr>\n",
       "      <th>6</th>\n",
       "      <td>9.5</td>\n",
       "      <td>loudness</td>\n",
       "    </tr>\n",
       "    <tr>\n",
       "      <th>7</th>\n",
       "      <td>2.7</td>\n",
       "      <td>mode</td>\n",
       "    </tr>\n",
       "    <tr>\n",
       "      <th>8</th>\n",
       "      <td>1.9</td>\n",
       "      <td>speechiness</td>\n",
       "    </tr>\n",
       "    <tr>\n",
       "      <th>9</th>\n",
       "      <td>4.2</td>\n",
       "      <td>acousticness</td>\n",
       "    </tr>\n",
       "    <tr>\n",
       "      <th>10</th>\n",
       "      <td>1.9</td>\n",
       "      <td>instrumentalness</td>\n",
       "    </tr>\n",
       "    <tr>\n",
       "      <th>11</th>\n",
       "      <td>2.6</td>\n",
       "      <td>liveness</td>\n",
       "    </tr>\n",
       "    <tr>\n",
       "      <th>12</th>\n",
       "      <td>6.6</td>\n",
       "      <td>valence</td>\n",
       "    </tr>\n",
       "    <tr>\n",
       "      <th>13</th>\n",
       "      <td>16.2</td>\n",
       "      <td>tempo</td>\n",
       "    </tr>\n",
       "    <tr>\n",
       "      <th>14</th>\n",
       "      <td>46.9</td>\n",
       "      <td>time_signature</td>\n",
       "    </tr>\n",
       "  </tbody>\n",
       "</table>\n",
       "</div>"
      ],
      "text/plain": [
       "    VIF Score            features\n",
       "0         2.9    track_popularity\n",
       "1         4.1   track_duration_ms\n",
       "2         1.3  track_album_single\n",
       "3        15.9        danceability\n",
       "4        19.2              energy\n",
       "5         3.2                 key\n",
       "6         9.5            loudness\n",
       "7         2.7                mode\n",
       "8         1.9         speechiness\n",
       "9         4.2        acousticness\n",
       "10        1.9    instrumentalness\n",
       "11        2.6            liveness\n",
       "12        6.6             valence\n",
       "13       16.2               tempo\n",
       "14       46.9      time_signature"
      ]
     },
     "execution_count": 4,
     "metadata": {},
     "output_type": "execute_result"
    }
   ],
   "source": [
    "# Calculate VIF to check for Multicollinearity\n",
    "# select only columns with datatype int64 or float 64\n",
    "songs_cleaned = songs.drop(columns=['track_id'])\n",
    "#cleaned_KC.select_dtypes(include=['int64','float64']).drop(axis=1, columns=['id'])\n",
    "\n",
    "vif = pd.DataFrame()\n",
    "\n",
    "# For each column,run a variance_inflaction_factor against all other columns to get a VIF Factor score\n",
    "vif[\"VIF Score\"] = [variance_inflation_factor(songs_cleaned.values, i) for i in range(songs_cleaned.shape[1])]\n",
    "\n",
    "# label the scores with their related columns\n",
    "vif[\"features\"] = songs_cleaned.columns\n",
    "\n",
    "vif.round(1)"
   ]
  },
  {
   "cell_type": "markdown",
   "metadata": {},
   "source": [
    "If VIF > 5 there is an indication that multicollinearity may be present; with VIF > 10 there is certainly multicollinearity among the variables.\n",
    "\n",
    "Based on first run of VIF scores, danceability, energy, tempo, and time signature clearly have multi-collinearity, thus we drop them to reduce noise."
   ]
  },
  {
   "cell_type": "code",
   "execution_count": 5,
   "metadata": {
    "ExecuteTime": {
     "end_time": "2019-10-24T13:35:24.099853Z",
     "start_time": "2019-10-24T13:35:21.749977Z"
    },
    "scrolled": true
   },
   "outputs": [
    {
     "data": {
      "text/html": [
       "<div>\n",
       "<style scoped>\n",
       "    .dataframe tbody tr th:only-of-type {\n",
       "        vertical-align: middle;\n",
       "    }\n",
       "\n",
       "    .dataframe tbody tr th {\n",
       "        vertical-align: top;\n",
       "    }\n",
       "\n",
       "    .dataframe thead th {\n",
       "        text-align: right;\n",
       "    }\n",
       "</style>\n",
       "<table border=\"1\" class=\"dataframe\">\n",
       "  <thead>\n",
       "    <tr style=\"text-align: right;\">\n",
       "      <th></th>\n",
       "      <th>VIF Score</th>\n",
       "      <th>features</th>\n",
       "    </tr>\n",
       "  </thead>\n",
       "  <tbody>\n",
       "    <tr>\n",
       "      <th>0</th>\n",
       "      <td>2.6</td>\n",
       "      <td>track_popularity</td>\n",
       "    </tr>\n",
       "    <tr>\n",
       "      <th>1</th>\n",
       "      <td>3.3</td>\n",
       "      <td>track_duration_ms</td>\n",
       "    </tr>\n",
       "    <tr>\n",
       "      <th>2</th>\n",
       "      <td>1.2</td>\n",
       "      <td>track_album_single</td>\n",
       "    </tr>\n",
       "    <tr>\n",
       "      <th>3</th>\n",
       "      <td>2.8</td>\n",
       "      <td>key</td>\n",
       "    </tr>\n",
       "    <tr>\n",
       "      <th>4</th>\n",
       "      <td>2.5</td>\n",
       "      <td>mode</td>\n",
       "    </tr>\n",
       "    <tr>\n",
       "      <th>5</th>\n",
       "      <td>1.7</td>\n",
       "      <td>speechiness</td>\n",
       "    </tr>\n",
       "    <tr>\n",
       "      <th>6</th>\n",
       "      <td>2.0</td>\n",
       "      <td>acousticness</td>\n",
       "    </tr>\n",
       "    <tr>\n",
       "      <th>7</th>\n",
       "      <td>1.5</td>\n",
       "      <td>instrumentalness</td>\n",
       "    </tr>\n",
       "    <tr>\n",
       "      <th>8</th>\n",
       "      <td>2.3</td>\n",
       "      <td>liveness</td>\n",
       "    </tr>\n",
       "    <tr>\n",
       "      <th>9</th>\n",
       "      <td>3.3</td>\n",
       "      <td>valence</td>\n",
       "    </tr>\n",
       "  </tbody>\n",
       "</table>\n",
       "</div>"
      ],
      "text/plain": [
       "   VIF Score            features\n",
       "0        2.6    track_popularity\n",
       "1        3.3   track_duration_ms\n",
       "2        1.2  track_album_single\n",
       "3        2.8                 key\n",
       "4        2.5                mode\n",
       "5        1.7         speechiness\n",
       "6        2.0        acousticness\n",
       "7        1.5    instrumentalness\n",
       "8        2.3            liveness\n",
       "9        3.3             valence"
      ]
     },
     "execution_count": 5,
     "metadata": {},
     "output_type": "execute_result"
    }
   ],
   "source": [
    "# Calculate VIF to check for Multicollinearity\n",
    "# select only columns with datatype int64 or float 64\n",
    "songs_cleaned = songs.drop(columns=['track_id',\n",
    "                                    'time_signature', \n",
    "                                    'tempo', \n",
    "                                    'danceability', \n",
    "                                    'energy', \n",
    "                                    'loudness'\n",
    "                                        ])\n",
    "#cleaned_KC.select_dtypes(include=['int64','float64']).drop(axis=1, columns=['id'])\n",
    "\n",
    "vif = pd.DataFrame()\n",
    "\n",
    "# For each column,run a variance_inflaction_factor against all other columns to get a VIF Factor score\n",
    "vif[\"VIF Score\"] = [variance_inflation_factor(songs_cleaned.values, i) for i in range(songs_cleaned.shape[1])]\n",
    "\n",
    "# label the scores with their related columns\n",
    "vif[\"features\"] = songs_cleaned.columns\n",
    "\n",
    "vif.round(1)"
   ]
  },
  {
   "cell_type": "markdown",
   "metadata": {},
   "source": [
    "The remaining features all have a VIF < 5."
   ]
  },
  {
   "cell_type": "markdown",
   "metadata": {},
   "source": [
    "#### c) Clean Data for Linear Regression"
   ]
  },
  {
   "cell_type": "code",
   "execution_count": 6,
   "metadata": {
    "ExecuteTime": {
     "end_time": "2019-10-24T13:35:24.301144Z",
     "start_time": "2019-10-24T13:35:24.268505Z"
    }
   },
   "outputs": [],
   "source": [
    "#Drop collinear columns\n",
    "songs1 = songs.drop(columns=['track_id',\n",
    "                             'time_signature', \n",
    "                             'tempo', \n",
    "                             'danceability', \n",
    "                             'energy', \n",
    "                             'loudness'])"
   ]
  },
  {
   "cell_type": "markdown",
   "metadata": {},
   "source": [
    "#### d) Define X & Y"
   ]
  },
  {
   "cell_type": "code",
   "execution_count": 108,
   "metadata": {
    "ExecuteTime": {
     "end_time": "2019-10-24T16:03:46.340856Z",
     "start_time": "2019-10-24T16:03:46.309155Z"
    }
   },
   "outputs": [],
   "source": [
    "#Define appropriate X and y\n",
    "X1 = songs1[songs1.columns[1:]]\n",
    "y1 = songs1.track_popularity"
   ]
  },
  {
   "cell_type": "markdown",
   "metadata": {},
   "source": [
    "#### e) Train-Test Split"
   ]
  },
  {
   "cell_type": "code",
   "execution_count": 8,
   "metadata": {
    "ExecuteTime": {
     "end_time": "2019-10-24T13:35:27.100513Z",
     "start_time": "2019-10-24T13:35:27.005415Z"
    }
   },
   "outputs": [],
   "source": [
    "# Train-Test Split\n",
    "X1_train, X1_test, y1_train, y1_test = train_test_split(X1, y1, test_size = .2)"
   ]
  },
  {
   "cell_type": "code",
   "execution_count": 10,
   "metadata": {
    "ExecuteTime": {
     "end_time": "2019-10-24T13:35:32.562967Z",
     "start_time": "2019-10-24T13:35:32.076181Z"
    }
   },
   "outputs": [
    {
     "data": {
      "image/png": "[encoded data removed]",
      "text/plain": [
       "<Figure size 1440x720 with 1 Axes>"
      ]
     },
     "metadata": {},
     "output_type": "display_data"
    }
   ],
   "source": [
    "fig1 = plt.figure(figsize=(20,10))\n",
    "sns.distplot(y1_train, kde=False)\n",
    "sns.set(font_scale = 2)\n",
    "plt.title(\"Distribution Plot of Training Data\", fontsize=35)\n",
    "plt.xlabel('Track Popularity Score (out of 100)', fontsize=25)\n",
    "plt.ylabel('Proportion of Data', fontsize=25)\n",
    "plt.show()"
   ]
  },
  {
   "cell_type": "markdown",
   "metadata": {},
   "source": [
    "#### f) Normalize X Train & Test"
   ]
  },
  {
   "cell_type": "code",
   "execution_count": 11,
   "metadata": {
    "ExecuteTime": {
     "end_time": "2019-10-24T13:35:35.737580Z",
     "start_time": "2019-10-24T13:35:35.605409Z"
    }
   },
   "outputs": [],
   "source": [
    "# Normalize X_train & X_test\n",
    "scaler = StandardScaler()\n",
    "\n",
    "X1_train_norm = scaler.fit_transform(X1_train)\n",
    "X1_test_norm = scaler.transform(X1_test)"
   ]
  },
  {
   "cell_type": "markdown",
   "metadata": {},
   "source": [
    "#### g) Run Linear Regression"
   ]
  },
  {
   "cell_type": "code",
   "execution_count": 12,
   "metadata": {
    "ExecuteTime": {
     "end_time": "2019-10-24T13:35:37.195260Z",
     "start_time": "2019-10-24T13:35:36.927037Z"
    }
   },
   "outputs": [
    {
     "data": {
      "text/html": [
       "<table class=\"simpletable\">\n",
       "<caption>OLS Regression Results</caption>\n",
       "<tr>\n",
       "  <th>Dep. Variable:</th>    <td>track_popularity</td> <th>  R-squared (uncentered):</th>       <td>   0.016</td>  \n",
       "</tr>\n",
       "<tr>\n",
       "  <th>Model:</th>                   <td>OLS</td>       <th>  Adj. R-squared (uncentered):</th>  <td>   0.016</td>  \n",
       "</tr>\n",
       "<tr>\n",
       "  <th>Method:</th>             <td>Least Squares</td>  <th>  F-statistic:       </th>           <td>   933.3</td>  \n",
       "</tr>\n",
       "<tr>\n",
       "  <th>Date:</th>             <td>Thu, 24 Oct 2019</td> <th>  Prob (F-statistic):</th>            <td>  0.00</td>   \n",
       "</tr>\n",
       "<tr>\n",
       "  <th>Time:</th>                 <td>09:35:37</td>     <th>  Log-Likelihood:    </th>          <td>-2.4300e+06</td>\n",
       "</tr>\n",
       "<tr>\n",
       "  <th>No. Observations:</th>      <td>509812</td>      <th>  AIC:               </th>           <td>4.860e+06</td> \n",
       "</tr>\n",
       "<tr>\n",
       "  <th>Df Residuals:</th>          <td>509803</td>      <th>  BIC:               </th>           <td>4.860e+06</td> \n",
       "</tr>\n",
       "<tr>\n",
       "  <th>Df Model:</th>              <td>     9</td>      <th>                     </th>               <td> </td>     \n",
       "</tr>\n",
       "<tr>\n",
       "  <th>Covariance Type:</th>      <td>nonrobust</td>    <th>                     </th>               <td> </td>     \n",
       "</tr>\n",
       "</table>\n",
       "<table class=\"simpletable\">\n",
       "<tr>\n",
       "   <td></td>     <th>coef</th>     <th>std err</th>      <th>t</th>      <th>P>|t|</th>  <th>[0.025</th>    <th>0.975]</th>  \n",
       "</tr>\n",
       "<tr>\n",
       "  <th>x1</th> <td>   -0.6678</td> <td>    0.041</td> <td>  -16.415</td> <td> 0.000</td> <td>   -0.748</td> <td>   -0.588</td>\n",
       "</tr>\n",
       "<tr>\n",
       "  <th>x2</th> <td>    1.9589</td> <td>    0.041</td> <td>   48.181</td> <td> 0.000</td> <td>    1.879</td> <td>    2.039</td>\n",
       "</tr>\n",
       "<tr>\n",
       "  <th>x3</th> <td>   -0.0196</td> <td>    0.040</td> <td>   -0.485</td> <td> 0.628</td> <td>   -0.099</td> <td>    0.060</td>\n",
       "</tr>\n",
       "<tr>\n",
       "  <th>x4</th> <td> 4.195e-06</td> <td>    0.041</td> <td>    0.000</td> <td> 1.000</td> <td>   -0.080</td> <td>    0.080</td>\n",
       "</tr>\n",
       "<tr>\n",
       "  <th>x5</th> <td>   -1.3000</td> <td>    0.041</td> <td>  -31.497</td> <td> 0.000</td> <td>   -1.381</td> <td>   -1.219</td>\n",
       "</tr>\n",
       "<tr>\n",
       "  <th>x6</th> <td>   -0.9091</td> <td>    0.042</td> <td>  -21.526</td> <td> 0.000</td> <td>   -0.992</td> <td>   -0.826</td>\n",
       "</tr>\n",
       "<tr>\n",
       "  <th>x7</th> <td>   -2.2012</td> <td>    0.044</td> <td>  -50.578</td> <td> 0.000</td> <td>   -2.287</td> <td>   -2.116</td>\n",
       "</tr>\n",
       "<tr>\n",
       "  <th>x8</th> <td>   -0.0464</td> <td>    0.041</td> <td>   -1.137</td> <td> 0.255</td> <td>   -0.126</td> <td>    0.034</td>\n",
       "</tr>\n",
       "<tr>\n",
       "  <th>x9</th> <td>   -0.0033</td> <td>    0.043</td> <td>   -0.078</td> <td> 0.938</td> <td>   -0.088</td> <td>    0.081</td>\n",
       "</tr>\n",
       "</table>\n",
       "<table class=\"simpletable\">\n",
       "<tr>\n",
       "  <th>Omnibus:</th>       <td>22856.727</td> <th>  Durbin-Watson:     </th> <td>   0.698</td> \n",
       "</tr>\n",
       "<tr>\n",
       "  <th>Prob(Omnibus):</th>  <td> 0.000</td>   <th>  Jarque-Bera (JB):  </th> <td>23569.881</td>\n",
       "</tr>\n",
       "<tr>\n",
       "  <th>Skew:</th>           <td> 0.495</td>   <th>  Prob(JB):          </th> <td>    0.00</td> \n",
       "</tr>\n",
       "<tr>\n",
       "  <th>Kurtosis:</th>       <td> 2.638</td>   <th>  Cond. No.          </th> <td>    1.62</td> \n",
       "</tr>\n",
       "</table><br/><br/>Warnings:<br/>[1] Standard Errors assume that the covariance matrix of the errors is correctly specified."
      ],
      "text/plain": [
       "<class 'statsmodels.iolib.summary.Summary'>\n",
       "\"\"\"\n",
       "                                 OLS Regression Results                                \n",
       "=======================================================================================\n",
       "Dep. Variable:       track_popularity   R-squared (uncentered):                   0.016\n",
       "Model:                            OLS   Adj. R-squared (uncentered):              0.016\n",
       "Method:                 Least Squares   F-statistic:                              933.3\n",
       "Date:                Thu, 24 Oct 2019   Prob (F-statistic):                        0.00\n",
       "Time:                        09:35:37   Log-Likelihood:                     -2.4300e+06\n",
       "No. Observations:              509812   AIC:                                  4.860e+06\n",
       "Df Residuals:                  509803   BIC:                                  4.860e+06\n",
       "Df Model:                           9                                                  \n",
       "Covariance Type:            nonrobust                                                  \n",
       "==============================================================================\n",
       "                 coef    std err          t      P>|t|      [0.025      0.975]\n",
       "------------------------------------------------------------------------------\n",
       "x1            -0.6678      0.041    -16.415      0.000      -0.748      -0.588\n",
       "x2             1.9589      0.041     48.181      0.000       1.879       2.039\n",
       "x3            -0.0196      0.040     -0.485      0.628      -0.099       0.060\n",
       "x4          4.195e-06      0.041      0.000      1.000      -0.080       0.080\n",
       "x5            -1.3000      0.041    -31.497      0.000      -1.381      -1.219\n",
       "x6            -0.9091      0.042    -21.526      0.000      -0.992      -0.826\n",
       "x7            -2.2012      0.044    -50.578      0.000      -2.287      -2.116\n",
       "x8            -0.0464      0.041     -1.137      0.255      -0.126       0.034\n",
       "x9            -0.0033      0.043     -0.078      0.938      -0.088       0.081\n",
       "==============================================================================\n",
       "Omnibus:                    22856.727   Durbin-Watson:                   0.698\n",
       "Prob(Omnibus):                  0.000   Jarque-Bera (JB):            23569.881\n",
       "Skew:                           0.495   Prob(JB):                         0.00\n",
       "Kurtosis:                       2.638   Cond. No.                         1.62\n",
       "==============================================================================\n",
       "\n",
       "Warnings:\n",
       "[1] Standard Errors assume that the covariance matrix of the errors is correctly specified.\n",
       "\"\"\""
      ]
     },
     "execution_count": 12,
     "metadata": {},
     "output_type": "execute_result"
    }
   ],
   "source": [
    "reg1 = sm.OLS(y1_train, X1_train_norm).fit()\n",
    "reg1.summary()"
   ]
  },
  {
   "cell_type": "markdown",
   "metadata": {},
   "source": [
    "#### h) QQ Plot"
   ]
  },
  {
   "cell_type": "code",
   "execution_count": 14,
   "metadata": {
    "ExecuteTime": {
     "end_time": "2019-10-24T13:35:44.739412Z",
     "start_time": "2019-10-24T13:35:43.389358Z"
    },
    "scrolled": false
   },
   "outputs": [
    {
     "data": {
      "image/png": "[encoded data removed]",
      "text/plain": [
       "<Figure size 432x288 with 1 Axes>"
      ]
     },
     "metadata": {},
     "output_type": "display_data"
    }
   ],
   "source": [
    "residuals = reg1.resid\n",
    "fig2 = sm.graphics.qqplot(residuals, dist=stats.norm, line='45', fit=True)\n",
    "sns.set(font_scale = 1)\n",
    "plt.title(\"QQ Plot for Baseline Linear Regression\", fontsize=17)\n",
    "plt.xlabel('Theoretical Quantiles', fontsize=13)\n",
    "plt.ylabel('Sample Quantiles', fontsize=13)\n",
    "plt.tight_layout()\n",
    "plt.show()\n",
    "fig2.savefig('Images/baseline_linear_regression_qq_plot.png')"
   ]
  },
  {
   "cell_type": "markdown",
   "metadata": {},
   "source": [
    "### 2. Linear Regression w/ Binned Dependent Variable"
   ]
  },
  {
   "cell_type": "markdown",
   "metadata": {},
   "source": [
    "#### a) Binning Independent Variable & Creating New DataFrame"
   ]
  },
  {
   "cell_type": "code",
   "execution_count": 15,
   "metadata": {
    "ExecuteTime": {
     "end_time": "2019-10-24T13:35:47.555466Z",
     "start_time": "2019-10-24T13:35:47.534799Z"
    }
   },
   "outputs": [],
   "source": [
    "# Create new dataframe\n",
    "songs2 = songs1.copy()"
   ]
  },
  {
   "cell_type": "code",
   "execution_count": 16,
   "metadata": {
    "ExecuteTime": {
     "end_time": "2019-10-24T13:35:47.970334Z",
     "start_time": "2019-10-24T13:35:47.936179Z"
    }
   },
   "outputs": [],
   "source": [
    "# Bin independent variable\n",
    "bins = [0, 10, 20, 30, 40, 50, 60, 70, 80, 90, 100]\n",
    "labels = [10, 20, 30, 40, 50, 60, 70, 80, 90, 100]\n",
    "songs2['track_popularity_bins'] = pd.cut(songs1['track_popularity'], bins=bins, labels=labels)"
   ]
  },
  {
   "cell_type": "code",
   "execution_count": 17,
   "metadata": {
    "ExecuteTime": {
     "end_time": "2019-10-24T13:35:48.589335Z",
     "start_time": "2019-10-24T13:35:48.432763Z"
    }
   },
   "outputs": [],
   "source": [
    "# Drop 0 popularity\n",
    "songs2.dropna(inplace=True)"
   ]
  },
  {
   "cell_type": "code",
   "execution_count": 18,
   "metadata": {
    "ExecuteTime": {
     "end_time": "2019-10-24T13:35:50.794413Z",
     "start_time": "2019-10-24T13:35:50.749835Z"
    }
   },
   "outputs": [],
   "source": [
    "# Encoding categorical data\n",
    "le = LabelEncoder()\n",
    "songs2['track_popularity'] = le.fit_transform(songs2['track_popularity'])"
   ]
  },
  {
   "cell_type": "code",
   "execution_count": 19,
   "metadata": {
    "ExecuteTime": {
     "end_time": "2019-10-24T13:35:51.553327Z",
     "start_time": "2019-10-24T13:35:51.545335Z"
    }
   },
   "outputs": [
    {
     "data": {
      "text/plain": [
       "10     131599\n",
       "20     124880\n",
       "30     115033\n",
       "40     104735\n",
       "50      61421\n",
       "60      30220\n",
       "70      11257\n",
       "80       2947\n",
       "90        413\n",
       "100        31\n",
       "Name: track_popularity_bins, dtype: int64"
      ]
     },
     "execution_count": 19,
     "metadata": {},
     "output_type": "execute_result"
    }
   ],
   "source": [
    "# Independent variable value counts\n",
    "songs2.track_popularity_bins.value_counts()"
   ]
  },
  {
   "cell_type": "markdown",
   "metadata": {},
   "source": [
    "#### b) Re-define X & Y"
   ]
  },
  {
   "cell_type": "code",
   "execution_count": 20,
   "metadata": {
    "ExecuteTime": {
     "end_time": "2019-10-24T13:35:55.053737Z",
     "start_time": "2019-10-24T13:35:55.028523Z"
    }
   },
   "outputs": [],
   "source": [
    "#Define appropriate X and y\n",
    "X2 = songs2[songs2.columns[1:-1]]\n",
    "y2 = songs2.track_popularity_bins"
   ]
  },
  {
   "cell_type": "markdown",
   "metadata": {},
   "source": [
    "#### c) Train-Test Split"
   ]
  },
  {
   "cell_type": "code",
   "execution_count": 21,
   "metadata": {
    "ExecuteTime": {
     "end_time": "2019-10-24T13:35:56.737788Z",
     "start_time": "2019-10-24T13:35:56.668288Z"
    }
   },
   "outputs": [],
   "source": [
    "# Train-Test Split\n",
    "X2_train, X2_test, y2_train, y2_test = train_test_split(X2, y2, test_size = .2)"
   ]
  },
  {
   "cell_type": "code",
   "execution_count": 23,
   "metadata": {
    "ExecuteTime": {
     "end_time": "2019-10-24T13:36:02.113999Z",
     "start_time": "2019-10-24T13:36:01.740579Z"
    }
   },
   "outputs": [
    {
     "data": {
      "image/png": "[encoded data removed]",
      "text/plain": [
       "<Figure size 1440x720 with 1 Axes>"
      ]
     },
     "metadata": {},
     "output_type": "display_data"
    }
   ],
   "source": [
    "fig3 = plt.figure(figsize=(20,10))\n",
    "sns.distplot(y2_train, kde=False, bins=10)\n",
    "sns.set(font_scale = 2)\n",
    "plt.title(\"Distribution Plot of Training Data\", fontsize=35)\n",
    "plt.xlabel('Track Popularity Score (out of 100)', fontsize=25)\n",
    "plt.ylabel('Proportion of Data', fontsize=25)\n",
    "plt.show()"
   ]
  },
  {
   "cell_type": "markdown",
   "metadata": {},
   "source": [
    "#### d) Normalize X Train & Test"
   ]
  },
  {
   "cell_type": "code",
   "execution_count": 24,
   "metadata": {
    "ExecuteTime": {
     "end_time": "2019-10-24T13:36:05.350361Z",
     "start_time": "2019-10-24T13:36:05.220415Z"
    }
   },
   "outputs": [],
   "source": [
    "# Normalize X_train & X_test\n",
    "scaler = StandardScaler()\n",
    "\n",
    "X2_train_norm = scaler.fit_transform(X2_train)\n",
    "X2_test_norm = scaler.transform(X2_test)"
   ]
  },
  {
   "cell_type": "markdown",
   "metadata": {},
   "source": [
    "#### e) Run Linear Regression"
   ]
  },
  {
   "cell_type": "code",
   "execution_count": 104,
   "metadata": {
    "ExecuteTime": {
     "end_time": "2019-10-24T15:24:03.233613Z",
     "start_time": "2019-10-24T15:24:02.930846Z"
    }
   },
   "outputs": [
    {
     "data": {
      "text/html": [
       "<table class=\"simpletable\">\n",
       "<caption>OLS Regression Results</caption>\n",
       "<tr>\n",
       "  <th>Dep. Variable:</th>    <td>track_popularity_bins</td> <th>  R-squared (uncentered):</th>       <td>   0.009</td>  \n",
       "</tr>\n",
       "<tr>\n",
       "  <th>Model:</th>                     <td>OLS</td>          <th>  Adj. R-squared (uncentered):</th>  <td>   0.009</td>  \n",
       "</tr>\n",
       "<tr>\n",
       "  <th>Method:</th>               <td>Least Squares</td>     <th>  F-statistic:       </th>           <td>   460.9</td>  \n",
       "</tr>\n",
       "<tr>\n",
       "  <th>Date:</th>               <td>Thu, 24 Oct 2019</td>    <th>  Prob (F-statistic):</th>            <td>  0.00</td>   \n",
       "</tr>\n",
       "<tr>\n",
       "  <th>Time:</th>                   <td>11:24:03</td>        <th>  Log-Likelihood:    </th>          <td>-2.3027e+06</td>\n",
       "</tr>\n",
       "<tr>\n",
       "  <th>No. Observations:</th>        <td>466028</td>         <th>  AIC:               </th>           <td>4.605e+06</td> \n",
       "</tr>\n",
       "<tr>\n",
       "  <th>Df Residuals:</th>            <td>466019</td>         <th>  BIC:               </th>           <td>4.605e+06</td> \n",
       "</tr>\n",
       "<tr>\n",
       "  <th>Df Model:</th>                <td>     9</td>         <th>                     </th>               <td> </td>     \n",
       "</tr>\n",
       "<tr>\n",
       "  <th>Covariance Type:</th>        <td>nonrobust</td>       <th>                     </th>               <td> </td>     \n",
       "</tr>\n",
       "</table>\n",
       "<table class=\"simpletable\">\n",
       "<tr>\n",
       "   <td></td>     <th>coef</th>     <th>std err</th>      <th>t</th>      <th>P>|t|</th>  <th>[0.025</th>    <th>0.975]</th>  \n",
       "</tr>\n",
       "<tr>\n",
       "  <th>x1</th> <td>   -0.4459</td> <td>    0.051</td> <td>   -8.819</td> <td> 0.000</td> <td>   -0.545</td> <td>   -0.347</td>\n",
       "</tr>\n",
       "<tr>\n",
       "  <th>x2</th> <td>    1.7593</td> <td>    0.051</td> <td>   34.754</td> <td> 0.000</td> <td>    1.660</td> <td>    1.859</td>\n",
       "</tr>\n",
       "<tr>\n",
       "  <th>x3</th> <td>    0.0062</td> <td>    0.050</td> <td>    0.123</td> <td> 0.902</td> <td>   -0.092</td> <td>    0.105</td>\n",
       "</tr>\n",
       "<tr>\n",
       "  <th>x4</th> <td>   -0.0628</td> <td>    0.051</td> <td>   -1.241</td> <td> 0.215</td> <td>   -0.162</td> <td>    0.036</td>\n",
       "</tr>\n",
       "<tr>\n",
       "  <th>x5</th> <td>   -0.9997</td> <td>    0.051</td> <td>  -19.431</td> <td> 0.000</td> <td>   -1.101</td> <td>   -0.899</td>\n",
       "</tr>\n",
       "<tr>\n",
       "  <th>x6</th> <td>   -0.9679</td> <td>    0.053</td> <td>  -18.364</td> <td> 0.000</td> <td>   -1.071</td> <td>   -0.865</td>\n",
       "</tr>\n",
       "<tr>\n",
       "  <th>x7</th> <td>   -1.8508</td> <td>    0.054</td> <td>  -34.105</td> <td> 0.000</td> <td>   -1.957</td> <td>   -1.744</td>\n",
       "</tr>\n",
       "<tr>\n",
       "  <th>x8</th> <td>   -0.1257</td> <td>    0.051</td> <td>   -2.471</td> <td> 0.013</td> <td>   -0.225</td> <td>   -0.026</td>\n",
       "</tr>\n",
       "<tr>\n",
       "  <th>x9</th> <td>   -0.0175</td> <td>    0.053</td> <td>   -0.327</td> <td> 0.744</td> <td>   -0.122</td> <td>    0.087</td>\n",
       "</tr>\n",
       "</table>\n",
       "<table class=\"simpletable\">\n",
       "<tr>\n",
       "  <th>Omnibus:</th>       <td>22544.173</td> <th>  Durbin-Watson:     </th> <td>   0.444</td> \n",
       "</tr>\n",
       "<tr>\n",
       "  <th>Prob(Omnibus):</th>  <td> 0.000</td>   <th>  Jarque-Bera (JB):  </th> <td>25127.168</td>\n",
       "</tr>\n",
       "<tr>\n",
       "  <th>Skew:</th>           <td> 0.555</td>   <th>  Prob(JB):          </th> <td>    0.00</td> \n",
       "</tr>\n",
       "<tr>\n",
       "  <th>Kurtosis:</th>       <td> 2.748</td>   <th>  Cond. No.          </th> <td>    1.62</td> \n",
       "</tr>\n",
       "</table><br/><br/>Warnings:<br/>[1] Standard Errors assume that the covariance matrix of the errors is correctly specified."
      ],
      "text/plain": [
       "<class 'statsmodels.iolib.summary.Summary'>\n",
       "\"\"\"\n",
       "                                  OLS Regression Results                                  \n",
       "==========================================================================================\n",
       "Dep. Variable:     track_popularity_bins   R-squared (uncentered):                   0.009\n",
       "Model:                               OLS   Adj. R-squared (uncentered):              0.009\n",
       "Method:                    Least Squares   F-statistic:                              460.9\n",
       "Date:                   Thu, 24 Oct 2019   Prob (F-statistic):                        0.00\n",
       "Time:                           11:24:03   Log-Likelihood:                     -2.3027e+06\n",
       "No. Observations:                 466028   AIC:                                  4.605e+06\n",
       "Df Residuals:                     466019   BIC:                                  4.605e+06\n",
       "Df Model:                              9                                                  \n",
       "Covariance Type:               nonrobust                                                  \n",
       "==============================================================================\n",
       "                 coef    std err          t      P>|t|      [0.025      0.975]\n",
       "------------------------------------------------------------------------------\n",
       "x1            -0.4459      0.051     -8.819      0.000      -0.545      -0.347\n",
       "x2             1.7593      0.051     34.754      0.000       1.660       1.859\n",
       "x3             0.0062      0.050      0.123      0.902      -0.092       0.105\n",
       "x4            -0.0628      0.051     -1.241      0.215      -0.162       0.036\n",
       "x5            -0.9997      0.051    -19.431      0.000      -1.101      -0.899\n",
       "x6            -0.9679      0.053    -18.364      0.000      -1.071      -0.865\n",
       "x7            -1.8508      0.054    -34.105      0.000      -1.957      -1.744\n",
       "x8            -0.1257      0.051     -2.471      0.013      -0.225      -0.026\n",
       "x9            -0.0175      0.053     -0.327      0.744      -0.122       0.087\n",
       "==============================================================================\n",
       "Omnibus:                    22544.173   Durbin-Watson:                   0.444\n",
       "Prob(Omnibus):                  0.000   Jarque-Bera (JB):            25127.168\n",
       "Skew:                           0.555   Prob(JB):                         0.00\n",
       "Kurtosis:                       2.748   Cond. No.                         1.62\n",
       "==============================================================================\n",
       "\n",
       "Warnings:\n",
       "[1] Standard Errors assume that the covariance matrix of the errors is correctly specified.\n",
       "\"\"\""
      ]
     },
     "execution_count": 104,
     "metadata": {},
     "output_type": "execute_result"
    }
   ],
   "source": [
    "reg2 = sm.OLS(y2_train, X2_train_norm).fit()\n",
    "reg2.summary()"
   ]
  },
  {
   "cell_type": "markdown",
   "metadata": {},
   "source": [
    "#### f) QQ Plot"
   ]
  },
  {
   "cell_type": "code",
   "execution_count": 27,
   "metadata": {
    "ExecuteTime": {
     "end_time": "2019-10-24T13:36:17.602360Z",
     "start_time": "2019-10-24T13:36:16.313003Z"
    },
    "scrolled": true
   },
   "outputs": [
    {
     "data": {
      "image/png": "[encoded data removed]",
      "text/plain": [
       "<Figure size 432x288 with 1 Axes>"
      ]
     },
     "metadata": {},
     "output_type": "display_data"
    }
   ],
   "source": [
    "residuals = reg2.resid\n",
    "\n",
    "fig4 = sm.graphics.qqplot(residuals, dist=stats.norm, line='45', fit=True)\n",
    "sns.set(font_scale = 1)\n",
    "plt.title(\"QQ Plot for Linear Regression w/ Binned DV\", fontsize=17)\n",
    "plt.xlabel('Theoretical Quantiles', fontsize=14)\n",
    "plt.ylabel('Sample Quantiles', fontsize=14)\n",
    "plt.tight_layout()\n",
    "plt.show()\n",
    "fig4.savefig('Images/linear_regression2_qq_plot.png')"
   ]
  },
  {
   "cell_type": "markdown",
   "metadata": {},
   "source": [
    "### 3. Linear Regression w/ Target Transformation (Adjusting Noise & Number of Features)"
   ]
  },
  {
   "cell_type": "markdown",
   "metadata": {},
   "source": [
    "#### a) Linear Regression w/ Noise Limited to 100"
   ]
  },
  {
   "cell_type": "code",
   "execution_count": 106,
   "metadata": {
    "ExecuteTime": {
     "end_time": "2019-10-24T15:25:11.859649Z",
     "start_time": "2019-10-24T15:25:11.456966Z"
    }
   },
   "outputs": [
    {
     "data": {
      "text/html": [
       "<table class=\"simpletable\">\n",
       "<caption>OLS Regression Results</caption>\n",
       "<tr>\n",
       "  <th>Dep. Variable:</th>    <td>track_popularity</td> <th>  R-squared (uncentered):</th>       <td>   0.609</td>  \n",
       "</tr>\n",
       "<tr>\n",
       "  <th>Model:</th>                   <td>OLS</td>       <th>  Adj. R-squared (uncentered):</th>  <td>   0.609</td>  \n",
       "</tr>\n",
       "<tr>\n",
       "  <th>Method:</th>             <td>Least Squares</td>  <th>  F-statistic:       </th>           <td>2.205e+04</td> \n",
       "</tr>\n",
       "<tr>\n",
       "  <th>Date:</th>             <td>Thu, 24 Oct 2019</td> <th>  Prob (F-statistic):</th>            <td>  0.00</td>   \n",
       "</tr>\n",
       "<tr>\n",
       "  <th>Time:</th>                 <td>11:25:11</td>     <th>  Log-Likelihood:    </th>          <td>-5.4889e+05</td>\n",
       "</tr>\n",
       "<tr>\n",
       "  <th>No. Observations:</th>      <td>127453</td>      <th>  AIC:               </th>           <td>1.098e+06</td> \n",
       "</tr>\n",
       "<tr>\n",
       "  <th>Df Residuals:</th>          <td>127444</td>      <th>  BIC:               </th>           <td>1.098e+06</td> \n",
       "</tr>\n",
       "<tr>\n",
       "  <th>Df Model:</th>              <td>     9</td>      <th>                     </th>               <td> </td>     \n",
       "</tr>\n",
       "<tr>\n",
       "  <th>Covariance Type:</th>      <td>nonrobust</td>    <th>                     </th>               <td> </td>     \n",
       "</tr>\n",
       "</table>\n",
       "<table class=\"simpletable\">\n",
       "<tr>\n",
       "           <td></td>             <th>coef</th>     <th>std err</th>      <th>t</th>      <th>P>|t|</th>  <th>[0.025</th>    <th>0.975]</th>  \n",
       "</tr>\n",
       "<tr>\n",
       "  <th>track_duration_ms</th>  <td> 1.566e-05</td> <td>  3.1e-07</td> <td>   50.488</td> <td> 0.000</td> <td> 1.51e-05</td> <td> 1.63e-05</td>\n",
       "</tr>\n",
       "<tr>\n",
       "  <th>track_album_single</th> <td>    9.5736</td> <td>    0.141</td> <td>   67.853</td> <td> 0.000</td> <td>    9.297</td> <td>    9.850</td>\n",
       "</tr>\n",
       "<tr>\n",
       "  <th>key</th>                <td>    0.7031</td> <td>    0.013</td> <td>   53.504</td> <td> 0.000</td> <td>    0.677</td> <td>    0.729</td>\n",
       "</tr>\n",
       "<tr>\n",
       "  <th>mode</th>               <td>    4.7871</td> <td>    0.099</td> <td>   48.482</td> <td> 0.000</td> <td>    4.594</td> <td>    4.981</td>\n",
       "</tr>\n",
       "<tr>\n",
       "  <th>speechiness</th>        <td>   -2.7468</td> <td>    0.436</td> <td>   -6.306</td> <td> 0.000</td> <td>   -3.600</td> <td>   -1.893</td>\n",
       "</tr>\n",
       "<tr>\n",
       "  <th>acousticness</th>       <td>    3.5826</td> <td>    0.144</td> <td>   24.951</td> <td> 0.000</td> <td>    3.301</td> <td>    3.864</td>\n",
       "</tr>\n",
       "<tr>\n",
       "  <th>instrumentalness</th>   <td>   -1.4017</td> <td>    0.155</td> <td>   -9.031</td> <td> 0.000</td> <td>   -1.706</td> <td>   -1.097</td>\n",
       "</tr>\n",
       "<tr>\n",
       "  <th>liveness</th>           <td>   10.2823</td> <td>    0.298</td> <td>   34.503</td> <td> 0.000</td> <td>    9.698</td> <td>   10.866</td>\n",
       "</tr>\n",
       "<tr>\n",
       "  <th>valence</th>            <td>   14.7489</td> <td>    0.167</td> <td>   88.582</td> <td> 0.000</td> <td>   14.423</td> <td>   15.075</td>\n",
       "</tr>\n",
       "</table>\n",
       "<table class=\"simpletable\">\n",
       "<tr>\n",
       "  <th>Omnibus:</th>       <td>3548.200</td> <th>  Durbin-Watson:     </th> <td>   1.981</td>\n",
       "</tr>\n",
       "<tr>\n",
       "  <th>Prob(Omnibus):</th>  <td> 0.000</td>  <th>  Jarque-Bera (JB):  </th> <td>3747.958</td>\n",
       "</tr>\n",
       "<tr>\n",
       "  <th>Skew:</th>           <td> 0.407</td>  <th>  Prob(JB):          </th> <td>    0.00</td>\n",
       "</tr>\n",
       "<tr>\n",
       "  <th>Kurtosis:</th>       <td> 2.792</td>  <th>  Cond. No.          </th> <td>2.54e+06</td>\n",
       "</tr>\n",
       "</table><br/><br/>Warnings:<br/>[1] Standard Errors assume that the covariance matrix of the errors is correctly specified.<br/>[2] The condition number is large, 2.54e+06. This might indicate that there are<br/>strong multicollinearity or other numerical problems."
      ],
      "text/plain": [
       "<class 'statsmodels.iolib.summary.Summary'>\n",
       "\"\"\"\n",
       "                                 OLS Regression Results                                \n",
       "=======================================================================================\n",
       "Dep. Variable:       track_popularity   R-squared (uncentered):                   0.609\n",
       "Model:                            OLS   Adj. R-squared (uncentered):              0.609\n",
       "Method:                 Least Squares   F-statistic:                          2.205e+04\n",
       "Date:                Thu, 24 Oct 2019   Prob (F-statistic):                        0.00\n",
       "Time:                        11:25:11   Log-Likelihood:                     -5.4889e+05\n",
       "No. Observations:              127453   AIC:                                  1.098e+06\n",
       "Df Residuals:                  127444   BIC:                                  1.098e+06\n",
       "Df Model:                           9                                                  \n",
       "Covariance Type:            nonrobust                                                  \n",
       "======================================================================================\n",
       "                         coef    std err          t      P>|t|      [0.025      0.975]\n",
       "--------------------------------------------------------------------------------------\n",
       "track_duration_ms   1.566e-05    3.1e-07     50.488      0.000    1.51e-05    1.63e-05\n",
       "track_album_single     9.5736      0.141     67.853      0.000       9.297       9.850\n",
       "key                    0.7031      0.013     53.504      0.000       0.677       0.729\n",
       "mode                   4.7871      0.099     48.482      0.000       4.594       4.981\n",
       "speechiness           -2.7468      0.436     -6.306      0.000      -3.600      -1.893\n",
       "acousticness           3.5826      0.144     24.951      0.000       3.301       3.864\n",
       "instrumentalness      -1.4017      0.155     -9.031      0.000      -1.706      -1.097\n",
       "liveness              10.2823      0.298     34.503      0.000       9.698      10.866\n",
       "valence               14.7489      0.167     88.582      0.000      14.423      15.075\n",
       "==============================================================================\n",
       "Omnibus:                     3548.200   Durbin-Watson:                   1.981\n",
       "Prob(Omnibus):                  0.000   Jarque-Bera (JB):             3747.958\n",
       "Skew:                           0.407   Prob(JB):                         0.00\n",
       "Kurtosis:                       2.792   Cond. No.                     2.54e+06\n",
       "==============================================================================\n",
       "\n",
       "Warnings:\n",
       "[1] Standard Errors assume that the covariance matrix of the errors is correctly specified.\n",
       "[2] The condition number is large, 2.54e+06. This might indicate that there are\n",
       "strong multicollinearity or other numerical problems.\n",
       "\"\"\""
      ]
     },
     "execution_count": 106,
     "metadata": {},
     "output_type": "execute_result"
    },
    {
     "data": {
      "image/png": "[encoded data removed]",
      "text/plain": [
       "<Figure size 432x288 with 1 Axes>"
      ]
     },
     "metadata": {},
     "output_type": "display_data"
    }
   ],
   "source": [
    "from sklearn.datasets.samples_generator import make_regression\n",
    "X1_train, y1_train = make_regression(n_samples=1000, n_features=5, noise=100)\n",
    "\n",
    "plt.plot(X1_train, y1_train, 'o', color='black');\n",
    "plt.title(\"Linear Relationship Exists\")\n",
    "\n",
    "reg4 = sm.OLS(y1_test, X1_test).fit()\n",
    "reg4.summary()"
   ]
  },
  {
   "cell_type": "markdown",
   "metadata": {},
   "source": [
    "#### b) Linear Regression w/ Noise Limited to 10"
   ]
  },
  {
   "cell_type": "code",
   "execution_count": 103,
   "metadata": {
    "ExecuteTime": {
     "end_time": "2019-10-24T15:19:27.045263Z",
     "start_time": "2019-10-24T15:19:26.600540Z"
    }
   },
   "outputs": [
    {
     "data": {
      "text/html": [
       "<table class=\"simpletable\">\n",
       "<caption>OLS Regression Results</caption>\n",
       "<tr>\n",
       "  <th>Dep. Variable:</th>    <td>track_popularity</td> <th>  R-squared (uncentered):</th>       <td>   0.609</td>  \n",
       "</tr>\n",
       "<tr>\n",
       "  <th>Model:</th>                   <td>OLS</td>       <th>  Adj. R-squared (uncentered):</th>  <td>   0.609</td>  \n",
       "</tr>\n",
       "<tr>\n",
       "  <th>Method:</th>             <td>Least Squares</td>  <th>  F-statistic:       </th>           <td>2.205e+04</td> \n",
       "</tr>\n",
       "<tr>\n",
       "  <th>Date:</th>             <td>Thu, 24 Oct 2019</td> <th>  Prob (F-statistic):</th>            <td>  0.00</td>   \n",
       "</tr>\n",
       "<tr>\n",
       "  <th>Time:</th>                 <td>11:19:26</td>     <th>  Log-Likelihood:    </th>          <td>-5.4889e+05</td>\n",
       "</tr>\n",
       "<tr>\n",
       "  <th>No. Observations:</th>      <td>127453</td>      <th>  AIC:               </th>           <td>1.098e+06</td> \n",
       "</tr>\n",
       "<tr>\n",
       "  <th>Df Residuals:</th>          <td>127444</td>      <th>  BIC:               </th>           <td>1.098e+06</td> \n",
       "</tr>\n",
       "<tr>\n",
       "  <th>Df Model:</th>              <td>     9</td>      <th>                     </th>               <td> </td>     \n",
       "</tr>\n",
       "<tr>\n",
       "  <th>Covariance Type:</th>      <td>nonrobust</td>    <th>                     </th>               <td> </td>     \n",
       "</tr>\n",
       "</table>\n",
       "<table class=\"simpletable\">\n",
       "<tr>\n",
       "           <td></td>             <th>coef</th>     <th>std err</th>      <th>t</th>      <th>P>|t|</th>  <th>[0.025</th>    <th>0.975]</th>  \n",
       "</tr>\n",
       "<tr>\n",
       "  <th>track_duration_ms</th>  <td> 1.566e-05</td> <td>  3.1e-07</td> <td>   50.488</td> <td> 0.000</td> <td> 1.51e-05</td> <td> 1.63e-05</td>\n",
       "</tr>\n",
       "<tr>\n",
       "  <th>track_album_single</th> <td>    9.5736</td> <td>    0.141</td> <td>   67.853</td> <td> 0.000</td> <td>    9.297</td> <td>    9.850</td>\n",
       "</tr>\n",
       "<tr>\n",
       "  <th>key</th>                <td>    0.7031</td> <td>    0.013</td> <td>   53.504</td> <td> 0.000</td> <td>    0.677</td> <td>    0.729</td>\n",
       "</tr>\n",
       "<tr>\n",
       "  <th>mode</th>               <td>    4.7871</td> <td>    0.099</td> <td>   48.482</td> <td> 0.000</td> <td>    4.594</td> <td>    4.981</td>\n",
       "</tr>\n",
       "<tr>\n",
       "  <th>speechiness</th>        <td>   -2.7468</td> <td>    0.436</td> <td>   -6.306</td> <td> 0.000</td> <td>   -3.600</td> <td>   -1.893</td>\n",
       "</tr>\n",
       "<tr>\n",
       "  <th>acousticness</th>       <td>    3.5826</td> <td>    0.144</td> <td>   24.951</td> <td> 0.000</td> <td>    3.301</td> <td>    3.864</td>\n",
       "</tr>\n",
       "<tr>\n",
       "  <th>instrumentalness</th>   <td>   -1.4017</td> <td>    0.155</td> <td>   -9.031</td> <td> 0.000</td> <td>   -1.706</td> <td>   -1.097</td>\n",
       "</tr>\n",
       "<tr>\n",
       "  <th>liveness</th>           <td>   10.2823</td> <td>    0.298</td> <td>   34.503</td> <td> 0.000</td> <td>    9.698</td> <td>   10.866</td>\n",
       "</tr>\n",
       "<tr>\n",
       "  <th>valence</th>            <td>   14.7489</td> <td>    0.167</td> <td>   88.582</td> <td> 0.000</td> <td>   14.423</td> <td>   15.075</td>\n",
       "</tr>\n",
       "</table>\n",
       "<table class=\"simpletable\">\n",
       "<tr>\n",
       "  <th>Omnibus:</th>       <td>3548.200</td> <th>  Durbin-Watson:     </th> <td>   1.981</td>\n",
       "</tr>\n",
       "<tr>\n",
       "  <th>Prob(Omnibus):</th>  <td> 0.000</td>  <th>  Jarque-Bera (JB):  </th> <td>3747.958</td>\n",
       "</tr>\n",
       "<tr>\n",
       "  <th>Skew:</th>           <td> 0.407</td>  <th>  Prob(JB):          </th> <td>    0.00</td>\n",
       "</tr>\n",
       "<tr>\n",
       "  <th>Kurtosis:</th>       <td> 2.792</td>  <th>  Cond. No.          </th> <td>2.54e+06</td>\n",
       "</tr>\n",
       "</table><br/><br/>Warnings:<br/>[1] Standard Errors assume that the covariance matrix of the errors is correctly specified.<br/>[2] The condition number is large, 2.54e+06. This might indicate that there are<br/>strong multicollinearity or other numerical problems."
      ],
      "text/plain": [
       "<class 'statsmodels.iolib.summary.Summary'>\n",
       "\"\"\"\n",
       "                                 OLS Regression Results                                \n",
       "=======================================================================================\n",
       "Dep. Variable:       track_popularity   R-squared (uncentered):                   0.609\n",
       "Model:                            OLS   Adj. R-squared (uncentered):              0.609\n",
       "Method:                 Least Squares   F-statistic:                          2.205e+04\n",
       "Date:                Thu, 24 Oct 2019   Prob (F-statistic):                        0.00\n",
       "Time:                        11:19:26   Log-Likelihood:                     -5.4889e+05\n",
       "No. Observations:              127453   AIC:                                  1.098e+06\n",
       "Df Residuals:                  127444   BIC:                                  1.098e+06\n",
       "Df Model:                           9                                                  \n",
       "Covariance Type:            nonrobust                                                  \n",
       "======================================================================================\n",
       "                         coef    std err          t      P>|t|      [0.025      0.975]\n",
       "--------------------------------------------------------------------------------------\n",
       "track_duration_ms   1.566e-05    3.1e-07     50.488      0.000    1.51e-05    1.63e-05\n",
       "track_album_single     9.5736      0.141     67.853      0.000       9.297       9.850\n",
       "key                    0.7031      0.013     53.504      0.000       0.677       0.729\n",
       "mode                   4.7871      0.099     48.482      0.000       4.594       4.981\n",
       "speechiness           -2.7468      0.436     -6.306      0.000      -3.600      -1.893\n",
       "acousticness           3.5826      0.144     24.951      0.000       3.301       3.864\n",
       "instrumentalness      -1.4017      0.155     -9.031      0.000      -1.706      -1.097\n",
       "liveness              10.2823      0.298     34.503      0.000       9.698      10.866\n",
       "valence               14.7489      0.167     88.582      0.000      14.423      15.075\n",
       "==============================================================================\n",
       "Omnibus:                     3548.200   Durbin-Watson:                   1.981\n",
       "Prob(Omnibus):                  0.000   Jarque-Bera (JB):             3747.958\n",
       "Skew:                           0.407   Prob(JB):                         0.00\n",
       "Kurtosis:                       2.792   Cond. No.                     2.54e+06\n",
       "==============================================================================\n",
       "\n",
       "Warnings:\n",
       "[1] Standard Errors assume that the covariance matrix of the errors is correctly specified.\n",
       "[2] The condition number is large, 2.54e+06. This might indicate that there are\n",
       "strong multicollinearity or other numerical problems.\n",
       "\"\"\""
      ]
     },
     "execution_count": 103,
     "metadata": {},
     "output_type": "execute_result"
    },
    {
     "data": {
      "image/png": "[encoded data removed]",
      "text/plain": [
       "<Figure size 432x288 with 1 Axes>"
      ]
     },
     "metadata": {},
     "output_type": "display_data"
    }
   ],
   "source": [
    "from sklearn.datasets.samples_generator import make_regression\n",
    "X1_train, y1_train = make_regression(n_samples=1000, n_features=10, noise=10)\n",
    "\n",
    "plt.plot(X1_train, y1_train, 'o', color='black');\n",
    "plt.title(\"Linear Relationship Exists\")\n",
    "\n",
    "reg4 = sm.OLS(y1_test, X1_test).fit()\n",
    "reg4.summary()"
   ]
  },
  {
   "cell_type": "markdown",
   "metadata": {},
   "source": [
    "#### c) QQ Plot"
   ]
  },
  {
   "cell_type": "code",
   "execution_count": 30,
   "metadata": {
    "ExecuteTime": {
     "end_time": "2019-10-24T13:36:47.838954Z",
     "start_time": "2019-10-24T13:36:47.430439Z"
    }
   },
   "outputs": [
    {
     "data": {
      "image/png": "[encoded data removed]",
      "text/plain": [
       "<Figure size 504x360 with 1 Axes>"
      ]
     },
     "metadata": {},
     "output_type": "display_data"
    }
   ],
   "source": [
    "fig4b = plt.figure(figsize=(7,5))\n",
    "stats.probplot(X1_train[:,0], dist=\"norm\", plot=plt)\n",
    "sns.set(font_scale = 1)\n",
    "plt.title(\"QQ Plot for Linear Regression w/ Target Transformation\", fontsize=17)\n",
    "plt.xlabel('Theoretical Quantiles', fontsize=14)\n",
    "plt.ylabel('Sample Quantiles', fontsize=14)\n",
    "plt.tight_layout()\n",
    "plt.show()\n",
    "fig4b.savefig('Images/transformed_linear_regression_qq_plot.png')"
   ]
  },
  {
   "cell_type": "markdown",
   "metadata": {},
   "source": [
    "#### d) Linear Regression w/ Data Transformed Using Yeo-Johnson Method"
   ]
  },
  {
   "cell_type": "code",
   "execution_count": 31,
   "metadata": {
    "ExecuteTime": {
     "end_time": "2019-10-24T13:37:01.069636Z",
     "start_time": "2019-10-24T13:36:54.531539Z"
    }
   },
   "outputs": [],
   "source": [
    "# transform training data & save lambda value\n",
    "from sklearn.preprocessing import power_transform\n",
    "# use lambda value to transform test data\n",
    "X2_train_trans = power_transform(X2_train_norm, method='yeo-johnson', standardize=True)\n",
    "# use lambda value to transform test data\n",
    "X2_test_trans = power_transform(X2_test_norm, method='yeo-johnson', standardize=True)"
   ]
  },
  {
   "cell_type": "code",
   "execution_count": 32,
   "metadata": {
    "ExecuteTime": {
     "end_time": "2019-10-24T13:37:01.680185Z",
     "start_time": "2019-10-24T13:37:01.435842Z"
    }
   },
   "outputs": [
    {
     "data": {
      "text/html": [
       "<table class=\"simpletable\">\n",
       "<caption>OLS Regression Results</caption>\n",
       "<tr>\n",
       "  <th>Dep. Variable:</th>    <td>track_popularity_bins</td> <th>  R-squared (uncentered):</th>       <td>   0.009</td>  \n",
       "</tr>\n",
       "<tr>\n",
       "  <th>Model:</th>                     <td>OLS</td>          <th>  Adj. R-squared (uncentered):</th>  <td>   0.009</td>  \n",
       "</tr>\n",
       "<tr>\n",
       "  <th>Method:</th>               <td>Least Squares</td>     <th>  F-statistic:       </th>           <td>   461.5</td>  \n",
       "</tr>\n",
       "<tr>\n",
       "  <th>Date:</th>               <td>Thu, 24 Oct 2019</td>    <th>  Prob (F-statistic):</th>            <td>  0.00</td>   \n",
       "</tr>\n",
       "<tr>\n",
       "  <th>Time:</th>                   <td>09:37:01</td>        <th>  Log-Likelihood:    </th>          <td>-2.3027e+06</td>\n",
       "</tr>\n",
       "<tr>\n",
       "  <th>No. Observations:</th>        <td>466028</td>         <th>  AIC:               </th>           <td>4.605e+06</td> \n",
       "</tr>\n",
       "<tr>\n",
       "  <th>Df Residuals:</th>            <td>466019</td>         <th>  BIC:               </th>           <td>4.605e+06</td> \n",
       "</tr>\n",
       "<tr>\n",
       "  <th>Df Model:</th>                <td>     9</td>         <th>                     </th>               <td> </td>     \n",
       "</tr>\n",
       "<tr>\n",
       "  <th>Covariance Type:</th>        <td>nonrobust</td>       <th>                     </th>               <td> </td>     \n",
       "</tr>\n",
       "</table>\n",
       "<table class=\"simpletable\">\n",
       "<tr>\n",
       "   <td></td>     <th>coef</th>     <th>std err</th>      <th>t</th>      <th>P>|t|</th>  <th>[0.025</th>    <th>0.975]</th>  \n",
       "</tr>\n",
       "<tr>\n",
       "  <th>x1</th> <td>   -0.0957</td> <td>    0.051</td> <td>   -1.873</td> <td> 0.061</td> <td>   -0.196</td> <td>    0.004</td>\n",
       "</tr>\n",
       "<tr>\n",
       "  <th>x2</th> <td>    1.8160</td> <td>    0.051</td> <td>   35.791</td> <td> 0.000</td> <td>    1.717</td> <td>    1.915</td>\n",
       "</tr>\n",
       "<tr>\n",
       "  <th>x3</th> <td>    0.0109</td> <td>    0.050</td> <td>    0.216</td> <td> 0.829</td> <td>   -0.088</td> <td>    0.109</td>\n",
       "</tr>\n",
       "<tr>\n",
       "  <th>x4</th> <td>   -0.1249</td> <td>    0.051</td> <td>   -2.464</td> <td> 0.014</td> <td>   -0.224</td> <td>   -0.026</td>\n",
       "</tr>\n",
       "<tr>\n",
       "  <th>x5</th> <td>   -1.0056</td> <td>    0.052</td> <td>  -19.232</td> <td> 0.000</td> <td>   -1.108</td> <td>   -0.903</td>\n",
       "</tr>\n",
       "<tr>\n",
       "  <th>x6</th> <td>   -0.9547</td> <td>    0.052</td> <td>  -18.236</td> <td> 0.000</td> <td>   -1.057</td> <td>   -0.852</td>\n",
       "</tr>\n",
       "<tr>\n",
       "  <th>x7</th> <td>   -2.0908</td> <td>    0.054</td> <td>  -39.063</td> <td> 0.000</td> <td>   -2.196</td> <td>   -1.986</td>\n",
       "</tr>\n",
       "<tr>\n",
       "  <th>x8</th> <td>   -0.2434</td> <td>    0.050</td> <td>   -4.838</td> <td> 0.000</td> <td>   -0.342</td> <td>   -0.145</td>\n",
       "</tr>\n",
       "<tr>\n",
       "  <th>x9</th> <td>    0.0990</td> <td>    0.054</td> <td>    1.841</td> <td> 0.066</td> <td>   -0.006</td> <td>    0.204</td>\n",
       "</tr>\n",
       "</table>\n",
       "<table class=\"simpletable\">\n",
       "<tr>\n",
       "  <th>Omnibus:</th>       <td>22547.752</td> <th>  Durbin-Watson:     </th> <td>   0.444</td> \n",
       "</tr>\n",
       "<tr>\n",
       "  <th>Prob(Omnibus):</th>  <td> 0.000</td>   <th>  Jarque-Bera (JB):  </th> <td>25146.372</td>\n",
       "</tr>\n",
       "<tr>\n",
       "  <th>Skew:</th>           <td> 0.555</td>   <th>  Prob(JB):          </th> <td>    0.00</td> \n",
       "</tr>\n",
       "<tr>\n",
       "  <th>Kurtosis:</th>       <td> 2.750</td>   <th>  Cond. No.          </th> <td>    1.69</td> \n",
       "</tr>\n",
       "</table><br/><br/>Warnings:<br/>[1] Standard Errors assume that the covariance matrix of the errors is correctly specified."
      ],
      "text/plain": [
       "<class 'statsmodels.iolib.summary.Summary'>\n",
       "\"\"\"\n",
       "                                  OLS Regression Results                                  \n",
       "==========================================================================================\n",
       "Dep. Variable:     track_popularity_bins   R-squared (uncentered):                   0.009\n",
       "Model:                               OLS   Adj. R-squared (uncentered):              0.009\n",
       "Method:                    Least Squares   F-statistic:                              461.5\n",
       "Date:                   Thu, 24 Oct 2019   Prob (F-statistic):                        0.00\n",
       "Time:                           09:37:01   Log-Likelihood:                     -2.3027e+06\n",
       "No. Observations:                 466028   AIC:                                  4.605e+06\n",
       "Df Residuals:                     466019   BIC:                                  4.605e+06\n",
       "Df Model:                              9                                                  \n",
       "Covariance Type:               nonrobust                                                  \n",
       "==============================================================================\n",
       "                 coef    std err          t      P>|t|      [0.025      0.975]\n",
       "------------------------------------------------------------------------------\n",
       "x1            -0.0957      0.051     -1.873      0.061      -0.196       0.004\n",
       "x2             1.8160      0.051     35.791      0.000       1.717       1.915\n",
       "x3             0.0109      0.050      0.216      0.829      -0.088       0.109\n",
       "x4            -0.1249      0.051     -2.464      0.014      -0.224      -0.026\n",
       "x5            -1.0056      0.052    -19.232      0.000      -1.108      -0.903\n",
       "x6            -0.9547      0.052    -18.236      0.000      -1.057      -0.852\n",
       "x7            -2.0908      0.054    -39.063      0.000      -2.196      -1.986\n",
       "x8            -0.2434      0.050     -4.838      0.000      -0.342      -0.145\n",
       "x9             0.0990      0.054      1.841      0.066      -0.006       0.204\n",
       "==============================================================================\n",
       "Omnibus:                    22547.752   Durbin-Watson:                   0.444\n",
       "Prob(Omnibus):                  0.000   Jarque-Bera (JB):            25146.372\n",
       "Skew:                           0.555   Prob(JB):                         0.00\n",
       "Kurtosis:                       2.750   Cond. No.                         1.69\n",
       "==============================================================================\n",
       "\n",
       "Warnings:\n",
       "[1] Standard Errors assume that the covariance matrix of the errors is correctly specified.\n",
       "\"\"\""
      ]
     },
     "execution_count": 32,
     "metadata": {},
     "output_type": "execute_result"
    }
   ],
   "source": [
    "reg3 = sm.OLS(y2_train, X2_train_trans).fit()\n",
    "reg3.summary()"
   ]
  },
  {
   "cell_type": "markdown",
   "metadata": {},
   "source": [
    "## III. Logistic Regression"
   ]
  },
  {
   "cell_type": "markdown",
   "metadata": {},
   "source": [
    "**Logistic Regression:** Next we fitted a logistic regression model and re-tested the model with balanced data. We observed that the true positive rate remained low even when fitting balanced data. Therefore concluding that our logistic regression model was not a good predictor of track popularity."
   ]
  },
  {
   "cell_type": "markdown",
   "metadata": {},
   "source": [
    "### 1. Create New DataFrame w/ Binary Dependent Variable  "
   ]
  },
  {
   "cell_type": "markdown",
   "metadata": {},
   "source": [
    "#### a) Copy DataFrame"
   ]
  },
  {
   "cell_type": "code",
   "execution_count": 33,
   "metadata": {
    "ExecuteTime": {
     "end_time": "2019-10-24T13:37:15.320262Z",
     "start_time": "2019-10-24T13:37:15.309335Z"
    }
   },
   "outputs": [],
   "source": [
    "# Create new dataframe\n",
    "songs3 = songs1.copy()"
   ]
  },
  {
   "cell_type": "markdown",
   "metadata": {},
   "source": [
    "#### b) Create Binary Dependent Variable Column"
   ]
  },
  {
   "cell_type": "code",
   "execution_count": 34,
   "metadata": {
    "ExecuteTime": {
     "end_time": "2019-10-24T13:37:18.036670Z",
     "start_time": "2019-10-24T13:37:18.026899Z"
    }
   },
   "outputs": [],
   "source": [
    "# Create binary column for track_popularity over/under 50\n",
    "songs3['track_popularity_50'] = np.where(songs3['track_popularity']>50, 1, 0)"
   ]
  },
  {
   "cell_type": "markdown",
   "metadata": {},
   "source": [
    "#### d) Define X & Y"
   ]
  },
  {
   "cell_type": "code",
   "execution_count": 35,
   "metadata": {
    "ExecuteTime": {
     "end_time": "2019-10-24T13:37:20.187556Z",
     "start_time": "2019-10-24T13:37:20.154809Z"
    }
   },
   "outputs": [],
   "source": [
    "#Define appropriate X and y\n",
    "X3 = songs3[songs3.columns[1:-1]]\n",
    "y3 = songs3.track_popularity_50"
   ]
  },
  {
   "cell_type": "markdown",
   "metadata": {},
   "source": [
    "#### c) Train-Test Split"
   ]
  },
  {
   "cell_type": "code",
   "execution_count": 36,
   "metadata": {
    "ExecuteTime": {
     "end_time": "2019-10-24T13:37:21.890219Z",
     "start_time": "2019-10-24T13:37:21.539454Z"
    }
   },
   "outputs": [],
   "source": [
    "# Train-Test Split\n",
    "X3_train, X3_test, y3_train, y3_test = train_test_split(X3, y3, \n",
    "                                                        stratify = y3,\n",
    "                                                        test_size = .2)"
   ]
  },
  {
   "cell_type": "code",
   "execution_count": 37,
   "metadata": {
    "ExecuteTime": {
     "end_time": "2019-10-24T13:37:24.047608Z",
     "start_time": "2019-10-24T13:37:23.763910Z"
    }
   },
   "outputs": [
    {
     "data": {
      "image/png": "[encoded data removed]",
      "text/plain": [
       "<Figure size 576x432 with 1 Axes>"
      ]
     },
     "metadata": {},
     "output_type": "display_data"
    }
   ],
   "source": [
    "y3_train_df = pd.DataFrame(y3_train)\n",
    "total = float(len(y3_train_df))\n",
    "\n",
    "fig5 = plt.figure(figsize=(8,6))\n",
    "ax = sns.countplot(x='track_popularity_50', data=y3_train_df)\n",
    "plt.title(\"Imbalanced Dependent Variable\", fontsize=20)\n",
    "plt.xlabel('Popular', fontsize=15)\n",
    "plt.ylabel('Count', fontsize=15)\n",
    "sns.set(font_scale = 1.25)\n",
    "plt.tight_layout()\n",
    "for p in ax.patches:\n",
    "    height = p.get_height()\n",
    "    ax.text(p.get_x()+p.get_width()/2.,\n",
    "            height + 40,\n",
    "            '{0:.0%}'.format(height/total),\n",
    "            ha=\"center\") \n",
    "plt.show()\n",
    "fig5.savefig('Images/imbalanced_dependent_variable.png')"
   ]
  },
  {
   "cell_type": "markdown",
   "metadata": {},
   "source": [
    "#### d) Normalize X_train & X_test"
   ]
  },
  {
   "cell_type": "code",
   "execution_count": 38,
   "metadata": {
    "ExecuteTime": {
     "end_time": "2019-10-24T13:37:30.041587Z",
     "start_time": "2019-10-24T13:37:29.906049Z"
    }
   },
   "outputs": [],
   "source": [
    "# Normalize X_train & X_test\n",
    "scaler = StandardScaler()\n",
    "X3_train_norm = scaler.fit_transform(X3_train)\n",
    "X3_test_norm = scaler.transform(X3_test)"
   ]
  },
  {
   "cell_type": "markdown",
   "metadata": {},
   "source": [
    "#### e) Identify Data Imbalance"
   ]
  },
  {
   "cell_type": "code",
   "execution_count": 39,
   "metadata": {
    "ExecuteTime": {
     "end_time": "2019-10-24T13:37:31.486755Z",
     "start_time": "2019-10-24T13:37:31.474069Z"
    }
   },
   "outputs": [
    {
     "data": {
      "text/plain": [
       "0    473918\n",
       "1     35894\n",
       "Name: track_popularity_50, dtype: int64"
      ]
     },
     "execution_count": 39,
     "metadata": {},
     "output_type": "execute_result"
    }
   ],
   "source": [
    "# Identify data imbalance\n",
    "y3_train.value_counts()"
   ]
  },
  {
   "cell_type": "markdown",
   "metadata": {},
   "source": [
    "### 2. Run Baseline Logistic Regression"
   ]
  },
  {
   "cell_type": "markdown",
   "metadata": {},
   "source": [
    "#### a) Run Logistic Regression"
   ]
  },
  {
   "cell_type": "code",
   "execution_count": 40,
   "metadata": {
    "ExecuteTime": {
     "end_time": "2019-10-24T13:37:39.926438Z",
     "start_time": "2019-10-24T13:37:39.100274Z"
    }
   },
   "outputs": [],
   "source": [
    "lr1 = LogisticRegression(solver='liblinear').fit(X3_train_norm, y3_train)\n",
    "lr1_pred = lr1.predict(X3_test_norm)"
   ]
  },
  {
   "cell_type": "markdown",
   "metadata": {},
   "source": [
    "#### b) Scores"
   ]
  },
  {
   "cell_type": "code",
   "execution_count": 41,
   "metadata": {
    "ExecuteTime": {
     "end_time": "2019-10-24T13:37:40.727378Z",
     "start_time": "2019-10-24T13:37:40.634234Z"
    }
   },
   "outputs": [
    {
     "name": "stdout",
     "output_type": "stream",
     "text": [
      "Accuracy: 0.9295897311165685\n",
      "Precision: 0.0\n",
      "F1: 0.0\n",
      "Recall: 0.0\n"
     ]
    }
   ],
   "source": [
    "# Checking Accuracy\n",
    "print('Accuracy:', accuracy_score(y3_test, lr1_pred))\n",
    "\n",
    "# Checking Precision\n",
    "print('Precision:', precision_score(y3_test, lr1_pred))\n",
    "    \n",
    "# F1 Score\n",
    "print('F1:', f1_score(y3_test, lr1_pred))\n",
    "\n",
    "# Checking Recall\n",
    "print('Recall:', recall_score(y3_test, lr1_pred))"
   ]
  },
  {
   "cell_type": "markdown",
   "metadata": {},
   "source": [
    "#### c) ROC Curve"
   ]
  },
  {
   "cell_type": "code",
   "execution_count": 42,
   "metadata": {
    "ExecuteTime": {
     "end_time": "2019-10-24T13:37:42.839213Z",
     "start_time": "2019-10-24T13:37:42.801797Z"
    }
   },
   "outputs": [],
   "source": [
    "y_hat_test = lr1.predict(X3_test_norm)\n",
    "y_score = lr1.decision_function(X3_test_norm)\n",
    "\n",
    "fpr, tpr, threshold = roc_curve(y3_test, y_score)\n",
    "roc_auc = auc(fpr, tpr)"
   ]
  },
  {
   "cell_type": "code",
   "execution_count": 43,
   "metadata": {
    "ExecuteTime": {
     "end_time": "2019-10-24T13:37:43.825780Z",
     "start_time": "2019-10-24T13:37:43.491608Z"
    }
   },
   "outputs": [
    {
     "data": {
      "image/png": "[encoded data removed]",
      "text/plain": [
       "<Figure size 576x432 with 1 Axes>"
      ]
     },
     "metadata": {},
     "output_type": "display_data"
    }
   ],
   "source": [
    "# method I: plt\n",
    "fig6 = plt.figure(figsize=(8,6))\n",
    "plt.plot(fpr, tpr, 'b', label = 'AUC = %0.2f' % roc_auc)\n",
    "sns.set(font_scale = 1)\n",
    "plt.title('ROC Curve for Baseline Logistic Regression', fontsize=20)\n",
    "plt.legend(loc = 'lower right')\n",
    "plt.plot([0, 1], [0, 1],'r--')\n",
    "plt.xlim([0, 1])\n",
    "plt.ylim([0, 1])\n",
    "plt.ylabel('True Positive Rate', fontsize=14)\n",
    "plt.xlabel('False Positive Rate', fontsize=14)\n",
    "plt.show()\n",
    "fig6.savefig('Images/ROC_baseline.png')"
   ]
  },
  {
   "cell_type": "markdown",
   "metadata": {},
   "source": [
    "#### d) Recall-Precision Curve"
   ]
  },
  {
   "cell_type": "code",
   "execution_count": 44,
   "metadata": {
    "ExecuteTime": {
     "end_time": "2019-10-24T13:37:46.621206Z",
     "start_time": "2019-10-24T13:37:46.306100Z"
    }
   },
   "outputs": [
    {
     "name": "stdout",
     "output_type": "stream",
     "text": [
      "f1=0.000 auc=0.535\n"
     ]
    },
    {
     "data": {
      "image/png": "[encoded data removed]",
      "text/plain": [
       "<Figure size 432x288 with 1 Axes>"
      ]
     },
     "metadata": {},
     "output_type": "display_data"
    }
   ],
   "source": [
    "from sklearn.metrics import precision_recall_curve\n",
    "from sklearn.metrics import f1_score\n",
    "from sklearn.metrics import auc\n",
    "# calculate precision and recall for each threshold\n",
    "precision, recall, threshold = precision_recall_curve(y3_test, lr1.predict(X3_test_norm))\n",
    "# calculate scores\n",
    "f1, auc = f1_score(y3_test, lr1.predict(X3_test_norm)), auc(recall, precision)\n",
    "# summarize scores\n",
    "print('f1=%.3f auc=%.3f' % (f1, auc))\n",
    "# plot the precision-recall curves\n",
    "# plt.plot(recall, precision)\n",
    "plt.step(recall, precision)\n",
    "# axis labels\n",
    "plt.xlabel('Recall')\n",
    "plt.ylabel('Precision')\n",
    "plt.title('Recall-Precision Curve')\n",
    "# show the plot\n",
    "plt.show();"
   ]
  },
  {
   "cell_type": "markdown",
   "metadata": {},
   "source": [
    "## IV. Logistic Regression w/ Balanced Data"
   ]
  },
  {
   "cell_type": "markdown",
   "metadata": {},
   "source": [
    "### 1. Balancing Method 1: Oversample Minority Class"
   ]
  },
  {
   "cell_type": "markdown",
   "metadata": {},
   "source": [
    "#### a) Balance Data by Oversampling Minority Class"
   ]
  },
  {
   "cell_type": "code",
   "execution_count": 45,
   "metadata": {
    "ExecuteTime": {
     "end_time": "2019-10-24T13:37:51.847739Z",
     "start_time": "2019-10-24T13:37:51.845181Z"
    }
   },
   "outputs": [],
   "source": [
    "# Convert Numpy array to DataFrame\n",
    "X3_train_norm_df = pd.DataFrame(X3_train_norm)"
   ]
  },
  {
   "cell_type": "code",
   "execution_count": 46,
   "metadata": {
    "ExecuteTime": {
     "end_time": "2019-10-24T13:37:53.006882Z",
     "start_time": "2019-10-24T13:37:52.960996Z"
    }
   },
   "outputs": [],
   "source": [
    "# Concatenate our training data back together\n",
    "X3_train_norm_df = X3_train_norm_df.reset_index()\n",
    "y3_train = y3_train.reset_index()\n",
    "X4 = pd.concat([X3_train_norm_df, y3_train], axis=1, ignore_index=True)"
   ]
  },
  {
   "cell_type": "code",
   "execution_count": 47,
   "metadata": {
    "ExecuteTime": {
     "end_time": "2019-10-24T13:37:54.094137Z",
     "start_time": "2019-10-24T13:37:53.947243Z"
    }
   },
   "outputs": [
    {
     "data": {
      "text/plain": [
       "1    473918\n",
       "0    473918\n",
       "Name: 11, dtype: int64"
      ]
     },
     "execution_count": 47,
     "metadata": {},
     "output_type": "execute_result"
    }
   ],
   "source": [
    "# Separate minority and majority classes\n",
    "not_popular = X4[X4[11]==0]\n",
    "popular = X4[X4[11]==1]\n",
    "\n",
    "# Upsample minority\n",
    "popular_upsampled = resample(popular,\n",
    "                          replace=True, # sample with replacement\n",
    "                          n_samples=len(not_popular), # match number in majority class\n",
    "                          random_state=27) # reproducible results\n",
    "\n",
    "# Combine majority and upsampled minority\n",
    "upsampled = pd.concat([not_popular, popular_upsampled])\n",
    "\n",
    "# Check new class counts\n",
    "upsampled[11].value_counts()"
   ]
  },
  {
   "cell_type": "markdown",
   "metadata": {},
   "source": [
    "#### b) Train-Test Split by Balanced Data"
   ]
  },
  {
   "cell_type": "code",
   "execution_count": 48,
   "metadata": {
    "ExecuteTime": {
     "end_time": "2019-10-24T13:37:56.422263Z",
     "start_time": "2019-10-24T13:37:56.360498Z"
    }
   },
   "outputs": [],
   "source": [
    "y4_train = upsampled[upsampled.columns[-1:]]\n",
    "X4_train = upsampled[upsampled.columns[1:-2]]"
   ]
  },
  {
   "cell_type": "markdown",
   "metadata": {},
   "source": [
    "#### c) Visualize Balanced Data"
   ]
  },
  {
   "cell_type": "code",
   "execution_count": 49,
   "metadata": {
    "ExecuteTime": {
     "end_time": "2019-10-24T13:37:57.899021Z",
     "start_time": "2019-10-24T13:37:57.601575Z"
    }
   },
   "outputs": [
    {
     "data": {
      "image/png": "[encoded data removed]",
      "text/plain": [
       "<Figure size 576x432 with 1 Axes>"
      ]
     },
     "metadata": {},
     "output_type": "display_data"
    }
   ],
   "source": [
    "# Visualize Balanced Data\n",
    "y4_train_df = pd.DataFrame(y4_train)\n",
    "total = float(len(y4_train_df))\n",
    "\n",
    "fig7 = plt.figure(figsize=(8,6))\n",
    "ax = sns.countplot(x=11, data=y4_train_df)\n",
    "plt.title(\"Balancing by Oversampling Minority Class\", fontsize=20)\n",
    "plt.xlabel('Popular', fontsize=15)\n",
    "plt.ylabel('Count', fontsize=15)\n",
    "sns.set(font_scale = 1.25)\n",
    "plt.tight_layout()\n",
    "for p in ax.patches:\n",
    "    height = p.get_height()\n",
    "    ax.text(p.get_x()+p.get_width()/2.,\n",
    "            height + 40,\n",
    "            '{0:.0%}'.format(height/total),\n",
    "            ha=\"center\") \n",
    "plt.show()\n",
    "fig7.savefig('Images/balance_by_oversampling_minority.png')"
   ]
  },
  {
   "cell_type": "markdown",
   "metadata": {},
   "source": [
    "#### d) Logistic Regression w/ Oversampled Minority Balanced Data"
   ]
  },
  {
   "cell_type": "code",
   "execution_count": 50,
   "metadata": {
    "ExecuteTime": {
     "end_time": "2019-10-24T13:38:02.119723Z",
     "start_time": "2019-10-24T13:38:00.841655Z"
    },
    "scrolled": true
   },
   "outputs": [],
   "source": [
    "upsampled_lr = LogisticRegression(solver='liblinear').fit(X4_train, y4_train)\n",
    "upsampled_pred = upsampled_lr.predict(X3_test_norm)"
   ]
  },
  {
   "cell_type": "markdown",
   "metadata": {},
   "source": [
    "#### e) Scores"
   ]
  },
  {
   "cell_type": "code",
   "execution_count": 51,
   "metadata": {
    "ExecuteTime": {
     "end_time": "2019-10-24T13:38:02.825148Z",
     "start_time": "2019-10-24T13:38:02.709189Z"
    }
   },
   "outputs": [
    {
     "name": "stdout",
     "output_type": "stream",
     "text": [
      "Accuracy: 0.4793688653856716\n",
      "Precision: 0.09294307928040406\n",
      "F1: 0.16489214427747992\n",
      "Recall: 0.729997771339425\n"
     ]
    }
   ],
   "source": [
    "# Checking Accuracy\n",
    "print('Accuracy:', accuracy_score(y3_test, upsampled_pred))\n",
    "\n",
    "# Checking Precision\n",
    "print('Precision:', precision_score(y3_test, upsampled_pred))\n",
    "    \n",
    "# F1 Score\n",
    "print('F1:', f1_score(y3_test, upsampled_pred))\n",
    "\n",
    "# Checking Recall\n",
    "print('Recall:', recall_score(y3_test, upsampled_pred))"
   ]
  },
  {
   "cell_type": "markdown",
   "metadata": {},
   "source": [
    "### 2. Balancing Method 2: Undersample Majority Class"
   ]
  },
  {
   "cell_type": "markdown",
   "metadata": {},
   "source": [
    "#### a) Balance by Undersampling Majority Class"
   ]
  },
  {
   "cell_type": "code",
   "execution_count": 52,
   "metadata": {
    "ExecuteTime": {
     "end_time": "2019-10-24T13:38:07.019565Z",
     "start_time": "2019-10-24T13:38:06.986011Z"
    }
   },
   "outputs": [
    {
     "data": {
      "text/plain": [
       "1    35894\n",
       "0    35894\n",
       "Name: 11, dtype: int64"
      ]
     },
     "execution_count": 52,
     "metadata": {},
     "output_type": "execute_result"
    }
   ],
   "source": [
    "# still using our separated classes popular and not_popular from above\n",
    "\n",
    "# downsample majority\n",
    "not_popular_downsampled = resample(not_popular,\n",
    "                                replace = False, # sample without replacement\n",
    "                                n_samples = len(popular), # match minority n\n",
    "                                random_state = 27) # reproducible results\n",
    "\n",
    "# combine minority and downsampled majority\n",
    "downsampled = pd.concat([not_popular_downsampled, popular])\n",
    "\n",
    "# checking counts\n",
    "downsampled[11].value_counts()"
   ]
  },
  {
   "cell_type": "markdown",
   "metadata": {},
   "source": [
    "#### b) Train-Test Split w/ Blanaced Data"
   ]
  },
  {
   "cell_type": "code",
   "execution_count": 53,
   "metadata": {
    "ExecuteTime": {
     "end_time": "2019-10-24T13:38:09.715027Z",
     "start_time": "2019-10-24T13:38:09.706502Z"
    }
   },
   "outputs": [],
   "source": [
    "y5_train = downsampled[downsampled.columns[-1:]]\n",
    "X5_train = downsampled[downsampled.columns[1:-2]]"
   ]
  },
  {
   "cell_type": "markdown",
   "metadata": {},
   "source": [
    "#### c) Visualize Balanced Data"
   ]
  },
  {
   "cell_type": "code",
   "execution_count": 54,
   "metadata": {
    "ExecuteTime": {
     "end_time": "2019-10-24T13:38:11.438832Z",
     "start_time": "2019-10-24T13:38:11.215600Z"
    }
   },
   "outputs": [
    {
     "data": {
      "image/png": "[encoded data removed]",
      "text/plain": [
       "<Figure size 576x432 with 1 Axes>"
      ]
     },
     "metadata": {},
     "output_type": "display_data"
    }
   ],
   "source": [
    "y5_train_df = pd.DataFrame(y5_train)\n",
    "total = float(len(y5_train_df))\n",
    "\n",
    "fig8 = plt.figure(figsize=(8,6))\n",
    "ax = sns.countplot(x=11, data=y5_train_df)\n",
    "plt.title(\"Balancing by Undersampling Majority Class\", fontsize=20)\n",
    "plt.xlabel('Popular', fontsize=15)\n",
    "plt.ylabel('Count', fontsize=15)\n",
    "sns.set(font_scale = 1.25)\n",
    "plt.tight_layout()\n",
    "for p in ax.patches:\n",
    "    height = p.get_height()\n",
    "    ax.text(p.get_x()+p.get_width()/2.,\n",
    "            height + 40,\n",
    "            '{0:.0%}'.format(height/total),\n",
    "            ha=\"center\") \n",
    "plt.show()\n",
    "fig8.savefig('Images/balanced_by_undersampling_majoirty.png')"
   ]
  },
  {
   "cell_type": "markdown",
   "metadata": {},
   "source": [
    "#### d) Logistic Regression w/ Undersampled Majority Balanced Data"
   ]
  },
  {
   "cell_type": "code",
   "execution_count": 55,
   "metadata": {
    "ExecuteTime": {
     "end_time": "2019-10-24T13:38:14.485153Z",
     "start_time": "2019-10-24T13:38:14.402054Z"
    },
    "scrolled": true
   },
   "outputs": [],
   "source": [
    "downsampled_lr = LogisticRegression(solver='liblinear').fit(X5_train, y5_train)\n",
    "downsampled_pred = downsampled_lr.predict(X3_test_norm)"
   ]
  },
  {
   "cell_type": "markdown",
   "metadata": {},
   "source": [
    "#### e) Scores"
   ]
  },
  {
   "cell_type": "code",
   "execution_count": 56,
   "metadata": {
    "ExecuteTime": {
     "end_time": "2019-10-24T13:38:15.840131Z",
     "start_time": "2019-10-24T13:38:15.727876Z"
    }
   },
   "outputs": [
    {
     "name": "stdout",
     "output_type": "stream",
     "text": [
      "Accuracy: 0.4792119447953363\n",
      "Precision: 0.09314753912451804\n",
      "F1: 0.16527075630674817\n",
      "Recall: 0.7322264319144194\n"
     ]
    }
   ],
   "source": [
    "# Checking Accuracy\n",
    "print('Accuracy:', accuracy_score(y3_test, downsampled_pred))\n",
    "\n",
    "# Checking Precision\n",
    "print('Precision:', precision_score(y3_test, downsampled_pred))\n",
    "    \n",
    "# F1 Score\n",
    "print('F1:', f1_score(y3_test, downsampled_pred))\n",
    "\n",
    "# Checking Recall\n",
    "print('Recall:', recall_score(y3_test, downsampled_pred))"
   ]
  },
  {
   "cell_type": "markdown",
   "metadata": {},
   "source": [
    "### 3. Balancing Method 3: Generate Synthetic Samples w/ SMOTE"
   ]
  },
  {
   "cell_type": "markdown",
   "metadata": {},
   "source": [
    "#### a) Balancing Using SMOTE"
   ]
  },
  {
   "cell_type": "code",
   "execution_count": 57,
   "metadata": {
    "ExecuteTime": {
     "end_time": "2019-10-24T13:38:17.983058Z",
     "start_time": "2019-10-24T13:38:17.978384Z"
    }
   },
   "outputs": [],
   "source": [
    "# Drop index column in y3_train\n",
    "y3_train = y3_train.drop(columns=['index'])"
   ]
  },
  {
   "cell_type": "code",
   "execution_count": 58,
   "metadata": {
    "ExecuteTime": {
     "end_time": "2019-10-24T13:38:24.869826Z",
     "start_time": "2019-10-24T13:38:18.820585Z"
    }
   },
   "outputs": [
    {
     "name": "stdout",
     "output_type": "stream",
     "text": [
      "0    473918\n",
      "1     35894\n",
      "Name: track_popularity_50, dtype: int64\n",
      "1    473918\n",
      "0    473918\n",
      "dtype: int64\n"
     ]
    }
   ],
   "source": [
    "print(y3_train.track_popularity_50.value_counts())\n",
    "smote = SMOTE()\n",
    "X3_train_norm_resampled, y3_train_resampled = smote.fit_sample(X3_train_norm, y3_train.track_popularity_50) \n",
    "print(pd.Series(y3_train_resampled).value_counts())"
   ]
  },
  {
   "cell_type": "markdown",
   "metadata": {},
   "source": [
    "#### b) Visualize Balanced Data"
   ]
  },
  {
   "cell_type": "code",
   "execution_count": 59,
   "metadata": {
    "ExecuteTime": {
     "end_time": "2019-10-24T13:39:08.518220Z",
     "start_time": "2019-10-24T13:39:08.187228Z"
    }
   },
   "outputs": [
    {
     "data": {
      "image/png": "[encoded data removed]",
      "text/plain": [
       "<Figure size 576x432 with 1 Axes>"
      ]
     },
     "metadata": {},
     "output_type": "display_data"
    }
   ],
   "source": [
    "y3_train_resampled_df = pd.DataFrame(y3_train_resampled)\n",
    "total = float(len(y3_train_resampled_df))\n",
    "\n",
    "fig9 = plt.figure(figsize=(8,6))\n",
    "ax = sns.countplot(x=0, data=y3_train_resampled_df)\n",
    "plt.title(\"Balancing with SMOTE\", fontsize=20)\n",
    "plt.xlabel('Popular', fontsize=15)\n",
    "plt.ylabel('Count', fontsize=15)\n",
    "sns.set(font_scale = 1.25)\n",
    "plt.tight_layout()\n",
    "for p in ax.patches:\n",
    "    height = p.get_height()\n",
    "    ax.text(p.get_x()+p.get_width()/2.,\n",
    "            height + 40,\n",
    "            '{0:.0%}'.format(height/total),\n",
    "            ha=\"center\") \n",
    "plt.show()\n",
    "fig9.savefig('Images/balance_with_smote.png')"
   ]
  },
  {
   "cell_type": "markdown",
   "metadata": {},
   "source": [
    "#### c) Run Logistic Regression w/ SMOTE Balanced Data"
   ]
  },
  {
   "cell_type": "code",
   "execution_count": 66,
   "metadata": {
    "ExecuteTime": {
     "end_time": "2019-10-24T13:41:24.747427Z",
     "start_time": "2019-10-24T13:41:23.311058Z"
    }
   },
   "outputs": [],
   "source": [
    "smote = LogisticRegression(solver='liblinear').fit(X3_train_norm_resampled, y3_train_resampled)\n",
    "smote_pred = smote.predict(X3_test_norm)"
   ]
  },
  {
   "cell_type": "markdown",
   "metadata": {},
   "source": [
    "#### d) Scores"
   ]
  },
  {
   "cell_type": "code",
   "execution_count": 61,
   "metadata": {
    "ExecuteTime": {
     "end_time": "2019-10-24T13:39:15.378734Z",
     "start_time": "2019-10-24T13:39:15.264202Z"
    },
    "scrolled": true
   },
   "outputs": [
    {
     "name": "stdout",
     "output_type": "stream",
     "text": [
      "Accuracy: 0.48893317536660574\n",
      "Precision: 0.09353423943723131\n",
      "F1: 0.16556282906957379\n",
      "Recall: 0.7200802317806998\n"
     ]
    }
   ],
   "source": [
    "# Checking Accuracy\n",
    "print('Accuracy:', accuracy_score(y3_test, smote_pred))\n",
    "\n",
    "# Checking Precision\n",
    "print('Precision:', precision_score(y3_test, smote_pred))\n",
    "    \n",
    "# F1 Score\n",
    "print('F1:', f1_score(y3_test, smote_pred))\n",
    "\n",
    "# Checking Recall\n",
    "print('Recall:', recall_score(y3_test, smote_pred))"
   ]
  },
  {
   "cell_type": "markdown",
   "metadata": {},
   "source": [
    "#### e) ROC Curve"
   ]
  },
  {
   "cell_type": "code",
   "execution_count": 62,
   "metadata": {
    "ExecuteTime": {
     "end_time": "2019-10-24T13:40:49.663197Z",
     "start_time": "2019-10-24T13:40:19.858053Z"
    },
    "scrolled": true
   },
   "outputs": [
    {
     "data": {
      "image/png": "[encoded data removed]",
      "text/plain": [
       "<Figure size 720x576 with 1 Axes>"
      ]
     },
     "metadata": {},
     "output_type": "display_data"
    }
   ],
   "source": [
    "# Compare a few different ratios of minority class to majority class\n",
    "ratios = [0.1,0.25, 0.33, 0.5,0.7,1]\n",
    "names = ['0.1', '0.25', '0.33','0.5','0.7','even']\n",
    "colors = sns.color_palette(\"Set2\")\n",
    "\n",
    "fig6b = plt.figure(figsize=(10,8))\n",
    "\n",
    "for n, ratio in enumerate(ratios):\n",
    "    #Fit a model\n",
    "    smote = SMOTE(sampling_strategy=ratio) # SMOTE\n",
    "    X3_train_norm_resampled, y3_train_resampled = smote.fit_sample(X3_train_norm, y3_train) \n",
    "    logreg = LogisticRegression(fit_intercept = False, C = 1e12,solver ='lbfgs') #Starter code\n",
    "    model_log = logreg.fit(X3_train_norm_resampled, y3_train_resampled)\n",
    "    #print(model_log) #Preview model params\n",
    "\n",
    "    #Predict\n",
    "    y_hat_test = logreg.predict(X3_test_norm)\n",
    "\n",
    "    y_score = logreg.decision_function(X3_test_norm)\n",
    "\n",
    "    fpr, tpr, thresholds = roc_curve(y3_test, y_score)\n",
    "    \n",
    "    #print('AUC for {}: {}'.format(names[n], auc(fpr, tpr)))\n",
    "    lw = 2\n",
    "    fig10 = plt.plot(fpr, tpr, color=colors[n],\n",
    "             lw=lw, label='ROC curve {}'.format(names[n]))\n",
    "plt.plot([0, 1], [0, 1], color='navy', lw=lw, linestyle='--')\n",
    "sns.set(font_scale = 1)\n",
    "plt.xlim([0.0, 1.0])\n",
    "plt.ylim([0.0, 1.05])\n",
    "plt.yticks([i/20.0 for i in range(21)])\n",
    "plt.xticks([i/20.0 for i in range(21)])\n",
    "plt.xlabel('False Positive Rate', fontsize=20)\n",
    "plt.ylabel('True Positive Rate', fontsize=20)\n",
    "plt.title('ROC Curve w/ SMOTE Resampling', fontsize=25)\n",
    "plt.legend(loc=\"lower right\")\n",
    "plt.show()\n",
    "fig6b.savefig('Images/log_roc2.png')"
   ]
  },
  {
   "cell_type": "markdown",
   "metadata": {},
   "source": [
    "#### f) Recall-Precision Curve"
   ]
  },
  {
   "cell_type": "code",
   "execution_count": 67,
   "metadata": {
    "ExecuteTime": {
     "end_time": "2019-10-24T13:41:28.310063Z",
     "start_time": "2019-10-24T13:41:28.254639Z"
    }
   },
   "outputs": [
    {
     "name": "stdout",
     "output_type": "stream",
     "text": [
      "SMOTE AUC: 0.5956380273145387\n",
      "Baseline AUC: 0.5\n"
     ]
    }
   ],
   "source": [
    "print('SMOTE AUC:', roc_auc_score(y3_test, smote.predict(X3_test_norm)))\n",
    "print('Baseline AUC:', roc_auc_score(y3_test, lr1.predict(X3_test_norm)))"
   ]
  },
  {
   "cell_type": "code",
   "execution_count": 68,
   "metadata": {
    "ExecuteTime": {
     "end_time": "2019-10-24T13:41:30.037201Z",
     "start_time": "2019-10-24T13:41:29.973767Z"
    }
   },
   "outputs": [
    {
     "ename": "TypeError",
     "evalue": "'numpy.float64' object is not callable",
     "output_type": "error",
     "traceback": [
      "\u001b[0;31m---------------------------------------------------------------------------\u001b[0m",
      "\u001b[0;31mTypeError\u001b[0m                                 Traceback (most recent call last)",
      "\u001b[0;32m<ipython-input-68-33c8fda6a901>\u001b[0m in \u001b[0;36m<module>\u001b[0;34m\u001b[0m\n\u001b[1;32m      2\u001b[0m \u001b[0mprecision\u001b[0m\u001b[0;34m,\u001b[0m \u001b[0mrecall\u001b[0m\u001b[0;34m,\u001b[0m \u001b[0mthreshold\u001b[0m \u001b[0;34m=\u001b[0m \u001b[0mprecision_recall_curve\u001b[0m\u001b[0;34m(\u001b[0m\u001b[0my3_test\u001b[0m\u001b[0;34m,\u001b[0m \u001b[0msmote\u001b[0m\u001b[0;34m.\u001b[0m\u001b[0mpredict\u001b[0m\u001b[0;34m(\u001b[0m\u001b[0mX3_test_norm\u001b[0m\u001b[0;34m)\u001b[0m\u001b[0;34m)\u001b[0m\u001b[0;34m\u001b[0m\u001b[0;34m\u001b[0m\u001b[0m\n\u001b[1;32m      3\u001b[0m \u001b[0;31m# calculate scores\u001b[0m\u001b[0;34m\u001b[0m\u001b[0;34m\u001b[0m\u001b[0;34m\u001b[0m\u001b[0m\n\u001b[0;32m----> 4\u001b[0;31m \u001b[0mf1\u001b[0m\u001b[0;34m,\u001b[0m \u001b[0mauc\u001b[0m \u001b[0;34m=\u001b[0m \u001b[0mf1_score\u001b[0m\u001b[0;34m(\u001b[0m\u001b[0my3_test\u001b[0m\u001b[0;34m,\u001b[0m \u001b[0msmote\u001b[0m\u001b[0;34m.\u001b[0m\u001b[0mpredict\u001b[0m\u001b[0;34m(\u001b[0m\u001b[0mX3_test_norm\u001b[0m\u001b[0;34m)\u001b[0m\u001b[0;34m)\u001b[0m\u001b[0;34m,\u001b[0m \u001b[0mauc\u001b[0m\u001b[0;34m(\u001b[0m\u001b[0mrecall\u001b[0m\u001b[0;34m,\u001b[0m \u001b[0mprecision\u001b[0m\u001b[0;34m)\u001b[0m\u001b[0;34m\u001b[0m\u001b[0;34m\u001b[0m\u001b[0m\n\u001b[0m\u001b[1;32m      5\u001b[0m \u001b[0;31m# summarize scores\u001b[0m\u001b[0;34m\u001b[0m\u001b[0;34m\u001b[0m\u001b[0;34m\u001b[0m\u001b[0m\n\u001b[1;32m      6\u001b[0m \u001b[0mprint\u001b[0m\u001b[0;34m(\u001b[0m\u001b[0;34m'f1=%.3f auc=%.3f'\u001b[0m \u001b[0;34m%\u001b[0m \u001b[0;34m(\u001b[0m\u001b[0mf1\u001b[0m\u001b[0;34m,\u001b[0m \u001b[0mauc\u001b[0m\u001b[0;34m)\u001b[0m\u001b[0;34m)\u001b[0m\u001b[0;34m\u001b[0m\u001b[0;34m\u001b[0m\u001b[0m\n",
      "\u001b[0;31mTypeError\u001b[0m: 'numpy.float64' object is not callable"
     ]
    }
   ],
   "source": [
    "# calculate precision and recall for each threshold\n",
    "precision, recall, threshold = precision_recall_curve(y3_test, smote.predict(X3_test_norm))\n",
    "# calculate scores\n",
    "f1, auc = f1_score(y3_test, smote.predict(X3_test_norm)), auc(recall, precision)\n",
    "# summarize scores\n",
    "print('f1=%.3f auc=%.3f' % (f1, auc))\n",
    "# plot the precision-recall curves\n",
    "# plt.plot(recall, precision)\n",
    "plt.step(recall, precision)\n",
    "# axis labels\n",
    "plt.xlabel('Recall')\n",
    "plt.ylabel('Precision')\n",
    "plt.title('Recall-Precision Curve')\n",
    "# show the plot\n",
    "plt.show();"
   ]
  },
  {
   "cell_type": "markdown",
   "metadata": {},
   "source": [
    "## V. Logistic Regression w/ Cross Validation"
   ]
  },
  {
   "cell_type": "code",
   "execution_count": 69,
   "metadata": {
    "ExecuteTime": {
     "end_time": "2019-10-24T13:42:45.353997Z",
     "start_time": "2019-10-24T13:41:47.767985Z"
    }
   },
   "outputs": [],
   "source": [
    "#split into 10 stratified\n",
    "cv = StratifiedKFold(n_splits= 10, random_state=1019, shuffle=True)\n",
    "\n",
    "#pick sections to compare\n",
    "lr_vanilla = LogisticRegression(C = 1e9, \n",
    "                                solver = 'newton-cg',\n",
    "                                max_iter=1000)\n",
    "\n",
    "l2_reg = LogisticRegression(C = 1, \n",
    "                            solver = 'newton-cg',\n",
    "                            max_iter=1000)\n",
    "\n",
    "l1_reg = LogisticRegression(C = 1, \n",
    "                           solver= 'saga', \n",
    "                           penalty = 'l1',\n",
    "                            max_iter=1000)\n",
    "\n",
    "#cross validations (each has different methods)\n",
    "cv_vanilla = cross_validate(estimator=lr_vanilla, \n",
    "                            X = X3_train_norm_resampled, y = y3_train_resampled,\n",
    "                            cv = cv, \n",
    "                            n_jobs=-1, \n",
    "                            return_estimator= True, \n",
    "                            return_train_score=True)\n",
    "\n",
    "cv_l2 = cross_validate(estimator=l2_reg, \n",
    "                    X = X3_train_norm_resampled, y = y3_train_resampled,\n",
    "                    cv = cv, \n",
    "                    n_jobs=-1, \n",
    "                    return_estimator= True, \n",
    "                    return_train_score=True)\n",
    "\n",
    "cv_l1 = cross_validate(estimator=l1_reg, \n",
    "                    X = X3_train_norm_resampled, y = y3_train_resampled,\n",
    "                    cv = cv, \n",
    "                    n_jobs=-1, \n",
    "                    return_estimator= True, \n",
    "                    return_train_score=True)\n"
   ]
  },
  {
   "cell_type": "code",
   "execution_count": 70,
   "metadata": {
    "ExecuteTime": {
     "end_time": "2019-10-24T13:42:45.960315Z",
     "start_time": "2019-10-24T13:42:45.949907Z"
    }
   },
   "outputs": [
    {
     "name": "stdout",
     "output_type": "stream",
     "text": [
      "Vanilla Result:\n",
      "[[0.605323   0.60590395]\n",
      " [0.60559614 0.60362508]\n",
      " [0.60522336 0.60727549]\n",
      " [0.60543203 0.60538699]\n",
      " [0.60572157 0.6024118 ]\n",
      " [0.60520226 0.60797181]\n",
      " [0.60554222 0.60440581]\n",
      " [0.60594313 0.60087146]\n",
      " [0.60514457 0.6072461 ]\n",
      " [0.60512113 0.60911354]]\n",
      "L2 Result:\n",
      "[[0.60532183 0.60590395]\n",
      " [0.60559614 0.60362508]\n",
      " [0.60522453 0.60727549]\n",
      " [0.6054332  0.60539754]\n",
      " [0.60572157 0.60242235]\n",
      " [0.60520461 0.60797181]\n",
      " [0.60554222 0.60440581]\n",
      " [0.60594313 0.60087146]\n",
      " [0.6051434  0.6072461 ]\n",
      " [0.60511878 0.60911354]]\n",
      "L1 Result:\n",
      "[[0.60532183 0.6059145 ]\n",
      " [0.60559731 0.60363563]\n",
      " [0.60522336 0.60728604]\n",
      " [0.60543671 0.60538699]\n",
      " [0.60571688 0.6024118 ]\n",
      " [0.60520461 0.60797181]\n",
      " [0.60554339 0.60440581]\n",
      " [0.6059443  0.60087146]\n",
      " [0.60513989 0.60725665]\n",
      " [0.60511761 0.60911354]]\n",
      "[0.60542494 0.6054212 ] [0.60542459 0.60542542] [0.60542494 0.60542331]\n",
      "[0.00025906 0.00247297] [0.00025969 0.00247398] [0.00025923 0.00247167]\n"
     ]
    }
   ],
   "source": [
    "# Vanilla Result\n",
    "vanilla_result = np.concatenate((cv_vanilla['train_score'].reshape(-1,1), \n",
    "                cv_vanilla['test_score'].reshape(-1,1)), axis=1)\n",
    "print('Vanilla Result:')\n",
    "print(vanilla_result)\n",
    "\n",
    "# L2 Result\n",
    "l2_result = np.concatenate((cv_l2['train_score'].reshape(-1,1), \n",
    "                cv_l2['test_score'].reshape(-1,1)), axis=1)\n",
    "print('L2 Result:')\n",
    "print(l2_result)\n",
    "\n",
    "# L1 Result\n",
    "l1_result = np.concatenate((cv_l1['train_score'].reshape(-1,1), \n",
    "                cv_l1['test_score'].reshape(-1,1)), axis=1)\n",
    "print('L1 Result:')\n",
    "print(l1_result)\n",
    "\n",
    "# Mean Comparison\n",
    "print(vanilla_result.mean(axis=0), l1_result.mean(axis=0), l2_result.mean(axis=0))\n",
    "\n",
    "# Standard Deviation Comparison\n",
    "print(vanilla_result.std(axis=0), l1_result.std(axis=0), l2_result.std(axis=0))"
   ]
  },
  {
   "cell_type": "code",
   "execution_count": 71,
   "metadata": {
    "ExecuteTime": {
     "end_time": "2019-10-24T13:42:46.630150Z",
     "start_time": "2019-10-24T13:42:46.541215Z"
    }
   },
   "outputs": [
    {
     "data": {
      "text/plain": [
       "0.6053810996839115"
      ]
     },
     "execution_count": 71,
     "metadata": {},
     "output_type": "execute_result"
    }
   ],
   "source": [
    "lr_vanilla = cv_vanilla['estimator'][0]\n",
    "lr_vanilla.score(X3_train_norm_resampled, y3_train_resampled)"
   ]
  },
  {
   "cell_type": "code",
   "execution_count": 72,
   "metadata": {
    "ExecuteTime": {
     "end_time": "2019-10-24T13:42:47.315577Z",
     "start_time": "2019-10-24T13:42:47.242692Z"
    }
   },
   "outputs": [
    {
     "data": {
      "text/plain": [
       "0.6053800446490744"
      ]
     },
     "execution_count": 72,
     "metadata": {},
     "output_type": "execute_result"
    }
   ],
   "source": [
    "lr_cv12 = cv_l2['estimator'][0]\n",
    "lr_cv12.score(X3_train_norm_resampled, y3_train_resampled)"
   ]
  },
  {
   "cell_type": "code",
   "execution_count": 73,
   "metadata": {
    "ExecuteTime": {
     "end_time": "2019-10-24T13:42:48.002472Z",
     "start_time": "2019-10-24T13:42:47.923486Z"
    }
   },
   "outputs": [
    {
     "data": {
      "text/plain": [
       "0.6053810996839115"
      ]
     },
     "execution_count": 73,
     "metadata": {},
     "output_type": "execute_result"
    }
   ],
   "source": [
    "lr_cvl1 = cv_l1['estimator'][0]\n",
    "lr_cvl1.score(X3_train_norm_resampled, y3_train_resampled)"
   ]
  },
  {
   "cell_type": "markdown",
   "metadata": {},
   "source": [
    "## VI. Random Forest"
   ]
  },
  {
   "cell_type": "markdown",
   "metadata": {},
   "source": [
    "**Random Forrest Classification:** We moved on to try Random Forrest classification, but observed similar results as we did for logistic regression. The true positive rate was still low, and the models had high accuracy at predicting true negatives (tracks that were not popular), but not for predicting true positives (tracks that were popular)."
   ]
  },
  {
   "cell_type": "markdown",
   "metadata": {},
   "source": [
    "### 1. Random Forest Classifier"
   ]
  },
  {
   "cell_type": "markdown",
   "metadata": {},
   "source": [
    "#### a) Set Random Forrest Model"
   ]
  },
  {
   "cell_type": "code",
   "execution_count": 74,
   "metadata": {
    "ExecuteTime": {
     "end_time": "2019-10-24T13:43:35.312487Z",
     "start_time": "2019-10-24T13:43:17.233987Z"
    }
   },
   "outputs": [],
   "source": [
    "from sklearn.ensemble import RandomForestClassifier\n",
    "from sklearn.metrics import precision_score, recall_score, accuracy_score, f1_score\n",
    "\n",
    "# train model\n",
    "rfc = RandomForestClassifier(n_estimators=9).fit(X3_train, y3_train)\n",
    "\n",
    "#predict on test set\n",
    "rfc_pred = rfc.predict(X3_test)"
   ]
  },
  {
   "cell_type": "markdown",
   "metadata": {},
   "source": [
    "#### b) Scores"
   ]
  },
  {
   "cell_type": "code",
   "execution_count": 75,
   "metadata": {
    "ExecuteTime": {
     "end_time": "2019-10-24T13:43:36.062241Z",
     "start_time": "2019-10-24T13:43:35.944430Z"
    }
   },
   "outputs": [
    {
     "name": "stdout",
     "output_type": "stream",
     "text": [
      "Accuracy: 0.9274634571175256\n",
      "Precision: 0.12672176308539945\n",
      "F1: 0.00985327192888508\n",
      "Recall: 0.005125919322487185\n"
     ]
    }
   ],
   "source": [
    "# Checking Accuracy\n",
    "print('Accuracy:', metrics.accuracy_score(y3_test, rfc_pred))\n",
    "\n",
    "# Checking Precision\n",
    "print('Precision:', metrics.precision_score(y3_test, rfc_pred))\n",
    "    \n",
    "# F1 Score\n",
    "print('F1:', metrics.f1_score(y3_test, rfc_pred))\n",
    "\n",
    "# Checking Recall\n",
    "print('Recall:', metrics.recall_score(y3_test, rfc_pred))"
   ]
  },
  {
   "cell_type": "markdown",
   "metadata": {},
   "source": [
    "#### c) ROC Curve"
   ]
  },
  {
   "cell_type": "code",
   "execution_count": 76,
   "metadata": {
    "ExecuteTime": {
     "end_time": "2019-10-24T13:43:41.090125Z",
     "start_time": "2019-10-24T13:43:36.695107Z"
    }
   },
   "outputs": [
    {
     "name": "stdout",
     "output_type": "stream",
     "text": [
      "Recall Baseline: 1.0 Test: 0.01 Train: 0.86\n",
      "Precision Baseline: 0.07 Test: 0.13 Train: 1.0\n",
      "Roc Baseline: 0.5 Test: 0.57 Train: 1.0\n"
     ]
    },
    {
     "data": {
      "image/png": "[encoded data removed]",
      "text/plain": [
       "<Figure size 576x432 with 1 Axes>"
      ]
     },
     "metadata": {},
     "output_type": "display_data"
    }
   ],
   "source": [
    "# Training predictions (to demonstrate overfitting)\n",
    "train_rf_predictions = rfc.predict(X3_train)\n",
    "train_rf_probs = rfc.predict_proba(X3_train)[:, 1]\n",
    "\n",
    "# Testing predictions (to determine performance)\n",
    "rf_predictions = rfc.predict(X3_test)\n",
    "rf_probs = rfc.predict_proba(X3_test)[:, 1]\n",
    "\n",
    "from sklearn.metrics import precision_score, recall_score, roc_auc_score, roc_curve\n",
    "import matplotlib.pyplot as plt\n",
    "\n",
    "# Plot formatting\n",
    "plt.style.use('fivethirtyeight')\n",
    "plt.rcParams['font.size'] = 18\n",
    "\n",
    "def evaluate_model(predictions, probs, train_predictions, train_probs):\n",
    "    \"\"\"Compare machine learning model to baseline performance.\n",
    "    Computes statistics and shows ROC curve.\"\"\"\n",
    "    \n",
    "    baseline = {}\n",
    "    \n",
    "    baseline['recall'] = recall_score(y3_test, \n",
    "                                     [1 for _ in range(len(y3_test))])\n",
    "    baseline['precision'] = precision_score(y3_test, \n",
    "                                      [1 for _ in range(len(y3_test))])\n",
    "    baseline['roc'] = 0.5\n",
    "    \n",
    "    results = {}\n",
    "    \n",
    "    results['recall'] = recall_score(y3_test, predictions)\n",
    "    results['precision'] = precision_score(y3_test, predictions)\n",
    "    results['roc'] = roc_auc_score(y3_test, probs)\n",
    "    \n",
    "    train_results = {}\n",
    "    train_results['recall'] = recall_score(y3_train, train_predictions)\n",
    "    train_results['precision'] = precision_score(y3_train, train_predictions)\n",
    "    train_results['roc'] = roc_auc_score(y3_train, train_probs)\n",
    "    \n",
    "    for metric in ['recall', 'precision', 'roc']:\n",
    "        print(f'{metric.capitalize()} Baseline: {round(baseline[metric], 2)} Test: {round(results[metric], 2)} Train: {round(train_results[metric], 2)}')\n",
    "    \n",
    "    # Calculate false positive rates and true positive rates\n",
    "    base_fpr, base_tpr, _ = roc_curve(y3_test, [1 for _ in range(len(y3_test))])\n",
    "    model_fpr, model_tpr, _ = roc_curve(y3_test, probs)\n",
    "\n",
    "    fig11 = plt.figure(figsize = (8, 6))\n",
    "    plt.rcParams['font.size'] = 16\n",
    "    \n",
    "    # Plot both curves\n",
    "    plt.plot(base_fpr, base_tpr, 'b', label = 'baseline')\n",
    "    plt.plot(model_fpr, model_tpr, 'r', label = 'model')\n",
    "    plt.legend();\n",
    "    plt.xlabel('False Positive Rate'); \n",
    "    plt.ylabel('True Positive Rate'); \n",
    "    plt.title('Random Forest ROC Curves');\n",
    "    plt.tight_layout()\n",
    "    plt.show();\n",
    "    fig11.savefig('Images/rf_roc_auc_curve.png')\n",
    "    \n",
    "evaluate_model(rf_predictions, rf_probs, train_rf_predictions, train_rf_probs)"
   ]
  },
  {
   "cell_type": "markdown",
   "metadata": {},
   "source": [
    "#### d) Confusion Matrix"
   ]
  },
  {
   "cell_type": "code",
   "execution_count": 77,
   "metadata": {
    "ExecuteTime": {
     "end_time": "2019-10-24T13:43:41.818360Z",
     "start_time": "2019-10-24T13:43:41.716356Z"
    },
    "scrolled": true
   },
   "outputs": [
    {
     "data": {
      "text/plain": [
       "array([[118162,    317],\n",
       "       [  8928,     46]])"
      ]
     },
     "execution_count": 77,
     "metadata": {},
     "output_type": "execute_result"
    }
   ],
   "source": [
    "# Making the Confusion Matrix\n",
    "from sklearn.metrics import confusion_matrix\n",
    "rf_cm = confusion_matrix(y3_test, rfc_pred)\n",
    "rf_cm"
   ]
  },
  {
   "cell_type": "code",
   "execution_count": 78,
   "metadata": {
    "ExecuteTime": {
     "end_time": "2019-10-24T13:43:42.549377Z",
     "start_time": "2019-10-24T13:43:42.446837Z"
    }
   },
   "outputs": [
    {
     "data": {
      "text/html": [
       "<div>\n",
       "<style scoped>\n",
       "    .dataframe tbody tr th:only-of-type {\n",
       "        vertical-align: middle;\n",
       "    }\n",
       "\n",
       "    .dataframe tbody tr th {\n",
       "        vertical-align: top;\n",
       "    }\n",
       "\n",
       "    .dataframe thead th {\n",
       "        text-align: right;\n",
       "    }\n",
       "</style>\n",
       "<table border=\"1\" class=\"dataframe\">\n",
       "  <thead>\n",
       "    <tr style=\"text-align: right;\">\n",
       "      <th></th>\n",
       "      <th>predicted 0</th>\n",
       "      <th>predicted 1</th>\n",
       "    </tr>\n",
       "  </thead>\n",
       "  <tbody>\n",
       "    <tr>\n",
       "      <th>actual 0</th>\n",
       "      <td>118162</td>\n",
       "      <td>317</td>\n",
       "    </tr>\n",
       "    <tr>\n",
       "      <th>actual 1</th>\n",
       "      <td>8928</td>\n",
       "      <td>46</td>\n",
       "    </tr>\n",
       "  </tbody>\n",
       "</table>\n",
       "</div>"
      ],
      "text/plain": [
       "          predicted 0  predicted 1\n",
       "actual 0       118162          317\n",
       "actual 1         8928           46"
      ]
     },
     "execution_count": 78,
     "metadata": {},
     "output_type": "execute_result"
    }
   ],
   "source": [
    "pd.DataFrame(confusion_matrix(y3_test, rfc_pred), \n",
    "             columns = ['predicted 0', 'predicted 1'], \n",
    "             index = ['actual 0', 'actual 1'])"
   ]
  },
  {
   "cell_type": "code",
   "execution_count": 79,
   "metadata": {
    "ExecuteTime": {
     "end_time": "2019-10-24T13:43:43.650937Z",
     "start_time": "2019-10-24T13:43:43.170406Z"
    }
   },
   "outputs": [
    {
     "name": "stdout",
     "output_type": "stream",
     "text": [
      "Confusion matrix, without normalization\n",
      "[[118162    317]\n",
      " [  8928     46]]\n"
     ]
    },
    {
     "data": {
      "image/png": "[encoded data removed]",
      "text/plain": [
       "<Figure size 720x720 with 2 Axes>"
      ]
     },
     "metadata": {},
     "output_type": "display_data"
    }
   ],
   "source": [
    "from sklearn.metrics import confusion_matrix\n",
    "import itertools\n",
    "\n",
    "def plot_confusion_matrix(rf_cm, classes,\n",
    "                          normalize=False,\n",
    "                          title='Confusion matrix',\n",
    "                          cmap=plt.cm.Blues):\n",
    "    \"\"\"\n",
    "    This function prints and plots the confusion matrix.\n",
    "    Normalization can be applied by setting `normalize=True`.\n",
    "    Source: http://scikit-learn.org/stable/auto_examples/model_selection/plot_confusion_matrix.html\n",
    "    \"\"\"\n",
    "    if normalize:\n",
    "        rf_cm = rf_cm.astype('float') / rf_cm.sum(axis=1)[:, np.newaxis]\n",
    "        print(\"Normalized confusion matrix\")\n",
    "    else:\n",
    "        print('Confusion matrix, without normalization')\n",
    "\n",
    "    print(rf_cm)\n",
    "\n",
    "    # Plot the confusion matrix\n",
    "    plt.figure(figsize = (10, 10))\n",
    "    plt.imshow(rf_cm, interpolation='nearest', cmap=cmap)\n",
    "    plt.title(title, size = 24)\n",
    "    plt.colorbar(aspect=4)\n",
    "    tick_marks = np.arange(len(classes))\n",
    "    plt.xticks(tick_marks, classes, rotation=45, size = 14)\n",
    "    plt.yticks(tick_marks, classes, size = 14)\n",
    "\n",
    "    fmt = '.2f' if normalize else 'd'\n",
    "    thresh = rf_cm.max() / 2.\n",
    "    \n",
    "    # Labeling the plot\n",
    "    for i, j in itertools.product(range(rf_cm.shape[0]), range(rf_cm.shape[1])):\n",
    "        plt.text(j, i, format(rf_cm[i, j], fmt), fontsize = 20,\n",
    "                 horizontalalignment=\"center\",\n",
    "                 color=\"white\" if rf_cm[i, j] > thresh else \"black\")\n",
    "        \n",
    "    plt.grid(None)\n",
    "    plt.tight_layout()\n",
    "    plt.ylabel('True label', size = 18)\n",
    "    plt.xlabel('Predicted label', size = 18)\n",
    "    plt.tight_layout()\n",
    "    plt.savefig('Images/rf_confusion_matrix.png')\n",
    "\n",
    "# Confusion matrix\n",
    "rf_cm = confusion_matrix(y3_test, rf_predictions)\n",
    "plot_confusion_matrix(rf_cm, classes = ['Not Popular', 'Popular'],\n",
    "                      title = 'Random Forest Confusion Matrix')"
   ]
  },
  {
   "cell_type": "markdown",
   "metadata": {},
   "source": [
    "### 2. Random Forest Classifier w/ Cross Validation"
   ]
  },
  {
   "cell_type": "markdown",
   "metadata": {},
   "source": [
    "#### a) Set Random Forest Model"
   ]
  },
  {
   "cell_type": "code",
   "execution_count": 80,
   "metadata": {
    "ExecuteTime": {
     "end_time": "2019-10-24T13:47:26.953726Z",
     "start_time": "2019-10-24T13:44:38.401783Z"
    }
   },
   "outputs": [],
   "source": [
    "from sklearn.ensemble import RandomForestClassifier\n",
    "from sklearn.model_selection import cross_val_score\n",
    "import numpy as np\n",
    "\n",
    "clf = RandomForestClassifier() #Initialize with whatever parameters you want to\n",
    "\n",
    "# 10-Fold Cross validation\n",
    "clf_pred = np.mean(cross_val_score(clf, X3_train, \n",
    "                                   y3_train, cv=10))"
   ]
  },
  {
   "cell_type": "code",
   "execution_count": 81,
   "metadata": {
    "ExecuteTime": {
     "end_time": "2019-10-24T13:47:27.559066Z",
     "start_time": "2019-10-24T13:47:27.555660Z"
    }
   },
   "outputs": [
    {
     "data": {
      "text/plain": [
       "0.9287580520493938"
      ]
     },
     "execution_count": 81,
     "metadata": {},
     "output_type": "execute_result"
    }
   ],
   "source": [
    "clf_pred"
   ]
  },
  {
   "cell_type": "markdown",
   "metadata": {},
   "source": [
    "#### b) Set Cross Validation Model"
   ]
  },
  {
   "cell_type": "code",
   "execution_count": 82,
   "metadata": {
    "ExecuteTime": {
     "end_time": "2019-10-24T13:50:15.430453Z",
     "start_time": "2019-10-24T13:47:28.154533Z"
    }
   },
   "outputs": [],
   "source": [
    "cv_model = cross_validate(clf, \n",
    "                          X3_train, \n",
    "                          y3_train, \n",
    "                          cv=10, \n",
    "                          return_estimator=True)"
   ]
  },
  {
   "cell_type": "code",
   "execution_count": 83,
   "metadata": {
    "ExecuteTime": {
     "end_time": "2019-10-24T13:50:19.573235Z",
     "start_time": "2019-10-24T13:50:16.056592Z"
    }
   },
   "outputs": [],
   "source": [
    "y_test_pred = []\n",
    "for i in range(9):\n",
    "    y_test_pred.append(cv_model['estimator'][i].predict(X3_test))"
   ]
  },
  {
   "cell_type": "code",
   "execution_count": 84,
   "metadata": {
    "ExecuteTime": {
     "end_time": "2019-10-24T13:50:20.192457Z",
     "start_time": "2019-10-24T13:50:20.184736Z"
    }
   },
   "outputs": [
    {
     "data": {
      "text/plain": [
       "0.0011280846882990418"
      ]
     },
     "execution_count": 84,
     "metadata": {},
     "output_type": "execute_result"
    }
   ],
   "source": [
    "np.mean(y_test_pred)"
   ]
  },
  {
   "cell_type": "markdown",
   "metadata": {},
   "source": [
    "#### c) Scores"
   ]
  },
  {
   "cell_type": "code",
   "execution_count": 85,
   "metadata": {
    "ExecuteTime": {
     "end_time": "2019-10-24T13:50:21.581263Z",
     "start_time": "2019-10-24T13:50:20.814230Z"
    }
   },
   "outputs": [
    {
     "name": "stdout",
     "output_type": "stream",
     "text": [
      "Accuracy: 0.928806871727007\n",
      "Precision: 0.15394497388307368\n",
      "F1: 0.004825203655623394\n",
      "Recall: 0.002451526632493871\n"
     ]
    }
   ],
   "source": [
    "# Checking Accuracy\n",
    "y_test_pred_accuracy = []\n",
    "for i in range(9):\n",
    "    y_test_pred_accuracy.append(metrics.accuracy_score(y3_test, y_test_pred[i]))\n",
    "print('Accuracy:', np.mean(y_test_pred_accuracy))\n",
    "\n",
    "# Checking Precision\n",
    "y_test_pred_precision= []\n",
    "for i in range(9):\n",
    "    y_test_pred_precision.append(metrics.precision_score(y3_test, y_test_pred[i]))\n",
    "print('Precision:', np.mean(y_test_pred_precision))\n",
    "    \n",
    "# F1 Score\n",
    "y_test_pred_f1 = []\n",
    "for i in range(9):\n",
    "    y_test_pred_f1.append(metrics.f1_score(y3_test, y_test_pred[i]))\n",
    "print('F1:', np.mean(y_test_pred_f1))\n",
    "\n",
    "# Checking Recall\n",
    "y_test_pred_recall = []\n",
    "for i in range(9):\n",
    "    y_test_pred_recall.append(metrics.recall_score(y3_test, y_test_pred[i]))\n",
    "print('Recall:', np.mean(y_test_pred_recall))"
   ]
  },
  {
   "cell_type": "markdown",
   "metadata": {},
   "source": [
    "#### d) ROC Curve"
   ]
  },
  {
   "cell_type": "code",
   "execution_count": 86,
   "metadata": {
    "ExecuteTime": {
     "end_time": "2019-10-24T13:50:27.228093Z",
     "start_time": "2019-10-24T13:50:22.195743Z"
    }
   },
   "outputs": [
    {
     "name": "stdout",
     "output_type": "stream",
     "text": [
      "Recall Baseline: 1.0 Test: 0.0 Train: 0.71\n",
      "Precision Baseline: 0.07 Test: 0.12 Train: 1.0\n",
      "Roc Baseline: 0.5 Test: 0.57 Train: 0.97\n"
     ]
    },
    {
     "data": {
      "image/png": "[encoded data removed]",
      "text/plain": [
       "<Figure size 576x432 with 1 Axes>"
      ]
     },
     "metadata": {},
     "output_type": "display_data"
    }
   ],
   "source": [
    "# Training predictions (to demonstrate overfitting)\n",
    "train_rf_predictions = cv_model['estimator'][i].predict(X3_train)\n",
    "train_rf_probs = cv_model['estimator'][i].predict_proba(X3_train)[:, 1]\n",
    "\n",
    "# Testing predictions (to determine performance)\n",
    "rf_predictions = cv_model['estimator'][i].predict(X3_test)\n",
    "rf_probs = cv_model['estimator'][i].predict_proba(X3_test)[:, 1]\n",
    "\n",
    "from sklearn.metrics import precision_score, recall_score, roc_auc_score, roc_curve\n",
    "import matplotlib.pyplot as plt\n",
    "\n",
    "# Plot formatting\n",
    "plt.style.use('fivethirtyeight')\n",
    "plt.rcParams['font.size'] = 18\n",
    "\n",
    "def evaluate_model(predictions, probs, train_predictions, train_probs):\n",
    "    \"\"\"Compare machine learning model to baseline performance.\n",
    "    Computes statistics and shows ROC curve.\"\"\"\n",
    "    \n",
    "    baseline = {}\n",
    "    \n",
    "    baseline['recall'] = recall_score(y3_test, \n",
    "                                     [1 for _ in range(len(y3_test))])\n",
    "    baseline['precision'] = precision_score(y3_test, \n",
    "                                      [1 for _ in range(len(y3_test))])\n",
    "    baseline['roc'] = 0.5\n",
    "    \n",
    "    results = {}\n",
    "    \n",
    "    results['recall'] = recall_score(y3_test, predictions)\n",
    "    results['precision'] = precision_score(y3_test, predictions)\n",
    "    results['roc'] = roc_auc_score(y3_test, probs)\n",
    "    \n",
    "    train_results = {}\n",
    "    train_results['recall'] = recall_score(y3_train, train_predictions)\n",
    "    train_results['precision'] = precision_score(y3_train, train_predictions)\n",
    "    train_results['roc'] = roc_auc_score(y3_train, train_probs)\n",
    "    \n",
    "    for metric in ['recall', 'precision', 'roc']:\n",
    "        print(f'{metric.capitalize()} Baseline: {round(baseline[metric], 2)} Test: {round(results[metric], 2)} Train: {round(train_results[metric], 2)}')\n",
    "    \n",
    "    # Calculate false positive rates and true positive rates\n",
    "    base_fpr, base_tpr, _ = roc_curve(y3_test, [1 for _ in range(len(y3_test))])\n",
    "    model_fpr, model_tpr, _ = roc_curve(y3_test, probs)\n",
    "\n",
    "    fig13 = plt.figure(figsize = (8, 6))\n",
    "    plt.rcParams['font.size'] = 16\n",
    "    \n",
    "    # Plot both curves\n",
    "    plt.plot(base_fpr, base_tpr, 'b', label = 'baseline')\n",
    "    plt.plot(model_fpr, model_tpr, 'r', label = 'model')\n",
    "    plt.legend();\n",
    "    plt.xlabel('False Positive Rate'); \n",
    "    plt.ylabel('True Positive Rate'); \n",
    "    plt.title('Random Forest (w/CV) ROC Curves');\n",
    "    plt.tight_layout()\n",
    "    plt.show();\n",
    "    #fig13.savefig('Images/rf_cv_roc_auc_curve.png')\n",
    "\n",
    "evaluate_model(rf_predictions, rf_probs, train_rf_predictions, train_rf_probs)\n"
   ]
  },
  {
   "cell_type": "markdown",
   "metadata": {},
   "source": [
    "#### e) Confusion Matrix"
   ]
  },
  {
   "cell_type": "code",
   "execution_count": 87,
   "metadata": {
    "ExecuteTime": {
     "end_time": "2019-10-24T13:50:28.246680Z",
     "start_time": "2019-10-24T13:50:27.851688Z"
    }
   },
   "outputs": [],
   "source": [
    "y_test_predictors = cv_model['estimator'][i].predict(X3_test)"
   ]
  },
  {
   "cell_type": "code",
   "execution_count": 88,
   "metadata": {
    "ExecuteTime": {
     "end_time": "2019-10-24T13:50:28.966337Z",
     "start_time": "2019-10-24T13:50:28.868172Z"
    }
   },
   "outputs": [
    {
     "data": {
      "text/plain": [
       "array([[118354,    125],\n",
       "       [  8957,     17]])"
      ]
     },
     "execution_count": 88,
     "metadata": {},
     "output_type": "execute_result"
    }
   ],
   "source": [
    "# Making the Confusion Matrix\n",
    "from sklearn.metrics import confusion_matrix\n",
    "rf_cv_cm = confusion_matrix(y3_test, y_test_predictors)\n",
    "rf_cv_cm"
   ]
  },
  {
   "cell_type": "code",
   "execution_count": 89,
   "metadata": {
    "ExecuteTime": {
     "end_time": "2019-10-24T13:50:29.669512Z",
     "start_time": "2019-10-24T13:50:29.572261Z"
    }
   },
   "outputs": [
    {
     "data": {
      "text/html": [
       "<div>\n",
       "<style scoped>\n",
       "    .dataframe tbody tr th:only-of-type {\n",
       "        vertical-align: middle;\n",
       "    }\n",
       "\n",
       "    .dataframe tbody tr th {\n",
       "        vertical-align: top;\n",
       "    }\n",
       "\n",
       "    .dataframe thead th {\n",
       "        text-align: right;\n",
       "    }\n",
       "</style>\n",
       "<table border=\"1\" class=\"dataframe\">\n",
       "  <thead>\n",
       "    <tr style=\"text-align: right;\">\n",
       "      <th></th>\n",
       "      <th>predicted 0</th>\n",
       "      <th>predicted 1</th>\n",
       "    </tr>\n",
       "  </thead>\n",
       "  <tbody>\n",
       "    <tr>\n",
       "      <th>actual 0</th>\n",
       "      <td>118354</td>\n",
       "      <td>125</td>\n",
       "    </tr>\n",
       "    <tr>\n",
       "      <th>actual 1</th>\n",
       "      <td>8957</td>\n",
       "      <td>17</td>\n",
       "    </tr>\n",
       "  </tbody>\n",
       "</table>\n",
       "</div>"
      ],
      "text/plain": [
       "          predicted 0  predicted 1\n",
       "actual 0       118354          125\n",
       "actual 1         8957           17"
      ]
     },
     "execution_count": 89,
     "metadata": {},
     "output_type": "execute_result"
    }
   ],
   "source": [
    "pd.DataFrame(confusion_matrix(y3_test, y_test_predictors), \n",
    "             columns = ['predicted 0', 'predicted 1'], \n",
    "             index = ['actual 0', 'actual 1'])"
   ]
  },
  {
   "cell_type": "code",
   "execution_count": 90,
   "metadata": {
    "ExecuteTime": {
     "end_time": "2019-10-24T13:50:30.678518Z",
     "start_time": "2019-10-24T13:50:30.281825Z"
    },
    "scrolled": true
   },
   "outputs": [
    {
     "name": "stdout",
     "output_type": "stream",
     "text": [
      "Confusion matrix, without normalization\n",
      "[[118354    125]\n",
      " [  8957     17]]\n"
     ]
    },
    {
     "data": {
      "image/png": "[encoded data removed]",
      "text/plain": [
       "<Figure size 720x720 with 2 Axes>"
      ]
     },
     "metadata": {},
     "output_type": "display_data"
    }
   ],
   "source": [
    "from sklearn.metrics import confusion_matrix\n",
    "import itertools\n",
    "\n",
    "def plot_confusion_matrix(rf_cv_cm, classes,\n",
    "                          normalize=False,\n",
    "                          title='Confusion matrix',\n",
    "                          cmap=plt.cm.Blues):\n",
    "    \"\"\"\n",
    "    This function prints and plots the confusion matrix.\n",
    "    Normalization can be applied by setting `normalize=True`.\n",
    "    Source: http://scikit-learn.org/stable/auto_examples/model_selection/plot_confusion_matrix.html\n",
    "    \"\"\"\n",
    "    if normalize:\n",
    "        rf_cv_cm = rf_cv_cm.astype('float') / rf_cv_cm.sum(axis=1)[:, np.newaxis]\n",
    "        print(\"Normalized confusion matrix\")\n",
    "    else:\n",
    "        print('Confusion matrix, without normalization')\n",
    "\n",
    "    print(rf_cv_cm)\n",
    "\n",
    "    # Plot the confusion matrix\n",
    "    fig14 = plt.figure(figsize = (10, 10))\n",
    "    plt.imshow(rf_cv_cm, interpolation='nearest', cmap=cmap)\n",
    "    plt.title(title, size = 24)\n",
    "    plt.colorbar(aspect=4)\n",
    "    tick_marks = np.arange(len(classes))\n",
    "    plt.xticks(tick_marks, classes, rotation=45, size = 14)\n",
    "    plt.yticks(tick_marks, classes, size = 14)\n",
    "\n",
    "    fmt = '.2f' if normalize else 'd'\n",
    "    thresh = rf_cv_cm.max() / 2.\n",
    "    \n",
    "    # Labeling the plot\n",
    "    for i, j in itertools.product(range(rf_cv_cm.shape[0]), range(rf_cv_cm.shape[1])):\n",
    "        plt.text(j, i, format(rf_cv_cm[i, j], fmt), fontsize = 20,\n",
    "                 horizontalalignment=\"center\",\n",
    "                 color=\"white\" if rf_cv_cm[i, j] > thresh else \"black\")\n",
    "        \n",
    "    plt.grid(None)\n",
    "    plt.tight_layout()\n",
    "    plt.ylabel('True label', size = 18)\n",
    "    plt.xlabel('Predicted label', size = 18)\n",
    "    plt.tight_layout()\n",
    "    #plt.savefig('Images/rf_cv_confusion_matrix.png')\n",
    "\n",
    "# Confusion matrix\n",
    "rf_cv_cm = confusion_matrix(y3_test, rf_predictions)\n",
    "plot_confusion_matrix(rf_cv_cm, classes = ['Not Popular', 'Popular'],\n",
    "                      title = 'RFCV Confusion Matrix - Track Popularity')\n",
    "\n",
    "#plt.savefig('rf_cv_cm.png')"
   ]
  },
  {
   "cell_type": "markdown",
   "metadata": {},
   "source": [
    "### 3. Random Forest w/ SMOTE"
   ]
  },
  {
   "cell_type": "markdown",
   "metadata": {},
   "source": [
    "#### a) Resampling w/ SMOTE "
   ]
  },
  {
   "cell_type": "code",
   "execution_count": 91,
   "metadata": {
    "ExecuteTime": {
     "end_time": "2019-10-24T13:50:34.143617Z",
     "start_time": "2019-10-24T13:50:31.317142Z"
    }
   },
   "outputs": [
    {
     "name": "stdout",
     "output_type": "stream",
     "text": [
      "0    473918\n",
      "1     35894\n",
      "Name: track_popularity_50, dtype: int64\n",
      "1    473918\n",
      "0    473918\n",
      "dtype: int64\n"
     ]
    }
   ],
   "source": [
    "print(y3_train.track_popularity_50.value_counts())\n",
    "smote = SMOTE()\n",
    "X3_train_resampled_rf, y3_train_resampled_rf = smote.fit_sample(X3_train, y3_train.track_popularity_50) \n",
    "print(pd.Series(y3_train_resampled_rf).value_counts())"
   ]
  },
  {
   "cell_type": "markdown",
   "metadata": {},
   "source": [
    "#### b) Random Forest w/ SMOTE Model"
   ]
  },
  {
   "cell_type": "code",
   "execution_count": 92,
   "metadata": {
    "ExecuteTime": {
     "end_time": "2019-10-24T13:51:15.974133Z",
     "start_time": "2019-10-24T13:50:34.798892Z"
    }
   },
   "outputs": [],
   "source": [
    "# train model\n",
    "rfc_smote = RandomForestClassifier(n_estimators=9).fit(X3_train_resampled_rf, y3_train_resampled_rf)\n",
    "\n",
    "#predict on test set\n",
    "rfc_smote_pred = rfc_smote.predict(X3_test)"
   ]
  },
  {
   "cell_type": "markdown",
   "metadata": {},
   "source": [
    "#### c) Scores"
   ]
  },
  {
   "cell_type": "code",
   "execution_count": 93,
   "metadata": {
    "ExecuteTime": {
     "end_time": "2019-10-24T13:51:16.755761Z",
     "start_time": "2019-10-24T13:51:16.639876Z"
    }
   },
   "outputs": [
    {
     "name": "stdout",
     "output_type": "stream",
     "text": [
      "Accuracy: 0.9034781448847811\n",
      "Precision: 0.10343183984747378\n",
      "F1: 0.06590736522399392\n",
      "Recall: 0.0483619344773791\n"
     ]
    }
   ],
   "source": [
    "# Checking Accuracy\n",
    "print('Accuracy:', metrics.accuracy_score(y3_test, rfc_smote_pred))\n",
    "\n",
    "# Checking Precision\n",
    "print('Precision:', metrics.precision_score(y3_test, rfc_smote_pred))\n",
    "    \n",
    "# F1 Score\n",
    "print('F1:', metrics.f1_score(y3_test, rfc_smote_pred))\n",
    "\n",
    "# Checking Recall\n",
    "print('Recall:', metrics.recall_score(y3_test, rfc_smote_pred))"
   ]
  },
  {
   "cell_type": "markdown",
   "metadata": {},
   "source": [
    "#### d) Confusion Matrix"
   ]
  },
  {
   "cell_type": "code",
   "execution_count": 94,
   "metadata": {
    "ExecuteTime": {
     "end_time": "2019-10-24T13:51:17.509790Z",
     "start_time": "2019-10-24T13:51:17.413361Z"
    },
    "scrolled": true
   },
   "outputs": [
    {
     "data": {
      "text/plain": [
       "array([[114717,   3762],\n",
       "       [  8540,    434]])"
      ]
     },
     "execution_count": 94,
     "metadata": {},
     "output_type": "execute_result"
    }
   ],
   "source": [
    "# Making the Confusion Matrix\n",
    "from sklearn.metrics import confusion_matrix\n",
    "rf_smote_cm = confusion_matrix(y3_test, rfc_smote_pred)\n",
    "rf_smote_cm"
   ]
  },
  {
   "cell_type": "code",
   "execution_count": 95,
   "metadata": {
    "ExecuteTime": {
     "end_time": "2019-10-24T13:51:18.259192Z",
     "start_time": "2019-10-24T13:51:18.161396Z"
    }
   },
   "outputs": [
    {
     "data": {
      "text/html": [
       "<div>\n",
       "<style scoped>\n",
       "    .dataframe tbody tr th:only-of-type {\n",
       "        vertical-align: middle;\n",
       "    }\n",
       "\n",
       "    .dataframe tbody tr th {\n",
       "        vertical-align: top;\n",
       "    }\n",
       "\n",
       "    .dataframe thead th {\n",
       "        text-align: right;\n",
       "    }\n",
       "</style>\n",
       "<table border=\"1\" class=\"dataframe\">\n",
       "  <thead>\n",
       "    <tr style=\"text-align: right;\">\n",
       "      <th></th>\n",
       "      <th>predicted 0</th>\n",
       "      <th>predicted 1</th>\n",
       "    </tr>\n",
       "  </thead>\n",
       "  <tbody>\n",
       "    <tr>\n",
       "      <th>actual 0</th>\n",
       "      <td>114717</td>\n",
       "      <td>3762</td>\n",
       "    </tr>\n",
       "    <tr>\n",
       "      <th>actual 1</th>\n",
       "      <td>8540</td>\n",
       "      <td>434</td>\n",
       "    </tr>\n",
       "  </tbody>\n",
       "</table>\n",
       "</div>"
      ],
      "text/plain": [
       "          predicted 0  predicted 1\n",
       "actual 0       114717         3762\n",
       "actual 1         8540          434"
      ]
     },
     "execution_count": 95,
     "metadata": {},
     "output_type": "execute_result"
    }
   ],
   "source": [
    "pd.DataFrame(confusion_matrix(y3_test, rfc_smote_pred), \n",
    "             columns = ['predicted 0', 'predicted 1'], \n",
    "             index = ['actual 0', 'actual 1'])"
   ]
  },
  {
   "cell_type": "code",
   "execution_count": 96,
   "metadata": {
    "ExecuteTime": {
     "end_time": "2019-10-24T13:51:19.382939Z",
     "start_time": "2019-10-24T13:51:18.922019Z"
    }
   },
   "outputs": [
    {
     "name": "stdout",
     "output_type": "stream",
     "text": [
      "Confusion matrix, without normalization\n",
      "[[118354    125]\n",
      " [  8957     17]]\n"
     ]
    },
    {
     "data": {
      "image/png": "[encoded data removed]",
      "text/plain": [
       "<Figure size 720x720 with 2 Axes>"
      ]
     },
     "metadata": {},
     "output_type": "display_data"
    }
   ],
   "source": [
    "from sklearn.metrics import confusion_matrix\n",
    "import itertools\n",
    "\n",
    "def plot_confusion_matrix(rf_smote_cm, classes,\n",
    "                          normalize=False,\n",
    "                          title='Confusion matrix',\n",
    "                          cmap=plt.cm.Blues):\n",
    "    \"\"\"\n",
    "    This function prints and plots the confusion matrix.\n",
    "    Normalization can be applied by setting `normalize=True`.\n",
    "    Source: http://scikit-learn.org/stable/auto_examples/model_selection/plot_confusion_matrix.html\n",
    "    \"\"\"\n",
    "    if normalize:\n",
    "        rf_smote_cm = rf_smote_cm.astype('float') / rf_smote_cm.sum(axis=1)[:, np.newaxis]\n",
    "        print(\"Normalized confusion matrix\")\n",
    "    else:\n",
    "        print('Confusion matrix, without normalization')\n",
    "\n",
    "    print(rf_cv_cm)\n",
    "\n",
    "    # Plot the confusion matrix\n",
    "    fig14 = plt.figure(figsize = (10, 10))\n",
    "    plt.imshow(rf_smote_cm, interpolation='nearest', cmap=cmap)\n",
    "    plt.title(title, size = 24)\n",
    "    plt.colorbar(aspect=4)\n",
    "    tick_marks = np.arange(len(classes))\n",
    "    plt.xticks(tick_marks, classes, rotation=45, size = 14)\n",
    "    plt.yticks(tick_marks, classes, size = 14)\n",
    "\n",
    "    fmt = '.2f' if normalize else 'd'\n",
    "    thresh = rf_smote_cm.max() / 2.\n",
    "    \n",
    "    # Labeling the plot\n",
    "    for i, j in itertools.product(range(rf_smote_cm.shape[0]), range(rf_smote_cm.shape[1])):\n",
    "        plt.text(j, i, format(rf_smote_cm[i, j], fmt), fontsize = 20,\n",
    "                 horizontalalignment=\"center\",\n",
    "                 color=\"white\" if rf_smote_cm[i, j] > thresh else \"black\")\n",
    "        \n",
    "    plt.grid(None)\n",
    "    plt.tight_layout()\n",
    "    plt.ylabel('True label', size = 18)\n",
    "    plt.xlabel('Predicted label', size = 18)\n",
    "    plt.tight_layout()\n",
    "    #plt.savefig('Images/rf_cv_confusion_matrix.png')\n",
    "\n",
    "# Confusion matrix\n",
    "rf_smote_cm = confusion_matrix(y3_test, rfc_smote_pred)\n",
    "plot_confusion_matrix(rf_smote_cm, classes = ['Not Popular', 'Popular'],\n",
    "                      title = 'RF w/SMOTE Confusion Matrix')\n",
    "\n",
    "plt.savefig('Images/rf_smote_cm.png')"
   ]
  },
  {
   "cell_type": "markdown",
   "metadata": {},
   "source": [
    "### 4. Random Forest with Random Search Cross Validation"
   ]
  },
  {
   "cell_type": "markdown",
   "metadata": {},
   "source": [
    "#### a) Using RandomizedSearchCV"
   ]
  },
  {
   "cell_type": "code",
   "execution_count": 115,
   "metadata": {},
   "outputs": [],
   "source": [
    "from sklearn.ensemble import RandomForestClassifier\n",
    "from sklearn.model_selection import cross_val_score\n",
    "import numpy as np\n",
    "\n",
    "clf = RandomForestClassifier() #Initialize with whatever parameters you want to\n",
    "\n",
    "# 10-Fold Cross validation\n",
    "clf_pred = np.mean(cross_val_score(clf, X3_train, \n",
    "                                   y3_train, cv=10))"
   ]
  },
  {
   "cell_type": "code",
   "execution_count": 116,
   "metadata": {},
   "outputs": [],
   "source": [
    "param_distributions = {'n_estimators': [100, 200],\n",
    "                       #'max_features': ['auto', 'sqrt', 'log2']\n",
    "                       # class weights\n",
    "                       # try with smote\n",
    "                       # boosting\n",
    "                      }\n",
    "#300, 400, 500"
   ]
  },
  {
   "cell_type": "code",
   "execution_count": 124,
   "metadata": {},
   "outputs": [
    {
     "data": {
      "text/plain": [
       "RandomizedSearchCV(cv=5, error_score='raise-deprecating',\n",
       "                   estimator=RandomForestClassifier(bootstrap=True,\n",
       "                                                    class_weight=None,\n",
       "                                                    criterion='gini',\n",
       "                                                    max_depth=None,\n",
       "                                                    max_features='auto',\n",
       "                                                    max_leaf_nodes=None,\n",
       "                                                    min_impurity_decrease=0.0,\n",
       "                                                    min_impurity_split=None,\n",
       "                                                    min_samples_leaf=1,\n",
       "                                                    min_samples_split=2,\n",
       "                                                    min_weight_fraction_leaf=0.0,\n",
       "                                                    n_estimators='warn',\n",
       "                                                    n_jobs=None,\n",
       "                                                    oob_score=False,\n",
       "                                                    random_state=None,\n",
       "                                                    verbose=0,\n",
       "                                                    warm_start=False),\n",
       "                   iid='warn', n_iter=10, n_jobs=None,\n",
       "                   param_distributions={'n_estimators': [100, 200]},\n",
       "                   pre_dispatch='2*n_jobs', random_state=None, refit=True,\n",
       "                   return_train_score=False, scoring='roc_auc', verbose=0)"
      ]
     },
     "execution_count": 124,
     "metadata": {},
     "output_type": "execute_result"
    }
   ],
   "source": [
    "from sklearn.model_selection import RandomizedSearchCV\n",
    "CV_rfc = RandomizedSearchCV(estimator=clf, param_distributions=param_distributions, cv= 5, scoring='roc_auc')\n",
    "CV_rfc.fit(X3_train, y3_train)"
   ]
  },
  {
   "cell_type": "code",
   "execution_count": null,
   "metadata": {},
   "outputs": [],
   "source": [
    "CV_rfc.best_params_"
   ]
  },
  {
   "cell_type": "code",
   "execution_count": null,
   "metadata": {},
   "outputs": [],
   "source": [
    "rfc1 = RandomForestClassifier(n_estimators= 20)"
   ]
  },
  {
   "cell_type": "code",
   "execution_count": null,
   "metadata": {},
   "outputs": [],
   "source": [
    "rfc1.fit(X3_train, y3_train)"
   ]
  },
  {
   "cell_type": "code",
   "execution_count": null,
   "metadata": {},
   "outputs": [],
   "source": [
    "rfc_rscv_pred = rfc1.predict(X3_test)"
   ]
  },
  {
   "cell_type": "code",
   "execution_count": null,
   "metadata": {},
   "outputs": [],
   "source": [
    "print(\"Accuracy for Random Forest on CV data: \", accuracy_score(y3_test, rfc_rscv_pred))"
   ]
  },
  {
   "cell_type": "markdown",
   "metadata": {},
   "source": [
    "#### b) Using GridSearchCV"
   ]
  },
  {
   "cell_type": "code",
   "execution_count": 9,
   "metadata": {},
   "outputs": [],
   "source": [
    "from sklearn.ensemble import RandomForestClassifier\n",
    "from sklearn.model_selection import cross_val_score\n",
    "import numpy as np\n",
    "\n",
    "clf = RandomForestClassifier() #Initialize with whatever parameters you want to\n",
    "\n",
    "# 10-Fold Cross validation\n",
    "clf_pred = np.mean(cross_val_score(clf, X3_train, \n",
    "                                   y3_train, cv=10))"
   ]
  },
  {
   "cell_type": "code",
   "execution_count": 25,
   "metadata": {},
   "outputs": [],
   "source": [
    "param_grid = {\n",
    "   'n_estimators': [20, 100],\n",
    "#    'max_features': ['auto', 'sqrt', 'log2'],\n",
    "#    'max_depth' : [4,5,6,7,8],\n",
    "#    'criterion' :['gini', 'entropy']\n",
    "}"
   ]
  },
  {
   "cell_type": "code",
   "execution_count": null,
   "metadata": {},
   "outputs": [],
   "source": [
    "from sklearn.model_selection import GridSearchCV\n",
    "CV_rfc = GridSearchCV(estimator=clf, param_grid=param_grid, cv= 5)\n",
    "CV_rfc.fit(X3_train, y3_train)"
   ]
  },
  {
   "cell_type": "code",
   "execution_count": null,
   "metadata": {},
   "outputs": [],
   "source": [
    "CV_rfc.best_params_"
   ]
  },
  {
   "cell_type": "code",
   "execution_count": null,
   "metadata": {},
   "outputs": [],
   "source": [
    "rfc1 = RandomForestClassifier(n_estimators= 20)"
   ]
  },
  {
   "cell_type": "code",
   "execution_count": null,
   "metadata": {},
   "outputs": [],
   "source": [
    "rfc1.fit(X3_train, y3_train)"
   ]
  },
  {
   "cell_type": "code",
   "execution_count": null,
   "metadata": {},
   "outputs": [],
   "source": [
    "rfc_rscv_pred = rfc1.predict(X3_test)"
   ]
  },
  {
   "cell_type": "code",
   "execution_count": null,
   "metadata": {},
   "outputs": [],
   "source": [
    "print(\"Accuracy for Random Forest on CV data: \", accuracy_score(y3_test, rfc_rscv_pred))"
   ]
  }
 ],
 "metadata": {
  "kernelspec": {
   "display_name": "Python 3",
   "language": "python",
   "name": "python3"
  },
  "language_info": {
   "codemirror_mode": {
    "name": "ipython",
    "version": 3
   },
   "file_extension": ".py",
   "mimetype": "text/x-python",
   "name": "python",
   "nbconvert_exporter": "python",
   "pygments_lexer": "ipython3",
   "version": "3.7.3"
  },
  "toc": {
   "base_numbering": 1,
   "nav_menu": {},
   "number_sections": true,
   "sideBar": true,
   "skip_h1_title": false,
   "title_cell": "Table of Contents",
   "title_sidebar": "Contents",
   "toc_cell": false,
   "toc_position": {
    "height": "calc(100% - 180px)",
    "left": "10px",
    "top": "150px",
    "width": "295.391px"
   },
   "toc_section_display": true,
   "toc_window_display": true
  },
  "varInspector": {
   "cols": {
    "lenName": 16,
    "lenType": 16,
    "lenVar": 40
   },
   "kernels_config": {
    "python": {
     "delete_cmd_postfix": "",
     "delete_cmd_prefix": "del ",
     "library": "var_list.py",
     "varRefreshCmd": "print(var_dic_list())"
    },
    "r": {
     "delete_cmd_postfix": ") ",
     "delete_cmd_prefix": "rm(",
     "library": "var_list.r",
     "varRefreshCmd": "cat(var_dic_list()) "
    }
   },
   "types_to_exclude": [
    "module",
    "function",
    "builtin_function_or_method",
    "instance",
    "_Feature"
   ],
   "window_display": false
  }
 },
 "nbformat": 4,
 "nbformat_minor": 2
}
