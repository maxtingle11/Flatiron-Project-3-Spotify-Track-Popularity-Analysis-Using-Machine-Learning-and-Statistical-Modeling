{
 "cells": [
  {
   "cell_type": "code",
   "execution_count": 2,
   "metadata": {},
   "outputs": [],
   "source": [
    "import pandas as pd\n",
    "import numpy as np\n",
    "import matplotlib.pyplot as plt\n",
    "import seaborn as sns\n",
    "\n",
    "import statsmodels.api as sm\n",
    "import statsmodels.formula.api as smf\n",
    "from statsmodels.stats.outliers_influence import variance_inflation_factor\n",
    "\n",
    "from sklearn.linear_model import LinearRegression, Lasso, Ridge\n",
    "from sklearn.model_selection import train_test_split, GridSearchCV\n",
    "from sklearn.metrics import r2_score, mean_squared_error\n",
    "\n",
    "#from scipy import stats\n",
    "#from yellowbrick.regressor import ResidualsPlot, PredictionError\n",
    "\n",
    "import warnings\n",
    "warnings.filterwarnings('ignore')\n",
    "\n",
    "%matplotlib inline\n",
    "\n",
    "%load_ext autoreload\n",
    "%autoreload 2"
   ]
  },
  {
   "cell_type": "code",
   "execution_count": 3,
   "metadata": {},
   "outputs": [],
   "source": [
    "pd.set_option('display.max_rows', 50)\n",
    "pd.set_option('display.max_columns', 300)\n",
    "pd.set_option('display.width', 1000)"
   ]
  },
  {
   "cell_type": "code",
   "execution_count": 5,
   "metadata": {},
   "outputs": [
    {
     "name": "stdout",
     "output_type": "stream",
     "text": [
      "<class 'pandas.core.frame.DataFrame'>\n",
      "Int64Index: 637265 entries, 0 to 682192\n",
      "Data columns (total 27 columns):\n",
      "track_id                               637265 non-null object\n",
      "artist_id                              637265 non-null object\n",
      "track_name                             637263 non-null object\n",
      "track_popularity                       637265 non-null int64\n",
      "track_duration_ms                      637265 non-null int64\n",
      "track_track_number                     637265 non-null int64\n",
      "track_explicit                         637265 non-null bool\n",
      "track_album_release_date               637265 non-null object\n",
      "track_album_total_tracks               637265 non-null int64\n",
      "track_album_available_markets          636703 non-null object\n",
      "track_album_name                       637263 non-null object\n",
      "track_album_id                         637265 non-null object\n",
      "track_album_available_markets_count    637265 non-null int64\n",
      "track_album_single                     637265 non-null int64\n",
      "danceability                           637265 non-null float64\n",
      "energy                                 637265 non-null float64\n",
      "key                                    637265 non-null float64\n",
      "loudness                               637265 non-null float64\n",
      "mode                                   637265 non-null float64\n",
      "speechiness                            637265 non-null float64\n",
      "acousticness                           637265 non-null float64\n",
      "instrumentalness                       637265 non-null float64\n",
      "liveness                               637265 non-null float64\n",
      "valence                                637265 non-null float64\n",
      "tempo                                  637265 non-null float64\n",
      "duration_ms                            637265 non-null float64\n",
      "time_signature                         637265 non-null float64\n",
      "dtypes: bool(1), float64(13), int64(6), object(7)\n",
      "memory usage: 131.9+ MB\n",
      "None\n"
     ]
    },
    {
     "data": {
      "text/html": [
       "<div>\n",
       "<style scoped>\n",
       "    .dataframe tbody tr th:only-of-type {\n",
       "        vertical-align: middle;\n",
       "    }\n",
       "\n",
       "    .dataframe tbody tr th {\n",
       "        vertical-align: top;\n",
       "    }\n",
       "\n",
       "    .dataframe thead th {\n",
       "        text-align: right;\n",
       "    }\n",
       "</style>\n",
       "<table border=\"1\" class=\"dataframe\">\n",
       "  <thead>\n",
       "    <tr style=\"text-align: right;\">\n",
       "      <th></th>\n",
       "      <th>track_id</th>\n",
       "      <th>artist_id</th>\n",
       "      <th>track_name</th>\n",
       "      <th>track_popularity</th>\n",
       "      <th>track_duration_ms</th>\n",
       "      <th>track_track_number</th>\n",
       "      <th>track_explicit</th>\n",
       "      <th>track_album_release_date</th>\n",
       "      <th>track_album_total_tracks</th>\n",
       "      <th>track_album_available_markets</th>\n",
       "      <th>track_album_name</th>\n",
       "      <th>track_album_id</th>\n",
       "      <th>track_album_available_markets_count</th>\n",
       "      <th>track_album_single</th>\n",
       "      <th>danceability</th>\n",
       "      <th>energy</th>\n",
       "      <th>key</th>\n",
       "      <th>loudness</th>\n",
       "      <th>mode</th>\n",
       "      <th>speechiness</th>\n",
       "      <th>acousticness</th>\n",
       "      <th>instrumentalness</th>\n",
       "      <th>liveness</th>\n",
       "      <th>valence</th>\n",
       "      <th>tempo</th>\n",
       "      <th>duration_ms</th>\n",
       "      <th>time_signature</th>\n",
       "    </tr>\n",
       "  </thead>\n",
       "  <tbody>\n",
       "    <tr>\n",
       "      <th>0</th>\n",
       "      <td>0003Z98F6hUq7XxqSRM87H</td>\n",
       "      <td>08RxfNkJpjJ4dJb4xASWzj</td>\n",
       "      <td>Меня больше тут нет</td>\n",
       "      <td>26</td>\n",
       "      <td>241666</td>\n",
       "      <td>8</td>\n",
       "      <td>True</td>\n",
       "      <td>2015-07-09</td>\n",
       "      <td>14</td>\n",
       "      <td>AD,AE,AR,AT,AU,BE,BG,BH,BO,BR,CA,CH,CL,CO,CR,C...</td>\n",
       "      <td>#NoName</td>\n",
       "      <td>6bwGC40nfS1uxz5fkugvjw</td>\n",
       "      <td>79</td>\n",
       "      <td>0</td>\n",
       "      <td>0.733</td>\n",
       "      <td>0.711</td>\n",
       "      <td>1.0</td>\n",
       "      <td>-5.408</td>\n",
       "      <td>1.0</td>\n",
       "      <td>0.1580</td>\n",
       "      <td>0.08600</td>\n",
       "      <td>0.0000</td>\n",
       "      <td>0.4510</td>\n",
       "      <td>0.346</td>\n",
       "      <td>138.076</td>\n",
       "      <td>241667.0</td>\n",
       "      <td>4.0</td>\n",
       "    </tr>\n",
       "    <tr>\n",
       "      <th>1</th>\n",
       "      <td>0008brbqMd6r3WdmXEPbUq</td>\n",
       "      <td>23EIRSLrCdL882g8726POe</td>\n",
       "      <td>Healing Waters and Nature Sounds</td>\n",
       "      <td>1</td>\n",
       "      <td>189794</td>\n",
       "      <td>13</td>\n",
       "      <td>False</td>\n",
       "      <td>2017-03-14</td>\n",
       "      <td>50</td>\n",
       "      <td>AD,AE,AR,AT,AU,BE,BG,BH,BO,BR,CA,CH,CL,CO,CR,C...</td>\n",
       "      <td>50 Ambient Nature Sounds for Awakening: Mornin...</td>\n",
       "      <td>2WQypBQKujMcr4hy7WGXOu</td>\n",
       "      <td>79</td>\n",
       "      <td>0</td>\n",
       "      <td>0.263</td>\n",
       "      <td>0.203</td>\n",
       "      <td>2.0</td>\n",
       "      <td>-20.025</td>\n",
       "      <td>1.0</td>\n",
       "      <td>0.0325</td>\n",
       "      <td>0.88900</td>\n",
       "      <td>0.1130</td>\n",
       "      <td>0.3170</td>\n",
       "      <td>0.142</td>\n",
       "      <td>62.553</td>\n",
       "      <td>189795.0</td>\n",
       "      <td>5.0</td>\n",
       "    </tr>\n",
       "    <tr>\n",
       "      <th>2</th>\n",
       "      <td>0008ihzWSit1NmuXq2VBpE</td>\n",
       "      <td>1691tt3rtiWk8dmfbKWHtc</td>\n",
       "      <td>Once Forgotten</td>\n",
       "      <td>11</td>\n",
       "      <td>344866</td>\n",
       "      <td>4</td>\n",
       "      <td>False</td>\n",
       "      <td>1994-01-01</td>\n",
       "      <td>12</td>\n",
       "      <td>AD,AE,AR,AT,AU,BE,BG,BH,BO,BR,CA,CH,CL,CO,CR,C...</td>\n",
       "      <td>With The Tenors Of Our Time</td>\n",
       "      <td>3YGQ8eavqMUrAmMk72utlB</td>\n",
       "      <td>71</td>\n",
       "      <td>0</td>\n",
       "      <td>0.510</td>\n",
       "      <td>0.228</td>\n",
       "      <td>10.0</td>\n",
       "      <td>-17.138</td>\n",
       "      <td>1.0</td>\n",
       "      <td>0.0299</td>\n",
       "      <td>0.91400</td>\n",
       "      <td>0.6960</td>\n",
       "      <td>0.0847</td>\n",
       "      <td>0.322</td>\n",
       "      <td>128.759</td>\n",
       "      <td>344867.0</td>\n",
       "      <td>4.0</td>\n",
       "    </tr>\n",
       "    <tr>\n",
       "      <th>3</th>\n",
       "      <td>000BARWwSRfyAAYOxPMD83</td>\n",
       "      <td>6DJLhMrXhyW0XJXxFDIkUT</td>\n",
       "      <td>No Announcements ԅ[ •́ ﹏├┬┴┬┴</td>\n",
       "      <td>12</td>\n",
       "      <td>128219</td>\n",
       "      <td>1</td>\n",
       "      <td>True</td>\n",
       "      <td>2019-08-29</td>\n",
       "      <td>1</td>\n",
       "      <td>AD,AE,AR,AT,AU,BE,BG,BH,BO,BR,CA,CH,CL,CO,CR,C...</td>\n",
       "      <td>No Announcements ԅ[ •́ ﹏├┬┴┬┴</td>\n",
       "      <td>50CHxzeeyYYpUpx3dyn2w4</td>\n",
       "      <td>79</td>\n",
       "      <td>1</td>\n",
       "      <td>0.531</td>\n",
       "      <td>0.837</td>\n",
       "      <td>0.0</td>\n",
       "      <td>-4.391</td>\n",
       "      <td>1.0</td>\n",
       "      <td>0.2740</td>\n",
       "      <td>0.00683</td>\n",
       "      <td>0.0000</td>\n",
       "      <td>0.2250</td>\n",
       "      <td>0.067</td>\n",
       "      <td>145.878</td>\n",
       "      <td>128219.0</td>\n",
       "      <td>4.0</td>\n",
       "    </tr>\n",
       "    <tr>\n",
       "      <th>4</th>\n",
       "      <td>000CfxgH11DeiTY9oCvZLJ</td>\n",
       "      <td>5ERkupmHea6uS0nwKr2zcz</td>\n",
       "      <td>Up in the Clouds</td>\n",
       "      <td>30</td>\n",
       "      <td>213693</td>\n",
       "      <td>6</td>\n",
       "      <td>False</td>\n",
       "      <td>2009</td>\n",
       "      <td>10</td>\n",
       "      <td>CA,US</td>\n",
       "      <td>Darwin Deez</td>\n",
       "      <td>4gcylazC0g6e7u7htdAKaE</td>\n",
       "      <td>2</td>\n",
       "      <td>0</td>\n",
       "      <td>0.648</td>\n",
       "      <td>0.273</td>\n",
       "      <td>11.0</td>\n",
       "      <td>-4.897</td>\n",
       "      <td>1.0</td>\n",
       "      <td>0.0472</td>\n",
       "      <td>0.09410</td>\n",
       "      <td>0.0924</td>\n",
       "      <td>0.0853</td>\n",
       "      <td>0.904</td>\n",
       "      <td>145.844</td>\n",
       "      <td>213693.0</td>\n",
       "      <td>4.0</td>\n",
       "    </tr>\n",
       "  </tbody>\n",
       "</table>\n",
       "</div>"
      ],
      "text/plain": [
       "                 track_id               artist_id                        track_name  track_popularity  track_duration_ms  track_track_number  track_explicit track_album_release_date  track_album_total_tracks                      track_album_available_markets                                   track_album_name          track_album_id  track_album_available_markets_count  track_album_single  danceability  energy   key  loudness  mode  speechiness  acousticness  instrumentalness  liveness  valence    tempo  duration_ms  time_signature\n",
       "0  0003Z98F6hUq7XxqSRM87H  08RxfNkJpjJ4dJb4xASWzj               Меня больше тут нет                26             241666                   8            True               2015-07-09                        14  AD,AE,AR,AT,AU,BE,BG,BH,BO,BR,CA,CH,CL,CO,CR,C...                                            #NoName  6bwGC40nfS1uxz5fkugvjw                                   79                   0         0.733   0.711   1.0    -5.408   1.0       0.1580       0.08600            0.0000    0.4510    0.346  138.076     241667.0             4.0\n",
       "1  0008brbqMd6r3WdmXEPbUq  23EIRSLrCdL882g8726POe  Healing Waters and Nature Sounds                 1             189794                  13           False               2017-03-14                        50  AD,AE,AR,AT,AU,BE,BG,BH,BO,BR,CA,CH,CL,CO,CR,C...  50 Ambient Nature Sounds for Awakening: Mornin...  2WQypBQKujMcr4hy7WGXOu                                   79                   0         0.263   0.203   2.0   -20.025   1.0       0.0325       0.88900            0.1130    0.3170    0.142   62.553     189795.0             5.0\n",
       "2  0008ihzWSit1NmuXq2VBpE  1691tt3rtiWk8dmfbKWHtc                    Once Forgotten                11             344866                   4           False               1994-01-01                        12  AD,AE,AR,AT,AU,BE,BG,BH,BO,BR,CA,CH,CL,CO,CR,C...                        With The Tenors Of Our Time  3YGQ8eavqMUrAmMk72utlB                                   71                   0         0.510   0.228  10.0   -17.138   1.0       0.0299       0.91400            0.6960    0.0847    0.322  128.759     344867.0             4.0\n",
       "3  000BARWwSRfyAAYOxPMD83  6DJLhMrXhyW0XJXxFDIkUT     No Announcements ԅ[ •́ ﹏├┬┴┬┴                12             128219                   1            True               2019-08-29                         1  AD,AE,AR,AT,AU,BE,BG,BH,BO,BR,CA,CH,CL,CO,CR,C...                      No Announcements ԅ[ •́ ﹏├┬┴┬┴  50CHxzeeyYYpUpx3dyn2w4                                   79                   1         0.531   0.837   0.0    -4.391   1.0       0.2740       0.00683            0.0000    0.2250    0.067  145.878     128219.0             4.0\n",
       "4  000CfxgH11DeiTY9oCvZLJ  5ERkupmHea6uS0nwKr2zcz                  Up in the Clouds                30             213693                   6           False                     2009                        10                                              CA,US                                        Darwin Deez  4gcylazC0g6e7u7htdAKaE                                    2                   0         0.648   0.273  11.0    -4.897   1.0       0.0472       0.09410            0.0924    0.0853    0.904  145.844     213693.0             4.0"
      ]
     },
     "execution_count": 5,
     "metadata": {},
     "output_type": "execute_result"
    }
   ],
   "source": [
    "# Import data to Pandas DataFrame\n",
    "songs = pd.read_csv('spotify_tracks.csv')\n",
    "\n",
    "# Drop columns\n",
    "# songs = data.drop(columns=['artist_id', \n",
    "#                             'track_name', \n",
    "#                             'track_duration_ms', \n",
    "#                             'track_track_number', \n",
    "#                             'track_explicit',\n",
    "#                             'track_album_release_date', \n",
    "#                             'track_album_total_tracks',\n",
    "#                             'track_album_available_markets', \n",
    "#                             'track_album_name', \n",
    "#                             'track_album_id',\n",
    "#                             'track_album_available_markets_count',\n",
    "#                             'track_album_single',])\n",
    "\n",
    "# Drop duplicate rows\n",
    "songs.drop_duplicates('track_id', keep='first', inplace=True)\n",
    "\n",
    "# Preivew data\n",
    "print(songs.info())\n",
    "songs.head()"
   ]
  },
  {
   "cell_type": "code",
   "execution_count": 10,
   "metadata": {},
   "outputs": [
    {
     "data": {
      "text/plain": [
       "22.9567040399206"
      ]
     },
     "execution_count": 10,
     "metadata": {},
     "output_type": "execute_result"
    }
   ],
   "source": [
    "songs.track_popularity.mean()"
   ]
  },
  {
   "cell_type": "code",
   "execution_count": 11,
   "metadata": {},
   "outputs": [
    {
     "data": {
      "text/plain": [
       "17.181200036556923"
      ]
     },
     "execution_count": 11,
     "metadata": {},
     "output_type": "execute_result"
    }
   ],
   "source": [
    "songs.track_popularity.std()"
   ]
  },
  {
   "cell_type": "code",
   "execution_count": 13,
   "metadata": {},
   "outputs": [
    {
     "data": {
      "image/png": "[encoded data removed]",
      "text/plain": [
       "<Figure size 1440x720 with 1 Axes>"
      ]
     },
     "metadata": {
      "needs_background": "light"
     },
     "output_type": "display_data"
    }
   ],
   "source": [
    "#Plot distributions of each genre \n",
    "fig = plt.figure(figsize=(20,10))\n",
    "\n",
    "sns.distplot(songs.track_popularity, kde=True)\n",
    "\n",
    "\n",
    "\n",
    "plt.show()"
   ]
  },
  {
   "cell_type": "code",
   "execution_count": null,
   "metadata": {},
   "outputs": [],
   "source": [
    "#Creating column for tracks over 50 popularity score\n",
    "songs['popularity_50'] = song['track_popularity'] "
   ]
  },
  {
   "cell_type": "code",
   "execution_count": null,
   "metadata": {},
   "outputs": [],
   "source": [
    "# Added dummy columns for categeorical variables\n",
    "songs2 = pd.get_dummies(songs2, columns=['mode', 'key'], drop_first=True)"
   ]
  },
  {
   "cell_type": "code",
   "execution_count": null,
   "metadata": {},
   "outputs": [],
   "source": [
    "#Define appropriate X and y\n",
    "X = songs2[songs2.columns[1:-1]]\n",
    "y = songs2.track_popularity"
   ]
  },
  {
   "cell_type": "code",
   "execution_count": null,
   "metadata": {},
   "outputs": [],
   "source": [
    "# Train-Test Split\n",
    "X_train, X_test, y_train, y_test = train_test_split(X, y, test_size = .2)"
   ]
  },
  {
   "cell_type": "code",
   "execution_count": null,
   "metadata": {},
   "outputs": [],
   "source": []
  },
  {
   "cell_type": "code",
   "execution_count": null,
   "metadata": {},
   "outputs": [],
   "source": []
  }
 ],
 "metadata": {
  "kernelspec": {
   "display_name": "Python 3",
   "language": "python",
   "name": "python3"
  },
  "language_info": {
   "codemirror_mode": {
    "name": "ipython",
    "version": 3
   },
   "file_extension": ".py",
   "mimetype": "text/x-python",
   "name": "python",
   "nbconvert_exporter": "python",
   "pygments_lexer": "ipython3",
   "version": "3.7.3"
  },
  "varInspector": {
   "cols": {
    "lenName": 16,
    "lenType": 16,
    "lenVar": 40
   },
   "kernels_config": {
    "python": {
     "delete_cmd_postfix": "",
     "delete_cmd_prefix": "del ",
     "library": "var_list.py",
     "varRefreshCmd": "print(var_dic_list())"
    },
    "r": {
     "delete_cmd_postfix": ") ",
     "delete_cmd_prefix": "rm(",
     "library": "var_list.r",
     "varRefreshCmd": "cat(var_dic_list()) "
    }
   },
   "types_to_exclude": [
    "module",
    "function",
    "builtin_function_or_method",
    "instance",
    "_Feature"
   ],
   "window_display": false
  }
 },
 "nbformat": 4,
 "nbformat_minor": 2
}
