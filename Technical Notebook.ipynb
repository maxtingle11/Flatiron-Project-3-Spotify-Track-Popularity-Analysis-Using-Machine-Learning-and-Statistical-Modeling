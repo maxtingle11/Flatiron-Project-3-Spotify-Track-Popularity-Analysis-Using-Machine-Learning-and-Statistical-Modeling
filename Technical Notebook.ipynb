{
 "cells": [
  {
   "cell_type": "markdown",
   "metadata": {},
   "source": [
    "# Technical Notebook"
   ]
  },
  {
   "cell_type": "markdown",
   "metadata": {
    "heading_collapsed": true
   },
   "source": [
    "## I. Import Libraries & Data"
   ]
  },
  {
   "cell_type": "code",
   "execution_count": 132,
   "metadata": {
    "hidden": true
   },
   "outputs": [],
   "source": [
    "import pandas as pd\n",
    "import numpy as np\n",
    "import sklearn\n",
    "from sklearn import preprocessing\n",
    "from sklearn import metrics\n",
    "from sklearn.preprocessing import LabelEncoder, OneHotEncoder, StandardScaler\n",
    "from sklearn.utils import resample\n",
    "import matplotlib.pyplot as plt\n",
    "import seaborn as sns\n",
    "\n",
    "import statsmodels.api as sm\n",
    "import statsmodels.formula.api as smf\n",
    "from statsmodels.stats.outliers_influence import variance_inflation_factor\n",
    "\n",
    "import sklearn.model_selection\n",
    "from sklearn.linear_model import LinearRegression, Lasso, Ridge, LogisticRegression\n",
    "from sklearn.model_selection import train_test_split, GridSearchCV, cross_validate, StratifiedKFold\n",
    "from sklearn.metrics import r2_score, mean_squared_error, confusion_matrix, classification_report, precision_score, recall_score, accuracy_score, f1_score, precision_recall_curve, roc_curve, auc, roc_auc_score\n",
    "from sklearn.ensemble import RandomForestClassifier\n",
    "\n",
    "from imblearn.over_sampling import SMOTE\n",
    "\n",
    "from scipy import stats\n",
    "from yellowbrick.regressor import ResidualsPlot, PredictionError\n",
    "\n",
    "\n",
    "import warnings\n",
    "warnings.filterwarnings('ignore')\n",
    "\n",
    "%matplotlib inline\n",
    "\n",
    "pd.set_option('display.max_rows', 50)\n",
    "pd.set_option('display.max_columns', 300)\n",
    "pd.set_option('display.width', 1000)"
   ]
  },
  {
   "cell_type": "code",
   "execution_count": 2,
   "metadata": {
    "hidden": true
   },
   "outputs": [
    {
     "name": "stdout",
     "output_type": "stream",
     "text": [
      "<class 'pandas.core.frame.DataFrame'>\n",
      "Int64Index: 637265 entries, 0 to 682192\n",
      "Data columns (total 16 columns):\n",
      "track_id              637265 non-null object\n",
      "track_popularity      637265 non-null int64\n",
      "track_duration_ms     637265 non-null int64\n",
      "track_album_single    637265 non-null int64\n",
      "danceability          637265 non-null float64\n",
      "energy                637265 non-null float64\n",
      "key                   637265 non-null float64\n",
      "loudness              637265 non-null float64\n",
      "mode                  637265 non-null float64\n",
      "speechiness           637265 non-null float64\n",
      "acousticness          637265 non-null float64\n",
      "instrumentalness      637265 non-null float64\n",
      "liveness              637265 non-null float64\n",
      "valence               637265 non-null float64\n",
      "tempo                 637265 non-null float64\n",
      "time_signature        637265 non-null float64\n",
      "dtypes: float64(12), int64(3), object(1)\n",
      "memory usage: 82.7+ MB\n",
      "None\n"
     ]
    },
    {
     "data": {
      "text/html": [
       "<div>\n",
       "<style scoped>\n",
       "    .dataframe tbody tr th:only-of-type {\n",
       "        vertical-align: middle;\n",
       "    }\n",
       "\n",
       "    .dataframe tbody tr th {\n",
       "        vertical-align: top;\n",
       "    }\n",
       "\n",
       "    .dataframe thead th {\n",
       "        text-align: right;\n",
       "    }\n",
       "</style>\n",
       "<table border=\"1\" class=\"dataframe\">\n",
       "  <thead>\n",
       "    <tr style=\"text-align: right;\">\n",
       "      <th></th>\n",
       "      <th>track_id</th>\n",
       "      <th>track_popularity</th>\n",
       "      <th>track_duration_ms</th>\n",
       "      <th>track_album_single</th>\n",
       "      <th>danceability</th>\n",
       "      <th>energy</th>\n",
       "      <th>key</th>\n",
       "      <th>loudness</th>\n",
       "      <th>mode</th>\n",
       "      <th>speechiness</th>\n",
       "      <th>acousticness</th>\n",
       "      <th>instrumentalness</th>\n",
       "      <th>liveness</th>\n",
       "      <th>valence</th>\n",
       "      <th>tempo</th>\n",
       "      <th>time_signature</th>\n",
       "    </tr>\n",
       "  </thead>\n",
       "  <tbody>\n",
       "    <tr>\n",
       "      <th>0</th>\n",
       "      <td>0003Z98F6hUq7XxqSRM87H</td>\n",
       "      <td>26</td>\n",
       "      <td>241666</td>\n",
       "      <td>0</td>\n",
       "      <td>0.733</td>\n",
       "      <td>0.711</td>\n",
       "      <td>1.0</td>\n",
       "      <td>-5.408</td>\n",
       "      <td>1.0</td>\n",
       "      <td>0.1580</td>\n",
       "      <td>0.08600</td>\n",
       "      <td>0.0000</td>\n",
       "      <td>0.4510</td>\n",
       "      <td>0.346</td>\n",
       "      <td>138.076</td>\n",
       "      <td>4.0</td>\n",
       "    </tr>\n",
       "    <tr>\n",
       "      <th>1</th>\n",
       "      <td>0008brbqMd6r3WdmXEPbUq</td>\n",
       "      <td>1</td>\n",
       "      <td>189794</td>\n",
       "      <td>0</td>\n",
       "      <td>0.263</td>\n",
       "      <td>0.203</td>\n",
       "      <td>2.0</td>\n",
       "      <td>-20.025</td>\n",
       "      <td>1.0</td>\n",
       "      <td>0.0325</td>\n",
       "      <td>0.88900</td>\n",
       "      <td>0.1130</td>\n",
       "      <td>0.3170</td>\n",
       "      <td>0.142</td>\n",
       "      <td>62.553</td>\n",
       "      <td>5.0</td>\n",
       "    </tr>\n",
       "    <tr>\n",
       "      <th>2</th>\n",
       "      <td>0008ihzWSit1NmuXq2VBpE</td>\n",
       "      <td>11</td>\n",
       "      <td>344866</td>\n",
       "      <td>0</td>\n",
       "      <td>0.510</td>\n",
       "      <td>0.228</td>\n",
       "      <td>10.0</td>\n",
       "      <td>-17.138</td>\n",
       "      <td>1.0</td>\n",
       "      <td>0.0299</td>\n",
       "      <td>0.91400</td>\n",
       "      <td>0.6960</td>\n",
       "      <td>0.0847</td>\n",
       "      <td>0.322</td>\n",
       "      <td>128.759</td>\n",
       "      <td>4.0</td>\n",
       "    </tr>\n",
       "    <tr>\n",
       "      <th>3</th>\n",
       "      <td>000BARWwSRfyAAYOxPMD83</td>\n",
       "      <td>12</td>\n",
       "      <td>128219</td>\n",
       "      <td>1</td>\n",
       "      <td>0.531</td>\n",
       "      <td>0.837</td>\n",
       "      <td>0.0</td>\n",
       "      <td>-4.391</td>\n",
       "      <td>1.0</td>\n",
       "      <td>0.2740</td>\n",
       "      <td>0.00683</td>\n",
       "      <td>0.0000</td>\n",
       "      <td>0.2250</td>\n",
       "      <td>0.067</td>\n",
       "      <td>145.878</td>\n",
       "      <td>4.0</td>\n",
       "    </tr>\n",
       "    <tr>\n",
       "      <th>4</th>\n",
       "      <td>000CfxgH11DeiTY9oCvZLJ</td>\n",
       "      <td>30</td>\n",
       "      <td>213693</td>\n",
       "      <td>0</td>\n",
       "      <td>0.648</td>\n",
       "      <td>0.273</td>\n",
       "      <td>11.0</td>\n",
       "      <td>-4.897</td>\n",
       "      <td>1.0</td>\n",
       "      <td>0.0472</td>\n",
       "      <td>0.09410</td>\n",
       "      <td>0.0924</td>\n",
       "      <td>0.0853</td>\n",
       "      <td>0.904</td>\n",
       "      <td>145.844</td>\n",
       "      <td>4.0</td>\n",
       "    </tr>\n",
       "  </tbody>\n",
       "</table>\n",
       "</div>"
      ],
      "text/plain": [
       "                 track_id  track_popularity  track_duration_ms  track_album_single  danceability  energy   key  loudness  mode  speechiness  acousticness  instrumentalness  liveness  valence    tempo  time_signature\n",
       "0  0003Z98F6hUq7XxqSRM87H                26             241666                   0         0.733   0.711   1.0    -5.408   1.0       0.1580       0.08600            0.0000    0.4510    0.346  138.076             4.0\n",
       "1  0008brbqMd6r3WdmXEPbUq                 1             189794                   0         0.263   0.203   2.0   -20.025   1.0       0.0325       0.88900            0.1130    0.3170    0.142   62.553             5.0\n",
       "2  0008ihzWSit1NmuXq2VBpE                11             344866                   0         0.510   0.228  10.0   -17.138   1.0       0.0299       0.91400            0.6960    0.0847    0.322  128.759             4.0\n",
       "3  000BARWwSRfyAAYOxPMD83                12             128219                   1         0.531   0.837   0.0    -4.391   1.0       0.2740       0.00683            0.0000    0.2250    0.067  145.878             4.0\n",
       "4  000CfxgH11DeiTY9oCvZLJ                30             213693                   0         0.648   0.273  11.0    -4.897   1.0       0.0472       0.09410            0.0924    0.0853    0.904  145.844             4.0"
      ]
     },
     "execution_count": 2,
     "metadata": {},
     "output_type": "execute_result"
    }
   ],
   "source": [
    "# Import data to Pandas DataFrame\n",
    "data = pd.read_csv('spotify_tracks.csv')\n",
    "\n",
    "# Drop columns\n",
    "songs = data.drop(columns=['artist_id', \n",
    "                            'track_name',  \n",
    "                            'track_track_number', \n",
    "                            'track_explicit',\n",
    "                            'track_album_release_date', \n",
    "                            'track_album_total_tracks',\n",
    "                            'track_album_available_markets', \n",
    "                            'track_album_name', \n",
    "                            'track_album_id',\n",
    "                            'track_album_available_markets_count', \n",
    "                            'duration_ms'\n",
    "                            ])\n",
    "# Drop duplicate rows\n",
    "songs.drop_duplicates('track_id', keep='first', inplace=True)\n",
    "\n",
    "# Preivew data\n",
    "print(songs.info())\n",
    "songs.head()"
   ]
  },
  {
   "cell_type": "markdown",
   "metadata": {},
   "source": [
    "## II. Linear Regression"
   ]
  },
  {
   "cell_type": "markdown",
   "metadata": {
    "heading_collapsed": true
   },
   "source": [
    "### 1. Baseline Linear Regression"
   ]
  },
  {
   "cell_type": "markdown",
   "metadata": {
    "hidden": true
   },
   "source": [
    "#### a) Check for Linear Relationship with Pearson's R-Value"
   ]
  },
  {
   "cell_type": "markdown",
   "metadata": {
    "hidden": true
   },
   "source": [
    "Pearson's R represents a correlation coefficient. So a Pearson's R > .5 means there is a positive correlation between the feature. None of the features below show a positive correlation."
   ]
  },
  {
   "cell_type": "code",
   "execution_count": 3,
   "metadata": {
    "hidden": true
   },
   "outputs": [
    {
     "data": {
      "text/plain": [
       "track_popularity      1.000000\n",
       "loudness              0.167253\n",
       "track_album_single    0.135094\n",
       "energy                0.106122\n",
       "danceability          0.091792\n",
       "valence               0.050353\n",
       "time_signature        0.038292\n",
       "tempo                 0.019250\n",
       "key                   0.002758\n",
       "mode                 -0.003596\n",
       "liveness             -0.008387\n",
       "speechiness          -0.043375\n",
       "track_duration_ms    -0.064754\n",
       "acousticness         -0.095788\n",
       "instrumentalness     -0.147148\n",
       "Name: track_popularity, dtype: float64"
      ]
     },
     "execution_count": 3,
     "metadata": {},
     "output_type": "execute_result"
    }
   ],
   "source": [
    "# Calculate Pearson's R-Value to check for linear relationship\n",
    "songs.corr()['track_popularity'].sort_values(ascending=False)"
   ]
  },
  {
   "cell_type": "markdown",
   "metadata": {
    "hidden": true
   },
   "source": [
    "#### b) Check for Multicollinearity with VIF"
   ]
  },
  {
   "cell_type": "markdown",
   "metadata": {
    "hidden": true
   },
   "source": [
    "The variance inflation factor is the quotient of the variance in a model with multiple terms by the variance of a model with one term alone. It quantifies the severity of multicollinearity in an ordinary least squares regression analysis. It provides an index that measures how much the variance (the square of the estimate's standard deviation) of an estimated regression coefficient is increased because of collinearity."
   ]
  },
  {
   "cell_type": "code",
   "execution_count": 4,
   "metadata": {
    "hidden": true
   },
   "outputs": [
    {
     "data": {
      "text/html": [
       "<div>\n",
       "<style scoped>\n",
       "    .dataframe tbody tr th:only-of-type {\n",
       "        vertical-align: middle;\n",
       "    }\n",
       "\n",
       "    .dataframe tbody tr th {\n",
       "        vertical-align: top;\n",
       "    }\n",
       "\n",
       "    .dataframe thead th {\n",
       "        text-align: right;\n",
       "    }\n",
       "</style>\n",
       "<table border=\"1\" class=\"dataframe\">\n",
       "  <thead>\n",
       "    <tr style=\"text-align: right;\">\n",
       "      <th></th>\n",
       "      <th>VIF Score</th>\n",
       "      <th>features</th>\n",
       "    </tr>\n",
       "  </thead>\n",
       "  <tbody>\n",
       "    <tr>\n",
       "      <th>0</th>\n",
       "      <td>2.9</td>\n",
       "      <td>track_popularity</td>\n",
       "    </tr>\n",
       "    <tr>\n",
       "      <th>1</th>\n",
       "      <td>4.1</td>\n",
       "      <td>track_duration_ms</td>\n",
       "    </tr>\n",
       "    <tr>\n",
       "      <th>2</th>\n",
       "      <td>1.3</td>\n",
       "      <td>track_album_single</td>\n",
       "    </tr>\n",
       "    <tr>\n",
       "      <th>3</th>\n",
       "      <td>15.9</td>\n",
       "      <td>danceability</td>\n",
       "    </tr>\n",
       "    <tr>\n",
       "      <th>4</th>\n",
       "      <td>19.2</td>\n",
       "      <td>energy</td>\n",
       "    </tr>\n",
       "    <tr>\n",
       "      <th>5</th>\n",
       "      <td>3.2</td>\n",
       "      <td>key</td>\n",
       "    </tr>\n",
       "    <tr>\n",
       "      <th>6</th>\n",
       "      <td>9.5</td>\n",
       "      <td>loudness</td>\n",
       "    </tr>\n",
       "    <tr>\n",
       "      <th>7</th>\n",
       "      <td>2.7</td>\n",
       "      <td>mode</td>\n",
       "    </tr>\n",
       "    <tr>\n",
       "      <th>8</th>\n",
       "      <td>1.9</td>\n",
       "      <td>speechiness</td>\n",
       "    </tr>\n",
       "    <tr>\n",
       "      <th>9</th>\n",
       "      <td>4.2</td>\n",
       "      <td>acousticness</td>\n",
       "    </tr>\n",
       "    <tr>\n",
       "      <th>10</th>\n",
       "      <td>1.9</td>\n",
       "      <td>instrumentalness</td>\n",
       "    </tr>\n",
       "    <tr>\n",
       "      <th>11</th>\n",
       "      <td>2.6</td>\n",
       "      <td>liveness</td>\n",
       "    </tr>\n",
       "    <tr>\n",
       "      <th>12</th>\n",
       "      <td>6.6</td>\n",
       "      <td>valence</td>\n",
       "    </tr>\n",
       "    <tr>\n",
       "      <th>13</th>\n",
       "      <td>16.2</td>\n",
       "      <td>tempo</td>\n",
       "    </tr>\n",
       "    <tr>\n",
       "      <th>14</th>\n",
       "      <td>46.9</td>\n",
       "      <td>time_signature</td>\n",
       "    </tr>\n",
       "  </tbody>\n",
       "</table>\n",
       "</div>"
      ],
      "text/plain": [
       "    VIF Score            features\n",
       "0         2.9    track_popularity\n",
       "1         4.1   track_duration_ms\n",
       "2         1.3  track_album_single\n",
       "3        15.9        danceability\n",
       "4        19.2              energy\n",
       "5         3.2                 key\n",
       "6         9.5            loudness\n",
       "7         2.7                mode\n",
       "8         1.9         speechiness\n",
       "9         4.2        acousticness\n",
       "10        1.9    instrumentalness\n",
       "11        2.6            liveness\n",
       "12        6.6             valence\n",
       "13       16.2               tempo\n",
       "14       46.9      time_signature"
      ]
     },
     "execution_count": 4,
     "metadata": {},
     "output_type": "execute_result"
    }
   ],
   "source": [
    "# Calculate VIF to check for Multicollinearity\n",
    "# select only columns with datatype int64 or float 64\n",
    "songs_cleaned = songs.drop(columns=['track_id'])\n",
    "#cleaned_KC.select_dtypes(include=['int64','float64']).drop(axis=1, columns=['id'])\n",
    "\n",
    "vif = pd.DataFrame()\n",
    "\n",
    "# For each column,run a variance_inflaction_factor against all other columns to get a VIF Factor score\n",
    "vif[\"VIF Score\"] = [variance_inflation_factor(songs_cleaned.values, i) for i in range(songs_cleaned.shape[1])]\n",
    "\n",
    "# label the scores with their related columns\n",
    "vif[\"features\"] = songs_cleaned.columns\n",
    "\n",
    "vif.round(1)"
   ]
  },
  {
   "cell_type": "markdown",
   "metadata": {
    "hidden": true
   },
   "source": [
    "If VIF > 5 there is an indication that multicollinearity may be present; with VIF > 10 there is certainly multicollinearity among the variables.\n",
    "\n",
    "Based on first run of VIF scores, danceability, energy, tempo, and time signature clearly have multi-collinearity, thus we drop them to reduce noise."
   ]
  },
  {
   "cell_type": "code",
   "execution_count": 5,
   "metadata": {
    "hidden": true,
    "scrolled": true
   },
   "outputs": [
    {
     "data": {
      "text/html": [
       "<div>\n",
       "<style scoped>\n",
       "    .dataframe tbody tr th:only-of-type {\n",
       "        vertical-align: middle;\n",
       "    }\n",
       "\n",
       "    .dataframe tbody tr th {\n",
       "        vertical-align: top;\n",
       "    }\n",
       "\n",
       "    .dataframe thead th {\n",
       "        text-align: right;\n",
       "    }\n",
       "</style>\n",
       "<table border=\"1\" class=\"dataframe\">\n",
       "  <thead>\n",
       "    <tr style=\"text-align: right;\">\n",
       "      <th></th>\n",
       "      <th>VIF Score</th>\n",
       "      <th>features</th>\n",
       "    </tr>\n",
       "  </thead>\n",
       "  <tbody>\n",
       "    <tr>\n",
       "      <th>0</th>\n",
       "      <td>2.6</td>\n",
       "      <td>track_popularity</td>\n",
       "    </tr>\n",
       "    <tr>\n",
       "      <th>1</th>\n",
       "      <td>3.3</td>\n",
       "      <td>track_duration_ms</td>\n",
       "    </tr>\n",
       "    <tr>\n",
       "      <th>2</th>\n",
       "      <td>1.2</td>\n",
       "      <td>track_album_single</td>\n",
       "    </tr>\n",
       "    <tr>\n",
       "      <th>3</th>\n",
       "      <td>2.8</td>\n",
       "      <td>key</td>\n",
       "    </tr>\n",
       "    <tr>\n",
       "      <th>4</th>\n",
       "      <td>2.5</td>\n",
       "      <td>mode</td>\n",
       "    </tr>\n",
       "    <tr>\n",
       "      <th>5</th>\n",
       "      <td>1.7</td>\n",
       "      <td>speechiness</td>\n",
       "    </tr>\n",
       "    <tr>\n",
       "      <th>6</th>\n",
       "      <td>2.0</td>\n",
       "      <td>acousticness</td>\n",
       "    </tr>\n",
       "    <tr>\n",
       "      <th>7</th>\n",
       "      <td>1.5</td>\n",
       "      <td>instrumentalness</td>\n",
       "    </tr>\n",
       "    <tr>\n",
       "      <th>8</th>\n",
       "      <td>2.3</td>\n",
       "      <td>liveness</td>\n",
       "    </tr>\n",
       "    <tr>\n",
       "      <th>9</th>\n",
       "      <td>3.3</td>\n",
       "      <td>valence</td>\n",
       "    </tr>\n",
       "  </tbody>\n",
       "</table>\n",
       "</div>"
      ],
      "text/plain": [
       "   VIF Score            features\n",
       "0        2.6    track_popularity\n",
       "1        3.3   track_duration_ms\n",
       "2        1.2  track_album_single\n",
       "3        2.8                 key\n",
       "4        2.5                mode\n",
       "5        1.7         speechiness\n",
       "6        2.0        acousticness\n",
       "7        1.5    instrumentalness\n",
       "8        2.3            liveness\n",
       "9        3.3             valence"
      ]
     },
     "execution_count": 5,
     "metadata": {},
     "output_type": "execute_result"
    }
   ],
   "source": [
    "# Calculate VIF to check for Multicollinearity\n",
    "# select only columns with datatype int64 or float 64\n",
    "songs_cleaned = songs.drop(columns=['track_id',\n",
    "                                    'time_signature', \n",
    "                                    'tempo', \n",
    "                                    'danceability', \n",
    "                                    'energy', \n",
    "                                    'loudness'\n",
    "                                        ])\n",
    "#cleaned_KC.select_dtypes(include=['int64','float64']).drop(axis=1, columns=['id'])\n",
    "\n",
    "vif = pd.DataFrame()\n",
    "\n",
    "# For each column,run a variance_inflaction_factor against all other columns to get a VIF Factor score\n",
    "vif[\"VIF Score\"] = [variance_inflation_factor(songs_cleaned.values, i) for i in range(songs_cleaned.shape[1])]\n",
    "\n",
    "# label the scores with their related columns\n",
    "vif[\"features\"] = songs_cleaned.columns\n",
    "\n",
    "vif.round(1)"
   ]
  },
  {
   "cell_type": "markdown",
   "metadata": {
    "hidden": true
   },
   "source": [
    "The remaining features all have a VIF < 5."
   ]
  },
  {
   "cell_type": "markdown",
   "metadata": {
    "hidden": true
   },
   "source": [
    "#### c) Clean Data for Linear Regression"
   ]
  },
  {
   "cell_type": "code",
   "execution_count": 6,
   "metadata": {
    "hidden": true
   },
   "outputs": [],
   "source": [
    "#Drop collinear columns\n",
    "songs1 = songs.drop(columns=['track_id',\n",
    "                             'time_signature', \n",
    "                             'tempo', \n",
    "                             'danceability', \n",
    "                             'energy', \n",
    "                             'loudness'])"
   ]
  },
  {
   "cell_type": "markdown",
   "metadata": {
    "hidden": true
   },
   "source": [
    "#### d) Define X & Y"
   ]
  },
  {
   "cell_type": "code",
   "execution_count": 7,
   "metadata": {
    "hidden": true
   },
   "outputs": [],
   "source": [
    "#Define appropriate X and y\n",
    "X1 = songs1[songs1.columns[1:]]\n",
    "y1 = songs1.track_popularity"
   ]
  },
  {
   "cell_type": "markdown",
   "metadata": {
    "hidden": true
   },
   "source": [
    "#### e) Train-Test Split"
   ]
  },
  {
   "cell_type": "code",
   "execution_count": 8,
   "metadata": {
    "hidden": true
   },
   "outputs": [],
   "source": [
    "# Train-Test Split\n",
    "X1_train, X1_test, y1_train, y1_test = train_test_split(X1, y1, test_size = .2)"
   ]
  },
  {
   "cell_type": "code",
   "execution_count": 10,
   "metadata": {
    "hidden": true
   },
   "outputs": [
    {
     "data": {
      "image/png": "[encoded data removed]",
      "text/plain": [
       "<Figure size 1440x720 with 1 Axes>"
      ]
     },
     "metadata": {},
     "output_type": "display_data"
    }
   ],
   "source": [
    "fig1 = plt.figure(figsize=(20,10))\n",
    "sns.distplot(y1_train, kde=False)\n",
    "sns.set(font_scale = 2)\n",
    "plt.title(\"Distribution Plot of Training Data\", fontsize=35)\n",
    "plt.xlabel('Track Popularity Score (out of 100)', fontsize=25)\n",
    "plt.ylabel('Proportion of Data', fontsize=25)\n",
    "plt.show()"
   ]
  },
  {
   "cell_type": "markdown",
   "metadata": {
    "hidden": true
   },
   "source": [
    "#### f) Normalize X Train & Test"
   ]
  },
  {
   "cell_type": "code",
   "execution_count": 11,
   "metadata": {
    "hidden": true
   },
   "outputs": [],
   "source": [
    "# Normalize X_train & X_test\n",
    "scaler = StandardScaler()\n",
    "\n",
    "X1_train_norm = scaler.fit_transform(X1_train)\n",
    "X1_test_norm = scaler.transform(X1_test)"
   ]
  },
  {
   "cell_type": "markdown",
   "metadata": {
    "hidden": true
   },
   "source": [
    "#### g) Run Linear Regression"
   ]
  },
  {
   "cell_type": "code",
   "execution_count": 12,
   "metadata": {
    "hidden": true
   },
   "outputs": [
    {
     "data": {
      "text/html": [
       "<table class=\"simpletable\">\n",
       "<caption>OLS Regression Results</caption>\n",
       "<tr>\n",
       "  <th>Dep. Variable:</th>    <td>track_popularity</td> <th>  R-squared (uncentered):</th>       <td>   0.016</td>  \n",
       "</tr>\n",
       "<tr>\n",
       "  <th>Model:</th>                   <td>OLS</td>       <th>  Adj. R-squared (uncentered):</th>  <td>   0.016</td>  \n",
       "</tr>\n",
       "<tr>\n",
       "  <th>Method:</th>             <td>Least Squares</td>  <th>  F-statistic:       </th>           <td>   936.0</td>  \n",
       "</tr>\n",
       "<tr>\n",
       "  <th>Date:</th>             <td>Wed, 23 Oct 2019</td> <th>  Prob (F-statistic):</th>            <td>  0.00</td>   \n",
       "</tr>\n",
       "<tr>\n",
       "  <th>Time:</th>                 <td>06:01:37</td>     <th>  Log-Likelihood:    </th>          <td>-2.4297e+06</td>\n",
       "</tr>\n",
       "<tr>\n",
       "  <th>No. Observations:</th>      <td>509812</td>      <th>  AIC:               </th>           <td>4.859e+06</td> \n",
       "</tr>\n",
       "<tr>\n",
       "  <th>Df Residuals:</th>          <td>509803</td>      <th>  BIC:               </th>           <td>4.860e+06</td> \n",
       "</tr>\n",
       "<tr>\n",
       "  <th>Df Model:</th>              <td>     9</td>      <th>                     </th>               <td> </td>     \n",
       "</tr>\n",
       "<tr>\n",
       "  <th>Covariance Type:</th>      <td>nonrobust</td>    <th>                     </th>               <td> </td>     \n",
       "</tr>\n",
       "</table>\n",
       "<table class=\"simpletable\">\n",
       "<tr>\n",
       "   <td></td>     <th>coef</th>     <th>std err</th>      <th>t</th>      <th>P>|t|</th>  <th>[0.025</th>    <th>0.975]</th>  \n",
       "</tr>\n",
       "<tr>\n",
       "  <th>x1</th> <td>   -0.6759</td> <td>    0.041</td> <td>  -16.631</td> <td> 0.000</td> <td>   -0.756</td> <td>   -0.596</td>\n",
       "</tr>\n",
       "<tr>\n",
       "  <th>x2</th> <td>    1.9628</td> <td>    0.041</td> <td>   48.301</td> <td> 0.000</td> <td>    1.883</td> <td>    2.042</td>\n",
       "</tr>\n",
       "<tr>\n",
       "  <th>x3</th> <td>    0.0053</td> <td>    0.040</td> <td>    0.132</td> <td> 0.895</td> <td>   -0.074</td> <td>    0.084</td>\n",
       "</tr>\n",
       "<tr>\n",
       "  <th>x4</th> <td>   -0.0035</td> <td>    0.041</td> <td>   -0.085</td> <td> 0.932</td> <td>   -0.083</td> <td>    0.076</td>\n",
       "</tr>\n",
       "<tr>\n",
       "  <th>x5</th> <td>   -1.3041</td> <td>    0.041</td> <td>  -31.598</td> <td> 0.000</td> <td>   -1.385</td> <td>   -1.223</td>\n",
       "</tr>\n",
       "<tr>\n",
       "  <th>x6</th> <td>   -0.9066</td> <td>    0.042</td> <td>  -21.484</td> <td> 0.000</td> <td>   -0.989</td> <td>   -0.824</td>\n",
       "</tr>\n",
       "<tr>\n",
       "  <th>x7</th> <td>   -2.1975</td> <td>    0.043</td> <td>  -50.549</td> <td> 0.000</td> <td>   -2.283</td> <td>   -2.112</td>\n",
       "</tr>\n",
       "<tr>\n",
       "  <th>x8</th> <td>   -0.0696</td> <td>    0.041</td> <td>   -1.708</td> <td> 0.088</td> <td>   -0.150</td> <td>    0.010</td>\n",
       "</tr>\n",
       "<tr>\n",
       "  <th>x9</th> <td>    0.0064</td> <td>    0.043</td> <td>    0.149</td> <td> 0.882</td> <td>   -0.078</td> <td>    0.090</td>\n",
       "</tr>\n",
       "</table>\n",
       "<table class=\"simpletable\">\n",
       "<tr>\n",
       "  <th>Omnibus:</th>       <td>22897.086</td> <th>  Durbin-Watson:     </th> <td>   0.699</td> \n",
       "</tr>\n",
       "<tr>\n",
       "  <th>Prob(Omnibus):</th>  <td> 0.000</td>   <th>  Jarque-Bera (JB):  </th> <td>23513.944</td>\n",
       "</tr>\n",
       "<tr>\n",
       "  <th>Skew:</th>           <td> 0.493</td>   <th>  Prob(JB):          </th> <td>    0.00</td> \n",
       "</tr>\n",
       "<tr>\n",
       "  <th>Kurtosis:</th>       <td> 2.633</td>   <th>  Cond. No.          </th> <td>    1.62</td> \n",
       "</tr>\n",
       "</table><br/><br/>Warnings:<br/>[1] Standard Errors assume that the covariance matrix of the errors is correctly specified."
      ],
      "text/plain": [
       "<class 'statsmodels.iolib.summary.Summary'>\n",
       "\"\"\"\n",
       "                                 OLS Regression Results                                \n",
       "=======================================================================================\n",
       "Dep. Variable:       track_popularity   R-squared (uncentered):                   0.016\n",
       "Model:                            OLS   Adj. R-squared (uncentered):              0.016\n",
       "Method:                 Least Squares   F-statistic:                              936.0\n",
       "Date:                Wed, 23 Oct 2019   Prob (F-statistic):                        0.00\n",
       "Time:                        06:01:37   Log-Likelihood:                     -2.4297e+06\n",
       "No. Observations:              509812   AIC:                                  4.859e+06\n",
       "Df Residuals:                  509803   BIC:                                  4.860e+06\n",
       "Df Model:                           9                                                  \n",
       "Covariance Type:            nonrobust                                                  \n",
       "==============================================================================\n",
       "                 coef    std err          t      P>|t|      [0.025      0.975]\n",
       "------------------------------------------------------------------------------\n",
       "x1            -0.6759      0.041    -16.631      0.000      -0.756      -0.596\n",
       "x2             1.9628      0.041     48.301      0.000       1.883       2.042\n",
       "x3             0.0053      0.040      0.132      0.895      -0.074       0.084\n",
       "x4            -0.0035      0.041     -0.085      0.932      -0.083       0.076\n",
       "x5            -1.3041      0.041    -31.598      0.000      -1.385      -1.223\n",
       "x6            -0.9066      0.042    -21.484      0.000      -0.989      -0.824\n",
       "x7            -2.1975      0.043    -50.549      0.000      -2.283      -2.112\n",
       "x8            -0.0696      0.041     -1.708      0.088      -0.150       0.010\n",
       "x9             0.0064      0.043      0.149      0.882      -0.078       0.090\n",
       "==============================================================================\n",
       "Omnibus:                    22897.086   Durbin-Watson:                   0.699\n",
       "Prob(Omnibus):                  0.000   Jarque-Bera (JB):            23513.944\n",
       "Skew:                           0.493   Prob(JB):                         0.00\n",
       "Kurtosis:                       2.633   Cond. No.                         1.62\n",
       "==============================================================================\n",
       "\n",
       "Warnings:\n",
       "[1] Standard Errors assume that the covariance matrix of the errors is correctly specified.\n",
       "\"\"\""
      ]
     },
     "execution_count": 12,
     "metadata": {},
     "output_type": "execute_result"
    }
   ],
   "source": [
    "reg1 = sm.OLS(y1_train, X1_train_norm).fit()\n",
    "reg1.summary()"
   ]
  },
  {
   "cell_type": "markdown",
   "metadata": {
    "hidden": true
   },
   "source": [
    "#### h) QQ Plot"
   ]
  },
  {
   "cell_type": "code",
   "execution_count": 14,
   "metadata": {
    "hidden": true,
    "scrolled": false
   },
   "outputs": [
    {
     "data": {
      "image/png": "[encoded data removed]",
      "text/plain": [
       "<Figure size 432x288 with 1 Axes>"
      ]
     },
     "metadata": {},
     "output_type": "display_data"
    }
   ],
   "source": [
    "residuals = reg1.resid\n",
    "fig2 = sm.graphics.qqplot(residuals, dist=stats.norm, line='45', fit=True)\n",
    "sns.set(font_scale = 1)\n",
    "plt.title(\"QQ Plot for Baseline Linear Regression\", fontsize=17)\n",
    "plt.xlabel('Theoretical Quantiles', fontsize=13)\n",
    "plt.ylabel('Sample Quantiles', fontsize=13)\n",
    "plt.tight_layout()\n",
    "plt.show()\n",
    "fig2.savefig('Images/baseline_linear_regression_qq_plot.png')"
   ]
  },
  {
   "cell_type": "markdown",
   "metadata": {
    "heading_collapsed": true
   },
   "source": [
    "### 2. Linear Regression w/ Binned Dependent Variable"
   ]
  },
  {
   "cell_type": "markdown",
   "metadata": {
    "hidden": true
   },
   "source": [
    "#### a) Binning Independent Variable & Creating New DataFrame"
   ]
  },
  {
   "cell_type": "code",
   "execution_count": 15,
   "metadata": {
    "hidden": true
   },
   "outputs": [],
   "source": [
    "# Create new dataframe\n",
    "songs2 = songs1.copy()"
   ]
  },
  {
   "cell_type": "code",
   "execution_count": 16,
   "metadata": {
    "hidden": true
   },
   "outputs": [],
   "source": [
    "# Bin independent variable\n",
    "bins = [0, 10, 20, 30, 40, 50, 60, 70, 80, 90, 100]\n",
    "labels = [10, 20, 30, 40, 50, 60, 70, 80, 90, 100]\n",
    "songs2['track_popularity_bins'] = pd.cut(songs1['track_popularity'], bins=bins, labels=labels)"
   ]
  },
  {
   "cell_type": "code",
   "execution_count": 17,
   "metadata": {
    "hidden": true
   },
   "outputs": [],
   "source": [
    "# Drop 0 popularity\n",
    "songs2.dropna(inplace=True)"
   ]
  },
  {
   "cell_type": "code",
   "execution_count": 18,
   "metadata": {
    "hidden": true
   },
   "outputs": [],
   "source": [
    "# Encoding categorical data\n",
    "le = LabelEncoder()\n",
    "songs2['track_popularity'] = le.fit_transform(songs2['track_popularity'])"
   ]
  },
  {
   "cell_type": "code",
   "execution_count": 19,
   "metadata": {
    "hidden": true
   },
   "outputs": [
    {
     "data": {
      "text/plain": [
       "10     131599\n",
       "20     124880\n",
       "30     115033\n",
       "40     104735\n",
       "50      61421\n",
       "60      30220\n",
       "70      11257\n",
       "80       2947\n",
       "90        413\n",
       "100        31\n",
       "Name: track_popularity_bins, dtype: int64"
      ]
     },
     "execution_count": 19,
     "metadata": {},
     "output_type": "execute_result"
    }
   ],
   "source": [
    "# Independent variable value counts\n",
    "songs2.track_popularity_bins.value_counts()"
   ]
  },
  {
   "cell_type": "markdown",
   "metadata": {
    "hidden": true
   },
   "source": [
    "#### b) Re-define X & Y"
   ]
  },
  {
   "cell_type": "code",
   "execution_count": 20,
   "metadata": {
    "hidden": true
   },
   "outputs": [],
   "source": [
    "#Define appropriate X and y\n",
    "X2 = songs2[songs2.columns[1:-1]]\n",
    "y2 = songs2.track_popularity_bins"
   ]
  },
  {
   "cell_type": "markdown",
   "metadata": {
    "hidden": true
   },
   "source": [
    "#### c) Train-Test Split"
   ]
  },
  {
   "cell_type": "code",
   "execution_count": 21,
   "metadata": {
    "hidden": true
   },
   "outputs": [],
   "source": [
    "# Train-Test Split\n",
    "X2_train, X2_test, y2_train, y2_test = train_test_split(X2, y2, test_size = .2)"
   ]
  },
  {
   "cell_type": "code",
   "execution_count": 23,
   "metadata": {
    "hidden": true
   },
   "outputs": [
    {
     "data": {
      "image/png": "[encoded data removed]",
      "text/plain": [
       "<Figure size 1440x720 with 1 Axes>"
      ]
     },
     "metadata": {},
     "output_type": "display_data"
    }
   ],
   "source": [
    "fig3 = plt.figure(figsize=(20,10))\n",
    "sns.distplot(y2_train, kde=False, bins=10)\n",
    "sns.set(font_scale = 2)\n",
    "plt.title(\"Distribution Plot of Training Data\", fontsize=35)\n",
    "plt.xlabel('Track Popularity Score (out of 100)', fontsize=25)\n",
    "plt.ylabel('Proportion of Data', fontsize=25)\n",
    "plt.show()"
   ]
  },
  {
   "cell_type": "markdown",
   "metadata": {
    "hidden": true
   },
   "source": [
    "#### d) Normalize X Train & Test"
   ]
  },
  {
   "cell_type": "code",
   "execution_count": 24,
   "metadata": {
    "hidden": true
   },
   "outputs": [],
   "source": [
    "# Normalize X_train & X_test\n",
    "scaler = StandardScaler()\n",
    "\n",
    "X2_train_norm = scaler.fit_transform(X2_train)\n",
    "X2_test_norm = scaler.transform(X2_test)"
   ]
  },
  {
   "cell_type": "markdown",
   "metadata": {
    "hidden": true
   },
   "source": [
    "#### e) Run Linear Regression"
   ]
  },
  {
   "cell_type": "code",
   "execution_count": 25,
   "metadata": {
    "hidden": true
   },
   "outputs": [
    {
     "data": {
      "text/html": [
       "<table class=\"simpletable\">\n",
       "<caption>OLS Regression Results</caption>\n",
       "<tr>\n",
       "  <th>Dep. Variable:</th>    <td>track_popularity_bins</td> <th>  R-squared (uncentered):</th>       <td>   0.009</td>  \n",
       "</tr>\n",
       "<tr>\n",
       "  <th>Model:</th>                     <td>OLS</td>          <th>  Adj. R-squared (uncentered):</th>  <td>   0.009</td>  \n",
       "</tr>\n",
       "<tr>\n",
       "  <th>Method:</th>               <td>Least Squares</td>     <th>  F-statistic:       </th>           <td>   462.3</td>  \n",
       "</tr>\n",
       "<tr>\n",
       "  <th>Date:</th>               <td>Wed, 23 Oct 2019</td>    <th>  Prob (F-statistic):</th>            <td>  0.00</td>   \n",
       "</tr>\n",
       "<tr>\n",
       "  <th>Time:</th>                   <td>06:02:11</td>        <th>  Log-Likelihood:    </th>          <td>-2.3029e+06</td>\n",
       "</tr>\n",
       "<tr>\n",
       "  <th>No. Observations:</th>        <td>466028</td>         <th>  AIC:               </th>           <td>4.606e+06</td> \n",
       "</tr>\n",
       "<tr>\n",
       "  <th>Df Residuals:</th>            <td>466019</td>         <th>  BIC:               </th>           <td>4.606e+06</td> \n",
       "</tr>\n",
       "<tr>\n",
       "  <th>Df Model:</th>                <td>     9</td>         <th>                     </th>               <td> </td>     \n",
       "</tr>\n",
       "<tr>\n",
       "  <th>Covariance Type:</th>        <td>nonrobust</td>       <th>                     </th>               <td> </td>     \n",
       "</tr>\n",
       "</table>\n",
       "<table class=\"simpletable\">\n",
       "<tr>\n",
       "   <td></td>     <th>coef</th>     <th>std err</th>      <th>t</th>      <th>P>|t|</th>  <th>[0.025</th>    <th>0.975]</th>  \n",
       "</tr>\n",
       "<tr>\n",
       "  <th>x1</th> <td>   -0.4550</td> <td>    0.051</td> <td>   -8.992</td> <td> 0.000</td> <td>   -0.554</td> <td>   -0.356</td>\n",
       "</tr>\n",
       "<tr>\n",
       "  <th>x2</th> <td>    1.7462</td> <td>    0.051</td> <td>   34.469</td> <td> 0.000</td> <td>    1.647</td> <td>    1.845</td>\n",
       "</tr>\n",
       "<tr>\n",
       "  <th>x3</th> <td>    0.0067</td> <td>    0.050</td> <td>    0.132</td> <td> 0.895</td> <td>   -0.092</td> <td>    0.105</td>\n",
       "</tr>\n",
       "<tr>\n",
       "  <th>x4</th> <td>   -0.0630</td> <td>    0.051</td> <td>   -1.244</td> <td> 0.213</td> <td>   -0.162</td> <td>    0.036</td>\n",
       "</tr>\n",
       "<tr>\n",
       "  <th>x5</th> <td>   -1.0178</td> <td>    0.051</td> <td>  -19.778</td> <td> 0.000</td> <td>   -1.119</td> <td>   -0.917</td>\n",
       "</tr>\n",
       "<tr>\n",
       "  <th>x6</th> <td>   -0.9569</td> <td>    0.053</td> <td>  -18.145</td> <td> 0.000</td> <td>   -1.060</td> <td>   -0.854</td>\n",
       "</tr>\n",
       "<tr>\n",
       "  <th>x7</th> <td>   -1.8795</td> <td>    0.054</td> <td>  -34.616</td> <td> 0.000</td> <td>   -1.986</td> <td>   -1.773</td>\n",
       "</tr>\n",
       "<tr>\n",
       "  <th>x8</th> <td>   -0.1370</td> <td>    0.051</td> <td>   -2.692</td> <td> 0.007</td> <td>   -0.237</td> <td>   -0.037</td>\n",
       "</tr>\n",
       "<tr>\n",
       "  <th>x9</th> <td>   -0.0405</td> <td>    0.054</td> <td>   -0.756</td> <td> 0.450</td> <td>   -0.145</td> <td>    0.064</td>\n",
       "</tr>\n",
       "</table>\n",
       "<table class=\"simpletable\">\n",
       "<tr>\n",
       "  <th>Omnibus:</th>       <td>22539.611</td> <th>  Durbin-Watson:     </th> <td>   0.445</td> \n",
       "</tr>\n",
       "<tr>\n",
       "  <th>Prob(Omnibus):</th>  <td> 0.000</td>   <th>  Jarque-Bera (JB):  </th> <td>25109.854</td>\n",
       "</tr>\n",
       "<tr>\n",
       "  <th>Skew:</th>           <td> 0.554</td>   <th>  Prob(JB):          </th> <td>    0.00</td> \n",
       "</tr>\n",
       "<tr>\n",
       "  <th>Kurtosis:</th>       <td> 2.747</td>   <th>  Cond. No.          </th> <td>    1.62</td> \n",
       "</tr>\n",
       "</table><br/><br/>Warnings:<br/>[1] Standard Errors assume that the covariance matrix of the errors is correctly specified."
      ],
      "text/plain": [
       "<class 'statsmodels.iolib.summary.Summary'>\n",
       "\"\"\"\n",
       "                                  OLS Regression Results                                  \n",
       "==========================================================================================\n",
       "Dep. Variable:     track_popularity_bins   R-squared (uncentered):                   0.009\n",
       "Model:                               OLS   Adj. R-squared (uncentered):              0.009\n",
       "Method:                    Least Squares   F-statistic:                              462.3\n",
       "Date:                   Wed, 23 Oct 2019   Prob (F-statistic):                        0.00\n",
       "Time:                           06:02:11   Log-Likelihood:                     -2.3029e+06\n",
       "No. Observations:                 466028   AIC:                                  4.606e+06\n",
       "Df Residuals:                     466019   BIC:                                  4.606e+06\n",
       "Df Model:                              9                                                  \n",
       "Covariance Type:               nonrobust                                                  \n",
       "==============================================================================\n",
       "                 coef    std err          t      P>|t|      [0.025      0.975]\n",
       "------------------------------------------------------------------------------\n",
       "x1            -0.4550      0.051     -8.992      0.000      -0.554      -0.356\n",
       "x2             1.7462      0.051     34.469      0.000       1.647       1.845\n",
       "x3             0.0067      0.050      0.132      0.895      -0.092       0.105\n",
       "x4            -0.0630      0.051     -1.244      0.213      -0.162       0.036\n",
       "x5            -1.0178      0.051    -19.778      0.000      -1.119      -0.917\n",
       "x6            -0.9569      0.053    -18.145      0.000      -1.060      -0.854\n",
       "x7            -1.8795      0.054    -34.616      0.000      -1.986      -1.773\n",
       "x8            -0.1370      0.051     -2.692      0.007      -0.237      -0.037\n",
       "x9            -0.0405      0.054     -0.756      0.450      -0.145       0.064\n",
       "==============================================================================\n",
       "Omnibus:                    22539.611   Durbin-Watson:                   0.445\n",
       "Prob(Omnibus):                  0.000   Jarque-Bera (JB):            25109.854\n",
       "Skew:                           0.554   Prob(JB):                         0.00\n",
       "Kurtosis:                       2.747   Cond. No.                         1.62\n",
       "==============================================================================\n",
       "\n",
       "Warnings:\n",
       "[1] Standard Errors assume that the covariance matrix of the errors is correctly specified.\n",
       "\"\"\""
      ]
     },
     "execution_count": 25,
     "metadata": {},
     "output_type": "execute_result"
    }
   ],
   "source": [
    "reg2 = sm.OLS(y2_train, X2_train_norm).fit()\n",
    "reg2.summary()"
   ]
  },
  {
   "cell_type": "markdown",
   "metadata": {
    "hidden": true
   },
   "source": [
    "#### f) QQ Plot"
   ]
  },
  {
   "cell_type": "code",
   "execution_count": 27,
   "metadata": {
    "hidden": true,
    "scrolled": true
   },
   "outputs": [
    {
     "data": {
      "image/png": "[encoded data removed]",
      "text/plain": [
       "<Figure size 432x288 with 1 Axes>"
      ]
     },
     "metadata": {},
     "output_type": "display_data"
    }
   ],
   "source": [
    "residuals = reg2.resid\n",
    "\n",
    "fig4 = sm.graphics.qqplot(residuals, dist=stats.norm, line='45', fit=True)\n",
    "sns.set(font_scale = 1)\n",
    "plt.title(\"QQ Plot for Linear Regression w/ Binned DV\", fontsize=17)\n",
    "plt.xlabel('Theoretical Quantiles', fontsize=14)\n",
    "plt.ylabel('Sample Quantiles', fontsize=14)\n",
    "plt.tight_layout()\n",
    "plt.show()\n",
    "fig4.savefig('Images/linear_regression2_qq_plot.png')"
   ]
  },
  {
   "cell_type": "markdown",
   "metadata": {
    "heading_collapsed": true
   },
   "source": [
    "### 3. Linear Regression w/ Target Transformation (Adjusting Noise & Number of Features)"
   ]
  },
  {
   "cell_type": "markdown",
   "metadata": {
    "hidden": true
   },
   "source": [
    "#### a) Linear Regression w/ Noise Limited to 100"
   ]
  },
  {
   "cell_type": "code",
   "execution_count": 28,
   "metadata": {
    "hidden": true
   },
   "outputs": [
    {
     "data": {
      "text/html": [
       "<table class=\"simpletable\">\n",
       "<caption>OLS Regression Results</caption>\n",
       "<tr>\n",
       "  <th>Dep. Variable:</th>            <td>y</td>        <th>  R-squared (uncentered):</th>      <td>   0.578</td> \n",
       "</tr>\n",
       "<tr>\n",
       "  <th>Model:</th>                   <td>OLS</td>       <th>  Adj. R-squared (uncentered):</th> <td>   0.576</td> \n",
       "</tr>\n",
       "<tr>\n",
       "  <th>Method:</th>             <td>Least Squares</td>  <th>  F-statistic:       </th>          <td>   272.9</td> \n",
       "</tr>\n",
       "<tr>\n",
       "  <th>Date:</th>             <td>Wed, 23 Oct 2019</td> <th>  Prob (F-statistic):</th>          <td>1.07e-183</td>\n",
       "</tr>\n",
       "<tr>\n",
       "  <th>Time:</th>                 <td>06:02:27</td>     <th>  Log-Likelihood:    </th>          <td> -6007.4</td> \n",
       "</tr>\n",
       "<tr>\n",
       "  <th>No. Observations:</th>      <td>  1000</td>      <th>  AIC:               </th>          <td>1.202e+04</td>\n",
       "</tr>\n",
       "<tr>\n",
       "  <th>Df Residuals:</th>          <td>   995</td>      <th>  BIC:               </th>          <td>1.205e+04</td>\n",
       "</tr>\n",
       "<tr>\n",
       "  <th>Df Model:</th>              <td>     5</td>      <th>                     </th>              <td> </td>    \n",
       "</tr>\n",
       "<tr>\n",
       "  <th>Covariance Type:</th>      <td>nonrobust</td>    <th>                     </th>              <td> </td>    \n",
       "</tr>\n",
       "</table>\n",
       "<table class=\"simpletable\">\n",
       "<tr>\n",
       "   <td></td>     <th>coef</th>     <th>std err</th>      <th>t</th>      <th>P>|t|</th>  <th>[0.025</th>    <th>0.975]</th>  \n",
       "</tr>\n",
       "<tr>\n",
       "  <th>x1</th> <td>   18.2583</td> <td>    3.103</td> <td>    5.884</td> <td> 0.000</td> <td>   12.169</td> <td>   24.347</td>\n",
       "</tr>\n",
       "<tr>\n",
       "  <th>x2</th> <td>   93.1701</td> <td>    3.145</td> <td>   29.629</td> <td> 0.000</td> <td>   86.999</td> <td>   99.341</td>\n",
       "</tr>\n",
       "<tr>\n",
       "  <th>x3</th> <td>   39.1763</td> <td>    3.137</td> <td>   12.487</td> <td> 0.000</td> <td>   33.020</td> <td>   45.333</td>\n",
       "</tr>\n",
       "<tr>\n",
       "  <th>x4</th> <td>   38.4860</td> <td>    3.115</td> <td>   12.353</td> <td> 0.000</td> <td>   32.372</td> <td>   44.600</td>\n",
       "</tr>\n",
       "<tr>\n",
       "  <th>x5</th> <td>   32.6073</td> <td>    3.079</td> <td>   10.591</td> <td> 0.000</td> <td>   26.566</td> <td>   38.649</td>\n",
       "</tr>\n",
       "</table>\n",
       "<table class=\"simpletable\">\n",
       "<tr>\n",
       "  <th>Omnibus:</th>       <td> 6.652</td> <th>  Durbin-Watson:     </th> <td>   1.949</td>\n",
       "</tr>\n",
       "<tr>\n",
       "  <th>Prob(Omnibus):</th> <td> 0.036</td> <th>  Jarque-Bera (JB):  </th> <td>   7.771</td>\n",
       "</tr>\n",
       "<tr>\n",
       "  <th>Skew:</th>          <td>-0.101</td> <th>  Prob(JB):          </th> <td>  0.0205</td>\n",
       "</tr>\n",
       "<tr>\n",
       "  <th>Kurtosis:</th>      <td> 3.382</td> <th>  Cond. No.          </th> <td>    1.08</td>\n",
       "</tr>\n",
       "</table><br/><br/>Warnings:<br/>[1] Standard Errors assume that the covariance matrix of the errors is correctly specified."
      ],
      "text/plain": [
       "<class 'statsmodels.iolib.summary.Summary'>\n",
       "\"\"\"\n",
       "                                 OLS Regression Results                                \n",
       "=======================================================================================\n",
       "Dep. Variable:                      y   R-squared (uncentered):                   0.578\n",
       "Model:                            OLS   Adj. R-squared (uncentered):              0.576\n",
       "Method:                 Least Squares   F-statistic:                              272.9\n",
       "Date:                Wed, 23 Oct 2019   Prob (F-statistic):                   1.07e-183\n",
       "Time:                        06:02:27   Log-Likelihood:                         -6007.4\n",
       "No. Observations:                1000   AIC:                                  1.202e+04\n",
       "Df Residuals:                     995   BIC:                                  1.205e+04\n",
       "Df Model:                           5                                                  \n",
       "Covariance Type:            nonrobust                                                  \n",
       "==============================================================================\n",
       "                 coef    std err          t      P>|t|      [0.025      0.975]\n",
       "------------------------------------------------------------------------------\n",
       "x1            18.2583      3.103      5.884      0.000      12.169      24.347\n",
       "x2            93.1701      3.145     29.629      0.000      86.999      99.341\n",
       "x3            39.1763      3.137     12.487      0.000      33.020      45.333\n",
       "x4            38.4860      3.115     12.353      0.000      32.372      44.600\n",
       "x5            32.6073      3.079     10.591      0.000      26.566      38.649\n",
       "==============================================================================\n",
       "Omnibus:                        6.652   Durbin-Watson:                   1.949\n",
       "Prob(Omnibus):                  0.036   Jarque-Bera (JB):                7.771\n",
       "Skew:                          -0.101   Prob(JB):                       0.0205\n",
       "Kurtosis:                       3.382   Cond. No.                         1.08\n",
       "==============================================================================\n",
       "\n",
       "Warnings:\n",
       "[1] Standard Errors assume that the covariance matrix of the errors is correctly specified.\n",
       "\"\"\""
      ]
     },
     "execution_count": 28,
     "metadata": {},
     "output_type": "execute_result"
    },
    {
     "data": {
      "image/png": "[encoded data removed]",
      "text/plain": [
       "<Figure size 432x288 with 1 Axes>"
      ]
     },
     "metadata": {},
     "output_type": "display_data"
    }
   ],
   "source": [
    "from sklearn.datasets.samples_generator import make_regression\n",
    "X1_train, y1_train = make_regression(n_samples=1000, n_features=5, noise=100)\n",
    "\n",
    "plt.plot(X1_train, y1_train, 'o', color='black');\n",
    "plt.title(\"Linear Relationship Exists\")\n",
    "\n",
    "reg4 = sm.OLS(y1_train, X1_train).fit()\n",
    "reg4.summary()"
   ]
  },
  {
   "cell_type": "markdown",
   "metadata": {
    "hidden": true
   },
   "source": [
    "#### b) Linear Regression w/ Noise Limited to 10"
   ]
  },
  {
   "cell_type": "code",
   "execution_count": 29,
   "metadata": {
    "hidden": true
   },
   "outputs": [
    {
     "data": {
      "text/html": [
       "<table class=\"simpletable\">\n",
       "<caption>OLS Regression Results</caption>\n",
       "<tr>\n",
       "  <th>Dep. Variable:</th>            <td>y</td>        <th>  R-squared (uncentered):</th>      <td>   0.994</td> \n",
       "</tr>\n",
       "<tr>\n",
       "  <th>Model:</th>                   <td>OLS</td>       <th>  Adj. R-squared (uncentered):</th> <td>   0.994</td> \n",
       "</tr>\n",
       "<tr>\n",
       "  <th>Method:</th>             <td>Least Squares</td>  <th>  F-statistic:       </th>          <td>3.516e+04</td>\n",
       "</tr>\n",
       "<tr>\n",
       "  <th>Date:</th>             <td>Wed, 23 Oct 2019</td> <th>  Prob (F-statistic):</th>           <td>  0.00</td>  \n",
       "</tr>\n",
       "<tr>\n",
       "  <th>Time:</th>                 <td>06:02:32</td>     <th>  Log-Likelihood:    </th>          <td> -3694.6</td> \n",
       "</tr>\n",
       "<tr>\n",
       "  <th>No. Observations:</th>      <td>  1000</td>      <th>  AIC:               </th>          <td>   7399.</td> \n",
       "</tr>\n",
       "<tr>\n",
       "  <th>Df Residuals:</th>          <td>   995</td>      <th>  BIC:               </th>          <td>   7424.</td> \n",
       "</tr>\n",
       "<tr>\n",
       "  <th>Df Model:</th>              <td>     5</td>      <th>                     </th>              <td> </td>    \n",
       "</tr>\n",
       "<tr>\n",
       "  <th>Covariance Type:</th>      <td>nonrobust</td>    <th>                     </th>              <td> </td>    \n",
       "</tr>\n",
       "</table>\n",
       "<table class=\"simpletable\">\n",
       "<tr>\n",
       "   <td></td>     <th>coef</th>     <th>std err</th>      <th>t</th>      <th>P>|t|</th>  <th>[0.025</th>    <th>0.975]</th>  \n",
       "</tr>\n",
       "<tr>\n",
       "  <th>x1</th> <td>   45.4289</td> <td>    0.311</td> <td>  146.082</td> <td> 0.000</td> <td>   44.819</td> <td>   46.039</td>\n",
       "</tr>\n",
       "<tr>\n",
       "  <th>x2</th> <td>   82.3186</td> <td>    0.303</td> <td>  271.710</td> <td> 0.000</td> <td>   81.724</td> <td>   82.913</td>\n",
       "</tr>\n",
       "<tr>\n",
       "  <th>x3</th> <td>   38.8355</td> <td>    0.303</td> <td>  128.285</td> <td> 0.000</td> <td>   38.241</td> <td>   39.430</td>\n",
       "</tr>\n",
       "<tr>\n",
       "  <th>x4</th> <td>   53.2895</td> <td>    0.304</td> <td>  175.073</td> <td> 0.000</td> <td>   52.692</td> <td>   53.887</td>\n",
       "</tr>\n",
       "<tr>\n",
       "  <th>x5</th> <td>   60.5863</td> <td>    0.314</td> <td>  193.205</td> <td> 0.000</td> <td>   59.971</td> <td>   61.202</td>\n",
       "</tr>\n",
       "</table>\n",
       "<table class=\"simpletable\">\n",
       "<tr>\n",
       "  <th>Omnibus:</th>       <td> 0.880</td> <th>  Durbin-Watson:     </th> <td>   2.106</td>\n",
       "</tr>\n",
       "<tr>\n",
       "  <th>Prob(Omnibus):</th> <td> 0.644</td> <th>  Jarque-Bera (JB):  </th> <td>   0.938</td>\n",
       "</tr>\n",
       "<tr>\n",
       "  <th>Skew:</th>          <td> 0.020</td> <th>  Prob(JB):          </th> <td>   0.626</td>\n",
       "</tr>\n",
       "<tr>\n",
       "  <th>Kurtosis:</th>      <td> 2.855</td> <th>  Cond. No.          </th> <td>    1.09</td>\n",
       "</tr>\n",
       "</table><br/><br/>Warnings:<br/>[1] Standard Errors assume that the covariance matrix of the errors is correctly specified."
      ],
      "text/plain": [
       "<class 'statsmodels.iolib.summary.Summary'>\n",
       "\"\"\"\n",
       "                                 OLS Regression Results                                \n",
       "=======================================================================================\n",
       "Dep. Variable:                      y   R-squared (uncentered):                   0.994\n",
       "Model:                            OLS   Adj. R-squared (uncentered):              0.994\n",
       "Method:                 Least Squares   F-statistic:                          3.516e+04\n",
       "Date:                Wed, 23 Oct 2019   Prob (F-statistic):                        0.00\n",
       "Time:                        06:02:32   Log-Likelihood:                         -3694.6\n",
       "No. Observations:                1000   AIC:                                      7399.\n",
       "Df Residuals:                     995   BIC:                                      7424.\n",
       "Df Model:                           5                                                  \n",
       "Covariance Type:            nonrobust                                                  \n",
       "==============================================================================\n",
       "                 coef    std err          t      P>|t|      [0.025      0.975]\n",
       "------------------------------------------------------------------------------\n",
       "x1            45.4289      0.311    146.082      0.000      44.819      46.039\n",
       "x2            82.3186      0.303    271.710      0.000      81.724      82.913\n",
       "x3            38.8355      0.303    128.285      0.000      38.241      39.430\n",
       "x4            53.2895      0.304    175.073      0.000      52.692      53.887\n",
       "x5            60.5863      0.314    193.205      0.000      59.971      61.202\n",
       "==============================================================================\n",
       "Omnibus:                        0.880   Durbin-Watson:                   2.106\n",
       "Prob(Omnibus):                  0.644   Jarque-Bera (JB):                0.938\n",
       "Skew:                           0.020   Prob(JB):                        0.626\n",
       "Kurtosis:                       2.855   Cond. No.                         1.09\n",
       "==============================================================================\n",
       "\n",
       "Warnings:\n",
       "[1] Standard Errors assume that the covariance matrix of the errors is correctly specified.\n",
       "\"\"\""
      ]
     },
     "execution_count": 29,
     "metadata": {},
     "output_type": "execute_result"
    },
    {
     "data": {
      "image/png": "[encoded data removed]",
      "text/plain": [
       "<Figure size 432x288 with 1 Axes>"
      ]
     },
     "metadata": {},
     "output_type": "display_data"
    }
   ],
   "source": [
    "from sklearn.datasets.samples_generator import make_regression\n",
    "X1_train, y1_train = make_regression(n_samples=1000, n_features=5, noise=10)\n",
    "\n",
    "plt.plot(X1_train, y1_train, 'o', color='black');\n",
    "plt.title(\"Linear Relationship Exists\")\n",
    "\n",
    "reg4 = sm.OLS(y1_train, X1_train).fit()\n",
    "reg4.summary()"
   ]
  },
  {
   "cell_type": "markdown",
   "metadata": {
    "hidden": true
   },
   "source": [
    "#### c) QQ Plot"
   ]
  },
  {
   "cell_type": "code",
   "execution_count": 30,
   "metadata": {
    "hidden": true
   },
   "outputs": [
    {
     "data": {
      "image/png": "[encoded data removed]",
      "text/plain": [
       "<Figure size 504x360 with 1 Axes>"
      ]
     },
     "metadata": {},
     "output_type": "display_data"
    }
   ],
   "source": [
    "fig4b = plt.figure(figsize=(7,5))\n",
    "stats.probplot(X1_train[:,0], dist=\"norm\", plot=plt)\n",
    "sns.set(font_scale = 1)\n",
    "plt.title(\"QQ Plot for Linear Regression w/ Target Transformation\", fontsize=17)\n",
    "plt.xlabel('Theoretical Quantiles', fontsize=14)\n",
    "plt.ylabel('Sample Quantiles', fontsize=14)\n",
    "plt.tight_layout()\n",
    "plt.show()\n",
    "fig4b.savefig('Images/transformed_linear_regression_qq_plot.png')"
   ]
  },
  {
   "cell_type": "markdown",
   "metadata": {
    "hidden": true
   },
   "source": [
    "#### d) Linear Regression w/ Data Transformed Using Yeo-Johnson Method"
   ]
  },
  {
   "cell_type": "code",
   "execution_count": 31,
   "metadata": {
    "hidden": true
   },
   "outputs": [],
   "source": [
    "# transform training data & save lambda value\n",
    "from sklearn.preprocessing import power_transform\n",
    "# use lambda value to transform test data\n",
    "X2_train_trans = power_transform(X2_train_norm, method='yeo-johnson', standardize=True)\n",
    "# use lambda value to transform test data\n",
    "X2_test_trans = power_transform(X2_test_norm, method='yeo-johnson', standardize=True)"
   ]
  },
  {
   "cell_type": "code",
   "execution_count": 32,
   "metadata": {
    "hidden": true
   },
   "outputs": [
    {
     "data": {
      "text/html": [
       "<table class=\"simpletable\">\n",
       "<caption>OLS Regression Results</caption>\n",
       "<tr>\n",
       "  <th>Dep. Variable:</th>    <td>track_popularity_bins</td> <th>  R-squared (uncentered):</th>       <td>   0.009</td>  \n",
       "</tr>\n",
       "<tr>\n",
       "  <th>Model:</th>                     <td>OLS</td>          <th>  Adj. R-squared (uncentered):</th>  <td>   0.009</td>  \n",
       "</tr>\n",
       "<tr>\n",
       "  <th>Method:</th>               <td>Least Squares</td>     <th>  F-statistic:       </th>           <td>   461.4</td>  \n",
       "</tr>\n",
       "<tr>\n",
       "  <th>Date:</th>               <td>Wed, 23 Oct 2019</td>    <th>  Prob (F-statistic):</th>            <td>  0.00</td>   \n",
       "</tr>\n",
       "<tr>\n",
       "  <th>Time:</th>                   <td>06:02:52</td>        <th>  Log-Likelihood:    </th>          <td>-2.3029e+06</td>\n",
       "</tr>\n",
       "<tr>\n",
       "  <th>No. Observations:</th>        <td>466028</td>         <th>  AIC:               </th>           <td>4.606e+06</td> \n",
       "</tr>\n",
       "<tr>\n",
       "  <th>Df Residuals:</th>            <td>466019</td>         <th>  BIC:               </th>           <td>4.606e+06</td> \n",
       "</tr>\n",
       "<tr>\n",
       "  <th>Df Model:</th>                <td>     9</td>         <th>                     </th>               <td> </td>     \n",
       "</tr>\n",
       "<tr>\n",
       "  <th>Covariance Type:</th>        <td>nonrobust</td>       <th>                     </th>               <td> </td>     \n",
       "</tr>\n",
       "</table>\n",
       "<table class=\"simpletable\">\n",
       "<tr>\n",
       "   <td></td>     <th>coef</th>     <th>std err</th>      <th>t</th>      <th>P>|t|</th>  <th>[0.025</th>    <th>0.975]</th>  \n",
       "</tr>\n",
       "<tr>\n",
       "  <th>x1</th> <td>   -0.0943</td> <td>    0.051</td> <td>   -1.844</td> <td> 0.065</td> <td>   -0.195</td> <td>    0.006</td>\n",
       "</tr>\n",
       "<tr>\n",
       "  <th>x2</th> <td>    1.8056</td> <td>    0.051</td> <td>   35.561</td> <td> 0.000</td> <td>    1.706</td> <td>    1.905</td>\n",
       "</tr>\n",
       "<tr>\n",
       "  <th>x3</th> <td>    0.0115</td> <td>    0.050</td> <td>    0.229</td> <td> 0.819</td> <td>   -0.087</td> <td>    0.110</td>\n",
       "</tr>\n",
       "<tr>\n",
       "  <th>x4</th> <td>   -0.1238</td> <td>    0.051</td> <td>   -2.441</td> <td> 0.015</td> <td>   -0.223</td> <td>   -0.024</td>\n",
       "</tr>\n",
       "<tr>\n",
       "  <th>x5</th> <td>   -1.0093</td> <td>    0.052</td> <td>  -19.290</td> <td> 0.000</td> <td>   -1.112</td> <td>   -0.907</td>\n",
       "</tr>\n",
       "<tr>\n",
       "  <th>x6</th> <td>   -0.9450</td> <td>    0.052</td> <td>  -18.034</td> <td> 0.000</td> <td>   -1.048</td> <td>   -0.842</td>\n",
       "</tr>\n",
       "<tr>\n",
       "  <th>x7</th> <td>   -2.1157</td> <td>    0.054</td> <td>  -39.495</td> <td> 0.000</td> <td>   -2.221</td> <td>   -2.011</td>\n",
       "</tr>\n",
       "<tr>\n",
       "  <th>x8</th> <td>   -0.2455</td> <td>    0.050</td> <td>   -4.876</td> <td> 0.000</td> <td>   -0.344</td> <td>   -0.147</td>\n",
       "</tr>\n",
       "<tr>\n",
       "  <th>x9</th> <td>    0.0761</td> <td>    0.054</td> <td>    1.414</td> <td> 0.157</td> <td>   -0.029</td> <td>    0.182</td>\n",
       "</tr>\n",
       "</table>\n",
       "<table class=\"simpletable\">\n",
       "<tr>\n",
       "  <th>Omnibus:</th>       <td>22558.026</td> <th>  Durbin-Watson:     </th> <td>   0.445</td> \n",
       "</tr>\n",
       "<tr>\n",
       "  <th>Prob(Omnibus):</th>  <td> 0.000</td>   <th>  Jarque-Bera (JB):  </th> <td>25150.603</td>\n",
       "</tr>\n",
       "<tr>\n",
       "  <th>Skew:</th>           <td> 0.555</td>   <th>  Prob(JB):          </th> <td>    0.00</td> \n",
       "</tr>\n",
       "<tr>\n",
       "  <th>Kurtosis:</th>       <td> 2.749</td>   <th>  Cond. No.          </th> <td>    1.69</td> \n",
       "</tr>\n",
       "</table><br/><br/>Warnings:<br/>[1] Standard Errors assume that the covariance matrix of the errors is correctly specified."
      ],
      "text/plain": [
       "<class 'statsmodels.iolib.summary.Summary'>\n",
       "\"\"\"\n",
       "                                  OLS Regression Results                                  \n",
       "==========================================================================================\n",
       "Dep. Variable:     track_popularity_bins   R-squared (uncentered):                   0.009\n",
       "Model:                               OLS   Adj. R-squared (uncentered):              0.009\n",
       "Method:                    Least Squares   F-statistic:                              461.4\n",
       "Date:                   Wed, 23 Oct 2019   Prob (F-statistic):                        0.00\n",
       "Time:                           06:02:52   Log-Likelihood:                     -2.3029e+06\n",
       "No. Observations:                 466028   AIC:                                  4.606e+06\n",
       "Df Residuals:                     466019   BIC:                                  4.606e+06\n",
       "Df Model:                              9                                                  \n",
       "Covariance Type:               nonrobust                                                  \n",
       "==============================================================================\n",
       "                 coef    std err          t      P>|t|      [0.025      0.975]\n",
       "------------------------------------------------------------------------------\n",
       "x1            -0.0943      0.051     -1.844      0.065      -0.195       0.006\n",
       "x2             1.8056      0.051     35.561      0.000       1.706       1.905\n",
       "x3             0.0115      0.050      0.229      0.819      -0.087       0.110\n",
       "x4            -0.1238      0.051     -2.441      0.015      -0.223      -0.024\n",
       "x5            -1.0093      0.052    -19.290      0.000      -1.112      -0.907\n",
       "x6            -0.9450      0.052    -18.034      0.000      -1.048      -0.842\n",
       "x7            -2.1157      0.054    -39.495      0.000      -2.221      -2.011\n",
       "x8            -0.2455      0.050     -4.876      0.000      -0.344      -0.147\n",
       "x9             0.0761      0.054      1.414      0.157      -0.029       0.182\n",
       "==============================================================================\n",
       "Omnibus:                    22558.026   Durbin-Watson:                   0.445\n",
       "Prob(Omnibus):                  0.000   Jarque-Bera (JB):            25150.603\n",
       "Skew:                           0.555   Prob(JB):                         0.00\n",
       "Kurtosis:                       2.749   Cond. No.                         1.69\n",
       "==============================================================================\n",
       "\n",
       "Warnings:\n",
       "[1] Standard Errors assume that the covariance matrix of the errors is correctly specified.\n",
       "\"\"\""
      ]
     },
     "execution_count": 32,
     "metadata": {},
     "output_type": "execute_result"
    }
   ],
   "source": [
    "reg3 = sm.OLS(y2_train, X2_train_trans).fit()\n",
    "reg3.summary()"
   ]
  },
  {
   "cell_type": "markdown",
   "metadata": {},
   "source": [
    "## III. Logistic Regression"
   ]
  },
  {
   "cell_type": "markdown",
   "metadata": {
    "heading_collapsed": true
   },
   "source": [
    "### 1. Create New DataFrame w/ Binary Dependent Variable  "
   ]
  },
  {
   "cell_type": "markdown",
   "metadata": {
    "hidden": true
   },
   "source": [
    "#### a) Copy DataFrame"
   ]
  },
  {
   "cell_type": "code",
   "execution_count": 33,
   "metadata": {
    "hidden": true
   },
   "outputs": [],
   "source": [
    "# Create new dataframe\n",
    "songs3 = songs1.copy()"
   ]
  },
  {
   "cell_type": "markdown",
   "metadata": {
    "hidden": true
   },
   "source": [
    "#### b) Create Binary Dependent Variable Column"
   ]
  },
  {
   "cell_type": "code",
   "execution_count": 34,
   "metadata": {
    "hidden": true
   },
   "outputs": [],
   "source": [
    "# Create binary column for track_popularity over/under 50\n",
    "songs3['track_popularity_50'] = np.where(songs3['track_popularity']>50, 1, 0)"
   ]
  },
  {
   "cell_type": "markdown",
   "metadata": {
    "hidden": true
   },
   "source": [
    "#### d) Define X & Y"
   ]
  },
  {
   "cell_type": "code",
   "execution_count": 35,
   "metadata": {
    "hidden": true
   },
   "outputs": [],
   "source": [
    "#Define appropriate X and y\n",
    "X3 = songs3[songs3.columns[1:-1]]\n",
    "y3 = songs3.track_popularity_50"
   ]
  },
  {
   "cell_type": "markdown",
   "metadata": {
    "hidden": true
   },
   "source": [
    "#### c) Train-Test Split"
   ]
  },
  {
   "cell_type": "code",
   "execution_count": 36,
   "metadata": {
    "hidden": true
   },
   "outputs": [],
   "source": [
    "# Train-Test Split\n",
    "X3_train, X3_test, y3_train, y3_test = train_test_split(X3, y3, \n",
    "                                                        stratify = y3,\n",
    "                                                        test_size = .2)"
   ]
  },
  {
   "cell_type": "code",
   "execution_count": 38,
   "metadata": {
    "hidden": true
   },
   "outputs": [
    {
     "data": {
      "image/png": "[encoded data removed]",
      "text/plain": [
       "<Figure size 576x432 with 1 Axes>"
      ]
     },
     "metadata": {},
     "output_type": "display_data"
    }
   ],
   "source": [
    "y3_train_df = pd.DataFrame(y3_train)\n",
    "total = float(len(y3_train_df))\n",
    "\n",
    "fig5 = plt.figure(figsize=(8,6))\n",
    "ax = sns.countplot(x='track_popularity_50', data=y3_train_df)\n",
    "plt.title(\"Imbalanced Dependent Variable\", fontsize=20)\n",
    "plt.xlabel('Popular', fontsize=15)\n",
    "plt.ylabel('Count', fontsize=15)\n",
    "sns.set(font_scale = 1.25)\n",
    "plt.tight_layout()\n",
    "for p in ax.patches:\n",
    "    height = p.get_height()\n",
    "    ax.text(p.get_x()+p.get_width()/2.,\n",
    "            height + 40,\n",
    "            '{0:.0%}'.format(height/total),\n",
    "            ha=\"center\") \n",
    "plt.show()\n",
    "fig5.savefig('Images/imbalanced_dependent_variable.png')"
   ]
  },
  {
   "cell_type": "markdown",
   "metadata": {
    "hidden": true
   },
   "source": [
    "#### d) Normalize X_train & X_test"
   ]
  },
  {
   "cell_type": "code",
   "execution_count": 39,
   "metadata": {
    "hidden": true
   },
   "outputs": [],
   "source": [
    "# Normalize X_train & X_test\n",
    "scaler = StandardScaler()\n",
    "X3_train_norm = scaler.fit_transform(X3_train)\n",
    "X3_test_norm = scaler.transform(X3_test)"
   ]
  },
  {
   "cell_type": "markdown",
   "metadata": {
    "hidden": true
   },
   "source": [
    "#### e) Identify Data Imbalance"
   ]
  },
  {
   "cell_type": "code",
   "execution_count": 40,
   "metadata": {
    "hidden": true
   },
   "outputs": [
    {
     "data": {
      "text/plain": [
       "0    473918\n",
       "1     35894\n",
       "Name: track_popularity_50, dtype: int64"
      ]
     },
     "execution_count": 40,
     "metadata": {},
     "output_type": "execute_result"
    }
   ],
   "source": [
    "# Identify data imbalance\n",
    "y3_train.value_counts()"
   ]
  },
  {
   "cell_type": "markdown",
   "metadata": {
    "heading_collapsed": true
   },
   "source": [
    "### 2. Run Baseline Logistic Regression"
   ]
  },
  {
   "cell_type": "markdown",
   "metadata": {
    "hidden": true
   },
   "source": [
    "#### a) Run Logistic Regression"
   ]
  },
  {
   "cell_type": "code",
   "execution_count": 41,
   "metadata": {
    "hidden": true
   },
   "outputs": [],
   "source": [
    "lr1 = LogisticRegression(solver='liblinear').fit(X3_train_norm, y3_train)\n",
    "lr1_pred = lr1.predict(X3_test_norm)"
   ]
  },
  {
   "cell_type": "markdown",
   "metadata": {
    "hidden": true
   },
   "source": [
    "#### b) Scores"
   ]
  },
  {
   "cell_type": "code",
   "execution_count": 42,
   "metadata": {
    "hidden": true
   },
   "outputs": [
    {
     "name": "stdout",
     "output_type": "stream",
     "text": [
      "Accuracy: 0.9295897311165685\n",
      "Precision: 0.0\n",
      "F1: 0.0\n",
      "Recall: 0.0\n"
     ]
    }
   ],
   "source": [
    "# Checking Accuracy\n",
    "print('Accuracy:', accuracy_score(y3_test, lr1_pred))\n",
    "\n",
    "# Checking Precision\n",
    "print('Precision:', precision_score(y3_test, lr1_pred))\n",
    "    \n",
    "# F1 Score\n",
    "print('F1:', f1_score(y3_test, lr1_pred))\n",
    "\n",
    "# Checking Recall\n",
    "print('Recall:', recall_score(y3_test, lr1_pred))"
   ]
  },
  {
   "cell_type": "markdown",
   "metadata": {
    "hidden": true
   },
   "source": [
    "#### c) ROC Curve"
   ]
  },
  {
   "cell_type": "code",
   "execution_count": 43,
   "metadata": {
    "hidden": true
   },
   "outputs": [],
   "source": [
    "y_hat_test = lr1.predict(X3_test_norm)\n",
    "y_score = lr1.decision_function(X3_test_norm)\n",
    "\n",
    "fpr, tpr, threshold = roc_curve(y3_test, y_score)\n",
    "roc_auc = auc(fpr, tpr)"
   ]
  },
  {
   "cell_type": "code",
   "execution_count": 45,
   "metadata": {
    "hidden": true
   },
   "outputs": [
    {
     "data": {
      "image/png": "[encoded data removed]",
      "text/plain": [
       "<Figure size 576x432 with 1 Axes>"
      ]
     },
     "metadata": {},
     "output_type": "display_data"
    }
   ],
   "source": [
    "# method I: plt\n",
    "fig6 = plt.figure(figsize=(8,6))\n",
    "plt.plot(fpr, tpr, 'b', label = 'AUC = %0.2f' % roc_auc)\n",
    "sns.set(font_scale = 1)\n",
    "plt.title('ROC Curve for Baseline Logistic Regression', fontsize=20)\n",
    "plt.legend(loc = 'lower right')\n",
    "plt.plot([0, 1], [0, 1],'r--')\n",
    "plt.xlim([0, 1])\n",
    "plt.ylim([0, 1])\n",
    "plt.ylabel('True Positive Rate', fontsize=14)\n",
    "plt.xlabel('False Positive Rate', fontsize=14)\n",
    "plt.show()\n",
    "fig6.savefig('Images/ROC_baseline.png')"
   ]
  },
  {
   "cell_type": "markdown",
   "metadata": {
    "hidden": true
   },
   "source": [
    "#### d) Recall-Precision Curve"
   ]
  },
  {
   "cell_type": "code",
   "execution_count": 46,
   "metadata": {
    "hidden": true
   },
   "outputs": [
    {
     "name": "stdout",
     "output_type": "stream",
     "text": [
      "f1=0.000 auc=0.535\n"
     ]
    },
    {
     "data": {
      "image/png": "[encoded data removed]",
      "text/plain": [
       "<Figure size 432x288 with 1 Axes>"
      ]
     },
     "metadata": {},
     "output_type": "display_data"
    }
   ],
   "source": [
    "from sklearn.metrics import precision_recall_curve\n",
    "from sklearn.metrics import f1_score\n",
    "from sklearn.metrics import auc\n",
    "# calculate precision and recall for each threshold\n",
    "precision, recall, threshold = precision_recall_curve(y3_test, lr1.predict(X3_test_norm))\n",
    "# calculate scores\n",
    "f1, auc = f1_score(y3_test, lr1.predict(X3_test_norm)), auc(recall, precision)\n",
    "# summarize scores\n",
    "print('f1=%.3f auc=%.3f' % (f1, auc))\n",
    "# plot the precision-recall curves\n",
    "# plt.plot(recall, precision)\n",
    "plt.step(recall, precision)\n",
    "# axis labels\n",
    "plt.xlabel('Recall')\n",
    "plt.ylabel('Precision')\n",
    "plt.title('Recall-Precision Curve')\n",
    "# show the plot\n",
    "plt.show();"
   ]
  },
  {
   "cell_type": "markdown",
   "metadata": {},
   "source": [
    "## IV. Logistic Regression w/ Balanced Data"
   ]
  },
  {
   "cell_type": "markdown",
   "metadata": {
    "heading_collapsed": true
   },
   "source": [
    "### 1. Balancing Method 1: Oversample Minority Class"
   ]
  },
  {
   "cell_type": "markdown",
   "metadata": {
    "hidden": true
   },
   "source": [
    "#### a) Balance Data by Oversampling Minority Class"
   ]
  },
  {
   "cell_type": "code",
   "execution_count": 47,
   "metadata": {
    "hidden": true
   },
   "outputs": [],
   "source": [
    "# Convert Numpy array to DataFrame\n",
    "X3_train_norm_df = pd.DataFrame(X3_train_norm)"
   ]
  },
  {
   "cell_type": "code",
   "execution_count": 48,
   "metadata": {
    "hidden": true
   },
   "outputs": [],
   "source": [
    "# Concatenate our training data back together\n",
    "X3_train_norm_df = X3_train_norm_df.reset_index()\n",
    "y3_train = y3_train.reset_index()\n",
    "X4 = pd.concat([X3_train_norm_df, y3_train], axis=1, ignore_index=True)"
   ]
  },
  {
   "cell_type": "code",
   "execution_count": 49,
   "metadata": {
    "hidden": true
   },
   "outputs": [
    {
     "data": {
      "text/plain": [
       "1    473918\n",
       "0    473918\n",
       "Name: 11, dtype: int64"
      ]
     },
     "execution_count": 49,
     "metadata": {},
     "output_type": "execute_result"
    }
   ],
   "source": [
    "# Separate minority and majority classes\n",
    "not_popular = X4[X4[11]==0]\n",
    "popular = X4[X4[11]==1]\n",
    "\n",
    "# Upsample minority\n",
    "popular_upsampled = resample(popular,\n",
    "                          replace=True, # sample with replacement\n",
    "                          n_samples=len(not_popular), # match number in majority class\n",
    "                          random_state=27) # reproducible results\n",
    "\n",
    "# Combine majority and upsampled minority\n",
    "upsampled = pd.concat([not_popular, popular_upsampled])\n",
    "\n",
    "# Check new class counts\n",
    "upsampled[11].value_counts()"
   ]
  },
  {
   "cell_type": "markdown",
   "metadata": {
    "hidden": true
   },
   "source": [
    "#### b) Train-Test Split by Balanced Data"
   ]
  },
  {
   "cell_type": "code",
   "execution_count": 50,
   "metadata": {
    "hidden": true
   },
   "outputs": [],
   "source": [
    "y4_train = upsampled[upsampled.columns[-1:]]\n",
    "X4_train = upsampled[upsampled.columns[1:-2]]"
   ]
  },
  {
   "cell_type": "markdown",
   "metadata": {
    "hidden": true
   },
   "source": [
    "#### c) Visualize Balanced Data"
   ]
  },
  {
   "cell_type": "code",
   "execution_count": 52,
   "metadata": {
    "hidden": true
   },
   "outputs": [
    {
     "data": {
      "image/png": "[encoded data removed]",
      "text/plain": [
       "<Figure size 576x432 with 1 Axes>"
      ]
     },
     "metadata": {},
     "output_type": "display_data"
    }
   ],
   "source": [
    "# Visualize Balanced Data\n",
    "y4_train_df = pd.DataFrame(y4_train)\n",
    "total = float(len(y4_train_df))\n",
    "\n",
    "fig7 = plt.figure(figsize=(8,6))\n",
    "ax = sns.countplot(x=11, data=y4_train_df)\n",
    "plt.title(\"Balancing by Oversampling Minority Class\", fontsize=20)\n",
    "plt.xlabel('Popular', fontsize=15)\n",
    "plt.ylabel('Count', fontsize=15)\n",
    "sns.set(font_scale = 1.25)\n",
    "plt.tight_layout()\n",
    "for p in ax.patches:\n",
    "    height = p.get_height()\n",
    "    ax.text(p.get_x()+p.get_width()/2.,\n",
    "            height + 40,\n",
    "            '{0:.0%}'.format(height/total),\n",
    "            ha=\"center\") \n",
    "plt.show()\n",
    "fig7.savefig('Images/balance_by_oversampling_minority.png')"
   ]
  },
  {
   "cell_type": "markdown",
   "metadata": {
    "hidden": true
   },
   "source": [
    "#### d) Logistic Regression w/ Oversampled Minority Balanced Data"
   ]
  },
  {
   "cell_type": "code",
   "execution_count": 53,
   "metadata": {
    "hidden": true,
    "scrolled": true
   },
   "outputs": [],
   "source": [
    "upsampled_lr = LogisticRegression(solver='liblinear').fit(X4_train, y4_train)\n",
    "upsampled_pred = upsampled_lr.predict(X3_test_norm)"
   ]
  },
  {
   "cell_type": "markdown",
   "metadata": {
    "hidden": true
   },
   "source": [
    "#### e) Scores"
   ]
  },
  {
   "cell_type": "code",
   "execution_count": 54,
   "metadata": {
    "hidden": true
   },
   "outputs": [
    {
     "name": "stdout",
     "output_type": "stream",
     "text": [
      "Accuracy: 0.479918087451845\n",
      "Precision: 0.0937048064653339\n",
      "F1: 0.16625578587240894\n",
      "Recall: 0.7364608870069088\n"
     ]
    }
   ],
   "source": [
    "# Checking Accuracy\n",
    "print('Accuracy:', accuracy_score(y3_test, upsampled_pred))\n",
    "\n",
    "# Checking Precision\n",
    "print('Precision:', precision_score(y3_test, upsampled_pred))\n",
    "    \n",
    "# F1 Score\n",
    "print('F1:', f1_score(y3_test, upsampled_pred))\n",
    "\n",
    "# Checking Recall\n",
    "print('Recall:', recall_score(y3_test, upsampled_pred))"
   ]
  },
  {
   "cell_type": "markdown",
   "metadata": {
    "heading_collapsed": true
   },
   "source": [
    "### 2. Balancing Method 2: Undersample Majority Class"
   ]
  },
  {
   "cell_type": "markdown",
   "metadata": {
    "hidden": true
   },
   "source": [
    "#### a) Balance by Undersampling Majority Class"
   ]
  },
  {
   "cell_type": "code",
   "execution_count": 55,
   "metadata": {
    "hidden": true
   },
   "outputs": [
    {
     "data": {
      "text/plain": [
       "1    35894\n",
       "0    35894\n",
       "Name: 11, dtype: int64"
      ]
     },
     "execution_count": 55,
     "metadata": {},
     "output_type": "execute_result"
    }
   ],
   "source": [
    "# still using our separated classes popular and not_popular from above\n",
    "\n",
    "# downsample majority\n",
    "not_popular_downsampled = resample(not_popular,\n",
    "                                replace = False, # sample without replacement\n",
    "                                n_samples = len(popular), # match minority n\n",
    "                                random_state = 27) # reproducible results\n",
    "\n",
    "# combine minority and downsampled majority\n",
    "downsampled = pd.concat([not_popular_downsampled, popular])\n",
    "\n",
    "# checking counts\n",
    "downsampled[11].value_counts()"
   ]
  },
  {
   "cell_type": "markdown",
   "metadata": {
    "hidden": true
   },
   "source": [
    "#### b) Train-Test Split w/ Blanaced Data"
   ]
  },
  {
   "cell_type": "code",
   "execution_count": 56,
   "metadata": {
    "hidden": true
   },
   "outputs": [],
   "source": [
    "y5_train = downsampled[downsampled.columns[-1:]]\n",
    "X5_train = downsampled[downsampled.columns[1:-2]]"
   ]
  },
  {
   "cell_type": "markdown",
   "metadata": {
    "hidden": true
   },
   "source": [
    "#### c) Visualize Balanced Data"
   ]
  },
  {
   "cell_type": "code",
   "execution_count": 57,
   "metadata": {
    "hidden": true
   },
   "outputs": [
    {
     "data": {
      "image/png": "[encoded data removed]",
      "text/plain": [
       "<Figure size 576x432 with 1 Axes>"
      ]
     },
     "metadata": {},
     "output_type": "display_data"
    }
   ],
   "source": [
    "y5_train_df = pd.DataFrame(y5_train)\n",
    "total = float(len(y5_train_df))\n",
    "\n",
    "fig8 = plt.figure(figsize=(8,6))\n",
    "ax = sns.countplot(x=11, data=y5_train_df)\n",
    "plt.title(\"Balancing by Undersampling Majority Class\", fontsize=20)\n",
    "plt.xlabel('Popular', fontsize=15)\n",
    "plt.ylabel('Count', fontsize=15)\n",
    "sns.set(font_scale = 1.25)\n",
    "plt.tight_layout()\n",
    "for p in ax.patches:\n",
    "    height = p.get_height()\n",
    "    ax.text(p.get_x()+p.get_width()/2.,\n",
    "            height + 40,\n",
    "            '{0:.0%}'.format(height/total),\n",
    "            ha=\"center\") \n",
    "plt.show()\n",
    "fig8.savefig('Images/balanced_by_undersampling_majoirty.png')"
   ]
  },
  {
   "cell_type": "markdown",
   "metadata": {
    "hidden": true
   },
   "source": [
    "#### d) Logistic Regression w/ Undersampled Majority Balanced Data"
   ]
  },
  {
   "cell_type": "code",
   "execution_count": 58,
   "metadata": {
    "hidden": true,
    "scrolled": true
   },
   "outputs": [],
   "source": [
    "downsampled_lr = LogisticRegression(solver='liblinear').fit(X5_train, y5_train)\n",
    "downsampled_pred = downsampled_lr.predict(X3_test_norm)"
   ]
  },
  {
   "cell_type": "markdown",
   "metadata": {
    "hidden": true
   },
   "source": [
    "#### e) Scores"
   ]
  },
  {
   "cell_type": "code",
   "execution_count": 59,
   "metadata": {
    "hidden": true
   },
   "outputs": [
    {
     "name": "stdout",
     "output_type": "stream",
     "text": [
      "Accuracy: 0.47773689124618485\n",
      "Precision: 0.09380730709550007\n",
      "F1: 0.16653310628067713\n",
      "Recall: 0.7410296411856474\n"
     ]
    }
   ],
   "source": [
    "# Checking Accuracy\n",
    "print('Accuracy:', accuracy_score(y3_test, downsampled_pred))\n",
    "\n",
    "# Checking Precision\n",
    "print('Precision:', precision_score(y3_test, downsampled_pred))\n",
    "    \n",
    "# F1 Score\n",
    "print('F1:', f1_score(y3_test, downsampled_pred))\n",
    "\n",
    "# Checking Recall\n",
    "print('Recall:', recall_score(y3_test, downsampled_pred))"
   ]
  },
  {
   "cell_type": "markdown",
   "metadata": {
    "heading_collapsed": true
   },
   "source": [
    "### 3. Balancing Method 3: Generate Synthetic Samples w/ SMOTE"
   ]
  },
  {
   "cell_type": "markdown",
   "metadata": {
    "hidden": true
   },
   "source": [
    "#### a) Balancing Using SMOTE"
   ]
  },
  {
   "cell_type": "code",
   "execution_count": 61,
   "metadata": {
    "hidden": true
   },
   "outputs": [],
   "source": [
    "# Drop index column in y3_train\n",
    "y3_train = y3_train.drop(columns=['index'])"
   ]
  },
  {
   "cell_type": "code",
   "execution_count": 118,
   "metadata": {
    "hidden": true
   },
   "outputs": [
    {
     "name": "stdout",
     "output_type": "stream",
     "text": [
      "0    473918\n",
      "1     35894\n",
      "Name: track_popularity_50, dtype: int64\n",
      "1    473918\n",
      "0    473918\n",
      "dtype: int64\n"
     ]
    }
   ],
   "source": [
    "print(y3_train.track_popularity_50.value_counts())\n",
    "smote = SMOTE()\n",
    "X3_train_norm_resampled, y3_train_resampled = smote.fit_sample(X3_train_norm, y3_train.track_popularity_50) \n",
    "print(pd.Series(y3_train_resampled).value_counts())"
   ]
  },
  {
   "cell_type": "markdown",
   "metadata": {
    "hidden": true
   },
   "source": [
    "#### b) Visualize Balanced Data"
   ]
  },
  {
   "cell_type": "code",
   "execution_count": 65,
   "metadata": {
    "hidden": true
   },
   "outputs": [
    {
     "data": {
      "image/png": "[encoded data removed]",
      "text/plain": [
       "<Figure size 576x432 with 1 Axes>"
      ]
     },
     "metadata": {},
     "output_type": "display_data"
    }
   ],
   "source": [
    "y3_train_resampled_df = pd.DataFrame(y3_train_resampled)\n",
    "total = float(len(y3_train_resampled_df))\n",
    "\n",
    "fig9 = plt.figure(figsize=(8,6))\n",
    "ax = sns.countplot(x=0, data=y3_train_resampled_df)\n",
    "plt.title(\"Balancing with SMOTE\", fontsize=20)\n",
    "plt.xlabel('Popular', fontsize=15)\n",
    "plt.ylabel('Count', fontsize=15)\n",
    "sns.set(font_scale = 1.25)\n",
    "plt.tight_layout()\n",
    "for p in ax.patches:\n",
    "    height = p.get_height()\n",
    "    ax.text(p.get_x()+p.get_width()/2.,\n",
    "            height + 40,\n",
    "            '{0:.0%}'.format(height/total),\n",
    "            ha=\"center\") \n",
    "plt.show()\n",
    "fig9.savefig('Images/balance_with_smote.png')"
   ]
  },
  {
   "cell_type": "markdown",
   "metadata": {
    "hidden": true
   },
   "source": [
    "#### c) Run Logistic Regression w/ SMOTE Balanced Data"
   ]
  },
  {
   "cell_type": "code",
   "execution_count": 73,
   "metadata": {
    "hidden": true
   },
   "outputs": [],
   "source": [
    "smote = LogisticRegression(solver='liblinear').fit(X3_train_norm_resampled, y3_train_resampled)\n",
    "smote_pred = smote.predict(X3_test_norm)"
   ]
  },
  {
   "cell_type": "markdown",
   "metadata": {
    "hidden": true
   },
   "source": [
    "#### d) Scores"
   ]
  },
  {
   "cell_type": "code",
   "execution_count": 74,
   "metadata": {
    "hidden": true,
    "scrolled": true
   },
   "outputs": [
    {
     "name": "stdout",
     "output_type": "stream",
     "text": [
      "Accuracy: 0.48604583650443695\n",
      "Precision: 0.093833972783837\n",
      "F1: 0.1662317826003946\n",
      "Recall: 0.7276576777356809\n"
     ]
    }
   ],
   "source": [
    "# Checking Accuracy\n",
    "print('Accuracy:', accuracy_score(y3_test, smote_pred))\n",
    "\n",
    "# Checking Precision\n",
    "print('Precision:', precision_score(y3_test, smote_pred))\n",
    "    \n",
    "# F1 Score\n",
    "print('F1:', f1_score(y3_test, smote_pred))\n",
    "\n",
    "# Checking Recall\n",
    "print('Recall:', recall_score(y3_test, smote_pred))"
   ]
  },
  {
   "cell_type": "markdown",
   "metadata": {
    "hidden": true
   },
   "source": [
    "#### e) ROC Curve"
   ]
  },
  {
   "cell_type": "code",
   "execution_count": 68,
   "metadata": {
    "hidden": true,
    "scrolled": true
   },
   "outputs": [
    {
     "data": {
      "image/png": "[encoded data removed]",
      "text/plain": [
       "<Figure size 720x576 with 1 Axes>"
      ]
     },
     "metadata": {},
     "output_type": "display_data"
    }
   ],
   "source": [
    "# Compare a few different ratios of minority class to majority class\n",
    "ratios = [0.1,0.25, 0.33, 0.5,0.7,1]\n",
    "names = ['0.1', '0.25', '0.33','0.5','0.7','even']\n",
    "colors = sns.color_palette(\"Set2\")\n",
    "\n",
    "fig6b = plt.figure(figsize=(10,8))\n",
    "\n",
    "for n, ratio in enumerate(ratios):\n",
    "    #Fit a model\n",
    "    smote = SMOTE(sampling_strategy=ratio) # SMOTE\n",
    "    X3_train_norm_resampled, y3_train_resampled = smote.fit_sample(X3_train_norm, y3_train) \n",
    "    logreg = LogisticRegression(fit_intercept = False, C = 1e12,solver ='lbfgs') #Starter code\n",
    "    model_log = logreg.fit(X3_train_norm_resampled, y3_train_resampled)\n",
    "    #print(model_log) #Preview model params\n",
    "\n",
    "    #Predict\n",
    "    y_hat_test = logreg.predict(X3_test_norm)\n",
    "\n",
    "    y_score = logreg.decision_function(X3_test_norm)\n",
    "\n",
    "    fpr, tpr, thresholds = roc_curve(y3_test, y_score)\n",
    "    \n",
    "    #print('AUC for {}: {}'.format(names[n], auc(fpr, tpr)))\n",
    "    lw = 2\n",
    "    fig10 = plt.plot(fpr, tpr, color=colors[n],\n",
    "             lw=lw, label='ROC curve {}'.format(names[n]))\n",
    "plt.plot([0, 1], [0, 1], color='navy', lw=lw, linestyle='--')\n",
    "sns.set(font_scale = 1)\n",
    "plt.xlim([0.0, 1.0])\n",
    "plt.ylim([0.0, 1.05])\n",
    "plt.yticks([i/20.0 for i in range(21)])\n",
    "plt.xticks([i/20.0 for i in range(21)])\n",
    "plt.xlabel('False Positive Rate', fontsize=20)\n",
    "plt.ylabel('True Positive Rate', fontsize=20)\n",
    "plt.title('ROC Curve w/ SMOTE Resampling', fontsize=25)\n",
    "plt.legend(loc=\"lower right\")\n",
    "plt.show()\n",
    "fig6b.savefig('Images/log_roc2.png')"
   ]
  },
  {
   "cell_type": "markdown",
   "metadata": {
    "hidden": true
   },
   "source": [
    "#### f) Recall-Precision Curve"
   ]
  },
  {
   "cell_type": "code",
   "execution_count": 75,
   "metadata": {
    "hidden": true
   },
   "outputs": [
    {
     "name": "stdout",
     "output_type": "stream",
     "text": [
      "SMOTE AUC: 0.5977015082860495\n",
      "Baseline AUC: 0.5\n"
     ]
    }
   ],
   "source": [
    "print('SMOTE AUC:', roc_auc_score(y3_test, smote.predict(X3_test_norm)))\n",
    "print('Baseline AUC:', roc_auc_score(y3_test, lr1.predict(X3_test_norm)))"
   ]
  },
  {
   "cell_type": "code",
   "execution_count": 76,
   "metadata": {
    "hidden": true
   },
   "outputs": [
    {
     "name": "stdout",
     "output_type": "stream",
     "text": [
      "f1=0.166 auc=0.420\n"
     ]
    },
    {
     "data": {
      "image/png": "[encoded data removed]",
      "text/plain": [
       "<Figure size 432x288 with 1 Axes>"
      ]
     },
     "metadata": {},
     "output_type": "display_data"
    }
   ],
   "source": [
    "# calculate precision and recall for each threshold\n",
    "precision, recall, threshold = precision_recall_curve(y3_test, smote.predict(X3_test_norm))\n",
    "# calculate scores\n",
    "f1, auc = f1_score(y3_test, smote.predict(X3_test_norm)), auc(recall, precision)\n",
    "# summarize scores\n",
    "print('f1=%.3f auc=%.3f' % (f1, auc))\n",
    "# plot the precision-recall curves\n",
    "# plt.plot(recall, precision)\n",
    "plt.step(recall, precision)\n",
    "# axis labels\n",
    "plt.xlabel('Recall')\n",
    "plt.ylabel('Precision')\n",
    "plt.title('Recall-Precision Curve')\n",
    "# show the plot\n",
    "plt.show();"
   ]
  },
  {
   "cell_type": "markdown",
   "metadata": {
    "heading_collapsed": true
   },
   "source": [
    "## V. Logistic Regression w/ Cross Validation"
   ]
  },
  {
   "cell_type": "code",
   "execution_count": 77,
   "metadata": {
    "hidden": true
   },
   "outputs": [],
   "source": [
    "#split into 10 stratified\n",
    "cv = StratifiedKFold(n_splits= 10, random_state=1019, shuffle=True)\n",
    "\n",
    "#pick sections to compare\n",
    "lr_vanilla = LogisticRegression(C = 1e9, \n",
    "                                solver = 'newton-cg',\n",
    "                                max_iter=1000)\n",
    "\n",
    "l2_reg = LogisticRegression(C = 1, \n",
    "                            solver = 'newton-cg',\n",
    "                            max_iter=1000)\n",
    "\n",
    "l1_reg = LogisticRegression(C = 1, \n",
    "                           solver= 'saga', \n",
    "                           penalty = 'l1',\n",
    "                            max_iter=1000)\n",
    "\n",
    "#cross validations (each has different methods)\n",
    "cv_vanilla = cross_validate(estimator=lr_vanilla, \n",
    "                            X = X3_train_norm_resampled, y = y3_train_resampled,\n",
    "                            cv = cv, \n",
    "                            n_jobs=-1, \n",
    "                            return_estimator= True, \n",
    "                            return_train_score=True)\n",
    "\n",
    "cv_l2 = cross_validate(estimator=l2_reg, \n",
    "                    X = X3_train_norm_resampled, y = y3_train_resampled,\n",
    "                    cv = cv, \n",
    "                    n_jobs=-1, \n",
    "                    return_estimator= True, \n",
    "                    return_train_score=True)\n",
    "\n",
    "cv_l1 = cross_validate(estimator=l1_reg, \n",
    "                    X = X3_train_norm_resampled, y = y3_train_resampled,\n",
    "                    cv = cv, \n",
    "                    n_jobs=-1, \n",
    "                    return_estimator= True, \n",
    "                    return_train_score=True)\n"
   ]
  },
  {
   "cell_type": "code",
   "execution_count": 78,
   "metadata": {
    "hidden": true
   },
   "outputs": [
    {
     "name": "stdout",
     "output_type": "stream",
     "text": [
      "Vanilla Result:\n",
      "[[0.60554925 0.60348793]\n",
      " [0.60538631 0.60503883]\n",
      " [0.60538162 0.60472232]\n",
      " [0.60537693 0.6057668 ]\n",
      " [0.60546719 0.60475397]\n",
      " [0.60537224 0.60538699]\n",
      " [0.60498305 0.60863648]\n",
      " [0.60563131 0.60310812]\n",
      " [0.60510706 0.60738326]\n",
      " [0.60543764 0.6052204 ]]\n",
      "L2 Result:\n",
      "[[0.60554925 0.60348793]\n",
      " [0.60538631 0.60503883]\n",
      " [0.60538162 0.60472232]\n",
      " [0.6053781  0.6057668 ]\n",
      " [0.60546719 0.60475397]\n",
      " [0.60537224 0.60538699]\n",
      " [0.60498305 0.60863648]\n",
      " [0.60563131 0.60310812]\n",
      " [0.60510823 0.60738326]\n",
      " [0.60543647 0.6052204 ]]\n",
      "L1 Result:\n",
      "[[0.60554808 0.60347738]\n",
      " [0.60538279 0.60502827]\n",
      " [0.60538396 0.60472232]\n",
      " [0.60537341 0.6057668 ]\n",
      " [0.60546485 0.60475397]\n",
      " [0.60537224 0.60538699]\n",
      " [0.6049807  0.60865758]\n",
      " [0.60563365 0.60310812]\n",
      " [0.60510589 0.60739381]\n",
      " [0.60543998 0.6052204 ]]\n",
      "[0.60536926 0.60535051] [0.60536856 0.60535156] [0.60536938 0.60535051]\n",
      "[0.00018269 0.00156417] [0.00018352 0.00157145] [0.00018248 0.00156417]\n"
     ]
    }
   ],
   "source": [
    "# Vanilla Result\n",
    "vanilla_result = np.concatenate((cv_vanilla['train_score'].reshape(-1,1), \n",
    "                cv_vanilla['test_score'].reshape(-1,1)), axis=1)\n",
    "print('Vanilla Result:')\n",
    "print(vanilla_result)\n",
    "\n",
    "# L2 Result\n",
    "l2_result = np.concatenate((cv_l2['train_score'].reshape(-1,1), \n",
    "                cv_l2['test_score'].reshape(-1,1)), axis=1)\n",
    "print('L2 Result:')\n",
    "print(l2_result)\n",
    "\n",
    "# L1 Result\n",
    "l1_result = np.concatenate((cv_l1['train_score'].reshape(-1,1), \n",
    "                cv_l1['test_score'].reshape(-1,1)), axis=1)\n",
    "print('L1 Result:')\n",
    "print(l1_result)\n",
    "\n",
    "# Mean Comparison\n",
    "print(vanilla_result.mean(axis=0), l1_result.mean(axis=0), l2_result.mean(axis=0))\n",
    "\n",
    "# Standard Deviation Comparison\n",
    "print(vanilla_result.std(axis=0), l1_result.std(axis=0), l2_result.std(axis=0))"
   ]
  },
  {
   "cell_type": "code",
   "execution_count": 79,
   "metadata": {
    "hidden": true
   },
   "outputs": [
    {
     "data": {
      "text/plain": [
       "0.6053431184297705"
      ]
     },
     "execution_count": 79,
     "metadata": {},
     "output_type": "execute_result"
    }
   ],
   "source": [
    "lr_vanilla = cv_vanilla['estimator'][0]\n",
    "lr_vanilla.score(X3_train_norm_resampled, y3_train_resampled)"
   ]
  },
  {
   "cell_type": "code",
   "execution_count": 80,
   "metadata": {
    "hidden": true
   },
   "outputs": [
    {
     "data": {
      "text/plain": [
       "0.6053431184297705"
      ]
     },
     "execution_count": 80,
     "metadata": {},
     "output_type": "execute_result"
    }
   ],
   "source": [
    "lr_cv12 = cv_l2['estimator'][0]\n",
    "lr_cv12.score(X3_train_norm_resampled, y3_train_resampled)"
   ]
  },
  {
   "cell_type": "code",
   "execution_count": 81,
   "metadata": {
    "hidden": true
   },
   "outputs": [
    {
     "data": {
      "text/plain": [
       "0.6053410083600961"
      ]
     },
     "execution_count": 81,
     "metadata": {},
     "output_type": "execute_result"
    }
   ],
   "source": [
    "lr_cvl1 = cv_l1['estimator'][0]\n",
    "lr_cvl1.score(X3_train_norm_resampled, y3_train_resampled)"
   ]
  },
  {
   "cell_type": "markdown",
   "metadata": {},
   "source": [
    "## VI. Random Forest"
   ]
  },
  {
   "cell_type": "markdown",
   "metadata": {
    "heading_collapsed": true
   },
   "source": [
    "### 1. Random Forest Classifier"
   ]
  },
  {
   "cell_type": "markdown",
   "metadata": {
    "hidden": true
   },
   "source": [
    "#### a) Set Random Forrest Model"
   ]
  },
  {
   "cell_type": "code",
   "execution_count": 82,
   "metadata": {
    "hidden": true
   },
   "outputs": [],
   "source": [
    "from sklearn.ensemble import RandomForestClassifier\n",
    "from sklearn.metrics import precision_score, recall_score, accuracy_score, f1_score\n",
    "\n",
    "# train model\n",
    "rfc = RandomForestClassifier(n_estimators=9).fit(X3_train, y3_train)\n",
    "\n",
    "#predict on test set\n",
    "rfc_pred = rfc.predict(X3_test)"
   ]
  },
  {
   "cell_type": "markdown",
   "metadata": {
    "hidden": true
   },
   "source": [
    "#### b) Scores"
   ]
  },
  {
   "cell_type": "code",
   "execution_count": 83,
   "metadata": {
    "hidden": true
   },
   "outputs": [
    {
     "name": "stdout",
     "output_type": "stream",
     "text": [
      "Accuracy: 0.927220230202506\n",
      "Precision: 0.12990196078431374\n",
      "F1: 0.01129823065444468\n",
      "Recall: 0.005905950523735235\n"
     ]
    }
   ],
   "source": [
    "# Checking Accuracy\n",
    "print('Accuracy:', metrics.accuracy_score(y3_test, rfc_pred))\n",
    "\n",
    "# Checking Precision\n",
    "print('Precision:', metrics.precision_score(y3_test, rfc_pred))\n",
    "    \n",
    "# F1 Score\n",
    "print('F1:', metrics.f1_score(y3_test, rfc_pred))\n",
    "\n",
    "# Checking Recall\n",
    "print('Recall:', metrics.recall_score(y3_test, rfc_pred))"
   ]
  },
  {
   "cell_type": "markdown",
   "metadata": {
    "hidden": true
   },
   "source": [
    "#### c) ROC Curve"
   ]
  },
  {
   "cell_type": "code",
   "execution_count": 131,
   "metadata": {
    "hidden": true
   },
   "outputs": [
    {
     "name": "stdout",
     "output_type": "stream",
     "text": [
      "Recall Baseline: 1.0 Test: 0.01 Train: 0.86\n",
      "Precision Baseline: 0.07 Test: 0.13 Train: 1.0\n",
      "Roc Baseline: 0.5 Test: 0.57 Train: 1.0\n"
     ]
    },
    {
     "data": {
      "image/png": "[encoded data removed]",
      "text/plain": [
       "<Figure size 576x432 with 1 Axes>"
      ]
     },
     "metadata": {},
     "output_type": "display_data"
    }
   ],
   "source": [
    "# Training predictions (to demonstrate overfitting)\n",
    "train_rf_predictions = rfc.predict(X3_train)\n",
    "train_rf_probs = rfc.predict_proba(X3_train)[:, 1]\n",
    "\n",
    "# Testing predictions (to determine performance)\n",
    "rf_predictions = rfc.predict(X3_test)\n",
    "rf_probs = rfc.predict_proba(X3_test)[:, 1]\n",
    "\n",
    "from sklearn.metrics import precision_score, recall_score, roc_auc_score, roc_curve\n",
    "import matplotlib.pyplot as plt\n",
    "\n",
    "# Plot formatting\n",
    "plt.style.use('fivethirtyeight')\n",
    "plt.rcParams['font.size'] = 18\n",
    "\n",
    "def evaluate_model(predictions, probs, train_predictions, train_probs):\n",
    "    \"\"\"Compare machine learning model to baseline performance.\n",
    "    Computes statistics and shows ROC curve.\"\"\"\n",
    "    \n",
    "    baseline = {}\n",
    "    \n",
    "    baseline['recall'] = recall_score(y3_test, \n",
    "                                     [1 for _ in range(len(y3_test))])\n",
    "    baseline['precision'] = precision_score(y3_test, \n",
    "                                      [1 for _ in range(len(y3_test))])\n",
    "    baseline['roc'] = 0.5\n",
    "    \n",
    "    results = {}\n",
    "    \n",
    "    results['recall'] = recall_score(y3_test, predictions)\n",
    "    results['precision'] = precision_score(y3_test, predictions)\n",
    "    results['roc'] = roc_auc_score(y3_test, probs)\n",
    "    \n",
    "    train_results = {}\n",
    "    train_results['recall'] = recall_score(y3_train, train_predictions)\n",
    "    train_results['precision'] = precision_score(y3_train, train_predictions)\n",
    "    train_results['roc'] = roc_auc_score(y3_train, train_probs)\n",
    "    \n",
    "    for metric in ['recall', 'precision', 'roc']:\n",
    "        print(f'{metric.capitalize()} Baseline: {round(baseline[metric], 2)} Test: {round(results[metric], 2)} Train: {round(train_results[metric], 2)}')\n",
    "    \n",
    "    # Calculate false positive rates and true positive rates\n",
    "    base_fpr, base_tpr, _ = roc_curve(y3_test, [1 for _ in range(len(y3_test))])\n",
    "    model_fpr, model_tpr, _ = roc_curve(y3_test, probs)\n",
    "\n",
    "    fig11 = plt.figure(figsize = (8, 6))\n",
    "    plt.rcParams['font.size'] = 16\n",
    "    \n",
    "    # Plot both curves\n",
    "    plt.plot(base_fpr, base_tpr, 'b', label = 'baseline')\n",
    "    plt.plot(model_fpr, model_tpr, 'r', label = 'model')\n",
    "    plt.legend();\n",
    "    plt.xlabel('False Positive Rate'); \n",
    "    plt.ylabel('True Positive Rate'); \n",
    "    plt.title('Random Forest ROC Curves');\n",
    "    plt.tight_layout()\n",
    "    plt.show();\n",
    "    fig11.savefig('Images/rf_roc_auc_curve.png')\n",
    "    \n",
    "evaluate_model(rf_predictions, rf_probs, train_rf_predictions, train_rf_probs)"
   ]
  },
  {
   "cell_type": "markdown",
   "metadata": {
    "hidden": true
   },
   "source": [
    "#### d) Confusion Matrix"
   ]
  },
  {
   "cell_type": "code",
   "execution_count": 84,
   "metadata": {
    "hidden": true,
    "scrolled": true
   },
   "outputs": [
    {
     "data": {
      "text/plain": [
       "array([[118124,    355],\n",
       "       [  8921,     53]])"
      ]
     },
     "execution_count": 84,
     "metadata": {},
     "output_type": "execute_result"
    }
   ],
   "source": [
    "# Making the Confusion Matrix\n",
    "from sklearn.metrics import confusion_matrix\n",
    "rf_cm = confusion_matrix(y3_test, rfc_pred)\n",
    "rf_cm"
   ]
  },
  {
   "cell_type": "code",
   "execution_count": 85,
   "metadata": {
    "hidden": true
   },
   "outputs": [
    {
     "data": {
      "text/html": [
       "<div>\n",
       "<style scoped>\n",
       "    .dataframe tbody tr th:only-of-type {\n",
       "        vertical-align: middle;\n",
       "    }\n",
       "\n",
       "    .dataframe tbody tr th {\n",
       "        vertical-align: top;\n",
       "    }\n",
       "\n",
       "    .dataframe thead th {\n",
       "        text-align: right;\n",
       "    }\n",
       "</style>\n",
       "<table border=\"1\" class=\"dataframe\">\n",
       "  <thead>\n",
       "    <tr style=\"text-align: right;\">\n",
       "      <th></th>\n",
       "      <th>predicted 0</th>\n",
       "      <th>predicted 1</th>\n",
       "    </tr>\n",
       "  </thead>\n",
       "  <tbody>\n",
       "    <tr>\n",
       "      <th>actual 0</th>\n",
       "      <td>118124</td>\n",
       "      <td>355</td>\n",
       "    </tr>\n",
       "    <tr>\n",
       "      <th>actual 1</th>\n",
       "      <td>8921</td>\n",
       "      <td>53</td>\n",
       "    </tr>\n",
       "  </tbody>\n",
       "</table>\n",
       "</div>"
      ],
      "text/plain": [
       "          predicted 0  predicted 1\n",
       "actual 0       118124          355\n",
       "actual 1         8921           53"
      ]
     },
     "execution_count": 85,
     "metadata": {},
     "output_type": "execute_result"
    }
   ],
   "source": [
    "pd.DataFrame(confusion_matrix(y3_test, rfc_pred), \n",
    "             columns = ['predicted 0', 'predicted 1'], \n",
    "             index = ['actual 0', 'actual 1'])"
   ]
  },
  {
   "cell_type": "code",
   "execution_count": 114,
   "metadata": {
    "hidden": true
   },
   "outputs": [
    {
     "name": "stdout",
     "output_type": "stream",
     "text": [
      "Confusion matrix, without normalization\n",
      "[[118124    355]\n",
      " [  8921     53]]\n"
     ]
    },
    {
     "data": {
      "image/png": "[encoded data removed]",
      "text/plain": [
       "<Figure size 720x720 with 2 Axes>"
      ]
     },
     "metadata": {},
     "output_type": "display_data"
    }
   ],
   "source": [
    "from sklearn.metrics import confusion_matrix\n",
    "import itertools\n",
    "\n",
    "def plot_confusion_matrix(rf_cm, classes,\n",
    "                          normalize=False,\n",
    "                          title='Confusion matrix',\n",
    "                          cmap=plt.cm.Blues):\n",
    "    \"\"\"\n",
    "    This function prints and plots the confusion matrix.\n",
    "    Normalization can be applied by setting `normalize=True`.\n",
    "    Source: http://scikit-learn.org/stable/auto_examples/model_selection/plot_confusion_matrix.html\n",
    "    \"\"\"\n",
    "    if normalize:\n",
    "        rf_cm = rf_cm.astype('float') / rf_cm.sum(axis=1)[:, np.newaxis]\n",
    "        print(\"Normalized confusion matrix\")\n",
    "    else:\n",
    "        print('Confusion matrix, without normalization')\n",
    "\n",
    "    print(rf_cm)\n",
    "\n",
    "    # Plot the confusion matrix\n",
    "    plt.figure(figsize = (10, 10))\n",
    "    plt.imshow(rf_cm, interpolation='nearest', cmap=cmap)\n",
    "    plt.title(title, size = 24)\n",
    "    plt.colorbar(aspect=4)\n",
    "    tick_marks = np.arange(len(classes))\n",
    "    plt.xticks(tick_marks, classes, rotation=45, size = 14)\n",
    "    plt.yticks(tick_marks, classes, size = 14)\n",
    "\n",
    "    fmt = '.2f' if normalize else 'd'\n",
    "    thresh = rf_cm.max() / 2.\n",
    "    \n",
    "    # Labeling the plot\n",
    "    for i, j in itertools.product(range(rf_cm.shape[0]), range(rf_cm.shape[1])):\n",
    "        plt.text(j, i, format(rf_cm[i, j], fmt), fontsize = 20,\n",
    "                 horizontalalignment=\"center\",\n",
    "                 color=\"white\" if rf_cm[i, j] > thresh else \"black\")\n",
    "        \n",
    "    plt.grid(None)\n",
    "    plt.tight_layout()\n",
    "    plt.ylabel('True label', size = 18)\n",
    "    plt.xlabel('Predicted label', size = 18)\n",
    "    plt.tight_layout()\n",
    "    plt.savefig('Images/rf_confusion_matrix.png')\n",
    "\n",
    "# Confusion matrix\n",
    "rf_cm = confusion_matrix(y3_test, rf_predictions)\n",
    "plot_confusion_matrix(rf_cm, classes = ['Not Popular', 'Popular'],\n",
    "                      title = 'Random Forest Confusion Matrix')"
   ]
  },
  {
   "cell_type": "markdown",
   "metadata": {
    "heading_collapsed": true
   },
   "source": [
    "### 2. Random Forest Classifier w/ Cross Validation"
   ]
  },
  {
   "cell_type": "markdown",
   "metadata": {
    "hidden": true
   },
   "source": [
    "#### a) Set Random Forest Model"
   ]
  },
  {
   "cell_type": "code",
   "execution_count": 91,
   "metadata": {
    "hidden": true
   },
   "outputs": [],
   "source": [
    "from sklearn.ensemble import RandomForestClassifier\n",
    "from sklearn.model_selection import cross_val_score\n",
    "import numpy as np\n",
    "\n",
    "clf = RandomForestClassifier() #Initialize with whatever parameters you want to\n",
    "\n",
    "# 10-Fold Cross validation\n",
    "clf_pred = np.mean(cross_val_score(clf, X3_train, \n",
    "                                   y3_train, cv=10))"
   ]
  },
  {
   "cell_type": "code",
   "execution_count": 92,
   "metadata": {
    "hidden": true
   },
   "outputs": [
    {
     "data": {
      "text/plain": [
       "0.9289385103974344"
      ]
     },
     "execution_count": 92,
     "metadata": {},
     "output_type": "execute_result"
    }
   ],
   "source": [
    "clf_pred"
   ]
  },
  {
   "cell_type": "markdown",
   "metadata": {
    "hidden": true
   },
   "source": [
    "#### b) Set Cross Validation Model"
   ]
  },
  {
   "cell_type": "code",
   "execution_count": 93,
   "metadata": {
    "hidden": true
   },
   "outputs": [],
   "source": [
    "cv_model = cross_validate(clf, \n",
    "                          X3_train, \n",
    "                          y3_train, \n",
    "                          cv=10, \n",
    "                          return_estimator=True)"
   ]
  },
  {
   "cell_type": "code",
   "execution_count": 94,
   "metadata": {
    "hidden": true
   },
   "outputs": [],
   "source": [
    "y_test_pred = []\n",
    "for i in range(9):\n",
    "    y_test_pred.append(cv_model['estimator'][i].predict(X3_test))"
   ]
  },
  {
   "cell_type": "code",
   "execution_count": 95,
   "metadata": {
    "hidden": true
   },
   "outputs": [
    {
     "data": {
      "text/plain": [
       "0.0010600857658204289"
      ]
     },
     "execution_count": 95,
     "metadata": {},
     "output_type": "execute_result"
    }
   ],
   "source": [
    "np.mean(y_test_pred)"
   ]
  },
  {
   "cell_type": "markdown",
   "metadata": {
    "hidden": true
   },
   "source": [
    "#### c) Scores"
   ]
  },
  {
   "cell_type": "code",
   "execution_count": 96,
   "metadata": {
    "hidden": true
   },
   "outputs": [
    {
     "name": "stdout",
     "output_type": "stream",
     "text": [
      "Accuracy: 0.9288522043419927\n",
      "Precision: 0.1516078649592632\n",
      "F1: 0.004512121456601917\n",
      "Recall: 0.002290567813188718\n"
     ]
    }
   ],
   "source": [
    "# Checking Accuracy\n",
    "y_test_pred_accuracy = []\n",
    "for i in range(9):\n",
    "    y_test_pred_accuracy.append(metrics.accuracy_score(y3_test, y_test_pred[i]))\n",
    "print('Accuracy:', np.mean(y_test_pred_accuracy))\n",
    "\n",
    "# Checking Precision\n",
    "y_test_pred_precision= []\n",
    "for i in range(9):\n",
    "    y_test_pred_precision.append(metrics.precision_score(y3_test, y_test_pred[i]))\n",
    "print('Precision:', np.mean(y_test_pred_precision))\n",
    "    \n",
    "# F1 Score\n",
    "y_test_pred_f1 = []\n",
    "for i in range(9):\n",
    "    y_test_pred_f1.append(metrics.f1_score(y3_test, y_test_pred[i]))\n",
    "print('F1:', np.mean(y_test_pred_f1))\n",
    "\n",
    "# Checking Recall\n",
    "y_test_pred_recall = []\n",
    "for i in range(9):\n",
    "    y_test_pred_recall.append(metrics.recall_score(y3_test, y_test_pred[i]))\n",
    "print('Recall:', np.mean(y_test_pred_recall))"
   ]
  },
  {
   "cell_type": "markdown",
   "metadata": {
    "hidden": true
   },
   "source": [
    "#### d) ROC Curve"
   ]
  },
  {
   "cell_type": "code",
   "execution_count": 130,
   "metadata": {
    "hidden": true
   },
   "outputs": [
    {
     "name": "stdout",
     "output_type": "stream",
     "text": [
      "Recall Baseline: 1.0 Test: 0.0 Train: 0.71\n",
      "Precision Baseline: 0.07 Test: 0.15 Train: 1.0\n",
      "Roc Baseline: 0.5 Test: 0.58 Train: 0.97\n"
     ]
    },
    {
     "data": {
      "image/png": "[encoded data removed]",
      "text/plain": [
       "<Figure size 576x432 with 1 Axes>"
      ]
     },
     "metadata": {},
     "output_type": "display_data"
    }
   ],
   "source": [
    "# Training predictions (to demonstrate overfitting)\n",
    "train_rf_predictions = cv_model['estimator'][i].predict(X3_train)\n",
    "train_rf_probs = cv_model['estimator'][i].predict_proba(X3_train)[:, 1]\n",
    "\n",
    "# Testing predictions (to determine performance)\n",
    "rf_predictions = cv_model['estimator'][i].predict(X3_test)\n",
    "rf_probs = cv_model['estimator'][i].predict_proba(X3_test)[:, 1]\n",
    "\n",
    "from sklearn.metrics import precision_score, recall_score, roc_auc_score, roc_curve\n",
    "import matplotlib.pyplot as plt\n",
    "\n",
    "# Plot formatting\n",
    "plt.style.use('fivethirtyeight')\n",
    "plt.rcParams['font.size'] = 18\n",
    "\n",
    "def evaluate_model(predictions, probs, train_predictions, train_probs):\n",
    "    \"\"\"Compare machine learning model to baseline performance.\n",
    "    Computes statistics and shows ROC curve.\"\"\"\n",
    "    \n",
    "    baseline = {}\n",
    "    \n",
    "    baseline['recall'] = recall_score(y3_test, \n",
    "                                     [1 for _ in range(len(y3_test))])\n",
    "    baseline['precision'] = precision_score(y3_test, \n",
    "                                      [1 for _ in range(len(y3_test))])\n",
    "    baseline['roc'] = 0.5\n",
    "    \n",
    "    results = {}\n",
    "    \n",
    "    results['recall'] = recall_score(y3_test, predictions)\n",
    "    results['precision'] = precision_score(y3_test, predictions)\n",
    "    results['roc'] = roc_auc_score(y3_test, probs)\n",
    "    \n",
    "    train_results = {}\n",
    "    train_results['recall'] = recall_score(y3_train, train_predictions)\n",
    "    train_results['precision'] = precision_score(y3_train, train_predictions)\n",
    "    train_results['roc'] = roc_auc_score(y3_train, train_probs)\n",
    "    \n",
    "    for metric in ['recall', 'precision', 'roc']:\n",
    "        print(f'{metric.capitalize()} Baseline: {round(baseline[metric], 2)} Test: {round(results[metric], 2)} Train: {round(train_results[metric], 2)}')\n",
    "    \n",
    "    # Calculate false positive rates and true positive rates\n",
    "    base_fpr, base_tpr, _ = roc_curve(y3_test, [1 for _ in range(len(y3_test))])\n",
    "    model_fpr, model_tpr, _ = roc_curve(y3_test, probs)\n",
    "\n",
    "    fig13 = plt.figure(figsize = (8, 6))\n",
    "    plt.rcParams['font.size'] = 16\n",
    "    \n",
    "    # Plot both curves\n",
    "    plt.plot(base_fpr, base_tpr, 'b', label = 'baseline')\n",
    "    plt.plot(model_fpr, model_tpr, 'r', label = 'model')\n",
    "    plt.legend();\n",
    "    plt.xlabel('False Positive Rate'); \n",
    "    plt.ylabel('True Positive Rate'); \n",
    "    plt.title('Random Forest (w/CV) ROC Curves');\n",
    "    plt.tight_layout()\n",
    "    plt.show();\n",
    "    #fig13.savefig('Images/rf_cv_roc_auc_curve.png')\n",
    "\n",
    "evaluate_model(rf_predictions, rf_probs, train_rf_predictions, train_rf_probs)\n"
   ]
  },
  {
   "cell_type": "markdown",
   "metadata": {
    "hidden": true
   },
   "source": [
    "#### e) Confusion Matrix"
   ]
  },
  {
   "cell_type": "code",
   "execution_count": 97,
   "metadata": {
    "hidden": true
   },
   "outputs": [],
   "source": [
    "y_test_predictors = cv_model['estimator'][i].predict(X3_test)"
   ]
  },
  {
   "cell_type": "code",
   "execution_count": 98,
   "metadata": {
    "hidden": true
   },
   "outputs": [
    {
     "data": {
      "text/plain": [
       "array([[118368,    111],\n",
       "       [  8955,     19]])"
      ]
     },
     "execution_count": 98,
     "metadata": {},
     "output_type": "execute_result"
    }
   ],
   "source": [
    "# Making the Confusion Matrix\n",
    "from sklearn.metrics import confusion_matrix\n",
    "rf_cv_cm = confusion_matrix(y3_test, y_test_predictors)\n",
    "rf_cv_cm"
   ]
  },
  {
   "cell_type": "code",
   "execution_count": 99,
   "metadata": {
    "hidden": true
   },
   "outputs": [
    {
     "data": {
      "text/html": [
       "<div>\n",
       "<style scoped>\n",
       "    .dataframe tbody tr th:only-of-type {\n",
       "        vertical-align: middle;\n",
       "    }\n",
       "\n",
       "    .dataframe tbody tr th {\n",
       "        vertical-align: top;\n",
       "    }\n",
       "\n",
       "    .dataframe thead th {\n",
       "        text-align: right;\n",
       "    }\n",
       "</style>\n",
       "<table border=\"1\" class=\"dataframe\">\n",
       "  <thead>\n",
       "    <tr style=\"text-align: right;\">\n",
       "      <th></th>\n",
       "      <th>predicted 0</th>\n",
       "      <th>predicted 1</th>\n",
       "    </tr>\n",
       "  </thead>\n",
       "  <tbody>\n",
       "    <tr>\n",
       "      <th>actual 0</th>\n",
       "      <td>118368</td>\n",
       "      <td>111</td>\n",
       "    </tr>\n",
       "    <tr>\n",
       "      <th>actual 1</th>\n",
       "      <td>8955</td>\n",
       "      <td>19</td>\n",
       "    </tr>\n",
       "  </tbody>\n",
       "</table>\n",
       "</div>"
      ],
      "text/plain": [
       "          predicted 0  predicted 1\n",
       "actual 0       118368          111\n",
       "actual 1         8955           19"
      ]
     },
     "execution_count": 99,
     "metadata": {},
     "output_type": "execute_result"
    }
   ],
   "source": [
    "pd.DataFrame(confusion_matrix(y3_test, y_test_predictors), \n",
    "             columns = ['predicted 0', 'predicted 1'], \n",
    "             index = ['actual 0', 'actual 1'])"
   ]
  },
  {
   "cell_type": "code",
   "execution_count": 110,
   "metadata": {
    "hidden": true,
    "scrolled": true
   },
   "outputs": [
    {
     "name": "stdout",
     "output_type": "stream",
     "text": [
      "Confusion matrix, without normalization\n",
      "[[118368    111]\n",
      " [  8955     19]]\n"
     ]
    },
    {
     "data": {
      "image/png": "[encoded data removed]",
      "text/plain": [
       "<Figure size 720x720 with 2 Axes>"
      ]
     },
     "metadata": {},
     "output_type": "display_data"
    }
   ],
   "source": [
    "from sklearn.metrics import confusion_matrix\n",
    "import itertools\n",
    "\n",
    "def plot_confusion_matrix(rf_cv_cm, classes,\n",
    "                          normalize=False,\n",
    "                          title='Confusion matrix',\n",
    "                          cmap=plt.cm.Blues):\n",
    "    \"\"\"\n",
    "    This function prints and plots the confusion matrix.\n",
    "    Normalization can be applied by setting `normalize=True`.\n",
    "    Source: http://scikit-learn.org/stable/auto_examples/model_selection/plot_confusion_matrix.html\n",
    "    \"\"\"\n",
    "    if normalize:\n",
    "        rf_cv_cm = rf_cv_cm.astype('float') / rf_cv_cm.sum(axis=1)[:, np.newaxis]\n",
    "        print(\"Normalized confusion matrix\")\n",
    "    else:\n",
    "        print('Confusion matrix, without normalization')\n",
    "\n",
    "    print(rf_cv_cm)\n",
    "\n",
    "    # Plot the confusion matrix\n",
    "    fig14 = plt.figure(figsize = (10, 10))\n",
    "    plt.imshow(rf_cv_cm, interpolation='nearest', cmap=cmap)\n",
    "    plt.title(title, size = 24)\n",
    "    plt.colorbar(aspect=4)\n",
    "    tick_marks = np.arange(len(classes))\n",
    "    plt.xticks(tick_marks, classes, rotation=45, size = 14)\n",
    "    plt.yticks(tick_marks, classes, size = 14)\n",
    "\n",
    "    fmt = '.2f' if normalize else 'd'\n",
    "    thresh = rf_cv_cm.max() / 2.\n",
    "    \n",
    "    # Labeling the plot\n",
    "    for i, j in itertools.product(range(rf_cv_cm.shape[0]), range(rf_cv_cm.shape[1])):\n",
    "        plt.text(j, i, format(rf_cv_cm[i, j], fmt), fontsize = 20,\n",
    "                 horizontalalignment=\"center\",\n",
    "                 color=\"white\" if rf_cv_cm[i, j] > thresh else \"black\")\n",
    "        \n",
    "    plt.grid(None)\n",
    "    plt.tight_layout()\n",
    "    plt.ylabel('True label', size = 18)\n",
    "    plt.xlabel('Predicted label', size = 18)\n",
    "    plt.tight_layout()\n",
    "    #plt.savefig('Images/rf_cv_confusion_matrix.png')\n",
    "\n",
    "# Confusion matrix\n",
    "rf_cv_cm = confusion_matrix(y3_test, rf_predictions)\n",
    "plot_confusion_matrix(rf_cv_cm, classes = ['Not Popular', 'Popular'],\n",
    "                      title = 'RFCV Confusion Matrix - Track Popularity')\n",
    "\n",
    "#plt.savefig('rf_cv_cm.png')"
   ]
  },
  {
   "cell_type": "markdown",
   "metadata": {
    "heading_collapsed": true
   },
   "source": [
    "### 3. Random Forest w/ SMOTE"
   ]
  },
  {
   "cell_type": "markdown",
   "metadata": {
    "hidden": true
   },
   "source": [
    "#### a) Resampling w/ SMOTE "
   ]
  },
  {
   "cell_type": "code",
   "execution_count": 119,
   "metadata": {
    "hidden": true
   },
   "outputs": [
    {
     "name": "stdout",
     "output_type": "stream",
     "text": [
      "0    473918\n",
      "1     35894\n",
      "Name: track_popularity_50, dtype: int64\n",
      "1    473918\n",
      "0    473918\n",
      "dtype: int64\n"
     ]
    }
   ],
   "source": [
    "print(y3_train.track_popularity_50.value_counts())\n",
    "smote = SMOTE()\n",
    "X3_train_resampled_rf, y3_train_resampled_rf = smote.fit_sample(X3_train, y3_train.track_popularity_50) \n",
    "print(pd.Series(y3_train_resampled_rf).value_counts())"
   ]
  },
  {
   "cell_type": "markdown",
   "metadata": {
    "hidden": true
   },
   "source": [
    "#### b) Random Forest w/ SMOTE Model"
   ]
  },
  {
   "cell_type": "code",
   "execution_count": 120,
   "metadata": {
    "hidden": true
   },
   "outputs": [],
   "source": [
    "# train model\n",
    "rfc_smote = RandomForestClassifier(n_estimators=9).fit(X3_train_resampled_rf, y3_train_resampled_rf)\n",
    "\n",
    "#predict on test set\n",
    "rfc_smote_pred = rfc_smote.predict(X3_test)"
   ]
  },
  {
   "cell_type": "markdown",
   "metadata": {
    "hidden": true
   },
   "source": [
    "#### c) Scores"
   ]
  },
  {
   "cell_type": "code",
   "execution_count": 121,
   "metadata": {
    "hidden": true
   },
   "outputs": [
    {
     "name": "stdout",
     "output_type": "stream",
     "text": [
      "Accuracy: 0.906491020219218\n",
      "Precision: 0.11201897733263047\n",
      "F1: 0.06657268170426064\n",
      "Recall: 0.047359037218631606\n"
     ]
    }
   ],
   "source": [
    "# Checking Accuracy\n",
    "print('Accuracy:', metrics.accuracy_score(y3_test, rfc_smote_pred))\n",
    "\n",
    "# Checking Precision\n",
    "print('Precision:', metrics.precision_score(y3_test, rfc_smote_pred))\n",
    "    \n",
    "# F1 Score\n",
    "print('F1:', metrics.f1_score(y3_test, rfc_smote_pred))\n",
    "\n",
    "# Checking Recall\n",
    "print('Recall:', metrics.recall_score(y3_test, rfc_smote_pred))"
   ]
  },
  {
   "cell_type": "markdown",
   "metadata": {
    "hidden": true
   },
   "source": [
    "#### d) Confusion Matrix"
   ]
  },
  {
   "cell_type": "code",
   "execution_count": 127,
   "metadata": {
    "hidden": true,
    "scrolled": true
   },
   "outputs": [
    {
     "data": {
      "text/plain": [
       "array([[115110,   3369],\n",
       "       [  8549,    425]])"
      ]
     },
     "execution_count": 127,
     "metadata": {},
     "output_type": "execute_result"
    }
   ],
   "source": [
    "# Making the Confusion Matrix\n",
    "from sklearn.metrics import confusion_matrix\n",
    "rf_smote_cm = confusion_matrix(y3_test, rfc_smote_pred)\n",
    "rf_smote_cm"
   ]
  },
  {
   "cell_type": "code",
   "execution_count": 126,
   "metadata": {
    "hidden": true
   },
   "outputs": [
    {
     "data": {
      "text/html": [
       "<div>\n",
       "<style scoped>\n",
       "    .dataframe tbody tr th:only-of-type {\n",
       "        vertical-align: middle;\n",
       "    }\n",
       "\n",
       "    .dataframe tbody tr th {\n",
       "        vertical-align: top;\n",
       "    }\n",
       "\n",
       "    .dataframe thead th {\n",
       "        text-align: right;\n",
       "    }\n",
       "</style>\n",
       "<table border=\"1\" class=\"dataframe\">\n",
       "  <thead>\n",
       "    <tr style=\"text-align: right;\">\n",
       "      <th></th>\n",
       "      <th>predicted 0</th>\n",
       "      <th>predicted 1</th>\n",
       "    </tr>\n",
       "  </thead>\n",
       "  <tbody>\n",
       "    <tr>\n",
       "      <th>actual 0</th>\n",
       "      <td>115110</td>\n",
       "      <td>3369</td>\n",
       "    </tr>\n",
       "    <tr>\n",
       "      <th>actual 1</th>\n",
       "      <td>8549</td>\n",
       "      <td>425</td>\n",
       "    </tr>\n",
       "  </tbody>\n",
       "</table>\n",
       "</div>"
      ],
      "text/plain": [
       "          predicted 0  predicted 1\n",
       "actual 0       115110         3369\n",
       "actual 1         8549          425"
      ]
     },
     "execution_count": 126,
     "metadata": {},
     "output_type": "execute_result"
    }
   ],
   "source": [
    "pd.DataFrame(confusion_matrix(y3_test, rfc_smote_pred), \n",
    "             columns = ['predicted 0', 'predicted 1'], \n",
    "             index = ['actual 0', 'actual 1'])"
   ]
  },
  {
   "cell_type": "code",
   "execution_count": 129,
   "metadata": {
    "hidden": true
   },
   "outputs": [
    {
     "name": "stdout",
     "output_type": "stream",
     "text": [
      "Confusion matrix, without normalization\n",
      "[[118368    111]\n",
      " [  8955     19]]\n"
     ]
    },
    {
     "data": {
      "image/png": "[encoded data removed]",
      "text/plain": [
       "<Figure size 720x720 with 2 Axes>"
      ]
     },
     "metadata": {},
     "output_type": "display_data"
    }
   ],
   "source": [
    "from sklearn.metrics import confusion_matrix\n",
    "import itertools\n",
    "\n",
    "def plot_confusion_matrix(rf_smote_cm, classes,\n",
    "                          normalize=False,\n",
    "                          title='Confusion matrix',\n",
    "                          cmap=plt.cm.Blues):\n",
    "    \"\"\"\n",
    "    This function prints and plots the confusion matrix.\n",
    "    Normalization can be applied by setting `normalize=True`.\n",
    "    Source: http://scikit-learn.org/stable/auto_examples/model_selection/plot_confusion_matrix.html\n",
    "    \"\"\"\n",
    "    if normalize:\n",
    "        rf_smote_cm = rf_smote_cm.astype('float') / rf_smote_cm.sum(axis=1)[:, np.newaxis]\n",
    "        print(\"Normalized confusion matrix\")\n",
    "    else:\n",
    "        print('Confusion matrix, without normalization')\n",
    "\n",
    "    print(rf_cv_cm)\n",
    "\n",
    "    # Plot the confusion matrix\n",
    "    fig14 = plt.figure(figsize = (10, 10))\n",
    "    plt.imshow(rf_smote_cm, interpolation='nearest', cmap=cmap)\n",
    "    plt.title(title, size = 24)\n",
    "    plt.colorbar(aspect=4)\n",
    "    tick_marks = np.arange(len(classes))\n",
    "    plt.xticks(tick_marks, classes, rotation=45, size = 14)\n",
    "    plt.yticks(tick_marks, classes, size = 14)\n",
    "\n",
    "    fmt = '.2f' if normalize else 'd'\n",
    "    thresh = rf_smote_cm.max() / 2.\n",
    "    \n",
    "    # Labeling the plot\n",
    "    for i, j in itertools.product(range(rf_smote_cm.shape[0]), range(rf_smote_cm.shape[1])):\n",
    "        plt.text(j, i, format(rf_smote_cm[i, j], fmt), fontsize = 20,\n",
    "                 horizontalalignment=\"center\",\n",
    "                 color=\"white\" if rf_smote_cm[i, j] > thresh else \"black\")\n",
    "        \n",
    "    plt.grid(None)\n",
    "    plt.tight_layout()\n",
    "    plt.ylabel('True label', size = 18)\n",
    "    plt.xlabel('Predicted label', size = 18)\n",
    "    plt.tight_layout()\n",
    "    #plt.savefig('Images/rf_cv_confusion_matrix.png')\n",
    "\n",
    "# Confusion matrix\n",
    "rf_smote_cm = confusion_matrix(y3_test, rfc_smote_pred)\n",
    "plot_confusion_matrix(rf_smote_cm, classes = ['Not Popular', 'Popular'],\n",
    "                      title = 'RF w/SMOTE Confusion Matrix')\n",
    "\n",
    "plt.savefig('Images/rf_smote_cm.png')"
   ]
  },
  {
   "cell_type": "markdown",
   "metadata": {
    "heading_collapsed": true
   },
   "source": [
    "### 4. Random Forest with Random Search Cross Validation"
   ]
  },
  {
   "cell_type": "markdown",
   "metadata": {
    "hidden": true
   },
   "source": [
    "#### a) Using RandomizedSearchCV"
   ]
  },
  {
   "cell_type": "code",
   "execution_count": 115,
   "metadata": {
    "hidden": true
   },
   "outputs": [],
   "source": [
    "from sklearn.ensemble import RandomForestClassifier\n",
    "from sklearn.model_selection import cross_val_score\n",
    "import numpy as np\n",
    "\n",
    "clf = RandomForestClassifier() #Initialize with whatever parameters you want to\n",
    "\n",
    "# 10-Fold Cross validation\n",
    "clf_pred = np.mean(cross_val_score(clf, X3_train, \n",
    "                                   y3_train, cv=10))"
   ]
  },
  {
   "cell_type": "code",
   "execution_count": 116,
   "metadata": {
    "hidden": true
   },
   "outputs": [],
   "source": [
    "param_distributions = {'n_estimators': [100, 200],\n",
    "                       #'max_features': ['auto', 'sqrt', 'log2']\n",
    "                      }\n",
    "#300, 400, 500"
   ]
  },
  {
   "cell_type": "code",
   "execution_count": 124,
   "metadata": {
    "hidden": true
   },
   "outputs": [
    {
     "data": {
      "text/plain": [
       "RandomizedSearchCV(cv=5, error_score='raise-deprecating',\n",
       "                   estimator=RandomForestClassifier(bootstrap=True,\n",
       "                                                    class_weight=None,\n",
       "                                                    criterion='gini',\n",
       "                                                    max_depth=None,\n",
       "                                                    max_features='auto',\n",
       "                                                    max_leaf_nodes=None,\n",
       "                                                    min_impurity_decrease=0.0,\n",
       "                                                    min_impurity_split=None,\n",
       "                                                    min_samples_leaf=1,\n",
       "                                                    min_samples_split=2,\n",
       "                                                    min_weight_fraction_leaf=0.0,\n",
       "                                                    n_estimators='warn',\n",
       "                                                    n_jobs=None,\n",
       "                                                    oob_score=False,\n",
       "                                                    random_state=None,\n",
       "                                                    verbose=0,\n",
       "                                                    warm_start=False),\n",
       "                   iid='warn', n_iter=10, n_jobs=None,\n",
       "                   param_distributions={'n_estimators': [100, 200]},\n",
       "                   pre_dispatch='2*n_jobs', random_state=None, refit=True,\n",
       "                   return_train_score=False, scoring='roc_auc', verbose=0)"
      ]
     },
     "execution_count": 124,
     "metadata": {},
     "output_type": "execute_result"
    }
   ],
   "source": [
    "from sklearn.model_selection import RandomizedSearchCV\n",
    "CV_rfc = RandomizedSearchCV(estimator=clf, param_distributions=param_distributions, cv= 5, scoring='roc_auc')\n",
    "CV_rfc.fit(X3_train, y3_train)"
   ]
  },
  {
   "cell_type": "code",
   "execution_count": null,
   "metadata": {
    "hidden": true
   },
   "outputs": [],
   "source": [
    "CV_rfc.best_params_"
   ]
  },
  {
   "cell_type": "code",
   "execution_count": null,
   "metadata": {
    "hidden": true
   },
   "outputs": [],
   "source": [
    "rfc1 = RandomForestClassifier(n_estimators= 20)"
   ]
  },
  {
   "cell_type": "code",
   "execution_count": null,
   "metadata": {
    "hidden": true
   },
   "outputs": [],
   "source": [
    "rfc1.fit(X3_train, y3_train)"
   ]
  },
  {
   "cell_type": "code",
   "execution_count": null,
   "metadata": {
    "hidden": true
   },
   "outputs": [],
   "source": [
    "rfc_rscv_pred = rfc1.predict(X3_test)"
   ]
  },
  {
   "cell_type": "code",
   "execution_count": null,
   "metadata": {
    "hidden": true
   },
   "outputs": [],
   "source": [
    "print(\"Accuracy for Random Forest on CV data: \", accuracy_score(y3_test, rfc_rscv_pred))"
   ]
  },
  {
   "cell_type": "markdown",
   "metadata": {
    "hidden": true
   },
   "source": [
    "#### b) Using GridSearchCV"
   ]
  },
  {
   "cell_type": "code",
   "execution_count": 9,
   "metadata": {
    "hidden": true
   },
   "outputs": [],
   "source": [
    "from sklearn.ensemble import RandomForestClassifier\n",
    "from sklearn.model_selection import cross_val_score\n",
    "import numpy as np\n",
    "\n",
    "clf = RandomForestClassifier() #Initialize with whatever parameters you want to\n",
    "\n",
    "# 10-Fold Cross validation\n",
    "clf_pred = np.mean(cross_val_score(clf, X3_train, \n",
    "                                   y3_train, cv=10))"
   ]
  },
  {
   "cell_type": "code",
   "execution_count": 25,
   "metadata": {
    "hidden": true
   },
   "outputs": [],
   "source": [
    "param_grid = {\n",
    "   'n_estimators': [20, 100],\n",
    "#    'max_features': ['auto', 'sqrt', 'log2'],\n",
    "#    'max_depth' : [4,5,6,7,8],\n",
    "#    'criterion' :['gini', 'entropy']\n",
    "}"
   ]
  },
  {
   "cell_type": "code",
   "execution_count": null,
   "metadata": {
    "hidden": true
   },
   "outputs": [],
   "source": [
    "from sklearn.model_selection import GridSearchCV\n",
    "CV_rfc = GridSearchCV(estimator=clf, param_grid=param_grid, cv= 5)\n",
    "CV_rfc.fit(X3_train, y3_train)"
   ]
  },
  {
   "cell_type": "code",
   "execution_count": null,
   "metadata": {
    "hidden": true
   },
   "outputs": [],
   "source": [
    "CV_rfc.best_params_"
   ]
  },
  {
   "cell_type": "code",
   "execution_count": null,
   "metadata": {
    "hidden": true
   },
   "outputs": [],
   "source": [
    "rfc1 = RandomForestClassifier(n_estimators= 20)"
   ]
  },
  {
   "cell_type": "code",
   "execution_count": null,
   "metadata": {
    "hidden": true
   },
   "outputs": [],
   "source": [
    "rfc1.fit(X3_train, y3_train)"
   ]
  },
  {
   "cell_type": "code",
   "execution_count": null,
   "metadata": {
    "hidden": true
   },
   "outputs": [],
   "source": [
    "rfc_rscv_pred = rfc1.predict(X3_test)"
   ]
  },
  {
   "cell_type": "code",
   "execution_count": null,
   "metadata": {
    "hidden": true
   },
   "outputs": [],
   "source": [
    "print(\"Accuracy for Random Forest on CV data: \", accuracy_score(y3_test, rfc_rscv_pred))"
   ]
  }
 ],
 "metadata": {
  "kernelspec": {
   "display_name": "Python 3",
   "language": "python",
   "name": "python3"
  },
  "language_info": {
   "codemirror_mode": {
    "name": "ipython",
    "version": 3
   },
   "file_extension": ".py",
   "mimetype": "text/x-python",
   "name": "python",
   "nbconvert_exporter": "python",
   "pygments_lexer": "ipython3",
   "version": "3.7.3"
  },
  "varInspector": {
   "cols": {
    "lenName": 16,
    "lenType": 16,
    "lenVar": 40
   },
   "kernels_config": {
    "python": {
     "delete_cmd_postfix": "",
     "delete_cmd_prefix": "del ",
     "library": "var_list.py",
     "varRefreshCmd": "print(var_dic_list())"
    },
    "r": {
     "delete_cmd_postfix": ") ",
     "delete_cmd_prefix": "rm(",
     "library": "var_list.r",
     "varRefreshCmd": "cat(var_dic_list()) "
    }
   },
   "types_to_exclude": [
    "module",
    "function",
    "builtin_function_or_method",
    "instance",
    "_Feature"
   ],
   "window_display": false
  }
 },
 "nbformat": 4,
 "nbformat_minor": 2
}
